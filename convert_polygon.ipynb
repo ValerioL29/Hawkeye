{
 "cells": [
  {
   "cell_type": "markdown",
   "metadata": {},
   "source": [
    "# Convert to yoloformat"
   ]
  },
  {
   "cell_type": "code",
   "execution_count": 14,
   "metadata": {},
   "outputs": [
    {
     "name": "stderr",
     "output_type": "stream",
     "text": [
      "100%|██████████| 10000/10000 [00:00<00:00, 12944.50it/s]\n"
     ]
    }
   ],
   "source": [
    "import json\n",
    "import os\n",
    "from pathlib import Path\n",
    "from tqdm import tqdm\n",
    "\n",
    "# Load the JSON data\n",
    "data_path = '/Users/apple/Desktop/test/polygon/drivable_val.json'\n",
    "with open(data_path, 'r') as file:\n",
    "    data = json.load(file)\n",
    "\n",
    "output_dir = Path('/Users/apple/Desktop/test/polygon/polygon_label1')\n",
    "output_dir.mkdir(parents=True, exist_ok=True)  # Ensure directory exists\n",
    "\n",
    "def normalize_coordinates(vertices, image_width, image_height):\n",
    "    \"\"\"\n",
    "    Normalize the polygon vertex coordinates.\n",
    "    \"\"\"\n",
    "    normalized_vertices = []\n",
    "    for x, y in vertices:\n",
    "        norm_x = x / image_width\n",
    "        norm_y = y / image_height\n",
    "        normalized_vertices.extend([norm_x, norm_y])\n",
    "    return normalized_vertices\n",
    "\n",
    "def process_entry(entry):\n",
    "    image_name = entry.get('name')\n",
    "    if not image_name:\n",
    "        print(\"Warning: Missing image name.\")\n",
    "        return\n",
    "    \n",
    "    image_width = entry.get('width', 1280)  # Provide default width if missing\n",
    "    image_height = entry.get('height', 720)  # Provide default height if missing\n",
    "    output_file_path = output_dir / f'{image_name.replace(\".jpg\", \".txt\")}'\n",
    "\n",
    "    with open(output_file_path, 'w+') as output_file:\n",
    "        labels = entry.get('labels', [])\n",
    "        for label in labels:\n",
    "            category = label.get('category')\n",
    "            if category is None:\n",
    "                print(f\"Warning: Missing category in image {image_name}\")\n",
    "                continue\n",
    "            category_index = label.get('id')  # Replace this with actual mapping to category indices\n",
    "            \n",
    "            poly2d = label.get('poly2d', [])\n",
    "            for polygon in poly2d:\n",
    "                vertices = polygon.get('vertices')\n",
    "                if not vertices:\n",
    "                    print(f\"Warning: Missing vertices in image {image_name}, category {category}\")\n",
    "                    continue\n",
    "                \n",
    "                normalized_vertices = normalize_coordinates(vertices, image_width, image_height)\n",
    "                line = f\"{category_index} \" + \" \".join(map(str, normalized_vertices))\n",
    "                output_file.write(line + '\\n')\n",
    "\n",
    "# Process each entry in the loaded data\n",
    "for entry in tqdm(data):\n",
    "    process_entry(entry)\n"
   ]
  },
  {
   "cell_type": "markdown",
   "metadata": {},
   "source": [
    "# Dataset strcuture construction"
   ]
  },
  {
   "cell_type": "code",
   "execution_count": 15,
   "metadata": {},
   "outputs": [],
   "source": [
    "from pathlib import Path\n",
    "import os\n",
    "import shutil\n",
    "import random\n",
    "from sklearn.model_selection import train_test_split\n",
    "\n",
    "# Directories for images and labels\n",
    "image_dir = Path('/Users/apple/Desktop/Sensing System/StarkVision/bdd100k_new/val')\n",
    "label_dir = Path('/Users/apple/Desktop/test/polygon/polygon_label1')\n",
    "\n",
    "# Output base directory\n",
    "base_dir = Path('/Users/apple/Desktop/test/polygon/drivable_test1')\n",
    "\n",
    "# Create directories for train, validation, and test\n",
    "train_dir = base_dir / 'train'\n",
    "val_dir = base_dir / 'val'\n",
    "test_dir = base_dir / 'test'\n",
    "\n",
    "# Subdirectories for images and labels\n",
    "for path in [train_dir, val_dir, test_dir]:\n",
    "    for subpath in ['images', 'labels']:\n",
    "        (path / subpath).mkdir(parents=True, exist_ok=True)\n"
   ]
  },
  {
   "cell_type": "markdown",
   "metadata": {},
   "source": [
    "randomly select 100"
   ]
  },
  {
   "cell_type": "code",
   "execution_count": 16,
   "metadata": {},
   "outputs": [],
   "source": [
    "# List all image files and check corresponding labels\n",
    "all_images = [f.stem for f in image_dir.glob('*.jpg')]  # List images by filename stem (no extension)\n",
    "all_labels = [f.stem for f in label_dir.glob('*.txt')]  # List labels similarly\n",
    "\n",
    "# Filter images to those that have a corresponding label\n",
    "valid_images = [image for image in all_images if image in all_labels]\n",
    "\n",
    "# Randomly select 1000 images from those that have labels\n",
    "selected_images = random.sample(valid_images, 100) if len(valid_images) >= 100 else valid_images\n",
    "\n",
    "# Split data\n",
    "train_files, test_files = train_test_split(selected_images, test_size=0.2, random_state=1)\n",
    "train_files, val_files = train_test_split(train_files, test_size=0.25, random_state=1)\n"
   ]
  },
  {
   "cell_type": "code",
   "execution_count": 17,
   "metadata": {},
   "outputs": [],
   "source": [
    "def move_files(files, source_dir, target_dir, file_type):\n",
    "    \"\"\"\n",
    "    Move files from the source directory to the target directory.\n",
    "    `file_type` can be 'images' or 'labels' with corresponding extensions.\n",
    "    \"\"\"\n",
    "    ext = '.jpg' if file_type == 'images' else '.txt'\n",
    "    for file in files:\n",
    "        src_path = source_dir / f\"{file}{ext}\"\n",
    "        tgt_path = target_dir / file_type / f\"{file}{ext}\"\n",
    "        shutil.move(src_path, tgt_path)\n",
    "\n",
    "# Move image and label files\n",
    "move_files(train_files, image_dir, train_dir, 'images')\n",
    "move_files(train_files, label_dir, train_dir, 'labels')\n",
    "move_files(val_files, image_dir, val_dir, 'images')\n",
    "move_files(val_files, label_dir, val_dir, 'labels')\n",
    "move_files(test_files, image_dir, test_dir, 'images')\n",
    "move_files(test_files, label_dir, test_dir, 'labels')"
   ]
  },
  {
   "cell_type": "code",
   "execution_count": null,
   "metadata": {},
   "outputs": [],
   "source": []
  }
 ],
 "metadata": {
  "kernelspec": {
   "display_name": "base",
   "language": "python",
   "name": "python3"
  },
  "language_info": {
   "codemirror_mode": {
    "name": "ipython",
    "version": 3
   },
   "file_extension": ".py",
   "mimetype": "text/x-python",
   "name": "python",
   "nbconvert_exporter": "python",
   "pygments_lexer": "ipython3",
   "version": "3.11.5"
  }
 },
 "nbformat": 4,
 "nbformat_minor": 2
}
