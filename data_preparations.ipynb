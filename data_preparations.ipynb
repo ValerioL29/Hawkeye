{
 "cells": [
  {
   "cell_type": "markdown",
   "metadata": {},
   "source": [
    "# Data Preparations\n",
    "\n",
    "This is the notebook used for converting BDD100K dataset into YOLO format."
   ]
  },
  {
   "cell_type": "code",
   "execution_count": 1,
   "metadata": {},
   "outputs": [],
   "source": [
    "import os\n",
    "import json\n",
    "import shutil\n",
    "import numpy as np\n",
    "from tqdm import tqdm\n",
    "from rich import print\n",
    "from pathlib import Path"
   ]
  },
  {
   "cell_type": "markdown",
   "metadata": {},
   "source": [
    "***\n",
    "\n",
    "## Data folder definitions"
   ]
  },
  {
   "cell_type": "code",
   "execution_count": 2,
   "metadata": {},
   "outputs": [],
   "source": [
    "ROOT_DIR = Path(os.getcwd())\n",
    "DATA_DIR = ROOT_DIR / \"data\"\n",
    "BASE_DATA_DIR = ROOT_DIR / \"base_data\"\n",
    "BASE_DATA_PRFIX = \"bdd100k_\"\n",
    "\n",
    "COCO_DATA_DIR = DATA_DIR / \"coco_data\"\n",
    "os.makedirs(COCO_DATA_DIR, exist_ok=True)\n",
    "YOLO_DATA_DIR = DATA_DIR / \"yolo_data\"\n",
    "os.makedirs(YOLO_DATA_DIR, exist_ok=True)"
   ]
  },
  {
   "cell_type": "markdown",
   "metadata": {},
   "source": [
    "***\n",
    "\n",
    "## Helper functions"
   ]
  },
  {
   "cell_type": "code",
   "execution_count": 3,
   "metadata": {},
   "outputs": [],
   "source": [
    "def setup_yolo_output_dir(dataset_name: str):\n",
    "    yolo_output_datadir = YOLO_DATA_DIR / dataset_name\n",
    "    os.makedirs(yolo_output_datadir, exist_ok=True)\n",
    "    yolo_label_dir = YOLO_DATA_DIR / dataset_name / \"labels\"\n",
    "    os.makedirs(yolo_label_dir, exist_ok=True)\n",
    "    os.makedirs(yolo_label_dir / \"train\", exist_ok=True)\n",
    "    os.makedirs(yolo_label_dir / \"val\", exist_ok=True)\n",
    "    yolo_images_dir = YOLO_DATA_DIR / dataset_name / \"images\"\n",
    "    os.makedirs(yolo_images_dir, exist_ok=True)\n",
    "    os.makedirs(yolo_images_dir / \"train\", exist_ok=True)\n",
    "    os.makedirs(yolo_images_dir / \"val\", exist_ok=True)\n",
    "    print(f\"Done setup path for '{dataset_name}'\")\n",
    "    \n",
    "    return yolo_output_datadir, yolo_label_dir, yolo_images_dir"
   ]
  },
  {
   "cell_type": "code",
   "execution_count": 4,
   "metadata": {},
   "outputs": [],
   "source": [
    "from json_to_yolo.general_json2yolo import convert_coco_json\n",
    "\n",
    "def convert_cocojson_to_stdcoco_util(dataset_name: str):\n",
    "    print(f\"Start conversion tasks for dataset: '{dataset_name}'\")\n",
    "    # train set Conversion\n",
    "    _ = convert_coco_json(\n",
    "        json_dir=COCO_DATA_DIR / dataset_name / \"train\",\n",
    "        save_dir=YOLO_DATA_DIR / dataset_name / \"labels\" / \"train\",\n",
    "        use_segments=False if \"seg\" not in dataset_name else True,\n",
    "    )\n",
    "    \n",
    "    # trainset Conversion\n",
    "    _ = convert_coco_json(\n",
    "        json_dir=COCO_DATA_DIR / dataset_name / \"val\",\n",
    "        save_dir=YOLO_DATA_DIR / dataset_name / \"labels\" / \"val\",\n",
    "        use_segments=False if \"seg\" not in dataset_name else True,\n",
    "    )\n",
    "\n",
    "    # All set\n",
    "    print(f\"Finish conversion tasks for dataset: '{dataset_name}'\")\n",
    "    return"
   ]
  },
  {
   "cell_type": "code",
   "execution_count": 5,
   "metadata": {},
   "outputs": [],
   "source": [
    "import cv2\n",
    "from pycocotools import mask as cocomask\n",
    "\n",
    "def rle_to_coco(annotation: dict) -> dict:\n",
    "    \"\"\"Transform the rle coco annotation (a single one) into coco style.\n",
    "    In this case, one mask can contain several polygons, later leading to several `Annotation` objects.\n",
    "    In case of not having a valid polygon (the mask is a single pixel) it will be an empty list.\n",
    "    \n",
    "    Refer to: https://stackoverflow.com/questions/75326066/coco-annotations-convert-rle-to-polygon-segmentation\n",
    "    \n",
    "    Parameters\n",
    "    ----------\n",
    "    annotation : dict\n",
    "        rle coco style annotation\n",
    "    Returns\n",
    "    -------\n",
    "    list[dict]\n",
    "        list of coco style annotations (in dict format)\n",
    "    \"\"\"\n",
    "    tmp_ann = annotation.copy()\n",
    "    masked_arr = cocomask.decode(annotation[\"segmentation\"])\n",
    "    contours, _ = cv2.findContours(masked_arr, cv2.RETR_TREE, cv2.CHAIN_APPROX_SIMPLE)\n",
    "    segmentations = [\n",
    "        contour\n",
    "        for contour in contours if contour.size >= 6\n",
    "    ]\n",
    "    seg_coords = [\n",
    "        seg.astype(float).flatten().tolist()\n",
    "        for seg in segmentations\n",
    "    ]\n",
    "    # Replace the original segmentation object with the new one\n",
    "    tmp_ann['segmentation'] = seg_coords\n",
    "\n",
    "    return tmp_ann"
   ]
  },
  {
   "cell_type": "markdown",
   "metadata": {},
   "source": [
    "***\n",
    "\n",
    "## Image Datadir Reorganization"
   ]
  },
  {
   "cell_type": "code",
   "execution_count": 3,
   "metadata": {},
   "outputs": [],
   "source": [
    "# Reformat images\n",
    "import os\n",
    "\n",
    "ORIGINAL_IMAGE_DIR = BASE_DATA_DIR / \"100k\"\n",
    "NEW_IMAGE_DIR = BASE_DATA_DIR / \"100k_images\"\n",
    "\n",
    "if os.path.exists(NEW_IMAGE_DIR / \"done_reorganization_flags.json\"):\n",
    "    with open(NEW_IMAGE_DIR / \"done_reorganization_flags.json\", \"r\") as f:\n",
    "        done_reorganization_flags = json.load(f)\n",
    "else:\n",
    "    os.makedirs(NEW_IMAGE_DIR / \"train\", exist_ok=True)\n",
    "    os.makedirs(NEW_IMAGE_DIR / \"val\", exist_ok=True)\n",
    "    os.makedirs(NEW_IMAGE_DIR / \"test\", exist_ok=True)\n",
    "    done_reorganization_flags = {\n",
    "        \"train\": False,\n",
    "        \"val\": False,\n",
    "        \"test\": False\n",
    "    }\n",
    "    with open(NEW_IMAGE_DIR / \"done_reorganization_flags.json\", \"w+\") as f:\n",
    "        json.dump(done_reorganization_flags, f)"
   ]
  },
  {
   "cell_type": "code",
   "execution_count": 4,
   "metadata": {},
   "outputs": [],
   "source": [
    "def move_images(image_dir, dest_dir):\n",
    "    print(f\"Moving images from {image_dir} to {dest_dir}\")\n",
    "    image_filenames = [elem for elem in os.listdir(image_dir) if elem.endswith(\".jpg\")]\n",
    "    for image_filename in tqdm(image_filenames):\n",
    "        shutil.move(image_dir / image_filename, dest_dir)\n",
    "    print(\"Done.\")\n",
    "    return"
   ]
  },
  {
   "cell_type": "code",
   "execution_count": 9,
   "metadata": {},
   "outputs": [
    {
     "data": {
      "text/html": [
       "<pre style=\"white-space:pre;overflow-x:auto;line-height:normal;font-family:Menlo,'DejaVu Sans Mono',consolas,'Courier New',monospace\">Train image dir: <span style=\"color: #800080; text-decoration-color: #800080\">/Users/ken/Workspaces/PycharmProjects/bdd100k/base_data/100k/</span><span style=\"color: #ff00ff; text-decoration-color: #ff00ff\">train</span>\n",
       "</pre>\n"
      ],
      "text/plain": [
       "Train image dir: \u001b[35m/Users/ken/Workspaces/PycharmProjects/bdd100k/base_data/100k/\u001b[0m\u001b[95mtrain\u001b[0m\n"
      ]
     },
     "metadata": {},
     "output_type": "display_data"
    },
    {
     "data": {
      "text/plain": [
       "[]"
      ]
     },
     "execution_count": 9,
     "metadata": {},
     "output_type": "execute_result"
    }
   ],
   "source": [
    "# Train\n",
    "train_image_dir = ORIGINAL_IMAGE_DIR / \"train\"\n",
    "print(f\"Train image dir: {train_image_dir}\")\n",
    "[elem for elem in os.listdir(train_image_dir) if not elem.endswith(\".jpg\")]"
   ]
  },
  {
   "cell_type": "code",
   "execution_count": 11,
   "metadata": {},
   "outputs": [],
   "source": [
    "train_target_image_dir = NEW_IMAGE_DIR / \"train\"\n",
    "if not done_reorganization_flags['train']:\n",
    "    _ = move_images(image_dir=train_image_dir, dest_dir=train_target_image_dir)\n",
    "    _ = move_images(image_dir=train_image_dir / \"trainA\", dest_dir=train_target_image_dir)\n",
    "    _ = move_images(image_dir=train_image_dir / \"trainB\", dest_dir=train_target_image_dir)\n",
    "    _ = move_images(image_dir=train_image_dir / \"testA\", dest_dir=train_target_image_dir)\n",
    "    _ = move_images(image_dir=train_image_dir / \"testB\", dest_dir=train_target_image_dir)\n",
    "    done_reorganization_flags['train'] = True"
   ]
  },
  {
   "cell_type": "code",
   "execution_count": 12,
   "metadata": {},
   "outputs": [
    {
     "data": {
      "text/html": [
       "<pre style=\"white-space:pre;overflow-x:auto;line-height:normal;font-family:Menlo,'DejaVu Sans Mono',consolas,'Courier New',monospace\">Val target image dir: <span style=\"color: #800080; text-decoration-color: #800080\">/Users/ken/Workspaces/PycharmProjects/bdd100k/base_data/100k/</span><span style=\"color: #ff00ff; text-decoration-color: #ff00ff\">val</span>\n",
       "</pre>\n"
      ],
      "text/plain": [
       "Val target image dir: \u001b[35m/Users/ken/Workspaces/PycharmProjects/bdd100k/base_data/100k/\u001b[0m\u001b[95mval\u001b[0m\n"
      ]
     },
     "metadata": {},
     "output_type": "display_data"
    },
    {
     "data": {
      "text/plain": [
       "[]"
      ]
     },
     "execution_count": 12,
     "metadata": {},
     "output_type": "execute_result"
    }
   ],
   "source": [
    "# Val\n",
    "val_image_dir = ORIGINAL_IMAGE_DIR / \"val\"\n",
    "print(f\"Val target image dir: {val_image_dir}\")\n",
    "[elem for elem in os.listdir(val_image_dir) if not elem.endswith(\".jpg\")]"
   ]
  },
  {
   "cell_type": "code",
   "execution_count": 13,
   "metadata": {},
   "outputs": [],
   "source": [
    "val_target_image_dir = NEW_IMAGE_DIR / \"val\"\n",
    "if not done_reorganization_flags['val']:\n",
    "    _ = move_images(image_dir=val_image_dir, dest_dir=val_target_image_dir)\n",
    "    done_reorganization_flags['val'] = True"
   ]
  },
  {
   "cell_type": "code",
   "execution_count": 14,
   "metadata": {},
   "outputs": [
    {
     "data": {
      "text/html": [
       "<pre style=\"white-space:pre;overflow-x:auto;line-height:normal;font-family:Menlo,'DejaVu Sans Mono',consolas,'Courier New',monospace\">Test target image dir: <span style=\"color: #800080; text-decoration-color: #800080\">/Users/ken/Workspaces/PycharmProjects/bdd100k/base_data/100k/</span><span style=\"color: #ff00ff; text-decoration-color: #ff00ff\">test</span>\n",
       "</pre>\n"
      ],
      "text/plain": [
       "Test target image dir: \u001b[35m/Users/ken/Workspaces/PycharmProjects/bdd100k/base_data/100k/\u001b[0m\u001b[95mtest\u001b[0m\n"
      ]
     },
     "metadata": {},
     "output_type": "display_data"
    },
    {
     "data": {
      "text/plain": [
       "[]"
      ]
     },
     "execution_count": 14,
     "metadata": {},
     "output_type": "execute_result"
    }
   ],
   "source": [
    "# Test\n",
    "test_image_dir = ORIGINAL_IMAGE_DIR / \"test\"\n",
    "print(f\"Test target image dir: {test_image_dir}\")\n",
    "[elem for elem in os.listdir(test_image_dir) if not elem.endswith(\".jpg\")]"
   ]
  },
  {
   "cell_type": "code",
   "execution_count": 15,
   "metadata": {},
   "outputs": [],
   "source": [
    "test_target_image_dir = NEW_IMAGE_DIR / \"test\"\n",
    "if not done_reorganization_flags['test']:\n",
    "    _ = move_images(image_dir=test_image_dir, dest_dir=test_target_image_dir)\n",
    "    _ = move_images(image_dir=test_image_dir / \"trainA\", dest_dir=test_target_image_dir)\n",
    "    _ = move_images(image_dir=test_image_dir / \"trainB\", dest_dir=test_target_image_dir)\n",
    "    _ = move_images(image_dir=test_image_dir / \"testA\", dest_dir=test_target_image_dir)\n",
    "    _ = move_images(image_dir=test_image_dir / \"testB\", dest_dir=test_target_image_dir)\n",
    "    done_reorganization_flags['test'] = True"
   ]
  },
  {
   "cell_type": "code",
   "execution_count": 16,
   "metadata": {},
   "outputs": [],
   "source": [
    "# Image ID Set\n",
    "train_image_ids = set([elem.split(\".\")[0] for elem in os.listdir(train_target_image_dir)])\n",
    "val_image_ids = set([elem.split(\".\")[0] for elem in os.listdir(val_target_image_dir)])\n",
    "test_image_ids = set([elem.split(\".\")[0] for elem in os.listdir(test_target_image_dir)])\n",
    "full_image_ids = train_image_ids.union(val_image_ids).union(test_image_ids)"
   ]
  },
  {
   "cell_type": "code",
   "execution_count": 17,
   "metadata": {},
   "outputs": [
    {
     "data": {
      "text/plain": [
       "(100000, 70000, 10000, 20000)"
      ]
     },
     "execution_count": 17,
     "metadata": {},
     "output_type": "execute_result"
    }
   ],
   "source": [
    "len(full_image_ids), len(train_image_ids), len(val_image_ids), len(test_image_ids)"
   ]
  },
  {
   "cell_type": "code",
   "execution_count": 29,
   "metadata": {},
   "outputs": [],
   "source": [
    "# Dump image ids\n",
    "import json\n",
    "\n",
    "dump_dict = {\n",
    "    \"train\": sorted(list(train_image_ids)),\n",
    "    \"val\": sorted(list(val_image_ids)),\n",
    "    \"test\": sorted(list(test_image_ids)),\n",
    "}\n",
    "with open(BASE_DATA_DIR / \"100k_images\" / \"image_ids_info.json\", \"w+\") as f:\n",
    "    json.dump(dump_dict, f)"
   ]
  },
  {
   "cell_type": "markdown",
   "metadata": {},
   "source": [
    "***\n",
    "\n",
    "## Detection"
   ]
  },
  {
   "cell_type": "code",
   "execution_count": 8,
   "metadata": {},
   "outputs": [
    {
     "data": {
      "text/html": [
       "<pre style=\"white-space:pre;overflow-x:auto;line-height:normal;font-family:Menlo,'DejaVu Sans Mono',consolas,'Courier New',monospace\">Done setup path for <span style=\"color: #008000; text-decoration-color: #008000\">'det_20_labels_trainval'</span>\n",
       "</pre>\n"
      ],
      "text/plain": [
       "Done setup path for \u001b[32m'det_20_labels_trainval'\u001b[0m\n"
      ]
     },
     "metadata": {},
     "output_type": "display_data"
    }
   ],
   "source": [
    "# Setup yolo data dir\n",
    "yolo_output_datadir, yolo_label_dir, yolo_images_dir = setup_yolo_output_dir(dataset_name=\"det_20_labels_trainval\")"
   ]
  },
  {
   "cell_type": "code",
   "execution_count": 19,
   "metadata": {},
   "outputs": [
    {
     "data": {
      "text/html": [
       "<pre style=\"white-space:pre;overflow-x:auto;line-height:normal;font-family:Menlo,'DejaVu Sans Mono',consolas,'Courier New',monospace\">Start conversion tasks for dataset: <span style=\"color: #008000; text-decoration-color: #008000\">'det_20_labels_trainval'</span>\n",
       "</pre>\n"
      ],
      "text/plain": [
       "Start conversion tasks for dataset: \u001b[32m'det_20_labels_trainval'\u001b[0m\n"
      ]
     },
     "metadata": {},
     "output_type": "display_data"
    },
    {
     "name": "stderr",
     "output_type": "stream",
     "text": [
      "Annotations /Users/ken/Workspaces/PycharmProjects/bdd100k/data/coco_data/det_20_labels_trainval/train/det_train.json: 100%|██████████| 69853/69853 [00:12<00:00, 5429.19it/s]\n",
      "Annotations /Users/ken/Workspaces/PycharmProjects/bdd100k/data/coco_data/det_20_labels_trainval/val/det_val.json: 100%|██████████| 10000/10000 [00:01<00:00, 5878.76it/s]\n"
     ]
    },
    {
     "data": {
      "text/html": [
       "<pre style=\"white-space:pre;overflow-x:auto;line-height:normal;font-family:Menlo,'DejaVu Sans Mono',consolas,'Courier New',monospace\">Finish conversion tasks for dataset: <span style=\"color: #008000; text-decoration-color: #008000\">'det_20_labels_trainval'</span>\n",
       "</pre>\n"
      ],
      "text/plain": [
       "Finish conversion tasks for dataset: \u001b[32m'det_20_labels_trainval'\u001b[0m\n"
      ]
     },
     "metadata": {},
     "output_type": "display_data"
    }
   ],
   "source": [
    "_ = convert_cocojson_to_stdcoco_util(dataset_name=\"det_20_labels_trainval\")"
   ]
  },
  {
   "cell_type": "code",
   "execution_count": 16,
   "metadata": {},
   "outputs": [],
   "source": [
    "with open(NEW_IMAGE_DIR / \"image_ids_info.json\", \"r\") as f:\n",
    "    image_ids_info = json.load(f)\n",
    "\n",
    "train_image_ids = set(image_ids_info[\"train\"])\n",
    "val_image_ids = set(image_ids_info[\"val\"])\n",
    "test_image_ids = set(image_ids_info[\"test\"])\n",
    "full_image_ids = train_image_ids.union(val_image_ids).union(test_image_ids)"
   ]
  },
  {
   "cell_type": "code",
   "execution_count": 18,
   "metadata": {},
   "outputs": [],
   "source": [
    "train_label_ids = set([elem.split(\".\")[0] for elem in os.listdir(yolo_label_dir / \"train\")])\n",
    "val_label_ids = set([elem.split(\".\")[0] for elem in os.listdir(yolo_label_dir / \"val\")])\n",
    "full_label_ids = train_label_ids.union(val_label_ids)"
   ]
  },
  {
   "cell_type": "code",
   "execution_count": 17,
   "metadata": {},
   "outputs": [
    {
     "data": {
      "text/plain": [
       "(100000, 70000, 10000, 20000)"
      ]
     },
     "execution_count": 17,
     "metadata": {},
     "output_type": "execute_result"
    }
   ],
   "source": [
    "len(full_image_ids), len(train_image_ids), len(val_image_ids), len(test_image_ids)"
   ]
  },
  {
   "cell_type": "code",
   "execution_count": 19,
   "metadata": {},
   "outputs": [
    {
     "data": {
      "text/plain": [
       "(79853, 69853, 10000)"
      ]
     },
     "execution_count": 19,
     "metadata": {},
     "output_type": "execute_result"
    }
   ],
   "source": [
    "len(full_label_ids), len(train_label_ids), len(val_label_ids)"
   ]
  },
  {
   "cell_type": "code",
   "execution_count": 14,
   "metadata": {},
   "outputs": [
    {
     "data": {
      "text/html": [
       "<pre style=\"white-space:pre;overflow-x:auto;line-height:normal;font-family:Menlo,'DejaVu Sans Mono',consolas,'Courier New',monospace\">Train label ids not in train image ids: <span style=\"color: #800080; text-decoration-color: #800080; font-weight: bold\">set</span><span style=\"font-weight: bold\">()</span>\n",
       "</pre>\n"
      ],
      "text/plain": [
       "Train label ids not in train image ids: \u001b[1;35mset\u001b[0m\u001b[1m(\u001b[0m\u001b[1m)\u001b[0m\n"
      ]
     },
     "metadata": {},
     "output_type": "display_data"
    },
    {
     "data": {
      "text/html": [
       "<pre style=\"white-space:pre;overflow-x:auto;line-height:normal;font-family:Menlo,'DejaVu Sans Mono',consolas,'Courier New',monospace\">Val label ids not in val image ids: <span style=\"color: #800080; text-decoration-color: #800080; font-weight: bold\">set</span><span style=\"font-weight: bold\">()</span>\n",
       "</pre>\n"
      ],
      "text/plain": [
       "Val label ids not in val image ids: \u001b[1;35mset\u001b[0m\u001b[1m(\u001b[0m\u001b[1m)\u001b[0m\n"
      ]
     },
     "metadata": {},
     "output_type": "display_data"
    }
   ],
   "source": [
    "print(f\"Train label ids not in train image ids: {train_label_ids - train_image_ids}\")\n",
    "print(f\"Val label ids not in val image ids: {val_label_ids - val_image_ids}\")"
   ]
  },
  {
   "cell_type": "markdown",
   "metadata": {},
   "source": [
    "***\n",
    "\n",
    "## Our Own BDD100K to COCO"
   ]
  },
  {
   "cell_type": "code",
   "execution_count": 6,
   "metadata": {},
   "outputs": [],
   "source": [
    "dataset_name = \"drivable_labels_trainval\"\n",
    "raw_rle_train_path = BASE_DATA_DIR / (BASE_DATA_PRFIX + dataset_name) / \"rles\" / \"drivable_train.json\"\n",
    "raw_rle_val_path = BASE_DATA_DIR / (BASE_DATA_PRFIX + dataset_name) / \"rles\" / \"drivable_val.json\""
   ]
  },
  {
   "cell_type": "code",
   "execution_count": 7,
   "metadata": {},
   "outputs": [],
   "source": [
    "with open(raw_rle_train_path, \"r\") as f:\n",
    "    drivable_train_rle = json.load(f)\n",
    "    \n",
    "with open(raw_rle_val_path, \"r\") as f:\n",
    "    drivable_val_rle = json.load(f)"
   ]
  },
  {
   "cell_type": "code",
   "execution_count": 8,
   "metadata": {},
   "outputs": [
    {
     "data": {
      "text/html": [
       "<pre style=\"white-space:pre;overflow-x:auto;line-height:normal;font-family:Menlo,'DejaVu Sans Mono',consolas,'Courier New',monospace\">Attributes: <span style=\"color: #800080; text-decoration-color: #800080; font-weight: bold\">dict_keys</span><span style=\"font-weight: bold\">([</span><span style=\"color: #008000; text-decoration-color: #008000\">'frames'</span>, <span style=\"color: #008000; text-decoration-color: #008000\">'groups'</span>, <span style=\"color: #008000; text-decoration-color: #008000\">'config'</span><span style=\"font-weight: bold\">])</span>\n",
       "</pre>\n"
      ],
      "text/plain": [
       "Attributes: \u001b[1;35mdict_keys\u001b[0m\u001b[1m(\u001b[0m\u001b[1m[\u001b[0m\u001b[32m'frames'\u001b[0m, \u001b[32m'groups'\u001b[0m, \u001b[32m'config'\u001b[0m\u001b[1m]\u001b[0m\u001b[1m)\u001b[0m\n"
      ]
     },
     "metadata": {},
     "output_type": "display_data"
    },
    {
     "data": {
      "text/html": [
       "<pre style=\"white-space:pre;overflow-x:auto;line-height:normal;font-family:Menlo,'DejaVu Sans Mono',consolas,'Courier New',monospace\">Attributes of <span style=\"color: #008000; text-decoration-color: #008000\">'frame'</span> object: <span style=\"color: #800080; text-decoration-color: #800080; font-weight: bold\">dict_keys</span><span style=\"font-weight: bold\">([</span><span style=\"color: #008000; text-decoration-color: #008000\">'name'</span>, <span style=\"color: #008000; text-decoration-color: #008000\">'url'</span>, <span style=\"color: #008000; text-decoration-color: #008000\">'videoName'</span>, <span style=\"color: #008000; text-decoration-color: #008000\">'intrinsics'</span>, <span style=\"color: #008000; text-decoration-color: #008000\">'extrinsics'</span>, <span style=\"color: #008000; text-decoration-color: #008000\">'attributes'</span>, \n",
       "<span style=\"color: #008000; text-decoration-color: #008000\">'timestamp'</span>, <span style=\"color: #008000; text-decoration-color: #008000\">'frameIndex'</span>, <span style=\"color: #008000; text-decoration-color: #008000\">'size'</span>, <span style=\"color: #008000; text-decoration-color: #008000\">'labels'</span><span style=\"font-weight: bold\">])</span>, sample frame: <span style=\"font-weight: bold\">{</span><span style=\"color: #008000; text-decoration-color: #008000\">'name'</span>: <span style=\"color: #008000; text-decoration-color: #008000\">'0000f77c-6257be58.jpg'</span>, <span style=\"color: #008000; text-decoration-color: #008000\">'url'</span>: <span style=\"color: #800080; text-decoration-color: #800080; font-style: italic\">None</span>, \n",
       "<span style=\"color: #008000; text-decoration-color: #008000\">'videoName'</span>: <span style=\"color: #800080; text-decoration-color: #800080; font-style: italic\">None</span>, <span style=\"color: #008000; text-decoration-color: #008000\">'intrinsics'</span>: <span style=\"color: #800080; text-decoration-color: #800080; font-style: italic\">None</span>, <span style=\"color: #008000; text-decoration-color: #008000\">'extrinsics'</span>: <span style=\"color: #800080; text-decoration-color: #800080; font-style: italic\">None</span>, <span style=\"color: #008000; text-decoration-color: #008000\">'attributes'</span>: <span style=\"color: #800080; text-decoration-color: #800080; font-style: italic\">None</span>, <span style=\"color: #008000; text-decoration-color: #008000\">'timestamp'</span>: <span style=\"color: #800080; text-decoration-color: #800080; font-style: italic\">None</span>, <span style=\"color: #008000; text-decoration-color: #008000\">'frameIndex'</span>: \n",
       "<span style=\"color: #800080; text-decoration-color: #800080; font-style: italic\">None</span>, <span style=\"color: #008000; text-decoration-color: #008000\">'size'</span>: <span style=\"color: #800080; text-decoration-color: #800080; font-style: italic\">None</span>, <span style=\"color: #008000; text-decoration-color: #008000\">'labels'</span>: <span style=\"font-weight: bold\">[{</span><span style=\"color: #008000; text-decoration-color: #008000\">'id'</span>: <span style=\"color: #008000; text-decoration-color: #008000\">'0'</span>, <span style=\"color: #008000; text-decoration-color: #008000\">'index'</span>: <span style=\"color: #800080; text-decoration-color: #800080; font-style: italic\">None</span>, <span style=\"color: #008000; text-decoration-color: #008000\">'manualShape'</span>: <span style=\"color: #800080; text-decoration-color: #800080; font-style: italic\">None</span>, <span style=\"color: #008000; text-decoration-color: #008000\">'manualAttributes'</span>: <span style=\"color: #800080; text-decoration-color: #800080; font-style: italic\">None</span>, <span style=\"color: #008000; text-decoration-color: #008000\">'score'</span>: \n",
       "<span style=\"color: #800080; text-decoration-color: #800080; font-style: italic\">None</span>, <span style=\"color: #008000; text-decoration-color: #008000\">'attributes'</span>: <span style=\"font-weight: bold\">{</span><span style=\"color: #008000; text-decoration-color: #008000\">'areaType'</span>: <span style=\"color: #008000; text-decoration-color: #008000\">'direct'</span><span style=\"font-weight: bold\">}</span>, <span style=\"color: #008000; text-decoration-color: #008000\">'category'</span>: <span style=\"color: #008000; text-decoration-color: #008000\">'direct'</span>, <span style=\"color: #008000; text-decoration-color: #008000\">'box2d'</span>: <span style=\"font-weight: bold\">{</span><span style=\"color: #008000; text-decoration-color: #008000\">'x1'</span>: <span style=\"color: #008080; text-decoration-color: #008080; font-weight: bold\">0.0</span>, <span style=\"color: #008000; text-decoration-color: #008000\">'y1'</span>: <span style=\"color: #008080; text-decoration-color: #008080; font-weight: bold\">367.0</span>, <span style=\"color: #008000; text-decoration-color: #008000\">'x2'</span>: <span style=\"color: #008080; text-decoration-color: #008080; font-weight: bold\">1279.0</span>, \n",
       "<span style=\"color: #008000; text-decoration-color: #008000\">'y2'</span>: <span style=\"color: #008080; text-decoration-color: #008080; font-weight: bold\">625.0</span><span style=\"font-weight: bold\">}</span>, <span style=\"color: #008000; text-decoration-color: #008000\">'box3d'</span>: <span style=\"color: #800080; text-decoration-color: #800080; font-style: italic\">None</span>, <span style=\"color: #008000; text-decoration-color: #008000\">'poly2d'</span>: <span style=\"color: #800080; text-decoration-color: #800080; font-style: italic\">None</span>, <span style=\"color: #008000; text-decoration-color: #008000\">'rle'</span>: <span style=\"font-weight: bold\">{</span><span style=\"color: #008000; text-decoration-color: #008000\">'counts'</span>: \n",
       "<span style=\"color: #008000; text-decoration-color: #008000\">'U`0f2jc0000000000O1000O10000000O100000O1000O1000000000O01000000000000O10O10000000O10000000O1000O1000000000O0100000</span>\n",
       "<span style=\"color: #008000; text-decoration-color: #008000\">0000000O10O10000000O100000O1000O1000000000000O01000000000O100000O100000O10000000000O0100000000000O1000O100000O10000</span>\n",
       "<span style=\"color: #008000; text-decoration-color: #008000\">000000O0100000000000O100000O1000O1000000000000O10O10000000O1000000000O10O10000000000O100000O1000O1000000000000O10O1</span>\n",
       "<span style=\"color: #008000; text-decoration-color: #008000\">0000000O1000000000000O01000000000O100000000000O010000000000O1000000000O01000000000000O1000000000O01000000000000O100</span>\n",
       "<span style=\"color: #008000; text-decoration-color: #008000\">0000000O01000000000000O10000000000O01000000000O1000000000000O10O10000000O1000000000000O10000000O10O1000000000000O10</span>\n",
       "<span style=\"color: #008000; text-decoration-color: #008000\">000000000O01000000000O1000000000000O1000000000O01000000000000O10000000000O10000000O1000O10000000000O10000000000O100</span>\n",
       "<span style=\"color: #008000; text-decoration-color: #008000\">0000000O10O10000000000O1000000000000O10000000000O1000O10000000O10000000000O10000000000O1000000000000O10O10000000O10</span>\n",
       "<span style=\"color: #008000; text-decoration-color: #008000\">00000000000O10000000000O1000000000000O10000000O10O10000000000O1000000000000O10000000000O1000000000000O10000000000O1</span>\n",
       "<span style=\"color: #008000; text-decoration-color: #008000\">00000000000O010000000000O10000000000O1000000000000O10000000000O1000000000000O10000000000O1000000000000O10000000000O</span>\n",
       "<span style=\"color: #008000; text-decoration-color: #008000\">10000000000O1000000000000O10000000000O1000000000000O10000000000O1000000000000O10000000000O10000000000O1000000000000</span>\n",
       "<span style=\"color: #008000; text-decoration-color: #008000\">O10000000000O1000000000000000000001O00001O00001O00001O00001O0000001O00001O00001O00001O0000001O00001O00001O00001O000</span>\n",
       "<span style=\"color: #008000; text-decoration-color: #008000\">01O0000001O00001O00001O00001O00001O0001O01O00001O00001O0000000000000000000000O1000000000000000000O10000000001O00000</span>\n",
       "<span style=\"color: #008000; text-decoration-color: #008000\">00O10000000000000000O1000000000000000000O100000000000001O000O1000000000000000000O10000000000000000O1000000000001O00</span>\n",
       "<span style=\"color: #008000; text-decoration-color: #008000\">000O1000000000000000000O1000000000001O000O1000000000000000000O100000000000001O000O10000000000000000O100000000000000</span>\n",
       "<span style=\"color: #008000; text-decoration-color: #008000\">0001N1000000000000000000O1000000000001O000O1000000000000000000O10001O0000000000000O100000000000001O0O10000000000000</span>\n",
       "<span style=\"color: #008000; text-decoration-color: #008000\">00000O1000001O00000000000N2O1O1O1O1O1O1O1O2N1N2O1O1O1O1O1O1O1O1N2O1O1O2N1O1O1O1O1N2O1O1O1O1O1O2N1O1N2O1O1O1O1O1O1O1</span>\n",
       "<span style=\"color: #008000; text-decoration-color: #008000\">O1N3N1O1O1O1O1O1O1O100000001O00000000000000000000001O00000000000000000000001O00000000000000000000001O00000000000000</span>\n",
       "<span style=\"color: #008000; text-decoration-color: #008000\">00001O0000000000000000001O00000000000000000010O00000000000000000001O0000000000000000001O0000000000000000001O0000000</span>\n",
       "<span style=\"color: #008000; text-decoration-color: #008000\">000000000001O00000000000000001O000000000000001O00000000000000001O00000001O00000001O00000000000000001O00000000000000</span>\n",
       "<span style=\"color: #008000; text-decoration-color: #008000\">1O00000000000000001O00000000000000001O000000000000001O000000000000001O0000000000001O0000000000000010O00000000000001</span>\n",
       "<span style=\"color: #008000; text-decoration-color: #008000\">O000000000000001O000000000000001O0000000000001O000000000000001O0000000000001O0000000000001O0000000000001O0000000000</span>\n",
       "<span style=\"color: #008000; text-decoration-color: #008000\">001O000001O000001O0000000000001O0000000000001O0000000000001O0000000000001O0000000000001O0000000000001O00000000001O0</span>\n",
       "<span style=\"color: #008000; text-decoration-color: #008000\">000000000001O00000000001O00000000000]D'</span>, <span style=\"color: #008000; text-decoration-color: #008000\">'size'</span>: <span style=\"font-weight: bold\">[</span><span style=\"color: #008080; text-decoration-color: #008080; font-weight: bold\">720</span>, <span style=\"color: #008080; text-decoration-color: #008080; font-weight: bold\">1280</span><span style=\"font-weight: bold\">]}</span>, <span style=\"color: #008000; text-decoration-color: #008000\">'graph'</span>: <span style=\"color: #800080; text-decoration-color: #800080; font-style: italic\">None</span><span style=\"font-weight: bold\">}]}</span>\n",
       "</pre>\n"
      ],
      "text/plain": [
       "Attributes of \u001b[32m'frame'\u001b[0m object: \u001b[1;35mdict_keys\u001b[0m\u001b[1m(\u001b[0m\u001b[1m[\u001b[0m\u001b[32m'name'\u001b[0m, \u001b[32m'url'\u001b[0m, \u001b[32m'videoName'\u001b[0m, \u001b[32m'intrinsics'\u001b[0m, \u001b[32m'extrinsics'\u001b[0m, \u001b[32m'attributes'\u001b[0m, \n",
       "\u001b[32m'timestamp'\u001b[0m, \u001b[32m'frameIndex'\u001b[0m, \u001b[32m'size'\u001b[0m, \u001b[32m'labels'\u001b[0m\u001b[1m]\u001b[0m\u001b[1m)\u001b[0m, sample frame: \u001b[1m{\u001b[0m\u001b[32m'name'\u001b[0m: \u001b[32m'0000f77c-6257be58.jpg'\u001b[0m, \u001b[32m'url'\u001b[0m: \u001b[3;35mNone\u001b[0m, \n",
       "\u001b[32m'videoName'\u001b[0m: \u001b[3;35mNone\u001b[0m, \u001b[32m'intrinsics'\u001b[0m: \u001b[3;35mNone\u001b[0m, \u001b[32m'extrinsics'\u001b[0m: \u001b[3;35mNone\u001b[0m, \u001b[32m'attributes'\u001b[0m: \u001b[3;35mNone\u001b[0m, \u001b[32m'timestamp'\u001b[0m: \u001b[3;35mNone\u001b[0m, \u001b[32m'frameIndex'\u001b[0m: \n",
       "\u001b[3;35mNone\u001b[0m, \u001b[32m'size'\u001b[0m: \u001b[3;35mNone\u001b[0m, \u001b[32m'labels'\u001b[0m: \u001b[1m[\u001b[0m\u001b[1m{\u001b[0m\u001b[32m'id'\u001b[0m: \u001b[32m'0'\u001b[0m, \u001b[32m'index'\u001b[0m: \u001b[3;35mNone\u001b[0m, \u001b[32m'manualShape'\u001b[0m: \u001b[3;35mNone\u001b[0m, \u001b[32m'manualAttributes'\u001b[0m: \u001b[3;35mNone\u001b[0m, \u001b[32m'score'\u001b[0m: \n",
       "\u001b[3;35mNone\u001b[0m, \u001b[32m'attributes'\u001b[0m: \u001b[1m{\u001b[0m\u001b[32m'areaType'\u001b[0m: \u001b[32m'direct'\u001b[0m\u001b[1m}\u001b[0m, \u001b[32m'category'\u001b[0m: \u001b[32m'direct'\u001b[0m, \u001b[32m'box2d'\u001b[0m: \u001b[1m{\u001b[0m\u001b[32m'x1'\u001b[0m: \u001b[1;36m0.0\u001b[0m, \u001b[32m'y1'\u001b[0m: \u001b[1;36m367.0\u001b[0m, \u001b[32m'x2'\u001b[0m: \u001b[1;36m1279.0\u001b[0m, \n",
       "\u001b[32m'y2'\u001b[0m: \u001b[1;36m625.0\u001b[0m\u001b[1m}\u001b[0m, \u001b[32m'box3d'\u001b[0m: \u001b[3;35mNone\u001b[0m, \u001b[32m'poly2d'\u001b[0m: \u001b[3;35mNone\u001b[0m, \u001b[32m'rle'\u001b[0m: \u001b[1m{\u001b[0m\u001b[32m'counts'\u001b[0m: \n",
       "\u001b[32m'U`0f2jc0000000000O1000O10000000O100000O1000O1000000000O01000000000000O10O10000000O10000000O1000O1000000000O0100000\u001b[0m\n",
       "\u001b[32m0000000O10O10000000O100000O1000O1000000000000O01000000000O100000O100000O10000000000O0100000000000O1000O100000O10000\u001b[0m\n",
       "\u001b[32m000000O0100000000000O100000O1000O1000000000000O10O10000000O1000000000O10O10000000000O100000O1000O1000000000000O10O1\u001b[0m\n",
       "\u001b[32m0000000O1000000000000O01000000000O100000000000O010000000000O1000000000O01000000000000O1000000000O01000000000000O100\u001b[0m\n",
       "\u001b[32m0000000O01000000000000O10000000000O01000000000O1000000000000O10O10000000O1000000000000O10000000O10O1000000000000O10\u001b[0m\n",
       "\u001b[32m000000000O01000000000O1000000000000O1000000000O01000000000000O10000000000O10000000O1000O10000000000O10000000000O100\u001b[0m\n",
       "\u001b[32m0000000O10O10000000000O1000000000000O10000000000O1000O10000000O10000000000O10000000000O1000000000000O10O10000000O10\u001b[0m\n",
       "\u001b[32m00000000000O10000000000O1000000000000O10000000O10O10000000000O1000000000000O10000000000O1000000000000O10000000000O1\u001b[0m\n",
       "\u001b[32m00000000000O010000000000O10000000000O1000000000000O10000000000O1000000000000O10000000000O1000000000000O10000000000O\u001b[0m\n",
       "\u001b[32m10000000000O1000000000000O10000000000O1000000000000O10000000000O1000000000000O10000000000O10000000000O1000000000000\u001b[0m\n",
       "\u001b[32mO10000000000O1000000000000000000001O00001O00001O00001O00001O0000001O00001O00001O00001O0000001O00001O00001O00001O000\u001b[0m\n",
       "\u001b[32m01O0000001O00001O00001O00001O00001O0001O01O00001O00001O0000000000000000000000O1000000000000000000O10000000001O00000\u001b[0m\n",
       "\u001b[32m00O10000000000000000O1000000000000000000O100000000000001O000O1000000000000000000O10000000000000000O1000000000001O00\u001b[0m\n",
       "\u001b[32m000O1000000000000000000O1000000000001O000O1000000000000000000O100000000000001O000O10000000000000000O100000000000000\u001b[0m\n",
       "\u001b[32m0001N1000000000000000000O1000000000001O000O1000000000000000000O10001O0000000000000O100000000000001O0O10000000000000\u001b[0m\n",
       "\u001b[32m00000O1000001O00000000000N2O1O1O1O1O1O1O1O2N1N2O1O1O1O1O1O1O1O1N2O1O1O2N1O1O1O1O1N2O1O1O1O1O1O2N1O1N2O1O1O1O1O1O1O1\u001b[0m\n",
       "\u001b[32mO1N3N1O1O1O1O1O1O1O100000001O00000000000000000000001O00000000000000000000001O00000000000000000000001O00000000000000\u001b[0m\n",
       "\u001b[32m00001O0000000000000000001O00000000000000000010O00000000000000000001O0000000000000000001O0000000000000000001O0000000\u001b[0m\n",
       "\u001b[32m000000000001O00000000000000001O000000000000001O00000000000000001O00000001O00000001O00000000000000001O00000000000000\u001b[0m\n",
       "\u001b[32m1O00000000000000001O00000000000000001O000000000000001O000000000000001O0000000000001O0000000000000010O00000000000001\u001b[0m\n",
       "\u001b[32mO000000000000001O000000000000001O0000000000001O000000000000001O0000000000001O0000000000001O0000000000001O0000000000\u001b[0m\n",
       "\u001b[32m001O000001O000001O0000000000001O0000000000001O0000000000001O0000000000001O0000000000001O0000000000001O00000000001O0\u001b[0m\n",
       "\u001b[32m000000000001O00000000001O00000000000\u001b[0m\u001b[32m]\u001b[0m\u001b[32mD'\u001b[0m, \u001b[32m'size'\u001b[0m: \u001b[1m[\u001b[0m\u001b[1;36m720\u001b[0m, \u001b[1;36m1280\u001b[0m\u001b[1m]\u001b[0m\u001b[1m}\u001b[0m, \u001b[32m'graph'\u001b[0m: \u001b[3;35mNone\u001b[0m\u001b[1m}\u001b[0m\u001b[1m]\u001b[0m\u001b[1m}\u001b[0m\n"
      ]
     },
     "metadata": {},
     "output_type": "display_data"
    }
   ],
   "source": [
    "print(f\"Attributes: {drivable_train_rle.keys()}\")\n",
    "sample_frame = drivable_train_rle['frames'][0]\n",
    "print(f\"Attributes of 'frame' object: {sample_frame.keys()}, sample frame: {sample_frame}\")"
   ]
  },
  {
   "cell_type": "code",
   "execution_count": 9,
   "metadata": {},
   "outputs": [
    {
     "data": {
      "text/html": [
       "<pre style=\"white-space:pre;overflow-x:auto;line-height:normal;font-family:Menlo,'DejaVu Sans Mono',consolas,'Courier New',monospace\"><span style=\"color: #800080; text-decoration-color: #800080; font-style: italic\">None</span>\n",
       "</pre>\n"
      ],
      "text/plain": [
       "\u001b[3;35mNone\u001b[0m\n"
      ]
     },
     "metadata": {},
     "output_type": "display_data"
    },
    {
     "data": {
      "text/html": [
       "<pre style=\"white-space:pre;overflow-x:auto;line-height:normal;font-family:Menlo,'DejaVu Sans Mono',consolas,'Courier New',monospace\"><span style=\"color: #800080; text-decoration-color: #800080; font-style: italic\">None</span>\n",
       "</pre>\n"
      ],
      "text/plain": [
       "\u001b[3;35mNone\u001b[0m\n"
      ]
     },
     "metadata": {},
     "output_type": "display_data"
    },
    {
     "data": {
      "text/plain": [
       "(66921, 9546)"
      ]
     },
     "execution_count": 9,
     "metadata": {},
     "output_type": "execute_result"
    }
   ],
   "source": [
    "print(drivable_train_rle['groups'])\n",
    "print(drivable_train_rle['config'])\n",
    "len(drivable_train_rle['frames']), len(drivable_val_rle['frames'])\n",
    "len([elem for elem in drivable_train_rle['frames'] if elem['labels']]), len([elem for elem in drivable_val_rle['frames'] if elem['labels']])"
   ]
  },
  {
   "cell_type": "code",
   "execution_count": 10,
   "metadata": {},
   "outputs": [],
   "source": [
    "from pycocotools import mask as cocomask\n",
    "\n",
    "def process_frame_object_segments(frame: dict, label_dir: str, category_map: dict):\n",
    "    \"\"\"Process the frame object and save the labels in the label directory.\"\"\"\n",
    "    frame_id, _ = frame['name'].split(\".\")\n",
    "    \n",
    "    # Process Labels\n",
    "    frame_labels = frame['labels']\n",
    "    \n",
    "    if not frame_labels:\n",
    "        # print(f\"Frame '{frame_id}' has no labels. Skipping...\")\n",
    "        return\n",
    "    \n",
    "    label_data = []\n",
    "    for label in frame_labels:\n",
    "        category = label['category']\n",
    "        if category in category_map:\n",
    "            category_id = category_map[category]\n",
    "        else:\n",
    "            raise RuntimeError(f\"Category '{category}' not found in the category map. Skipping...\")\n",
    "        \n",
    "        # rle obj\n",
    "        rle_obj = label['rle']\n",
    "        h, w = rle_obj['size']\n",
    "        masked_arr = cocomask.decode(rle_obj) # Decode the rle object\n",
    "        contours, _ = cv2.findContours(masked_arr, cv2.RETR_TREE, cv2.CHAIN_APPROX_SIMPLE)\n",
    "        segmentations = [\n",
    "            contour.astype(np.float32).flatten().tolist()\n",
    "            for contour in contours\n",
    "        ]\n",
    "        scaled_segmentations = [\n",
    "            (np.array(segmentation).reshape(-1, 2) / np.array([w, h]))\n",
    "            .reshape(-1)\n",
    "            .tolist()\n",
    "            for segmentation in segmentations\n",
    "        ]\n",
    "        label_str_segmentations = [\n",
    "            \" \".join(\n",
    "                [str(category_id)] +\n",
    "                [\"{:.4f}\".format(seg) for seg in scaled_seg]\n",
    "            ) + \"\\n\"\n",
    "            for scaled_seg in scaled_segmentations\n",
    "        ]\n",
    "        label_data += label_str_segmentations\n",
    "    # End processing loop for labels\n",
    "    \n",
    "    # Save the labels\n",
    "    frame_label_path = label_dir / f\"{frame_id}.txt\"\n",
    "    with open(frame_label_path, \"w+\") as f:\n",
    "        f.writelines(label_data)\n",
    "    # End saving labels\n",
    "    return"
   ]
  },
  {
   "cell_type": "code",
   "execution_count": 11,
   "metadata": {},
   "outputs": [],
   "source": [
    "def convert_rle_seg_dataset(raw_data: dict, dataset_name: str, split: str, category_map: dict):\n",
    "    # Define paths\n",
    "    frames = raw_data['frames']\n",
    "    target_label_dir = YOLO_DATA_DIR / dataset_name / \"labels\" / split\n",
    "    # Process frames\n",
    "    for frame in tqdm(frames, desc=f\"Annotations for '{dataset_name}' {split} set\"):\n",
    "        _ = process_frame_object_segments(\n",
    "            frame, \n",
    "            label_dir=target_label_dir,\n",
    "            category_map=category_map\n",
    "        )\n",
    "    return len(os.listdir(target_label_dir))"
   ]
  },
  {
   "cell_type": "code",
   "execution_count": 12,
   "metadata": {},
   "outputs": [
    {
     "data": {
      "text/html": [
       "<pre style=\"white-space:pre;overflow-x:auto;line-height:normal;font-family:Menlo,'DejaVu Sans Mono',consolas,'Courier New',monospace\">Done setup path for <span style=\"color: #008000; text-decoration-color: #008000\">'drivable_labels_trainval'</span>\n",
       "</pre>\n"
      ],
      "text/plain": [
       "Done setup path for \u001b[32m'drivable_labels_trainval'\u001b[0m\n"
      ]
     },
     "metadata": {},
     "output_type": "display_data"
    },
    {
     "name": "stderr",
     "output_type": "stream",
     "text": [
      "Annotations for 'drivable_labels_trainval' train set: 100%|██████████| 70000/70000 [02:25<00:00, 479.49it/s]\n"
     ]
    }
   ],
   "source": [
    "_ = setup_yolo_output_dir(dataset_name=dataset_name)\n",
    "\n",
    "drivable_cat_map = {\n",
    "    \"direct\": 0,\n",
    "    \"alternative\": 1,\n",
    "    \"background\": 2,\n",
    "    \"unknown\": 2\n",
    "}\n",
    "split = \"train\"\n",
    "\n",
    "num_labels = convert_rle_seg_dataset(\n",
    "    raw_data=drivable_train_rle,\n",
    "    dataset_name=dataset_name,\n",
    "    split=split,\n",
    "    category_map=drivable_cat_map\n",
    ")"
   ]
  },
  {
   "cell_type": "code",
   "execution_count": 13,
   "metadata": {},
   "outputs": [
    {
     "name": "stderr",
     "output_type": "stream",
     "text": [
      "Annotations for 'drivable_labels_trainval' val set: 100%|██████████| 10000/10000 [00:20<00:00, 491.29it/s]\n"
     ]
    }
   ],
   "source": [
    "split = \"val\"\n",
    "\n",
    "num_labels = convert_rle_seg_dataset(\n",
    "    raw_data=drivable_val_rle,\n",
    "    dataset_name=dataset_name,\n",
    "    split=split,\n",
    "    category_map=drivable_cat_map\n",
    ")"
   ]
  },
  {
   "cell_type": "markdown",
   "metadata": {},
   "source": [
    "***\n",
    "\n",
    "## Lane Labeling"
   ]
  },
  {
   "cell_type": "code",
   "execution_count": 6,
   "metadata": {},
   "outputs": [],
   "source": [
    "dataset_name = \"lane_labels_trainval\"\n",
    "poly_labels_dir = BASE_DATA_DIR / (BASE_DATA_PRFIX + dataset_name) / \"polygons\"\n",
    "mask_labels_dir = BASE_DATA_DIR / (BASE_DATA_PRFIX + dataset_name) / \"masks\"\n",
    "\n",
    "raw_poly_train_path = BASE_DATA_DIR / (BASE_DATA_PRFIX + dataset_name) / \"polygons\" / \"lane_train.json\"\n",
    "raw_poly_val_path = BASE_DATA_DIR / (BASE_DATA_PRFIX + dataset_name) / \"polygons\" / \"lane_val.json\""
   ]
  },
  {
   "cell_type": "code",
   "execution_count": 7,
   "metadata": {},
   "outputs": [],
   "source": [
    "with open(raw_poly_train_path, \"r\") as f:\n",
    "    lane_poly_train = json.load(f)\n",
    "\n",
    "with open(raw_poly_val_path, \"r\") as f:\n",
    "    lane_poly_val = json.load(f)"
   ]
  },
  {
   "cell_type": "code",
   "execution_count": 8,
   "metadata": {},
   "outputs": [
    {
     "data": {
      "text/html": [
       "<pre style=\"white-space:pre;overflow-x:auto;line-height:normal;font-family:Menlo,'DejaVu Sans Mono',consolas,'Courier New',monospace\">Attributes: <span style=\"color: #800080; text-decoration-color: #800080; font-weight: bold\">dict_keys</span><span style=\"font-weight: bold\">([</span><span style=\"color: #008000; text-decoration-color: #008000\">'name'</span>, <span style=\"color: #008000; text-decoration-color: #008000\">'labels'</span><span style=\"font-weight: bold\">])</span>\n",
       "</pre>\n"
      ],
      "text/plain": [
       "Attributes: \u001b[1;35mdict_keys\u001b[0m\u001b[1m(\u001b[0m\u001b[1m[\u001b[0m\u001b[32m'name'\u001b[0m, \u001b[32m'labels'\u001b[0m\u001b[1m]\u001b[0m\u001b[1m)\u001b[0m\n"
      ]
     },
     "metadata": {},
     "output_type": "display_data"
    }
   ],
   "source": [
    "print(f\"Attributes: {lane_poly_train[0].keys()}\")"
   ]
  },
  {
   "cell_type": "code",
   "execution_count": 9,
   "metadata": {},
   "outputs": [
    {
     "data": {
      "text/html": [
       "<pre style=\"white-space:pre;overflow-x:auto;line-height:normal;font-family:Menlo,'DejaVu Sans Mono',consolas,'Courier New',monospace\">Attributes of <span style=\"color: #008000; text-decoration-color: #008000\">'frame'</span> object: <span style=\"color: #800080; text-decoration-color: #800080; font-weight: bold\">dict_keys</span><span style=\"font-weight: bold\">([</span><span style=\"color: #008000; text-decoration-color: #008000\">'name'</span>, <span style=\"color: #008000; text-decoration-color: #008000\">'labels'</span><span style=\"font-weight: bold\">])</span>, sample frame: <span style=\"font-weight: bold\">{</span><span style=\"color: #008000; text-decoration-color: #008000\">'name'</span>: <span style=\"color: #008000; text-decoration-color: #008000\">'0000f77c-6257be58.jpg'</span>, \n",
       "<span style=\"color: #008000; text-decoration-color: #008000\">'labels'</span>: <span style=\"font-weight: bold\">[{</span><span style=\"color: #008000; text-decoration-color: #008000\">'id'</span>: <span style=\"color: #008000; text-decoration-color: #008000\">'0'</span>, <span style=\"color: #008000; text-decoration-color: #008000\">'attributes'</span>: <span style=\"font-weight: bold\">{</span><span style=\"color: #008000; text-decoration-color: #008000\">'laneDirection'</span>: <span style=\"color: #008000; text-decoration-color: #008000\">'parallel'</span>, <span style=\"color: #008000; text-decoration-color: #008000\">'laneStyle'</span>: <span style=\"color: #008000; text-decoration-color: #008000\">'solid'</span>, <span style=\"color: #008000; text-decoration-color: #008000\">'laneTypes'</span>: <span style=\"color: #008000; text-decoration-color: #008000\">'road curb'</span><span style=\"font-weight: bold\">}</span>,\n",
       "<span style=\"color: #008000; text-decoration-color: #008000\">'category'</span>: <span style=\"color: #008000; text-decoration-color: #008000\">'road curb'</span>, <span style=\"color: #008000; text-decoration-color: #008000\">'poly2d'</span>: <span style=\"font-weight: bold\">[{</span><span style=\"color: #008000; text-decoration-color: #008000\">'vertices'</span>: <span style=\"font-weight: bold\">[[</span><span style=\"color: #008080; text-decoration-color: #008080; font-weight: bold\">503.674413</span>, <span style=\"color: #008080; text-decoration-color: #008080; font-weight: bold\">373.137193</span><span style=\"font-weight: bold\">]</span>, <span style=\"font-weight: bold\">[</span><span style=\"color: #008080; text-decoration-color: #008080; font-weight: bold\">357.797732</span>, <span style=\"color: #008080; text-decoration-color: #008080; font-weight: bold\">374.672737</span><span style=\"font-weight: bold\">]]</span>, <span style=\"color: #008000; text-decoration-color: #008000\">'types'</span>: \n",
       "<span style=\"color: #008000; text-decoration-color: #008000\">'LL'</span>, <span style=\"color: #008000; text-decoration-color: #008000\">'closed'</span>: <span style=\"color: #ff0000; text-decoration-color: #ff0000; font-style: italic\">False</span><span style=\"font-weight: bold\">}]}</span>, <span style=\"font-weight: bold\">{</span><span style=\"color: #008000; text-decoration-color: #008000\">'id'</span>: <span style=\"color: #008000; text-decoration-color: #008000\">'1'</span>, <span style=\"color: #008000; text-decoration-color: #008000\">'attributes'</span>: <span style=\"font-weight: bold\">{</span><span style=\"color: #008000; text-decoration-color: #008000\">'laneDirection'</span>: <span style=\"color: #008000; text-decoration-color: #008000\">'parallel'</span>, <span style=\"color: #008000; text-decoration-color: #008000\">'laneStyle'</span>: <span style=\"color: #008000; text-decoration-color: #008000\">'solid'</span>, \n",
       "<span style=\"color: #008000; text-decoration-color: #008000\">'laneTypes'</span>: <span style=\"color: #008000; text-decoration-color: #008000\">'road curb'</span><span style=\"font-weight: bold\">}</span>, <span style=\"color: #008000; text-decoration-color: #008000\">'category'</span>: <span style=\"color: #008000; text-decoration-color: #008000\">'road curb'</span>, <span style=\"color: #008000; text-decoration-color: #008000\">'poly2d'</span>: <span style=\"font-weight: bold\">[{</span><span style=\"color: #008000; text-decoration-color: #008000\">'vertices'</span>: <span style=\"font-weight: bold\">[[</span><span style=\"color: #008080; text-decoration-color: #008080; font-weight: bold\">62.973282</span>, <span style=\"color: #008080; text-decoration-color: #008080; font-weight: bold\">371.601649</span><span style=\"font-weight: bold\">]</span>, <span style=\"font-weight: bold\">[</span><span style=\"color: #008080; text-decoration-color: #008080; font-weight: bold\">0.0</span>, \n",
       "<span style=\"color: #008080; text-decoration-color: #008080; font-weight: bold\">368.53056</span><span style=\"font-weight: bold\">]]</span>, <span style=\"color: #008000; text-decoration-color: #008000\">'types'</span>: <span style=\"color: #008000; text-decoration-color: #008000\">'LL'</span>, <span style=\"color: #008000; text-decoration-color: #008000\">'closed'</span>: <span style=\"color: #ff0000; text-decoration-color: #ff0000; font-style: italic\">False</span><span style=\"font-weight: bold\">}]}</span>, <span style=\"font-weight: bold\">{</span><span style=\"color: #008000; text-decoration-color: #008000\">'id'</span>: <span style=\"color: #008000; text-decoration-color: #008000\">'2'</span>, <span style=\"color: #008000; text-decoration-color: #008000\">'attributes'</span>: <span style=\"font-weight: bold\">{</span><span style=\"color: #008000; text-decoration-color: #008000\">'laneDirection'</span>: <span style=\"color: #008000; text-decoration-color: #008000\">'parallel'</span>, \n",
       "<span style=\"color: #008000; text-decoration-color: #008000\">'laneStyle'</span>: <span style=\"color: #008000; text-decoration-color: #008000\">'solid'</span>, <span style=\"color: #008000; text-decoration-color: #008000\">'laneTypes'</span>: <span style=\"color: #008000; text-decoration-color: #008000\">'road curb'</span><span style=\"font-weight: bold\">}</span>, <span style=\"color: #008000; text-decoration-color: #008000\">'category'</span>: <span style=\"color: #008000; text-decoration-color: #008000\">'road curb'</span>, <span style=\"color: #008000; text-decoration-color: #008000\">'poly2d'</span>: <span style=\"font-weight: bold\">[{</span><span style=\"color: #008000; text-decoration-color: #008000\">'vertices'</span>: <span style=\"font-weight: bold\">[[</span><span style=\"color: #008080; text-decoration-color: #008080; font-weight: bold\">1274.517503</span>, \n",
       "<span style=\"color: #008080; text-decoration-color: #008080; font-weight: bold\">376.208281</span><span style=\"font-weight: bold\">]</span>, <span style=\"font-weight: bold\">[</span><span style=\"color: #008080; text-decoration-color: #008080; font-weight: bold\">905.986941</span>, <span style=\"color: #008080; text-decoration-color: #008080; font-weight: bold\">371.601649</span><span style=\"font-weight: bold\">]]</span>, <span style=\"color: #008000; text-decoration-color: #008000\">'types'</span>: <span style=\"color: #008000; text-decoration-color: #008000\">'LL'</span>, <span style=\"color: #008000; text-decoration-color: #008000\">'closed'</span>: <span style=\"color: #ff0000; text-decoration-color: #ff0000; font-style: italic\">False</span><span style=\"font-weight: bold\">}]}]}</span>\n",
       "</pre>\n"
      ],
      "text/plain": [
       "Attributes of \u001b[32m'frame'\u001b[0m object: \u001b[1;35mdict_keys\u001b[0m\u001b[1m(\u001b[0m\u001b[1m[\u001b[0m\u001b[32m'name'\u001b[0m, \u001b[32m'labels'\u001b[0m\u001b[1m]\u001b[0m\u001b[1m)\u001b[0m, sample frame: \u001b[1m{\u001b[0m\u001b[32m'name'\u001b[0m: \u001b[32m'0000f77c-6257be58.jpg'\u001b[0m, \n",
       "\u001b[32m'labels'\u001b[0m: \u001b[1m[\u001b[0m\u001b[1m{\u001b[0m\u001b[32m'id'\u001b[0m: \u001b[32m'0'\u001b[0m, \u001b[32m'attributes'\u001b[0m: \u001b[1m{\u001b[0m\u001b[32m'laneDirection'\u001b[0m: \u001b[32m'parallel'\u001b[0m, \u001b[32m'laneStyle'\u001b[0m: \u001b[32m'solid'\u001b[0m, \u001b[32m'laneTypes'\u001b[0m: \u001b[32m'road curb'\u001b[0m\u001b[1m}\u001b[0m,\n",
       "\u001b[32m'category'\u001b[0m: \u001b[32m'road curb'\u001b[0m, \u001b[32m'poly2d'\u001b[0m: \u001b[1m[\u001b[0m\u001b[1m{\u001b[0m\u001b[32m'vertices'\u001b[0m: \u001b[1m[\u001b[0m\u001b[1m[\u001b[0m\u001b[1;36m503.674413\u001b[0m, \u001b[1;36m373.137193\u001b[0m\u001b[1m]\u001b[0m, \u001b[1m[\u001b[0m\u001b[1;36m357.797732\u001b[0m, \u001b[1;36m374.672737\u001b[0m\u001b[1m]\u001b[0m\u001b[1m]\u001b[0m, \u001b[32m'types'\u001b[0m: \n",
       "\u001b[32m'LL'\u001b[0m, \u001b[32m'closed'\u001b[0m: \u001b[3;91mFalse\u001b[0m\u001b[1m}\u001b[0m\u001b[1m]\u001b[0m\u001b[1m}\u001b[0m, \u001b[1m{\u001b[0m\u001b[32m'id'\u001b[0m: \u001b[32m'1'\u001b[0m, \u001b[32m'attributes'\u001b[0m: \u001b[1m{\u001b[0m\u001b[32m'laneDirection'\u001b[0m: \u001b[32m'parallel'\u001b[0m, \u001b[32m'laneStyle'\u001b[0m: \u001b[32m'solid'\u001b[0m, \n",
       "\u001b[32m'laneTypes'\u001b[0m: \u001b[32m'road curb'\u001b[0m\u001b[1m}\u001b[0m, \u001b[32m'category'\u001b[0m: \u001b[32m'road curb'\u001b[0m, \u001b[32m'poly2d'\u001b[0m: \u001b[1m[\u001b[0m\u001b[1m{\u001b[0m\u001b[32m'vertices'\u001b[0m: \u001b[1m[\u001b[0m\u001b[1m[\u001b[0m\u001b[1;36m62.973282\u001b[0m, \u001b[1;36m371.601649\u001b[0m\u001b[1m]\u001b[0m, \u001b[1m[\u001b[0m\u001b[1;36m0.0\u001b[0m, \n",
       "\u001b[1;36m368.53056\u001b[0m\u001b[1m]\u001b[0m\u001b[1m]\u001b[0m, \u001b[32m'types'\u001b[0m: \u001b[32m'LL'\u001b[0m, \u001b[32m'closed'\u001b[0m: \u001b[3;91mFalse\u001b[0m\u001b[1m}\u001b[0m\u001b[1m]\u001b[0m\u001b[1m}\u001b[0m, \u001b[1m{\u001b[0m\u001b[32m'id'\u001b[0m: \u001b[32m'2'\u001b[0m, \u001b[32m'attributes'\u001b[0m: \u001b[1m{\u001b[0m\u001b[32m'laneDirection'\u001b[0m: \u001b[32m'parallel'\u001b[0m, \n",
       "\u001b[32m'laneStyle'\u001b[0m: \u001b[32m'solid'\u001b[0m, \u001b[32m'laneTypes'\u001b[0m: \u001b[32m'road curb'\u001b[0m\u001b[1m}\u001b[0m, \u001b[32m'category'\u001b[0m: \u001b[32m'road curb'\u001b[0m, \u001b[32m'poly2d'\u001b[0m: \u001b[1m[\u001b[0m\u001b[1m{\u001b[0m\u001b[32m'vertices'\u001b[0m: \u001b[1m[\u001b[0m\u001b[1m[\u001b[0m\u001b[1;36m1274.517503\u001b[0m, \n",
       "\u001b[1;36m376.208281\u001b[0m\u001b[1m]\u001b[0m, \u001b[1m[\u001b[0m\u001b[1;36m905.986941\u001b[0m, \u001b[1;36m371.601649\u001b[0m\u001b[1m]\u001b[0m\u001b[1m]\u001b[0m, \u001b[32m'types'\u001b[0m: \u001b[32m'LL'\u001b[0m, \u001b[32m'closed'\u001b[0m: \u001b[3;91mFalse\u001b[0m\u001b[1m}\u001b[0m\u001b[1m]\u001b[0m\u001b[1m}\u001b[0m\u001b[1m]\u001b[0m\u001b[1m}\u001b[0m\n"
      ]
     },
     "metadata": {},
     "output_type": "display_data"
    }
   ],
   "source": [
    "sample_poly = lane_poly_train[0]\n",
    "print(f\"Attributes of 'frame' object: {sample_poly.keys()}, sample frame: {sample_poly}\")"
   ]
  },
  {
   "cell_type": "code",
   "execution_count": 10,
   "metadata": {},
   "outputs": [
    {
     "data": {
      "text/html": [
       "<pre style=\"white-space:pre;overflow-x:auto;line-height:normal;font-family:Menlo,'DejaVu Sans Mono',consolas,'Courier New',monospace\">Attributes of <span style=\"color: #008000; text-decoration-color: #008000\">'label'</span> object: <span style=\"color: #800080; text-decoration-color: #800080; font-weight: bold\">dict_keys</span><span style=\"font-weight: bold\">([</span><span style=\"color: #008000; text-decoration-color: #008000\">'id'</span>, <span style=\"color: #008000; text-decoration-color: #008000\">'attributes'</span>, <span style=\"color: #008000; text-decoration-color: #008000\">'category'</span>, <span style=\"color: #008000; text-decoration-color: #008000\">'poly2d'</span><span style=\"font-weight: bold\">])</span>, sample label: <span style=\"font-weight: bold\">{</span><span style=\"color: #008000; text-decoration-color: #008000\">'id'</span>: <span style=\"color: #008000; text-decoration-color: #008000\">'0'</span>, \n",
       "<span style=\"color: #008000; text-decoration-color: #008000\">'attributes'</span>: <span style=\"font-weight: bold\">{</span><span style=\"color: #008000; text-decoration-color: #008000\">'laneDirection'</span>: <span style=\"color: #008000; text-decoration-color: #008000\">'parallel'</span>, <span style=\"color: #008000; text-decoration-color: #008000\">'laneStyle'</span>: <span style=\"color: #008000; text-decoration-color: #008000\">'solid'</span>, <span style=\"color: #008000; text-decoration-color: #008000\">'laneTypes'</span>: <span style=\"color: #008000; text-decoration-color: #008000\">'road curb'</span><span style=\"font-weight: bold\">}</span>, <span style=\"color: #008000; text-decoration-color: #008000\">'category'</span>: <span style=\"color: #008000; text-decoration-color: #008000\">'road </span>\n",
       "<span style=\"color: #008000; text-decoration-color: #008000\">curb'</span>, <span style=\"color: #008000; text-decoration-color: #008000\">'poly2d'</span>: <span style=\"font-weight: bold\">[{</span><span style=\"color: #008000; text-decoration-color: #008000\">'vertices'</span>: <span style=\"font-weight: bold\">[[</span><span style=\"color: #008080; text-decoration-color: #008080; font-weight: bold\">503.674413</span>, <span style=\"color: #008080; text-decoration-color: #008080; font-weight: bold\">373.137193</span><span style=\"font-weight: bold\">]</span>, <span style=\"font-weight: bold\">[</span><span style=\"color: #008080; text-decoration-color: #008080; font-weight: bold\">357.797732</span>, <span style=\"color: #008080; text-decoration-color: #008080; font-weight: bold\">374.672737</span><span style=\"font-weight: bold\">]]</span>, <span style=\"color: #008000; text-decoration-color: #008000\">'types'</span>: <span style=\"color: #008000; text-decoration-color: #008000\">'LL'</span>, <span style=\"color: #008000; text-decoration-color: #008000\">'closed'</span>: \n",
       "<span style=\"color: #ff0000; text-decoration-color: #ff0000; font-style: italic\">False</span><span style=\"font-weight: bold\">}]}</span>\n",
       "</pre>\n"
      ],
      "text/plain": [
       "Attributes of \u001b[32m'label'\u001b[0m object: \u001b[1;35mdict_keys\u001b[0m\u001b[1m(\u001b[0m\u001b[1m[\u001b[0m\u001b[32m'id'\u001b[0m, \u001b[32m'attributes'\u001b[0m, \u001b[32m'category'\u001b[0m, \u001b[32m'poly2d'\u001b[0m\u001b[1m]\u001b[0m\u001b[1m)\u001b[0m, sample label: \u001b[1m{\u001b[0m\u001b[32m'id'\u001b[0m: \u001b[32m'0'\u001b[0m, \n",
       "\u001b[32m'attributes'\u001b[0m: \u001b[1m{\u001b[0m\u001b[32m'laneDirection'\u001b[0m: \u001b[32m'parallel'\u001b[0m, \u001b[32m'laneStyle'\u001b[0m: \u001b[32m'solid'\u001b[0m, \u001b[32m'laneTypes'\u001b[0m: \u001b[32m'road curb'\u001b[0m\u001b[1m}\u001b[0m, \u001b[32m'category'\u001b[0m: \u001b[32m'road \u001b[0m\n",
       "\u001b[32mcurb'\u001b[0m, \u001b[32m'poly2d'\u001b[0m: \u001b[1m[\u001b[0m\u001b[1m{\u001b[0m\u001b[32m'vertices'\u001b[0m: \u001b[1m[\u001b[0m\u001b[1m[\u001b[0m\u001b[1;36m503.674413\u001b[0m, \u001b[1;36m373.137193\u001b[0m\u001b[1m]\u001b[0m, \u001b[1m[\u001b[0m\u001b[1;36m357.797732\u001b[0m, \u001b[1;36m374.672737\u001b[0m\u001b[1m]\u001b[0m\u001b[1m]\u001b[0m, \u001b[32m'types'\u001b[0m: \u001b[32m'LL'\u001b[0m, \u001b[32m'closed'\u001b[0m: \n",
       "\u001b[3;91mFalse\u001b[0m\u001b[1m}\u001b[0m\u001b[1m]\u001b[0m\u001b[1m}\u001b[0m\n"
      ]
     },
     "metadata": {},
     "output_type": "display_data"
    }
   ],
   "source": [
    "sample_label = sample_poly['labels'][0]\n",
    "print(f\"Attributes of 'label' object: {sample_label.keys()}, sample label: {sample_label}\")"
   ]
  },
  {
   "cell_type": "code",
   "execution_count": 19,
   "metadata": {},
   "outputs": [],
   "source": [
    "def process_poly_object_segments(poly: dict, label_dir: Path, category_map: dict):\n",
    "    \"\"\"Process the frame object and save the labels in the label directory.\"\"\"\n",
    "    label_id, _ = poly['name'].split(\".\")\n",
    "    \n",
    "    # Process Labels\n",
    "    if \"labels\" not in poly.keys(): return\n",
    "    else: poly_labels = poly['labels']\n",
    "    \n",
    "    if not poly_labels:\n",
    "        # print(f\"Frame '{frame_id}' has no labels. Skipping...\")\n",
    "        return\n",
    "    \n",
    "    label_data = []\n",
    "    for label in poly_labels:\n",
    "        category = label['category']\n",
    "        if category in category_map:\n",
    "            category_id = category_map[category]\n",
    "        else:\n",
    "            raise RuntimeError(f\"Category '{category}' not found in the category map. Skipping...\")\n",
    "        \n",
    "        # poly obj\n",
    "        poly_obj = label['poly2d'] # list of vertice objects\n",
    "        poly_attr = label['attributes']\n",
    "        h, w = 720, 1280\n",
    "        \n",
    "        segmentations = [\n",
    "            np.array(vertice_obj['vertices']).astype(np.float32) # shape: (2, 2)\n",
    "            for vertice_obj in poly_obj\n",
    "        ]\n",
    "        scaled_segmentations = [\n",
    "            (segmentation / np.array([w, h]))\n",
    "            .reshape(-1)\n",
    "            .tolist()\n",
    "            for segmentation in segmentations\n",
    "        ]\n",
    "        label_str_segmentations = [\n",
    "            \" \".join(\n",
    "                [str(category_id)] +\n",
    "                [\"{:.4f}\".format(seg) for seg in scaled_seg]\n",
    "            ) + \"\\n\"\n",
    "            for scaled_seg in scaled_segmentations\n",
    "        ]\n",
    "        label_data += label_str_segmentations\n",
    "    # End processing loop for labels\n",
    "    \n",
    "    # Save the labels\n",
    "    poly_label_path = label_dir / f\"{label_id}.txt\"\n",
    "    with open(poly_label_path, \"w+\") as f:\n",
    "        f.writelines(label_data)\n",
    "    # End saving labels\n",
    "    return"
   ]
  },
  {
   "cell_type": "code",
   "execution_count": 20,
   "metadata": {},
   "outputs": [],
   "source": [
    "def convert_poly_seg_dataset(raw_data: list, dataset_name: str, split: str, category_map: dict):\n",
    "    # Define paths\n",
    "    target_label_dir = YOLO_DATA_DIR / dataset_name / \"labels\" / split\n",
    "    # Process frames\n",
    "    for poly in tqdm(raw_data, desc=f\"Annotations for '{dataset_name}' {split} set\"):\n",
    "        _ = process_poly_object_segments(\n",
    "            poly, \n",
    "            label_dir=target_label_dir,\n",
    "            category_map=category_map\n",
    "        )\n",
    "    return len(os.listdir(target_label_dir))"
   ]
  },
  {
   "cell_type": "code",
   "execution_count": 21,
   "metadata": {},
   "outputs": [
    {
     "data": {
      "text/html": [
       "<pre style=\"white-space:pre;overflow-x:auto;line-height:normal;font-family:Menlo,'DejaVu Sans Mono',consolas,'Courier New',monospace\">Done setup path for <span style=\"color: #008000; text-decoration-color: #008000\">'lane_labels_trainval'</span>\n",
       "</pre>\n"
      ],
      "text/plain": [
       "Done setup path for \u001b[32m'lane_labels_trainval'\u001b[0m\n"
      ]
     },
     "metadata": {},
     "output_type": "display_data"
    },
    {
     "name": "stderr",
     "output_type": "stream",
     "text": [
      "Annotations for 'lane_labels_trainval' train set: 100%|██████████| 70000/70000 [00:08<00:00, 8676.64it/s]\n"
     ]
    }
   ],
   "source": [
    "_ = setup_yolo_output_dir(dataset_name=dataset_name)\n",
    "lane_cat_map = {\n",
    "    \"crosswalk\": 0,\n",
    "    \"double other\": 1,\n",
    "    \"double white\": 2,\n",
    "    \"double yellow\": 3,\n",
    "    \"road curb\": 4,\n",
    "    \"single other\": 5,\n",
    "    \"single white\": 6,\n",
    "    \"single yellow\": 7,\n",
    "    \"background\": 8\n",
    "}\n",
    "split = \"train\"\n",
    "\n",
    "num_labels = convert_poly_seg_dataset(\n",
    "    raw_data=lane_poly_train,\n",
    "    dataset_name=dataset_name,\n",
    "    split=split,\n",
    "    category_map=lane_cat_map\n",
    ")"
   ]
  },
  {
   "cell_type": "code",
   "execution_count": 22,
   "metadata": {},
   "outputs": [
    {
     "name": "stderr",
     "output_type": "stream",
     "text": [
      "Annotations for 'lane_labels_trainval' val set: 100%|██████████| 10000/10000 [00:01<00:00, 9582.79it/s]\n"
     ]
    }
   ],
   "source": [
    "split = \"val\"\n",
    "\n",
    "num_labels = convert_poly_seg_dataset(\n",
    "    raw_data=lane_poly_val,\n",
    "    dataset_name=dataset_name,\n",
    "    split=split,\n",
    "    category_map=lane_cat_map\n",
    ")"
   ]
  },
  {
   "cell_type": "code",
   "execution_count": null,
   "metadata": {},
   "outputs": [],
   "source": [
    "from PIL import Image\n",
    "\n",
    "def process_poly_mask_segment(poly: dict, label_dir: Path, category_map: dict, mask_dir: Path):\n",
    "    \"\"\"Process the frame object and save the labels in the label directory.\"\"\"\n",
    "    label_id, _ = poly['name'].split(\".\")\n",
    "    \n",
    "    # Process Labels\n",
    "    if \"labels\" not in poly.keys() or poly['labels'] is None: return\n",
    "    else: poly_labels = poly['labels']\n",
    "    \n",
    "    label_data = []\n",
    "    for label in poly_labels:\n",
    "        # Category mapping into class index\n",
    "        category = label['category']\n",
    "        if category in category_map: category_id = category_map[category]\n",
    "        else: raise RuntimeError(f\"Category '{category}' not found in the category map. Skipping...\")\n",
    "        \n",
    "        # use mask picture instead of polygon\n",
    "        poly_mask = Image.open(mask_dir / poly['name']) # mask image name is the same as the original image name\n",
    "        masked_arr = poly_mask.toarray()\n",
    "        \n",
    "        poly_attr = label['attributes']\n",
    "        h, w = 720, 1280\n",
    "        \n",
    "        segmentations = [\n",
    "            np.array(vertice_obj['vertices']).astype(np.float32) # shape: (2, 2)\n",
    "            for vertice_obj in poly_obj\n",
    "        ]\n",
    "        scaled_segmentations = [\n",
    "            (segmentation / np.array([w, h]))\n",
    "            .reshape(-1)\n",
    "            .tolist()\n",
    "            for segmentation in segmentations\n",
    "        ]\n",
    "        label_str_segmentations = [\n",
    "            \" \".join(\n",
    "                [str(category_id)] +\n",
    "                [\"{:.4f}\".format(seg) for seg in scaled_seg]\n",
    "            ) + \"\\n\"\n",
    "            for scaled_seg in scaled_segmentations\n",
    "        ]\n",
    "        label_data += label_str_segmentations\n",
    "    # End processing loop for labels\n",
    "    \n",
    "    # Save the labels\n",
    "    poly_label_path = label_dir / f\"{label_id}.txt\"\n",
    "    with open(poly_label_path, \"w+\") as f:\n",
    "        f.writelines(label_data)\n",
    "    # End saving labels\n",
    "    return"
   ]
  },
  {
   "cell_type": "markdown",
   "metadata": {},
   "source": [
    "***\n",
    "\n",
    "## Image Labels"
   ]
  },
  {
   "cell_type": "code",
   "execution_count": 6,
   "metadata": {},
   "outputs": [],
   "source": [
    "dataset_name = \"image_labels\"\n",
    "image_labels_dir = BASE_DATA_DIR / dataset_name\n",
    "image_train_labels_path = image_labels_dir / \"bdd100k_labels_images_train.json\"\n",
    "image_val_labels_path = image_labels_dir / \"bdd100k_labels_images_val.json\""
   ]
  },
  {
   "cell_type": "code",
   "execution_count": 7,
   "metadata": {},
   "outputs": [],
   "source": [
    "with open(image_train_labels_path, \"r\") as f:\n",
    "    image_train_labels = json.load(f)\n",
    "    \n",
    "with open(image_val_labels_path, \"r\") as f:\n",
    "    image_val_labels = json.load(f)"
   ]
  },
  {
   "cell_type": "code",
   "execution_count": 8,
   "metadata": {},
   "outputs": [
    {
     "data": {
      "text/plain": [
       "list"
      ]
     },
     "execution_count": 8,
     "metadata": {},
     "output_type": "execute_result"
    }
   ],
   "source": [
    "type(image_val_labels)"
   ]
  },
  {
   "cell_type": "code",
   "execution_count": 10,
   "metadata": {},
   "outputs": [
    {
     "data": {
      "text/html": [
       "<pre style=\"white-space:pre;overflow-x:auto;line-height:normal;font-family:Menlo,'DejaVu Sans Mono',consolas,'Courier New',monospace\">Attributes of <span style=\"color: #008000; text-decoration-color: #008000\">'frame'</span> object: <span style=\"color: #800080; text-decoration-color: #800080; font-weight: bold\">dict_keys</span><span style=\"font-weight: bold\">([</span><span style=\"color: #008000; text-decoration-color: #008000\">'name'</span>, <span style=\"color: #008000; text-decoration-color: #008000\">'attributes'</span>, <span style=\"color: #008000; text-decoration-color: #008000\">'timestamp'</span>, <span style=\"color: #008000; text-decoration-color: #008000\">'labels'</span><span style=\"font-weight: bold\">])</span>, sample image lab el: \n",
       "<span style=\"font-weight: bold\">{</span><span style=\"color: #008000; text-decoration-color: #008000\">'name'</span>: <span style=\"color: #008000; text-decoration-color: #008000\">'b1c66a42-6f7d68ca.jpg'</span>, <span style=\"color: #008000; text-decoration-color: #008000\">'attributes'</span>: <span style=\"font-weight: bold\">{</span><span style=\"color: #008000; text-decoration-color: #008000\">'weather'</span>: <span style=\"color: #008000; text-decoration-color: #008000\">'overcast'</span>, <span style=\"color: #008000; text-decoration-color: #008000\">'scene'</span>: <span style=\"color: #008000; text-decoration-color: #008000\">'city street'</span>, <span style=\"color: #008000; text-decoration-color: #008000\">'timeofday'</span>: \n",
       "<span style=\"color: #008000; text-decoration-color: #008000\">'daytime'</span><span style=\"font-weight: bold\">}</span>, <span style=\"color: #008000; text-decoration-color: #008000\">'timestamp'</span>: <span style=\"color: #008080; text-decoration-color: #008080; font-weight: bold\">10000</span>, <span style=\"color: #008000; text-decoration-color: #008000\">'labels'</span>: <span style=\"font-weight: bold\">[{</span><span style=\"color: #008000; text-decoration-color: #008000\">'category'</span>: <span style=\"color: #008000; text-decoration-color: #008000\">'traffic sign'</span>, <span style=\"color: #008000; text-decoration-color: #008000\">'attributes'</span>: <span style=\"font-weight: bold\">{</span><span style=\"color: #008000; text-decoration-color: #008000\">'occluded'</span>: <span style=\"color: #ff0000; text-decoration-color: #ff0000; font-style: italic\">False</span>, \n",
       "<span style=\"color: #008000; text-decoration-color: #008000\">'truncated'</span>: <span style=\"color: #ff0000; text-decoration-color: #ff0000; font-style: italic\">False</span>, <span style=\"color: #008000; text-decoration-color: #008000\">'trafficLightColor'</span>: <span style=\"color: #008000; text-decoration-color: #008000\">'none'</span><span style=\"font-weight: bold\">}</span>, <span style=\"color: #008000; text-decoration-color: #008000\">'manualShape'</span>: <span style=\"color: #00ff00; text-decoration-color: #00ff00; font-style: italic\">True</span>, <span style=\"color: #008000; text-decoration-color: #008000\">'manualAttributes'</span>: <span style=\"color: #00ff00; text-decoration-color: #00ff00; font-style: italic\">True</span>, <span style=\"color: #008000; text-decoration-color: #008000\">'box2d'</span>: <span style=\"font-weight: bold\">{</span><span style=\"color: #008000; text-decoration-color: #008000\">'x1'</span>: \n",
       "<span style=\"color: #008080; text-decoration-color: #008080; font-weight: bold\">1000.698742</span>, <span style=\"color: #008000; text-decoration-color: #008000\">'y1'</span>: <span style=\"color: #008080; text-decoration-color: #008080; font-weight: bold\">281.992415</span>, <span style=\"color: #008000; text-decoration-color: #008000\">'x2'</span>: <span style=\"color: #008080; text-decoration-color: #008080; font-weight: bold\">1040.626872</span>, <span style=\"color: #008000; text-decoration-color: #008000\">'y2'</span>: <span style=\"color: #008080; text-decoration-color: #008080; font-weight: bold\">326.91156</span><span style=\"font-weight: bold\">}</span>, <span style=\"color: #008000; text-decoration-color: #008000\">'id'</span>: <span style=\"color: #008080; text-decoration-color: #008080; font-weight: bold\">0</span><span style=\"font-weight: bold\">}</span>, <span style=\"font-weight: bold\">{</span><span style=\"color: #008000; text-decoration-color: #008000\">'category'</span>: <span style=\"color: #008000; text-decoration-color: #008000\">'traffic sign'</span>, \n",
       "<span style=\"color: #008000; text-decoration-color: #008000\">'attributes'</span>: <span style=\"font-weight: bold\">{</span><span style=\"color: #008000; text-decoration-color: #008000\">'occluded'</span>: <span style=\"color: #ff0000; text-decoration-color: #ff0000; font-style: italic\">False</span>, <span style=\"color: #008000; text-decoration-color: #008000\">'truncated'</span>: <span style=\"color: #ff0000; text-decoration-color: #ff0000; font-style: italic\">False</span>, <span style=\"color: #008000; text-decoration-color: #008000\">'trafficLightColor'</span>: <span style=\"color: #008000; text-decoration-color: #008000\">'none'</span><span style=\"font-weight: bold\">}</span>, <span style=\"color: #008000; text-decoration-color: #008000\">'manualShape'</span>: <span style=\"color: #00ff00; text-decoration-color: #00ff00; font-style: italic\">True</span>, \n",
       "<span style=\"color: #008000; text-decoration-color: #008000\">'manualAttributes'</span>: <span style=\"color: #00ff00; text-decoration-color: #00ff00; font-style: italic\">True</span>, <span style=\"color: #008000; text-decoration-color: #008000\">'box2d'</span>: <span style=\"font-weight: bold\">{</span><span style=\"color: #008000; text-decoration-color: #008000\">'x1'</span>: <span style=\"color: #008080; text-decoration-color: #008080; font-weight: bold\">214.613695</span>, <span style=\"color: #008000; text-decoration-color: #008000\">'y1'</span>: <span style=\"color: #008080; text-decoration-color: #008080; font-weight: bold\">172.190058</span>, <span style=\"color: #008000; text-decoration-color: #008000\">'x2'</span>: <span style=\"color: #008080; text-decoration-color: #008080; font-weight: bold\">274.505889</span>, <span style=\"color: #008000; text-decoration-color: #008000\">'y2'</span>: <span style=\"color: #008080; text-decoration-color: #008080; font-weight: bold\">229.586743</span><span style=\"font-weight: bold\">}</span>, <span style=\"color: #008000; text-decoration-color: #008000\">'id'</span>: \n",
       "<span style=\"color: #008080; text-decoration-color: #008080; font-weight: bold\">1</span><span style=\"font-weight: bold\">}</span>, <span style=\"font-weight: bold\">{</span><span style=\"color: #008000; text-decoration-color: #008000\">'category'</span>: <span style=\"color: #008000; text-decoration-color: #008000\">'traffic sign'</span>, <span style=\"color: #008000; text-decoration-color: #008000\">'attributes'</span>: <span style=\"font-weight: bold\">{</span><span style=\"color: #008000; text-decoration-color: #008000\">'occluded'</span>: <span style=\"color: #ff0000; text-decoration-color: #ff0000; font-style: italic\">False</span>, <span style=\"color: #008000; text-decoration-color: #008000\">'truncated'</span>: <span style=\"color: #ff0000; text-decoration-color: #ff0000; font-style: italic\">False</span>, <span style=\"color: #008000; text-decoration-color: #008000\">'trafficLightColor'</span>: \n",
       "<span style=\"color: #008000; text-decoration-color: #008000\">'none'</span><span style=\"font-weight: bold\">}</span>, <span style=\"color: #008000; text-decoration-color: #008000\">'manualShape'</span>: <span style=\"color: #00ff00; text-decoration-color: #00ff00; font-style: italic\">True</span>, <span style=\"color: #008000; text-decoration-color: #008000\">'manualAttributes'</span>: <span style=\"color: #00ff00; text-decoration-color: #00ff00; font-style: italic\">True</span>, <span style=\"color: #008000; text-decoration-color: #008000\">'box2d'</span>: <span style=\"font-weight: bold\">{</span><span style=\"color: #008000; text-decoration-color: #008000\">'x1'</span>: <span style=\"color: #008080; text-decoration-color: #008080; font-weight: bold\">797.314833</span>, <span style=\"color: #008000; text-decoration-color: #008000\">'y1'</span>: <span style=\"color: #008080; text-decoration-color: #008080; font-weight: bold\">313.186265</span>, <span style=\"color: #008000; text-decoration-color: #008000\">'x2'</span>: \n",
       "<span style=\"color: #008080; text-decoration-color: #008080; font-weight: bold\">829.756437</span>, <span style=\"color: #008000; text-decoration-color: #008000\">'y2'</span>: <span style=\"color: #008080; text-decoration-color: #008080; font-weight: bold\">341.884608</span><span style=\"font-weight: bold\">}</span>, <span style=\"color: #008000; text-decoration-color: #008000\">'id'</span>: <span style=\"color: #008080; text-decoration-color: #008080; font-weight: bold\">2</span><span style=\"font-weight: bold\">}</span>, <span style=\"font-weight: bold\">{</span><span style=\"color: #008000; text-decoration-color: #008000\">'category'</span>: <span style=\"color: #008000; text-decoration-color: #008000\">'traffic sign'</span>, <span style=\"color: #008000; text-decoration-color: #008000\">'attributes'</span>: <span style=\"font-weight: bold\">{</span><span style=\"color: #008000; text-decoration-color: #008000\">'occluded'</span>: <span style=\"color: #ff0000; text-decoration-color: #ff0000; font-style: italic\">False</span>, \n",
       "<span style=\"color: #008000; text-decoration-color: #008000\">'truncated'</span>: <span style=\"color: #ff0000; text-decoration-color: #ff0000; font-style: italic\">False</span>, <span style=\"color: #008000; text-decoration-color: #008000\">'trafficLightColor'</span>: <span style=\"color: #008000; text-decoration-color: #008000\">'none'</span><span style=\"font-weight: bold\">}</span>, <span style=\"color: #008000; text-decoration-color: #008000\">'manualShape'</span>: <span style=\"color: #00ff00; text-decoration-color: #00ff00; font-style: italic\">True</span>, <span style=\"color: #008000; text-decoration-color: #008000\">'manualAttributes'</span>: <span style=\"color: #00ff00; text-decoration-color: #00ff00; font-style: italic\">True</span>, <span style=\"color: #008000; text-decoration-color: #008000\">'box2d'</span>: <span style=\"font-weight: bold\">{</span><span style=\"color: #008000; text-decoration-color: #008000\">'x1'</span>: \n",
       "<span style=\"color: #008080; text-decoration-color: #008080; font-weight: bold\">652.575363</span>, <span style=\"color: #008000; text-decoration-color: #008000\">'y1'</span>: <span style=\"color: #008080; text-decoration-color: #008080; font-weight: bold\">303.204232</span>, <span style=\"color: #008000; text-decoration-color: #008000\">'x2'</span>: <span style=\"color: #008080; text-decoration-color: #008080; font-weight: bold\">685.016968</span>, <span style=\"color: #008000; text-decoration-color: #008000\">'y2'</span>: <span style=\"color: #008080; text-decoration-color: #008080; font-weight: bold\">315.681772</span><span style=\"font-weight: bold\">}</span>, <span style=\"color: #008000; text-decoration-color: #008000\">'id'</span>: <span style=\"color: #008080; text-decoration-color: #008080; font-weight: bold\">3</span><span style=\"font-weight: bold\">}</span>, <span style=\"font-weight: bold\">{</span><span style=\"color: #008000; text-decoration-color: #008000\">'category'</span>: <span style=\"color: #008000; text-decoration-color: #008000\">'traffic light'</span>, \n",
       "<span style=\"color: #008000; text-decoration-color: #008000\">'attributes'</span>: <span style=\"font-weight: bold\">{</span><span style=\"color: #008000; text-decoration-color: #008000\">'occluded'</span>: <span style=\"color: #ff0000; text-decoration-color: #ff0000; font-style: italic\">False</span>, <span style=\"color: #008000; text-decoration-color: #008000\">'truncated'</span>: <span style=\"color: #ff0000; text-decoration-color: #ff0000; font-style: italic\">False</span>, <span style=\"color: #008000; text-decoration-color: #008000\">'trafficLightColor'</span>: <span style=\"color: #008000; text-decoration-color: #008000\">'green'</span><span style=\"font-weight: bold\">}</span>, <span style=\"color: #008000; text-decoration-color: #008000\">'manualShape'</span>: <span style=\"color: #00ff00; text-decoration-color: #00ff00; font-style: italic\">True</span>, \n",
       "<span style=\"color: #008000; text-decoration-color: #008000\">'manualAttributes'</span>: <span style=\"color: #00ff00; text-decoration-color: #00ff00; font-style: italic\">True</span>, <span style=\"color: #008000; text-decoration-color: #008000\">'box2d'</span>: <span style=\"font-weight: bold\">{</span><span style=\"color: #008000; text-decoration-color: #008000\">'x1'</span>: <span style=\"color: #008080; text-decoration-color: #008080; font-weight: bold\">707.476543</span>, <span style=\"color: #008000; text-decoration-color: #008000\">'y1'</span>: <span style=\"color: #008080; text-decoration-color: #008080; font-weight: bold\">311.93851</span>, <span style=\"color: #008000; text-decoration-color: #008000\">'x2'</span>: <span style=\"color: #008080; text-decoration-color: #008080; font-weight: bold\">716.210821</span>, <span style=\"color: #008000; text-decoration-color: #008000\">'y2'</span>: <span style=\"color: #008080; text-decoration-color: #008080; font-weight: bold\">328.159313</span><span style=\"font-weight: bold\">}</span>, <span style=\"color: #008000; text-decoration-color: #008000\">'id'</span>: \n",
       "<span style=\"color: #008080; text-decoration-color: #008080; font-weight: bold\">4</span><span style=\"font-weight: bold\">}</span>, <span style=\"font-weight: bold\">{</span><span style=\"color: #008000; text-decoration-color: #008000\">'category'</span>: <span style=\"color: #008000; text-decoration-color: #008000\">'traffic light'</span>, <span style=\"color: #008000; text-decoration-color: #008000\">'attributes'</span>: <span style=\"font-weight: bold\">{</span><span style=\"color: #008000; text-decoration-color: #008000\">'occluded'</span>: <span style=\"color: #ff0000; text-decoration-color: #ff0000; font-style: italic\">False</span>, <span style=\"color: #008000; text-decoration-color: #008000\">'truncated'</span>: <span style=\"color: #ff0000; text-decoration-color: #ff0000; font-style: italic\">False</span>, <span style=\"color: #008000; text-decoration-color: #008000\">'trafficLightColor'</span>: \n",
       "<span style=\"color: #008000; text-decoration-color: #008000\">'green'</span><span style=\"font-weight: bold\">}</span>, <span style=\"color: #008000; text-decoration-color: #008000\">'manualShape'</span>: <span style=\"color: #00ff00; text-decoration-color: #00ff00; font-style: italic\">True</span>, <span style=\"color: #008000; text-decoration-color: #008000\">'manualAttributes'</span>: <span style=\"color: #00ff00; text-decoration-color: #00ff00; font-style: italic\">True</span>, <span style=\"color: #008000; text-decoration-color: #008000\">'box2d'</span>: <span style=\"font-weight: bold\">{</span><span style=\"color: #008000; text-decoration-color: #008000\">'x1'</span>: <span style=\"color: #008080; text-decoration-color: #008080; font-weight: bold\">626.37253</span>, <span style=\"color: #008000; text-decoration-color: #008000\">'y1'</span>: <span style=\"color: #008080; text-decoration-color: #008080; font-weight: bold\">295.717708</span>, <span style=\"color: #008000; text-decoration-color: #008000\">'x2'</span>: \n",
       "<span style=\"color: #008080; text-decoration-color: #008080; font-weight: bold\">636.354562</span>, <span style=\"color: #008000; text-decoration-color: #008000\">'y2'</span>: <span style=\"color: #008080; text-decoration-color: #008080; font-weight: bold\">316.929527</span><span style=\"font-weight: bold\">}</span>, <span style=\"color: #008000; text-decoration-color: #008000\">'id'</span>: <span style=\"color: #008080; text-decoration-color: #008080; font-weight: bold\">5</span><span style=\"font-weight: bold\">}</span>, <span style=\"font-weight: bold\">{</span><span style=\"color: #008000; text-decoration-color: #008000\">'category'</span>: <span style=\"color: #008000; text-decoration-color: #008000\">'traffic light'</span>, <span style=\"color: #008000; text-decoration-color: #008000\">'attributes'</span>: <span style=\"font-weight: bold\">{</span><span style=\"color: #008000; text-decoration-color: #008000\">'occluded'</span>: <span style=\"color: #ff0000; text-decoration-color: #ff0000; font-style: italic\">False</span>, \n",
       "<span style=\"color: #008000; text-decoration-color: #008000\">'truncated'</span>: <span style=\"color: #ff0000; text-decoration-color: #ff0000; font-style: italic\">False</span>, <span style=\"color: #008000; text-decoration-color: #008000\">'trafficLightColor'</span>: <span style=\"color: #008000; text-decoration-color: #008000\">'none'</span><span style=\"font-weight: bold\">}</span>, <span style=\"color: #008000; text-decoration-color: #008000\">'manualShape'</span>: <span style=\"color: #00ff00; text-decoration-color: #00ff00; font-style: italic\">True</span>, <span style=\"color: #008000; text-decoration-color: #008000\">'manualAttributes'</span>: <span style=\"color: #00ff00; text-decoration-color: #00ff00; font-style: italic\">True</span>, <span style=\"color: #008000; text-decoration-color: #008000\">'box2d'</span>: <span style=\"font-weight: bold\">{</span><span style=\"color: #008000; text-decoration-color: #008000\">'x1'</span>: \n",
       "<span style=\"color: #008080; text-decoration-color: #008080; font-weight: bold\">316.929527</span>, <span style=\"color: #008000; text-decoration-color: #008000\">'y1'</span>: <span style=\"color: #008080; text-decoration-color: #008080; font-weight: bold\">289.478938</span>, <span style=\"color: #008000; text-decoration-color: #008000\">'x2'</span>: <span style=\"color: #008080; text-decoration-color: #008080; font-weight: bold\">329.407067</span>, <span style=\"color: #008000; text-decoration-color: #008000\">'y2'</span>: <span style=\"color: #008080; text-decoration-color: #008080; font-weight: bold\">306.947495</span><span style=\"font-weight: bold\">}</span>, <span style=\"color: #008000; text-decoration-color: #008000\">'id'</span>: <span style=\"color: #008080; text-decoration-color: #008080; font-weight: bold\">6</span><span style=\"font-weight: bold\">}</span>, <span style=\"font-weight: bold\">{</span><span style=\"color: #008000; text-decoration-color: #008000\">'category'</span>: <span style=\"color: #008000; text-decoration-color: #008000\">'traffic sign'</span>, \n",
       "<span style=\"color: #008000; text-decoration-color: #008000\">'attributes'</span>: <span style=\"font-weight: bold\">{</span><span style=\"color: #008000; text-decoration-color: #008000\">'occluded'</span>: <span style=\"color: #ff0000; text-decoration-color: #ff0000; font-style: italic\">False</span>, <span style=\"color: #008000; text-decoration-color: #008000\">'truncated'</span>: <span style=\"color: #ff0000; text-decoration-color: #ff0000; font-style: italic\">False</span>, <span style=\"color: #008000; text-decoration-color: #008000\">'trafficLightColor'</span>: <span style=\"color: #008000; text-decoration-color: #008000\">'none'</span><span style=\"font-weight: bold\">}</span>, <span style=\"color: #008000; text-decoration-color: #008000\">'manualShape'</span>: <span style=\"color: #00ff00; text-decoration-color: #00ff00; font-style: italic\">True</span>, \n",
       "<span style=\"color: #008000; text-decoration-color: #008000\">'manualAttributes'</span>: <span style=\"color: #00ff00; text-decoration-color: #00ff00; font-style: italic\">True</span>, <span style=\"color: #008000; text-decoration-color: #008000\">'box2d'</span>: <span style=\"font-weight: bold\">{</span><span style=\"color: #008000; text-decoration-color: #008000\">'x1'</span>: <span style=\"color: #008080; text-decoration-color: #008080; font-weight: bold\">270.762627</span>, <span style=\"color: #008000; text-decoration-color: #008000\">'y1'</span>: <span style=\"color: #008080; text-decoration-color: #008080; font-weight: bold\">288.231184</span>, <span style=\"color: #008000; text-decoration-color: #008000\">'x2'</span>: <span style=\"color: #008080; text-decoration-color: #008080; font-weight: bold\">309.443003</span>, <span style=\"color: #008000; text-decoration-color: #008000\">'y2'</span>: <span style=\"color: #008080; text-decoration-color: #008080; font-weight: bold\">301.956478</span><span style=\"font-weight: bold\">}</span>, <span style=\"color: #008000; text-decoration-color: #008000\">'id'</span>: \n",
       "<span style=\"color: #008080; text-decoration-color: #008080; font-weight: bold\">7</span><span style=\"font-weight: bold\">}</span>, <span style=\"font-weight: bold\">{</span><span style=\"color: #008000; text-decoration-color: #008000\">'category'</span>: <span style=\"color: #008000; text-decoration-color: #008000\">'traffic sign'</span>, <span style=\"color: #008000; text-decoration-color: #008000\">'attributes'</span>: <span style=\"font-weight: bold\">{</span><span style=\"color: #008000; text-decoration-color: #008000\">'occluded'</span>: <span style=\"color: #00ff00; text-decoration-color: #00ff00; font-style: italic\">True</span>, <span style=\"color: #008000; text-decoration-color: #008000\">'truncated'</span>: <span style=\"color: #ff0000; text-decoration-color: #ff0000; font-style: italic\">False</span>, <span style=\"color: #008000; text-decoration-color: #008000\">'trafficLightColor'</span>: <span style=\"color: #008000; text-decoration-color: #008000\">'none'</span><span style=\"font-weight: bold\">}</span>,\n",
       "<span style=\"color: #008000; text-decoration-color: #008000\">'manualShape'</span>: <span style=\"color: #00ff00; text-decoration-color: #00ff00; font-style: italic\">True</span>, <span style=\"color: #008000; text-decoration-color: #008000\">'manualAttributes'</span>: <span style=\"color: #00ff00; text-decoration-color: #00ff00; font-style: italic\">True</span>, <span style=\"color: #008000; text-decoration-color: #008000\">'box2d'</span>: <span style=\"font-weight: bold\">{</span><span style=\"color: #008000; text-decoration-color: #008000\">'x1'</span>: <span style=\"color: #008080; text-decoration-color: #008080; font-weight: bold\">220.852466</span>, <span style=\"color: #008000; text-decoration-color: #008000\">'y1'</span>: <span style=\"color: #008080; text-decoration-color: #008080; font-weight: bold\">300.708724</span>, <span style=\"color: #008000; text-decoration-color: #008000\">'x2'</span>: <span style=\"color: #008080; text-decoration-color: #008080; font-weight: bold\">232.082252</span>, \n",
       "<span style=\"color: #008000; text-decoration-color: #008000\">'y2'</span>: <span style=\"color: #008080; text-decoration-color: #008080; font-weight: bold\">311.938512</span><span style=\"font-weight: bold\">}</span>, <span style=\"color: #008000; text-decoration-color: #008000\">'id'</span>: <span style=\"color: #008080; text-decoration-color: #008080; font-weight: bold\">8</span><span style=\"font-weight: bold\">}</span>, <span style=\"font-weight: bold\">{</span><span style=\"color: #008000; text-decoration-color: #008000\">'category'</span>: <span style=\"color: #008000; text-decoration-color: #008000\">'car'</span>, <span style=\"color: #008000; text-decoration-color: #008000\">'attributes'</span>: <span style=\"font-weight: bold\">{</span><span style=\"color: #008000; text-decoration-color: #008000\">'occluded'</span>: <span style=\"color: #00ff00; text-decoration-color: #00ff00; font-style: italic\">True</span>, <span style=\"color: #008000; text-decoration-color: #008000\">'truncated'</span>: <span style=\"color: #ff0000; text-decoration-color: #ff0000; font-style: italic\">False</span>, \n",
       "<span style=\"color: #008000; text-decoration-color: #008000\">'trafficLightColor'</span>: <span style=\"color: #008000; text-decoration-color: #008000\">'none'</span><span style=\"font-weight: bold\">}</span>, <span style=\"color: #008000; text-decoration-color: #008000\">'manualShape'</span>: <span style=\"color: #00ff00; text-decoration-color: #00ff00; font-style: italic\">True</span>, <span style=\"color: #008000; text-decoration-color: #008000\">'manualAttributes'</span>: <span style=\"color: #00ff00; text-decoration-color: #00ff00; font-style: italic\">True</span>, <span style=\"color: #008000; text-decoration-color: #008000\">'box2d'</span>: <span style=\"font-weight: bold\">{</span><span style=\"color: #008000; text-decoration-color: #008000\">'x1'</span>: <span style=\"color: #008080; text-decoration-color: #008080; font-weight: bold\">205.879417</span>, <span style=\"color: #008000; text-decoration-color: #008000\">'y1'</span>: \n",
       "<span style=\"color: #008080; text-decoration-color: #008080; font-weight: bold\">338.141346</span>, <span style=\"color: #008000; text-decoration-color: #008000\">'x2'</span>: <span style=\"color: #008080; text-decoration-color: #008080; font-weight: bold\">281.992413</span>, <span style=\"color: #008000; text-decoration-color: #008000\">'y2'</span>: <span style=\"color: #008080; text-decoration-color: #008080; font-weight: bold\">388.051507</span><span style=\"font-weight: bold\">}</span>, <span style=\"color: #008000; text-decoration-color: #008000\">'id'</span>: <span style=\"color: #008080; text-decoration-color: #008080; font-weight: bold\">9</span><span style=\"font-weight: bold\">}</span>, <span style=\"font-weight: bold\">{</span><span style=\"color: #008000; text-decoration-color: #008000\">'category'</span>: <span style=\"color: #008000; text-decoration-color: #008000\">'car'</span>, <span style=\"color: #008000; text-decoration-color: #008000\">'attributes'</span>: <span style=\"font-weight: bold\">{</span><span style=\"color: #008000; text-decoration-color: #008000\">'occluded'</span>: <span style=\"color: #00ff00; text-decoration-color: #00ff00; font-style: italic\">True</span>, \n",
       "<span style=\"color: #008000; text-decoration-color: #008000\">'truncated'</span>: <span style=\"color: #ff0000; text-decoration-color: #ff0000; font-style: italic\">False</span>, <span style=\"color: #008000; text-decoration-color: #008000\">'trafficLightColor'</span>: <span style=\"color: #008000; text-decoration-color: #008000\">'none'</span><span style=\"font-weight: bold\">}</span>, <span style=\"color: #008000; text-decoration-color: #008000\">'manualShape'</span>: <span style=\"color: #00ff00; text-decoration-color: #00ff00; font-style: italic\">True</span>, <span style=\"color: #008000; text-decoration-color: #008000\">'manualAttributes'</span>: <span style=\"color: #00ff00; text-decoration-color: #00ff00; font-style: italic\">True</span>, <span style=\"color: #008000; text-decoration-color: #008000\">'box2d'</span>: <span style=\"font-weight: bold\">{</span><span style=\"color: #008000; text-decoration-color: #008000\">'x1'</span>: \n",
       "<span style=\"color: #008080; text-decoration-color: #008080; font-weight: bold\">47.414654</span>, <span style=\"color: #008000; text-decoration-color: #008000\">'y1'</span>: <span style=\"color: #008080; text-decoration-color: #008080; font-weight: bold\">344.380116</span>, <span style=\"color: #008000; text-decoration-color: #008000\">'x2'</span>: <span style=\"color: #008080; text-decoration-color: #008080; font-weight: bold\">129.76642</span>, <span style=\"color: #008000; text-decoration-color: #008000\">'y2'</span>: <span style=\"color: #008080; text-decoration-color: #008080; font-weight: bold\">400.529049</span><span style=\"font-weight: bold\">}</span>, <span style=\"color: #008000; text-decoration-color: #008000\">'id'</span>: <span style=\"color: #008080; text-decoration-color: #008080; font-weight: bold\">10</span><span style=\"font-weight: bold\">}</span>, <span style=\"font-weight: bold\">{</span><span style=\"color: #008000; text-decoration-color: #008000\">'category'</span>: <span style=\"color: #008000; text-decoration-color: #008000\">'car'</span>, <span style=\"color: #008000; text-decoration-color: #008000\">'attributes'</span>: \n",
       "<span style=\"font-weight: bold\">{</span><span style=\"color: #008000; text-decoration-color: #008000\">'occluded'</span>: <span style=\"color: #00ff00; text-decoration-color: #00ff00; font-style: italic\">True</span>, <span style=\"color: #008000; text-decoration-color: #008000\">'truncated'</span>: <span style=\"color: #ff0000; text-decoration-color: #ff0000; font-style: italic\">False</span>, <span style=\"color: #008000; text-decoration-color: #008000\">'trafficLightColor'</span>: <span style=\"color: #008000; text-decoration-color: #008000\">'none'</span><span style=\"font-weight: bold\">}</span>, <span style=\"color: #008000; text-decoration-color: #008000\">'manualShape'</span>: <span style=\"color: #00ff00; text-decoration-color: #00ff00; font-style: italic\">True</span>, <span style=\"color: #008000; text-decoration-color: #008000\">'manualAttributes'</span>: <span style=\"color: #00ff00; text-decoration-color: #00ff00; font-style: italic\">True</span>,\n",
       "<span style=\"color: #008000; text-decoration-color: #008000\">'box2d'</span>: <span style=\"font-weight: bold\">{</span><span style=\"color: #008000; text-decoration-color: #008000\">'x1'</span>: <span style=\"color: #008080; text-decoration-color: #008080; font-weight: bold\">247.0553</span>, <span style=\"color: #008000; text-decoration-color: #008000\">'y1'</span>: <span style=\"color: #008080; text-decoration-color: #008080; font-weight: bold\">344.380116</span>, <span style=\"color: #008000; text-decoration-color: #008000\">'x2'</span>: <span style=\"color: #008080; text-decoration-color: #008080; font-weight: bold\">346.875624</span>, <span style=\"color: #008000; text-decoration-color: #008000\">'y2'</span>: <span style=\"color: #008080; text-decoration-color: #008080; font-weight: bold\">395.538032</span><span style=\"font-weight: bold\">}</span>, <span style=\"color: #008000; text-decoration-color: #008000\">'id'</span>: <span style=\"color: #008080; text-decoration-color: #008080; font-weight: bold\">11</span><span style=\"font-weight: bold\">}</span>, <span style=\"font-weight: bold\">{</span><span style=\"color: #008000; text-decoration-color: #008000\">'category'</span>: <span style=\"color: #008000; text-decoration-color: #008000\">'car'</span>, \n",
       "<span style=\"color: #008000; text-decoration-color: #008000\">'attributes'</span>: <span style=\"font-weight: bold\">{</span><span style=\"color: #008000; text-decoration-color: #008000\">'occluded'</span>: <span style=\"color: #ff0000; text-decoration-color: #ff0000; font-style: italic\">False</span>, <span style=\"color: #008000; text-decoration-color: #008000\">'truncated'</span>: <span style=\"color: #00ff00; text-decoration-color: #00ff00; font-style: italic\">True</span>, <span style=\"color: #008000; text-decoration-color: #008000\">'trafficLightColor'</span>: <span style=\"color: #008000; text-decoration-color: #008000\">'none'</span><span style=\"font-weight: bold\">}</span>, <span style=\"color: #008000; text-decoration-color: #008000\">'manualShape'</span>: <span style=\"color: #00ff00; text-decoration-color: #00ff00; font-style: italic\">True</span>, \n",
       "<span style=\"color: #008000; text-decoration-color: #008000\">'manualAttributes'</span>: <span style=\"color: #00ff00; text-decoration-color: #00ff00; font-style: italic\">True</span>, <span style=\"color: #008000; text-decoration-color: #008000\">'box2d'</span>: <span style=\"font-weight: bold\">{</span><span style=\"color: #008000; text-decoration-color: #008000\">'x1'</span>: <span style=\"color: #008080; text-decoration-color: #008080; font-weight: bold\">0</span>, <span style=\"color: #008000; text-decoration-color: #008000\">'y1'</span>: <span style=\"color: #008080; text-decoration-color: #008080; font-weight: bold\">336.893592</span>, <span style=\"color: #008000; text-decoration-color: #008000\">'x2'</span>: <span style=\"color: #008080; text-decoration-color: #008080; font-weight: bold\">52.40567</span>, <span style=\"color: #008000; text-decoration-color: #008000\">'y2'</span>: <span style=\"color: #008080; text-decoration-color: #008080; font-weight: bold\">403.024556</span><span style=\"font-weight: bold\">}</span>, <span style=\"color: #008000; text-decoration-color: #008000\">'id'</span>: <span style=\"color: #008080; text-decoration-color: #008080; font-weight: bold\">12</span><span style=\"font-weight: bold\">}</span>, \n",
       "<span style=\"font-weight: bold\">{</span><span style=\"color: #008000; text-decoration-color: #008000\">'category'</span>: <span style=\"color: #008000; text-decoration-color: #008000\">'rider'</span>, <span style=\"color: #008000; text-decoration-color: #008000\">'attributes'</span>: <span style=\"font-weight: bold\">{</span><span style=\"color: #008000; text-decoration-color: #008000\">'occluded'</span>: <span style=\"color: #00ff00; text-decoration-color: #00ff00; font-style: italic\">True</span>, <span style=\"color: #008000; text-decoration-color: #008000\">'truncated'</span>: <span style=\"color: #ff0000; text-decoration-color: #ff0000; font-style: italic\">False</span>, <span style=\"color: #008000; text-decoration-color: #008000\">'trafficLightColor'</span>: <span style=\"color: #008000; text-decoration-color: #008000\">'none'</span><span style=\"font-weight: bold\">}</span>, \n",
       "<span style=\"color: #008000; text-decoration-color: #008000\">'manualShape'</span>: <span style=\"color: #00ff00; text-decoration-color: #00ff00; font-style: italic\">True</span>, <span style=\"color: #008000; text-decoration-color: #008000\">'manualAttributes'</span>: <span style=\"color: #00ff00; text-decoration-color: #00ff00; font-style: italic\">True</span>, <span style=\"color: #008000; text-decoration-color: #008000\">'box2d'</span>: <span style=\"font-weight: bold\">{</span><span style=\"color: #008000; text-decoration-color: #008000\">'x1'</span>: <span style=\"color: #008080; text-decoration-color: #008080; font-weight: bold\">650.079856</span>, <span style=\"color: #008000; text-decoration-color: #008000\">'y1'</span>: <span style=\"color: #008080; text-decoration-color: #008080; font-weight: bold\">354.362148</span>, <span style=\"color: #008000; text-decoration-color: #008000\">'x2'</span>: <span style=\"color: #008080; text-decoration-color: #008080; font-weight: bold\">663.805151</span>, \n",
       "<span style=\"color: #008000; text-decoration-color: #008000\">'y2'</span>: <span style=\"color: #008080; text-decoration-color: #008080; font-weight: bold\">381.812737</span><span style=\"font-weight: bold\">}</span>, <span style=\"color: #008000; text-decoration-color: #008000\">'id'</span>: <span style=\"color: #008080; text-decoration-color: #008080; font-weight: bold\">13</span><span style=\"font-weight: bold\">}</span>, <span style=\"font-weight: bold\">{</span><span style=\"color: #008000; text-decoration-color: #008000\">'category'</span>: <span style=\"color: #008000; text-decoration-color: #008000\">'motor'</span>, <span style=\"color: #008000; text-decoration-color: #008000\">'attributes'</span>: <span style=\"font-weight: bold\">{</span><span style=\"color: #008000; text-decoration-color: #008000\">'occluded'</span>: <span style=\"color: #00ff00; text-decoration-color: #00ff00; font-style: italic\">True</span>, <span style=\"color: #008000; text-decoration-color: #008000\">'truncated'</span>: <span style=\"color: #ff0000; text-decoration-color: #ff0000; font-style: italic\">False</span>, \n",
       "<span style=\"color: #008000; text-decoration-color: #008000\">'trafficLightColor'</span>: <span style=\"color: #008000; text-decoration-color: #008000\">'none'</span><span style=\"font-weight: bold\">}</span>, <span style=\"color: #008000; text-decoration-color: #008000\">'manualShape'</span>: <span style=\"color: #00ff00; text-decoration-color: #00ff00; font-style: italic\">True</span>, <span style=\"color: #008000; text-decoration-color: #008000\">'manualAttributes'</span>: <span style=\"color: #00ff00; text-decoration-color: #00ff00; font-style: italic\">True</span>, <span style=\"color: #008000; text-decoration-color: #008000\">'box2d'</span>: <span style=\"font-weight: bold\">{</span><span style=\"color: #008000; text-decoration-color: #008000\">'x1'</span>: <span style=\"color: #008080; text-decoration-color: #008080; font-weight: bold\">648.832101</span>, <span style=\"color: #008000; text-decoration-color: #008000\">'y1'</span>: \n",
       "<span style=\"color: #008080; text-decoration-color: #008080; font-weight: bold\">366.83969</span>, <span style=\"color: #008000; text-decoration-color: #008000\">'x2'</span>: <span style=\"color: #008080; text-decoration-color: #008080; font-weight: bold\">663.805151</span>, <span style=\"color: #008000; text-decoration-color: #008000\">'y2'</span>: <span style=\"color: #008080; text-decoration-color: #008080; font-weight: bold\">388.051507</span><span style=\"font-weight: bold\">}</span>, <span style=\"color: #008000; text-decoration-color: #008000\">'id'</span>: <span style=\"color: #008080; text-decoration-color: #008080; font-weight: bold\">14</span><span style=\"font-weight: bold\">}</span>, <span style=\"font-weight: bold\">{</span><span style=\"color: #008000; text-decoration-color: #008000\">'category'</span>: <span style=\"color: #008000; text-decoration-color: #008000\">'traffic light'</span>, <span style=\"color: #008000; text-decoration-color: #008000\">'attributes'</span>: <span style=\"font-weight: bold\">{</span><span style=\"color: #008000; text-decoration-color: #008000\">'occluded'</span>:\n",
       "<span style=\"color: #ff0000; text-decoration-color: #ff0000; font-style: italic\">False</span>, <span style=\"color: #008000; text-decoration-color: #008000\">'truncated'</span>: <span style=\"color: #ff0000; text-decoration-color: #ff0000; font-style: italic\">False</span>, <span style=\"color: #008000; text-decoration-color: #008000\">'trafficLightColor'</span>: <span style=\"color: #008000; text-decoration-color: #008000\">'none'</span><span style=\"font-weight: bold\">}</span>, <span style=\"color: #008000; text-decoration-color: #008000\">'manualShape'</span>: <span style=\"color: #00ff00; text-decoration-color: #00ff00; font-style: italic\">True</span>, <span style=\"color: #008000; text-decoration-color: #008000\">'manualAttributes'</span>: <span style=\"color: #00ff00; text-decoration-color: #00ff00; font-style: italic\">True</span>, <span style=\"color: #008000; text-decoration-color: #008000\">'box2d'</span>: \n",
       "<span style=\"font-weight: bold\">{</span><span style=\"color: #008000; text-decoration-color: #008000\">'x1'</span>: <span style=\"color: #008080; text-decoration-color: #008080; font-weight: bold\">712.467558</span>, <span style=\"color: #008000; text-decoration-color: #008000\">'y1'</span>: <span style=\"color: #008080; text-decoration-color: #008080; font-weight: bold\">336.893592</span>, <span style=\"color: #008000; text-decoration-color: #008000\">'x2'</span>: <span style=\"color: #008080; text-decoration-color: #008080; font-weight: bold\">726.192853</span>, <span style=\"color: #008000; text-decoration-color: #008000\">'y2'</span>: <span style=\"color: #008080; text-decoration-color: #008080; font-weight: bold\">353.114395</span><span style=\"font-weight: bold\">}</span>, <span style=\"color: #008000; text-decoration-color: #008000\">'id'</span>: <span style=\"color: #008080; text-decoration-color: #008080; font-weight: bold\">15</span><span style=\"font-weight: bold\">}</span>, <span style=\"font-weight: bold\">{</span><span style=\"color: #008000; text-decoration-color: #008000\">'category'</span>: <span style=\"color: #008000; text-decoration-color: #008000\">'car'</span>, \n",
       "<span style=\"color: #008000; text-decoration-color: #008000\">'attributes'</span>: <span style=\"font-weight: bold\">{</span><span style=\"color: #008000; text-decoration-color: #008000\">'occluded'</span>: <span style=\"color: #00ff00; text-decoration-color: #00ff00; font-style: italic\">True</span>, <span style=\"color: #008000; text-decoration-color: #008000\">'truncated'</span>: <span style=\"color: #ff0000; text-decoration-color: #ff0000; font-style: italic\">False</span>, <span style=\"color: #008000; text-decoration-color: #008000\">'trafficLightColor'</span>: <span style=\"color: #008000; text-decoration-color: #008000\">'none'</span><span style=\"font-weight: bold\">}</span>, <span style=\"color: #008000; text-decoration-color: #008000\">'manualShape'</span>: <span style=\"color: #00ff00; text-decoration-color: #00ff00; font-style: italic\">True</span>, \n",
       "<span style=\"color: #008000; text-decoration-color: #008000\">'manualAttributes'</span>: <span style=\"color: #00ff00; text-decoration-color: #00ff00; font-style: italic\">True</span>, <span style=\"color: #008000; text-decoration-color: #008000\">'box2d'</span>: <span style=\"font-weight: bold\">{</span><span style=\"color: #008000; text-decoration-color: #008000\">'x1'</span>: <span style=\"color: #008080; text-decoration-color: #008080; font-weight: bold\">683.769215</span>, <span style=\"color: #008000; text-decoration-color: #008000\">'y1'</span>: <span style=\"color: #008080; text-decoration-color: #008080; font-weight: bold\">356.857655</span>, <span style=\"color: #008000; text-decoration-color: #008000\">'x2'</span>: <span style=\"color: #008080; text-decoration-color: #008080; font-weight: bold\">721.201837</span>, <span style=\"color: #008000; text-decoration-color: #008000\">'y2'</span>: <span style=\"color: #008080; text-decoration-color: #008080; font-weight: bold\">393.042522</span><span style=\"font-weight: bold\">}</span>, <span style=\"color: #008000; text-decoration-color: #008000\">'id'</span>: \n",
       "<span style=\"color: #008080; text-decoration-color: #008080; font-weight: bold\">16</span><span style=\"font-weight: bold\">}</span>, <span style=\"font-weight: bold\">{</span><span style=\"color: #008000; text-decoration-color: #008000\">'category'</span>: <span style=\"color: #008000; text-decoration-color: #008000\">'car'</span>, <span style=\"color: #008000; text-decoration-color: #008000\">'attributes'</span>: <span style=\"font-weight: bold\">{</span><span style=\"color: #008000; text-decoration-color: #008000\">'occluded'</span>: <span style=\"color: #00ff00; text-decoration-color: #00ff00; font-style: italic\">True</span>, <span style=\"color: #008000; text-decoration-color: #008000\">'truncated'</span>: <span style=\"color: #ff0000; text-decoration-color: #ff0000; font-style: italic\">False</span>, <span style=\"color: #008000; text-decoration-color: #008000\">'trafficLightColor'</span>: <span style=\"color: #008000; text-decoration-color: #008000\">'none'</span><span style=\"font-weight: bold\">}</span>, \n",
       "<span style=\"color: #008000; text-decoration-color: #008000\">'manualShape'</span>: <span style=\"color: #00ff00; text-decoration-color: #00ff00; font-style: italic\">True</span>, <span style=\"color: #008000; text-decoration-color: #008000\">'manualAttributes'</span>: <span style=\"color: #00ff00; text-decoration-color: #00ff00; font-style: italic\">True</span>, <span style=\"color: #008000; text-decoration-color: #008000\">'box2d'</span>: <span style=\"font-weight: bold\">{</span><span style=\"color: #008000; text-decoration-color: #008000\">'x1'</span>: <span style=\"color: #008080; text-decoration-color: #008080; font-weight: bold\">706.228788</span>, <span style=\"color: #008000; text-decoration-color: #008000\">'y1'</span>: <span style=\"color: #008080; text-decoration-color: #008080; font-weight: bold\">364.344179</span>, <span style=\"color: #008000; text-decoration-color: #008000\">'x2'</span>: <span style=\"color: #008080; text-decoration-color: #008080; font-weight: bold\">733.679378</span>, \n",
       "<span style=\"color: #008000; text-decoration-color: #008000\">'y2'</span>: <span style=\"color: #008080; text-decoration-color: #008080; font-weight: bold\">390.547015</span><span style=\"font-weight: bold\">}</span>, <span style=\"color: #008000; text-decoration-color: #008000\">'id'</span>: <span style=\"color: #008080; text-decoration-color: #008080; font-weight: bold\">17</span><span style=\"font-weight: bold\">}</span>, <span style=\"font-weight: bold\">{</span><span style=\"color: #008000; text-decoration-color: #008000\">'category'</span>: <span style=\"color: #008000; text-decoration-color: #008000\">'car'</span>, <span style=\"color: #008000; text-decoration-color: #008000\">'attributes'</span>: <span style=\"font-weight: bold\">{</span><span style=\"color: #008000; text-decoration-color: #008000\">'occluded'</span>: <span style=\"color: #00ff00; text-decoration-color: #00ff00; font-style: italic\">True</span>, <span style=\"color: #008000; text-decoration-color: #008000\">'truncated'</span>: <span style=\"color: #ff0000; text-decoration-color: #ff0000; font-style: italic\">False</span>, \n",
       "<span style=\"color: #008000; text-decoration-color: #008000\">'trafficLightColor'</span>: <span style=\"color: #008000; text-decoration-color: #008000\">'none'</span><span style=\"font-weight: bold\">}</span>, <span style=\"color: #008000; text-decoration-color: #008000\">'manualShape'</span>: <span style=\"color: #00ff00; text-decoration-color: #00ff00; font-style: italic\">True</span>, <span style=\"color: #008000; text-decoration-color: #008000\">'manualAttributes'</span>: <span style=\"color: #00ff00; text-decoration-color: #00ff00; font-style: italic\">True</span>, <span style=\"color: #008000; text-decoration-color: #008000\">'box2d'</span>: <span style=\"font-weight: bold\">{</span><span style=\"color: #008000; text-decoration-color: #008000\">'x1'</span>: <span style=\"color: #008080; text-decoration-color: #008080; font-weight: bold\">727.440607</span>, <span style=\"color: #008000; text-decoration-color: #008000\">'y1'</span>: \n",
       "<span style=\"color: #008080; text-decoration-color: #008080; font-weight: bold\">365.591935</span>, <span style=\"color: #008000; text-decoration-color: #008000\">'x2'</span>: <span style=\"color: #008080; text-decoration-color: #008080; font-weight: bold\">761.129966</span>, <span style=\"color: #008000; text-decoration-color: #008000\">'y2'</span>: <span style=\"color: #008080; text-decoration-color: #008080; font-weight: bold\">400.529049</span><span style=\"font-weight: bold\">}</span>, <span style=\"color: #008000; text-decoration-color: #008000\">'id'</span>: <span style=\"color: #008080; text-decoration-color: #008080; font-weight: bold\">18</span><span style=\"font-weight: bold\">}</span>, <span style=\"font-weight: bold\">{</span><span style=\"color: #008000; text-decoration-color: #008000\">'category'</span>: <span style=\"color: #008000; text-decoration-color: #008000\">'car'</span>, <span style=\"color: #008000; text-decoration-color: #008000\">'attributes'</span>: <span style=\"font-weight: bold\">{</span><span style=\"color: #008000; text-decoration-color: #008000\">'occluded'</span>: <span style=\"color: #00ff00; text-decoration-color: #00ff00; font-style: italic\">True</span>, \n",
       "<span style=\"color: #008000; text-decoration-color: #008000\">'truncated'</span>: <span style=\"color: #ff0000; text-decoration-color: #ff0000; font-style: italic\">False</span>, <span style=\"color: #008000; text-decoration-color: #008000\">'trafficLightColor'</span>: <span style=\"color: #008000; text-decoration-color: #008000\">'none'</span><span style=\"font-weight: bold\">}</span>, <span style=\"color: #008000; text-decoration-color: #008000\">'manualShape'</span>: <span style=\"color: #00ff00; text-decoration-color: #00ff00; font-style: italic\">True</span>, <span style=\"color: #008000; text-decoration-color: #008000\">'manualAttributes'</span>: <span style=\"color: #00ff00; text-decoration-color: #00ff00; font-style: italic\">True</span>, <span style=\"color: #008000; text-decoration-color: #008000\">'box2d'</span>: <span style=\"font-weight: bold\">{</span><span style=\"color: #008000; text-decoration-color: #008000\">'x1'</span>: \n",
       "<span style=\"color: #008080; text-decoration-color: #008080; font-weight: bold\">748.652426</span>, <span style=\"color: #008000; text-decoration-color: #008000\">'y1'</span>: <span style=\"color: #008080; text-decoration-color: #008080; font-weight: bold\">361.848672</span>, <span style=\"color: #008000; text-decoration-color: #008000\">'x2'</span>: <span style=\"color: #008080; text-decoration-color: #008080; font-weight: bold\">808.54462</span>, <span style=\"color: #008000; text-decoration-color: #008000\">'y2'</span>: <span style=\"color: #008080; text-decoration-color: #008080; font-weight: bold\">409.263326</span><span style=\"font-weight: bold\">}</span>, <span style=\"color: #008000; text-decoration-color: #008000\">'id'</span>: <span style=\"color: #008080; text-decoration-color: #008080; font-weight: bold\">19</span><span style=\"font-weight: bold\">}</span>, <span style=\"font-weight: bold\">{</span><span style=\"color: #008000; text-decoration-color: #008000\">'category'</span>: <span style=\"color: #008000; text-decoration-color: #008000\">'car'</span>, <span style=\"color: #008000; text-decoration-color: #008000\">'attributes'</span>: \n",
       "<span style=\"font-weight: bold\">{</span><span style=\"color: #008000; text-decoration-color: #008000\">'occluded'</span>: <span style=\"color: #00ff00; text-decoration-color: #00ff00; font-style: italic\">True</span>, <span style=\"color: #008000; text-decoration-color: #008000\">'truncated'</span>: <span style=\"color: #ff0000; text-decoration-color: #ff0000; font-style: italic\">False</span>, <span style=\"color: #008000; text-decoration-color: #008000\">'trafficLightColor'</span>: <span style=\"color: #008000; text-decoration-color: #008000\">'none'</span><span style=\"font-weight: bold\">}</span>, <span style=\"color: #008000; text-decoration-color: #008000\">'manualShape'</span>: <span style=\"color: #00ff00; text-decoration-color: #00ff00; font-style: italic\">True</span>, <span style=\"color: #008000; text-decoration-color: #008000\">'manualAttributes'</span>: <span style=\"color: #00ff00; text-decoration-color: #00ff00; font-style: italic\">True</span>,\n",
       "<span style=\"color: #008000; text-decoration-color: #008000\">'box2d'</span>: <span style=\"font-weight: bold\">{</span><span style=\"color: #008000; text-decoration-color: #008000\">'x1'</span>: <span style=\"color: #008080; text-decoration-color: #008080; font-weight: bold\">787.332801</span>, <span style=\"color: #008000; text-decoration-color: #008000\">'y1'</span>: <span style=\"color: #008080; text-decoration-color: #008080; font-weight: bold\">358.10541</span>, <span style=\"color: #008000; text-decoration-color: #008000\">'x2'</span>: <span style=\"color: #008080; text-decoration-color: #008080; font-weight: bold\">905.869435</span>, <span style=\"color: #008000; text-decoration-color: #008000\">'y2'</span>: <span style=\"color: #008080; text-decoration-color: #008080; font-weight: bold\">425.484129</span><span style=\"font-weight: bold\">}</span>, <span style=\"color: #008000; text-decoration-color: #008000\">'id'</span>: <span style=\"color: #008080; text-decoration-color: #008080; font-weight: bold\">20</span><span style=\"font-weight: bold\">}</span>, <span style=\"font-weight: bold\">{</span><span style=\"color: #008000; text-decoration-color: #008000\">'category'</span>: <span style=\"color: #008000; text-decoration-color: #008000\">'car'</span>, \n",
       "<span style=\"color: #008000; text-decoration-color: #008000\">'attributes'</span>: <span style=\"font-weight: bold\">{</span><span style=\"color: #008000; text-decoration-color: #008000\">'occluded'</span>: <span style=\"color: #00ff00; text-decoration-color: #00ff00; font-style: italic\">True</span>, <span style=\"color: #008000; text-decoration-color: #008000\">'truncated'</span>: <span style=\"color: #ff0000; text-decoration-color: #ff0000; font-style: italic\">False</span>, <span style=\"color: #008000; text-decoration-color: #008000\">'trafficLightColor'</span>: <span style=\"color: #008000; text-decoration-color: #008000\">'none'</span><span style=\"font-weight: bold\">}</span>, <span style=\"color: #008000; text-decoration-color: #008000\">'manualShape'</span>: <span style=\"color: #00ff00; text-decoration-color: #00ff00; font-style: italic\">True</span>, \n",
       "<span style=\"color: #008000; text-decoration-color: #008000\">'manualAttributes'</span>: <span style=\"color: #00ff00; text-decoration-color: #00ff00; font-style: italic\">True</span>, <span style=\"color: #008000; text-decoration-color: #008000\">'box2d'</span>: <span style=\"font-weight: bold\">{</span><span style=\"color: #008000; text-decoration-color: #008000\">'x1'</span>: <span style=\"color: #008080; text-decoration-color: #008080; font-weight: bold\">879.6666</span>, <span style=\"color: #008000; text-decoration-color: #008000\">'y1'</span>: <span style=\"color: #008080; text-decoration-color: #008080; font-weight: bold\">375.573967</span>, <span style=\"color: #008000; text-decoration-color: #008000\">'x2'</span>: <span style=\"color: #008080; text-decoration-color: #008080; font-weight: bold\">959.522859</span>, <span style=\"color: #008000; text-decoration-color: #008000\">'y2'</span>: <span style=\"color: #008080; text-decoration-color: #008080; font-weight: bold\">451.686963</span><span style=\"font-weight: bold\">}</span>, <span style=\"color: #008000; text-decoration-color: #008000\">'id'</span>: \n",
       "<span style=\"color: #008080; text-decoration-color: #008080; font-weight: bold\">21</span><span style=\"font-weight: bold\">}</span>, <span style=\"font-weight: bold\">{</span><span style=\"color: #008000; text-decoration-color: #008000\">'category'</span>: <span style=\"color: #008000; text-decoration-color: #008000\">'car'</span>, <span style=\"color: #008000; text-decoration-color: #008000\">'attributes'</span>: <span style=\"font-weight: bold\">{</span><span style=\"color: #008000; text-decoration-color: #008000\">'occluded'</span>: <span style=\"color: #ff0000; text-decoration-color: #ff0000; font-style: italic\">False</span>, <span style=\"color: #008000; text-decoration-color: #008000\">'truncated'</span>: <span style=\"color: #ff0000; text-decoration-color: #ff0000; font-style: italic\">False</span>, <span style=\"color: #008000; text-decoration-color: #008000\">'trafficLightColor'</span>: <span style=\"color: #008000; text-decoration-color: #008000\">'none'</span><span style=\"font-weight: bold\">}</span>, \n",
       "<span style=\"color: #008000; text-decoration-color: #008000\">'manualShape'</span>: <span style=\"color: #00ff00; text-decoration-color: #00ff00; font-style: italic\">True</span>, <span style=\"color: #008000; text-decoration-color: #008000\">'manualAttributes'</span>: <span style=\"color: #00ff00; text-decoration-color: #00ff00; font-style: italic\">True</span>, <span style=\"color: #008000; text-decoration-color: #008000\">'box2d'</span>: <span style=\"font-weight: bold\">{</span><span style=\"color: #008000; text-decoration-color: #008000\">'x1'</span>: <span style=\"color: #008080; text-decoration-color: #008080; font-weight: bold\">935.815532</span>, <span style=\"color: #008000; text-decoration-color: #008000\">'y1'</span>: <span style=\"color: #008080; text-decoration-color: #008080; font-weight: bold\">335.645837</span>, <span style=\"color: #008000; text-decoration-color: #008000\">'x2'</span>: <span style=\"color: #008080; text-decoration-color: #008080; font-weight: bold\">1211.569175</span>, \n",
       "<span style=\"color: #008000; text-decoration-color: #008000\">'y2'</span>: <span style=\"color: #008080; text-decoration-color: #008080; font-weight: bold\">484.128569</span><span style=\"font-weight: bold\">}</span>, <span style=\"color: #008000; text-decoration-color: #008000\">'id'</span>: <span style=\"color: #008080; text-decoration-color: #008080; font-weight: bold\">22</span><span style=\"font-weight: bold\">}</span>, <span style=\"font-weight: bold\">{</span><span style=\"color: #008000; text-decoration-color: #008000\">'category'</span>: <span style=\"color: #008000; text-decoration-color: #008000\">'car'</span>, <span style=\"color: #008000; text-decoration-color: #008000\">'attributes'</span>: <span style=\"font-weight: bold\">{</span><span style=\"color: #008000; text-decoration-color: #008000\">'occluded'</span>: <span style=\"color: #ff0000; text-decoration-color: #ff0000; font-style: italic\">False</span>, <span style=\"color: #008000; text-decoration-color: #008000\">'truncated'</span>: <span style=\"color: #00ff00; text-decoration-color: #00ff00; font-style: italic\">True</span>, \n",
       "<span style=\"color: #008000; text-decoration-color: #008000\">'trafficLightColor'</span>: <span style=\"color: #008000; text-decoration-color: #008000\">'none'</span><span style=\"font-weight: bold\">}</span>, <span style=\"color: #008000; text-decoration-color: #008000\">'manualShape'</span>: <span style=\"color: #00ff00; text-decoration-color: #00ff00; font-style: italic\">True</span>, <span style=\"color: #008000; text-decoration-color: #008000\">'manualAttributes'</span>: <span style=\"color: #00ff00; text-decoration-color: #00ff00; font-style: italic\">True</span>, <span style=\"color: #008000; text-decoration-color: #008000\">'box2d'</span>: <span style=\"font-weight: bold\">{</span><span style=\"color: #008000; text-decoration-color: #008000\">'x1'</span>: <span style=\"color: #008080; text-decoration-color: #008080; font-weight: bold\">1204.082651</span>, <span style=\"color: #008000; text-decoration-color: #008000\">'y1'</span>: \n",
       "<span style=\"color: #008080; text-decoration-color: #008080; font-weight: bold\">415.502097</span>, <span style=\"color: #008000; text-decoration-color: #008000\">'x2'</span>: <span style=\"color: #008080; text-decoration-color: #008080; font-weight: bold\">1278.947894</span>, <span style=\"color: #008000; text-decoration-color: #008000\">'y2'</span>: <span style=\"color: #008080; text-decoration-color: #008080; font-weight: bold\">530.295469</span><span style=\"font-weight: bold\">}</span>, <span style=\"color: #008000; text-decoration-color: #008000\">'id'</span>: <span style=\"color: #008080; text-decoration-color: #008080; font-weight: bold\">23</span><span style=\"font-weight: bold\">}</span>, <span style=\"font-weight: bold\">{</span><span style=\"color: #008000; text-decoration-color: #008000\">'category'</span>: <span style=\"color: #008000; text-decoration-color: #008000\">'traffic light'</span>, <span style=\"color: #008000; text-decoration-color: #008000\">'attributes'</span>: \n",
       "<span style=\"font-weight: bold\">{</span><span style=\"color: #008000; text-decoration-color: #008000\">'occluded'</span>: <span style=\"color: #ff0000; text-decoration-color: #ff0000; font-style: italic\">False</span>, <span style=\"color: #008000; text-decoration-color: #008000\">'truncated'</span>: <span style=\"color: #ff0000; text-decoration-color: #ff0000; font-style: italic\">False</span>, <span style=\"color: #008000; text-decoration-color: #008000\">'trafficLightColor'</span>: <span style=\"color: #008000; text-decoration-color: #008000\">'green'</span><span style=\"font-weight: bold\">}</span>, <span style=\"color: #008000; text-decoration-color: #008000\">'manualShape'</span>: <span style=\"color: #00ff00; text-decoration-color: #00ff00; font-style: italic\">True</span>, <span style=\"color: #008000; text-decoration-color: #008000\">'manualAttributes'</span>: \n",
       "<span style=\"color: #00ff00; text-decoration-color: #00ff00; font-style: italic\">True</span>, <span style=\"color: #008000; text-decoration-color: #008000\">'box2d'</span>: <span style=\"font-weight: bold\">{</span><span style=\"color: #008000; text-decoration-color: #008000\">'x1'</span>: <span style=\"color: #008080; text-decoration-color: #008080; font-weight: bold\">602.665203</span>, <span style=\"color: #008000; text-decoration-color: #008000\">'y1'</span>: <span style=\"color: #008080; text-decoration-color: #008080; font-weight: bold\">340.636854</span>, <span style=\"color: #008000; text-decoration-color: #008000\">'x2'</span>: <span style=\"color: #008080; text-decoration-color: #008080; font-weight: bold\">610.151727</span>, <span style=\"color: #008000; text-decoration-color: #008000\">'y2'</span>: <span style=\"color: #008080; text-decoration-color: #008080; font-weight: bold\">353.114395</span><span style=\"font-weight: bold\">}</span>, <span style=\"color: #008000; text-decoration-color: #008000\">'id'</span>: <span style=\"color: #008080; text-decoration-color: #008080; font-weight: bold\">24</span><span style=\"font-weight: bold\">}</span>, <span style=\"font-weight: bold\">{</span><span style=\"color: #008000; text-decoration-color: #008000\">'category'</span>: \n",
       "<span style=\"color: #008000; text-decoration-color: #008000\">'traffic light'</span>, <span style=\"color: #008000; text-decoration-color: #008000\">'attributes'</span>: <span style=\"font-weight: bold\">{</span><span style=\"color: #008000; text-decoration-color: #008000\">'occluded'</span>: <span style=\"color: #ff0000; text-decoration-color: #ff0000; font-style: italic\">False</span>, <span style=\"color: #008000; text-decoration-color: #008000\">'truncated'</span>: <span style=\"color: #ff0000; text-decoration-color: #ff0000; font-style: italic\">False</span>, <span style=\"color: #008000; text-decoration-color: #008000\">'trafficLightColor'</span>: <span style=\"color: #008000; text-decoration-color: #008000\">'green'</span><span style=\"font-weight: bold\">}</span>, \n",
       "<span style=\"color: #008000; text-decoration-color: #008000\">'manualShape'</span>: <span style=\"color: #00ff00; text-decoration-color: #00ff00; font-style: italic\">True</span>, <span style=\"color: #008000; text-decoration-color: #008000\">'manualAttributes'</span>: <span style=\"color: #00ff00; text-decoration-color: #00ff00; font-style: italic\">True</span>, <span style=\"color: #008000; text-decoration-color: #008000\">'box2d'</span>: <span style=\"font-weight: bold\">{</span><span style=\"color: #008000; text-decoration-color: #008000\">'x1'</span>: <span style=\"color: #008080; text-decoration-color: #008080; font-weight: bold\">591.435416</span>, <span style=\"color: #008000; text-decoration-color: #008000\">'y1'</span>: <span style=\"color: #008080; text-decoration-color: #008080; font-weight: bold\">328.159313</span>, <span style=\"color: #008000; text-decoration-color: #008000\">'x2'</span>: <span style=\"color: #008080; text-decoration-color: #008080; font-weight: bold\">597.674186</span>, \n",
       "<span style=\"color: #008000; text-decoration-color: #008000\">'y2'</span>: <span style=\"color: #008080; text-decoration-color: #008080; font-weight: bold\">341.884608</span><span style=\"font-weight: bold\">}</span>, <span style=\"color: #008000; text-decoration-color: #008000\">'id'</span>: <span style=\"color: #008080; text-decoration-color: #008080; font-weight: bold\">25</span><span style=\"font-weight: bold\">}</span>, <span style=\"font-weight: bold\">{</span><span style=\"color: #008000; text-decoration-color: #008000\">'category'</span>: <span style=\"color: #008000; text-decoration-color: #008000\">'traffic light'</span>, <span style=\"color: #008000; text-decoration-color: #008000\">'attributes'</span>: <span style=\"font-weight: bold\">{</span><span style=\"color: #008000; text-decoration-color: #008000\">'occluded'</span>: <span style=\"color: #ff0000; text-decoration-color: #ff0000; font-style: italic\">False</span>, <span style=\"color: #008000; text-decoration-color: #008000\">'truncated'</span>: <span style=\"color: #ff0000; text-decoration-color: #ff0000; font-style: italic\">False</span>, \n",
       "<span style=\"color: #008000; text-decoration-color: #008000\">'trafficLightColor'</span>: <span style=\"color: #008000; text-decoration-color: #008000\">'green'</span><span style=\"font-weight: bold\">}</span>, <span style=\"color: #008000; text-decoration-color: #008000\">'manualShape'</span>: <span style=\"color: #00ff00; text-decoration-color: #00ff00; font-style: italic\">True</span>, <span style=\"color: #008000; text-decoration-color: #008000\">'manualAttributes'</span>: <span style=\"color: #00ff00; text-decoration-color: #00ff00; font-style: italic\">True</span>, <span style=\"color: #008000; text-decoration-color: #008000\">'box2d'</span>: <span style=\"font-weight: bold\">{</span><span style=\"color: #008000; text-decoration-color: #008000\">'x1'</span>: <span style=\"color: #008080; text-decoration-color: #008080; font-weight: bold\">529.047714</span>, <span style=\"color: #008000; text-decoration-color: #008000\">'y1'</span>: \n",
       "<span style=\"color: #008080; text-decoration-color: #008080; font-weight: bold\">331.902575</span>, <span style=\"color: #008000; text-decoration-color: #008000\">'x2'</span>: <span style=\"color: #008080; text-decoration-color: #008080; font-weight: bold\">536.534238</span>, <span style=\"color: #008000; text-decoration-color: #008000\">'y2'</span>: <span style=\"color: #008080; text-decoration-color: #008080; font-weight: bold\">341.884608</span><span style=\"font-weight: bold\">}</span>, <span style=\"color: #008000; text-decoration-color: #008000\">'id'</span>: <span style=\"color: #008080; text-decoration-color: #008080; font-weight: bold\">26</span><span style=\"font-weight: bold\">}</span>, <span style=\"font-weight: bold\">{</span><span style=\"color: #008000; text-decoration-color: #008000\">'category'</span>: <span style=\"color: #008000; text-decoration-color: #008000\">'car'</span>, <span style=\"color: #008000; text-decoration-color: #008000\">'attributes'</span>: <span style=\"font-weight: bold\">{</span><span style=\"color: #008000; text-decoration-color: #008000\">'occluded'</span>: <span style=\"color: #ff0000; text-decoration-color: #ff0000; font-style: italic\">False</span>, \n",
       "<span style=\"color: #008000; text-decoration-color: #008000\">'truncated'</span>: <span style=\"color: #ff0000; text-decoration-color: #ff0000; font-style: italic\">False</span>, <span style=\"color: #008000; text-decoration-color: #008000\">'trafficLightColor'</span>: <span style=\"color: #008000; text-decoration-color: #008000\">'none'</span><span style=\"font-weight: bold\">}</span>, <span style=\"color: #008000; text-decoration-color: #008000\">'manualShape'</span>: <span style=\"color: #00ff00; text-decoration-color: #00ff00; font-style: italic\">True</span>, <span style=\"color: #008000; text-decoration-color: #008000\">'manualAttributes'</span>: <span style=\"color: #00ff00; text-decoration-color: #00ff00; font-style: italic\">True</span>, <span style=\"color: #008000; text-decoration-color: #008000\">'box2d'</span>: <span style=\"font-weight: bold\">{</span><span style=\"color: #008000; text-decoration-color: #008000\">'x1'</span>: \n",
       "<span style=\"color: #008080; text-decoration-color: #008080; font-weight: bold\">551.507287</span>, <span style=\"color: #008000; text-decoration-color: #008000\">'y1'</span>: <span style=\"color: #008080; text-decoration-color: #008080; font-weight: bold\">355.609902</span>, <span style=\"color: #008000; text-decoration-color: #008000\">'x2'</span>: <span style=\"color: #008080; text-decoration-color: #008080; font-weight: bold\">565.232581</span>, <span style=\"color: #008000; text-decoration-color: #008000\">'y2'</span>: <span style=\"color: #008080; text-decoration-color: #008080; font-weight: bold\">368.087443</span><span style=\"font-weight: bold\">}</span>, <span style=\"color: #008000; text-decoration-color: #008000\">'id'</span>: <span style=\"color: #008080; text-decoration-color: #008080; font-weight: bold\">27</span><span style=\"font-weight: bold\">}</span>, <span style=\"font-weight: bold\">{</span><span style=\"color: #008000; text-decoration-color: #008000\">'category'</span>: <span style=\"color: #008000; text-decoration-color: #008000\">'car'</span>, <span style=\"color: #008000; text-decoration-color: #008000\">'attributes'</span>: \n",
       "<span style=\"font-weight: bold\">{</span><span style=\"color: #008000; text-decoration-color: #008000\">'occluded'</span>: <span style=\"color: #00ff00; text-decoration-color: #00ff00; font-style: italic\">True</span>, <span style=\"color: #008000; text-decoration-color: #008000\">'truncated'</span>: <span style=\"color: #ff0000; text-decoration-color: #ff0000; font-style: italic\">False</span>, <span style=\"color: #008000; text-decoration-color: #008000\">'trafficLightColor'</span>: <span style=\"color: #008000; text-decoration-color: #008000\">'none'</span><span style=\"font-weight: bold\">}</span>, <span style=\"color: #008000; text-decoration-color: #008000\">'manualShape'</span>: <span style=\"color: #00ff00; text-decoration-color: #00ff00; font-style: italic\">True</span>, <span style=\"color: #008000; text-decoration-color: #008000\">'manualAttributes'</span>: <span style=\"color: #00ff00; text-decoration-color: #00ff00; font-style: italic\">True</span>,\n",
       "<span style=\"color: #008000; text-decoration-color: #008000\">'box2d'</span>: <span style=\"font-weight: bold\">{</span><span style=\"color: #008000; text-decoration-color: #008000\">'x1'</span>: <span style=\"color: #008080; text-decoration-color: #008080; font-weight: bold\">573.966861</span>, <span style=\"color: #008000; text-decoration-color: #008000\">'y1'</span>: <span style=\"color: #008080; text-decoration-color: #008080; font-weight: bold\">351.86664</span>, <span style=\"color: #008000; text-decoration-color: #008000\">'x2'</span>: <span style=\"color: #008080; text-decoration-color: #008080; font-weight: bold\">586.444401</span>, <span style=\"color: #008000; text-decoration-color: #008000\">'y2'</span>: <span style=\"color: #008080; text-decoration-color: #008080; font-weight: bold\">369.335197</span><span style=\"font-weight: bold\">}</span>, <span style=\"color: #008000; text-decoration-color: #008000\">'id'</span>: <span style=\"color: #008080; text-decoration-color: #008080; font-weight: bold\">28</span><span style=\"font-weight: bold\">}</span>, <span style=\"font-weight: bold\">{</span><span style=\"color: #008000; text-decoration-color: #008000\">'category'</span>: <span style=\"color: #008000; text-decoration-color: #008000\">'car'</span>, \n",
       "<span style=\"color: #008000; text-decoration-color: #008000\">'attributes'</span>: <span style=\"font-weight: bold\">{</span><span style=\"color: #008000; text-decoration-color: #008000\">'occluded'</span>: <span style=\"color: #00ff00; text-decoration-color: #00ff00; font-style: italic\">True</span>, <span style=\"color: #008000; text-decoration-color: #008000\">'truncated'</span>: <span style=\"color: #ff0000; text-decoration-color: #ff0000; font-style: italic\">False</span>, <span style=\"color: #008000; text-decoration-color: #008000\">'trafficLightColor'</span>: <span style=\"color: #008000; text-decoration-color: #008000\">'none'</span><span style=\"font-weight: bold\">}</span>, <span style=\"color: #008000; text-decoration-color: #008000\">'manualShape'</span>: <span style=\"color: #00ff00; text-decoration-color: #00ff00; font-style: italic\">True</span>, \n",
       "<span style=\"color: #008000; text-decoration-color: #008000\">'manualAttributes'</span>: <span style=\"color: #00ff00; text-decoration-color: #00ff00; font-style: italic\">True</span>, <span style=\"color: #008000; text-decoration-color: #008000\">'box2d'</span>: <span style=\"font-weight: bold\">{</span><span style=\"color: #008000; text-decoration-color: #008000\">'x1'</span>: <span style=\"color: #008080; text-decoration-color: #008080; font-weight: bold\">581.453385</span>, <span style=\"color: #008000; text-decoration-color: #008000\">'y1'</span>: <span style=\"color: #008080; text-decoration-color: #008080; font-weight: bold\">356.857655</span>, <span style=\"color: #008000; text-decoration-color: #008000\">'x2'</span>: <span style=\"color: #008080; text-decoration-color: #008080; font-weight: bold\">597.674187</span>, <span style=\"color: #008000; text-decoration-color: #008000\">'y2'</span>: <span style=\"color: #008080; text-decoration-color: #008080; font-weight: bold\">378.069474</span><span style=\"font-weight: bold\">}</span>, <span style=\"color: #008000; text-decoration-color: #008000\">'id'</span>: \n",
       "<span style=\"color: #008080; text-decoration-color: #008080; font-weight: bold\">29</span><span style=\"font-weight: bold\">}</span>, <span style=\"font-weight: bold\">{</span><span style=\"color: #008000; text-decoration-color: #008000\">'category'</span>: <span style=\"color: #008000; text-decoration-color: #008000\">'car'</span>, <span style=\"color: #008000; text-decoration-color: #008000\">'attributes'</span>: <span style=\"font-weight: bold\">{</span><span style=\"color: #008000; text-decoration-color: #008000\">'occluded'</span>: <span style=\"color: #ff0000; text-decoration-color: #ff0000; font-style: italic\">False</span>, <span style=\"color: #008000; text-decoration-color: #008000\">'truncated'</span>: <span style=\"color: #ff0000; text-decoration-color: #ff0000; font-style: italic\">False</span>, <span style=\"color: #008000; text-decoration-color: #008000\">'trafficLightColor'</span>: <span style=\"color: #008000; text-decoration-color: #008000\">'none'</span><span style=\"font-weight: bold\">}</span>, \n",
       "<span style=\"color: #008000; text-decoration-color: #008000\">'manualShape'</span>: <span style=\"color: #00ff00; text-decoration-color: #00ff00; font-style: italic\">True</span>, <span style=\"color: #008000; text-decoration-color: #008000\">'manualAttributes'</span>: <span style=\"color: #00ff00; text-decoration-color: #00ff00; font-style: italic\">True</span>, <span style=\"color: #008000; text-decoration-color: #008000\">'box2d'</span>: <span style=\"font-weight: bold\">{</span><span style=\"color: #008000; text-decoration-color: #008000\">'x1'</span>: <span style=\"color: #008080; text-decoration-color: #008080; font-weight: bold\">596.426432</span>, <span style=\"color: #008000; text-decoration-color: #008000\">'y1'</span>: <span style=\"color: #008080; text-decoration-color: #008080; font-weight: bold\">351.86664</span>, <span style=\"color: #008000; text-decoration-color: #008000\">'x2'</span>: <span style=\"color: #008080; text-decoration-color: #008080; font-weight: bold\">636.354562</span>, <span style=\"color: #008000; text-decoration-color: #008000\">'y2'</span>:\n",
       "<span style=\"color: #008080; text-decoration-color: #008080; font-weight: bold\">385.555999</span><span style=\"font-weight: bold\">}</span>, <span style=\"color: #008000; text-decoration-color: #008000\">'id'</span>: <span style=\"color: #008080; text-decoration-color: #008080; font-weight: bold\">30</span><span style=\"font-weight: bold\">}</span>, <span style=\"font-weight: bold\">{</span><span style=\"color: #008000; text-decoration-color: #008000\">'category'</span>: <span style=\"color: #008000; text-decoration-color: #008000\">'car'</span>, <span style=\"color: #008000; text-decoration-color: #008000\">'attributes'</span>: <span style=\"font-weight: bold\">{</span><span style=\"color: #008000; text-decoration-color: #008000\">'occluded'</span>: <span style=\"color: #00ff00; text-decoration-color: #00ff00; font-style: italic\">True</span>, <span style=\"color: #008000; text-decoration-color: #008000\">'truncated'</span>: <span style=\"color: #ff0000; text-decoration-color: #ff0000; font-style: italic\">False</span>, \n",
       "<span style=\"color: #008000; text-decoration-color: #008000\">'trafficLightColor'</span>: <span style=\"color: #008000; text-decoration-color: #008000\">'none'</span><span style=\"font-weight: bold\">}</span>, <span style=\"color: #008000; text-decoration-color: #008000\">'manualShape'</span>: <span style=\"color: #00ff00; text-decoration-color: #00ff00; font-style: italic\">True</span>, <span style=\"color: #008000; text-decoration-color: #008000\">'manualAttributes'</span>: <span style=\"color: #00ff00; text-decoration-color: #00ff00; font-style: italic\">True</span>, <span style=\"color: #008000; text-decoration-color: #008000\">'box2d'</span>: <span style=\"font-weight: bold\">{</span><span style=\"color: #008000; text-decoration-color: #008000\">'x1'</span>: <span style=\"color: #008080; text-decoration-color: #008080; font-weight: bold\">517.817928</span>, <span style=\"color: #008000; text-decoration-color: #008000\">'y1'</span>: \n",
       "<span style=\"color: #008080; text-decoration-color: #008080; font-weight: bold\">355.609902</span>, <span style=\"color: #008000; text-decoration-color: #008000\">'x2'</span>: <span style=\"color: #008080; text-decoration-color: #008080; font-weight: bold\">535.286484</span>, <span style=\"color: #008000; text-decoration-color: #008000\">'y2'</span>: <span style=\"color: #008080; text-decoration-color: #008080; font-weight: bold\">368.087443</span><span style=\"font-weight: bold\">}</span>, <span style=\"color: #008000; text-decoration-color: #008000\">'id'</span>: <span style=\"color: #008080; text-decoration-color: #008080; font-weight: bold\">31</span><span style=\"font-weight: bold\">}</span>, <span style=\"font-weight: bold\">{</span><span style=\"color: #008000; text-decoration-color: #008000\">'category'</span>: <span style=\"color: #008000; text-decoration-color: #008000\">'car'</span>, <span style=\"color: #008000; text-decoration-color: #008000\">'attributes'</span>: <span style=\"font-weight: bold\">{</span><span style=\"color: #008000; text-decoration-color: #008000\">'occluded'</span>: <span style=\"color: #00ff00; text-decoration-color: #00ff00; font-style: italic\">True</span>, \n",
       "<span style=\"color: #008000; text-decoration-color: #008000\">'truncated'</span>: <span style=\"color: #ff0000; text-decoration-color: #ff0000; font-style: italic\">False</span>, <span style=\"color: #008000; text-decoration-color: #008000\">'trafficLightColor'</span>: <span style=\"color: #008000; text-decoration-color: #008000\">'none'</span><span style=\"font-weight: bold\">}</span>, <span style=\"color: #008000; text-decoration-color: #008000\">'manualShape'</span>: <span style=\"color: #00ff00; text-decoration-color: #00ff00; font-style: italic\">True</span>, <span style=\"color: #008000; text-decoration-color: #008000\">'manualAttributes'</span>: <span style=\"color: #00ff00; text-decoration-color: #00ff00; font-style: italic\">True</span>, <span style=\"color: #008000; text-decoration-color: #008000\">'box2d'</span>: <span style=\"font-weight: bold\">{</span><span style=\"color: #008000; text-decoration-color: #008000\">'x1'</span>: \n",
       "<span style=\"color: #008080; text-decoration-color: #008080; font-weight: bold\">501.597125</span>, <span style=\"color: #008000; text-decoration-color: #008000\">'y1'</span>: <span style=\"color: #008080; text-decoration-color: #008080; font-weight: bold\">356.857655</span>, <span style=\"color: #008000; text-decoration-color: #008000\">'x2'</span>: <span style=\"color: #008080; text-decoration-color: #008080; font-weight: bold\">517.817928</span>, <span style=\"color: #008000; text-decoration-color: #008000\">'y2'</span>: <span style=\"color: #008080; text-decoration-color: #008080; font-weight: bold\">370.58295</span><span style=\"font-weight: bold\">}</span>, <span style=\"color: #008000; text-decoration-color: #008000\">'id'</span>: <span style=\"color: #008080; text-decoration-color: #008080; font-weight: bold\">32</span><span style=\"font-weight: bold\">}</span>, <span style=\"font-weight: bold\">{</span><span style=\"color: #008000; text-decoration-color: #008000\">'category'</span>: <span style=\"color: #008000; text-decoration-color: #008000\">'car'</span>, <span style=\"color: #008000; text-decoration-color: #008000\">'attributes'</span>: \n",
       "<span style=\"font-weight: bold\">{</span><span style=\"color: #008000; text-decoration-color: #008000\">'occluded'</span>: <span style=\"color: #00ff00; text-decoration-color: #00ff00; font-style: italic\">True</span>, <span style=\"color: #008000; text-decoration-color: #008000\">'truncated'</span>: <span style=\"color: #ff0000; text-decoration-color: #ff0000; font-style: italic\">False</span>, <span style=\"color: #008000; text-decoration-color: #008000\">'trafficLightColor'</span>: <span style=\"color: #008000; text-decoration-color: #008000\">'none'</span><span style=\"font-weight: bold\">}</span>, <span style=\"color: #008000; text-decoration-color: #008000\">'manualShape'</span>: <span style=\"color: #00ff00; text-decoration-color: #00ff00; font-style: italic\">True</span>, <span style=\"color: #008000; text-decoration-color: #008000\">'manualAttributes'</span>: <span style=\"color: #00ff00; text-decoration-color: #00ff00; font-style: italic\">True</span>,\n",
       "<span style=\"color: #008000; text-decoration-color: #008000\">'box2d'</span>: <span style=\"font-weight: bold\">{</span><span style=\"color: #008000; text-decoration-color: #008000\">'x1'</span>: <span style=\"color: #008080; text-decoration-color: #008080; font-weight: bold\">452.934718</span>, <span style=\"color: #008000; text-decoration-color: #008000\">'y1'</span>: <span style=\"color: #008080; text-decoration-color: #008080; font-weight: bold\">353.114393</span>, <span style=\"color: #008000; text-decoration-color: #008000\">'x2'</span>: <span style=\"color: #008080; text-decoration-color: #008080; font-weight: bold\">479.137552</span>, <span style=\"color: #008000; text-decoration-color: #008000\">'y2'</span>: <span style=\"color: #008080; text-decoration-color: #008080; font-weight: bold\">373.078459</span><span style=\"font-weight: bold\">}</span>, <span style=\"color: #008000; text-decoration-color: #008000\">'id'</span>: <span style=\"color: #008080; text-decoration-color: #008080; font-weight: bold\">33</span><span style=\"font-weight: bold\">}</span>, <span style=\"font-weight: bold\">{</span><span style=\"color: #008000; text-decoration-color: #008000\">'category'</span>: \n",
       "<span style=\"color: #008000; text-decoration-color: #008000\">'drivable area'</span>, <span style=\"color: #008000; text-decoration-color: #008000\">'attributes'</span>: <span style=\"font-weight: bold\">{</span><span style=\"color: #008000; text-decoration-color: #008000\">'areaType'</span>: <span style=\"color: #008000; text-decoration-color: #008000\">'direct'</span><span style=\"font-weight: bold\">}</span>, <span style=\"color: #008000; text-decoration-color: #008000\">'manualShape'</span>: <span style=\"color: #00ff00; text-decoration-color: #00ff00; font-style: italic\">True</span>, <span style=\"color: #008000; text-decoration-color: #008000\">'manualAttributes'</span>: <span style=\"color: #00ff00; text-decoration-color: #00ff00; font-style: italic\">True</span>, <span style=\"color: #008000; text-decoration-color: #008000\">'poly2d'</span>: \n",
       "<span style=\"font-weight: bold\">[{</span><span style=\"color: #008000; text-decoration-color: #008000\">'vertices'</span>: <span style=\"font-weight: bold\">[[</span><span style=\"color: #008080; text-decoration-color: #008080; font-weight: bold\">241.143645</span>, <span style=\"color: #008080; text-decoration-color: #008080; font-weight: bold\">697.923453</span><span style=\"font-weight: bold\">]</span>, <span style=\"font-weight: bold\">[</span><span style=\"color: #008080; text-decoration-color: #008080; font-weight: bold\">541.525255</span>, <span style=\"color: #008080; text-decoration-color: #008080; font-weight: bold\">380.564983</span><span style=\"font-weight: bold\">]</span>, <span style=\"font-weight: bold\">[</span><span style=\"color: #008080; text-decoration-color: #008080; font-weight: bold\">583.948892</span>, <span style=\"color: #008080; text-decoration-color: #008080; font-weight: bold\">378.069475</span><span style=\"font-weight: bold\">]</span>, <span style=\"font-weight: bold\">[</span><span style=\"color: #008080; text-decoration-color: #008080; font-weight: bold\">960.034755</span>, \n",
       "<span style=\"color: #008080; text-decoration-color: #008080; font-weight: bold\">676.955796</span><span style=\"font-weight: bold\">]</span>, <span style=\"font-weight: bold\">[</span><span style=\"color: #008080; text-decoration-color: #008080; font-weight: bold\">715.911316</span>, <span style=\"color: #008080; text-decoration-color: #008080; font-weight: bold\">664.974278</span><span style=\"font-weight: bold\">]</span>, <span style=\"font-weight: bold\">[</span><span style=\"color: #008080; text-decoration-color: #008080; font-weight: bold\">491.257843</span>, <span style=\"color: #008080; text-decoration-color: #008080; font-weight: bold\">664.974278</span><span style=\"font-weight: bold\">]</span>, <span style=\"font-weight: bold\">[</span><span style=\"color: #008080; text-decoration-color: #008080; font-weight: bold\">241.143645</span>, <span style=\"color: #008080; text-decoration-color: #008080; font-weight: bold\">697.923453</span><span style=\"font-weight: bold\">]]</span>, <span style=\"color: #008000; text-decoration-color: #008000\">'types'</span>: <span style=\"color: #008000; text-decoration-color: #008000\">'LLLLCCC'</span>, \n",
       "<span style=\"color: #008000; text-decoration-color: #008000\">'closed'</span>: <span style=\"color: #00ff00; text-decoration-color: #00ff00; font-style: italic\">True</span><span style=\"font-weight: bold\">}]</span>, <span style=\"color: #008000; text-decoration-color: #008000\">'id'</span>: <span style=\"color: #008080; text-decoration-color: #008080; font-weight: bold\">34</span><span style=\"font-weight: bold\">}</span>, <span style=\"font-weight: bold\">{</span><span style=\"color: #008000; text-decoration-color: #008000\">'category'</span>: <span style=\"color: #008000; text-decoration-color: #008000\">'drivable area'</span>, <span style=\"color: #008000; text-decoration-color: #008000\">'attributes'</span>: <span style=\"font-weight: bold\">{</span><span style=\"color: #008000; text-decoration-color: #008000\">'areaType'</span>: <span style=\"color: #008000; text-decoration-color: #008000\">'alternative'</span><span style=\"font-weight: bold\">}</span>, \n",
       "<span style=\"color: #008000; text-decoration-color: #008000\">'manualShape'</span>: <span style=\"color: #00ff00; text-decoration-color: #00ff00; font-style: italic\">True</span>, <span style=\"color: #008000; text-decoration-color: #008000\">'manualAttributes'</span>: <span style=\"color: #00ff00; text-decoration-color: #00ff00; font-style: italic\">True</span>, <span style=\"color: #008000; text-decoration-color: #008000\">'poly2d'</span>: <span style=\"font-weight: bold\">[{</span><span style=\"color: #008000; text-decoration-color: #008000\">'vertices'</span>: <span style=\"font-weight: bold\">[[</span><span style=\"color: #008080; text-decoration-color: #008080; font-weight: bold\">986.993172</span>, <span style=\"color: #008080; text-decoration-color: #008080; font-weight: bold\">682.946555</span><span style=\"font-weight: bold\">]</span>, <span style=\"font-weight: bold\">[</span><span style=\"color: #008080; text-decoration-color: #008080; font-weight: bold\">620.059168</span>, \n",
       "<span style=\"color: #008080; text-decoration-color: #008080; font-weight: bold\">396.887801</span><span style=\"font-weight: bold\">]</span>, <span style=\"font-weight: bold\">[</span><span style=\"color: #008080; text-decoration-color: #008080; font-weight: bold\">681.46445</span>, <span style=\"color: #008080; text-decoration-color: #008080; font-weight: bold\">392.394731</span><span style=\"font-weight: bold\">]</span>, <span style=\"font-weight: bold\">[</span><span style=\"color: #008080; text-decoration-color: #008080; font-weight: bold\">1280.52479</span>, <span style=\"color: #008080; text-decoration-color: #008080; font-weight: bold\">567.624439</span><span style=\"font-weight: bold\">]</span>, <span style=\"font-weight: bold\">[</span><span style=\"color: #008080; text-decoration-color: #008080; font-weight: bold\">1280.52479</span>, <span style=\"color: #008080; text-decoration-color: #008080; font-weight: bold\">697.923453</span><span style=\"font-weight: bold\">]</span>, <span style=\"font-weight: bold\">[</span><span style=\"color: #008080; text-decoration-color: #008080; font-weight: bold\">986.993172</span>, \n",
       "<span style=\"color: #008080; text-decoration-color: #008080; font-weight: bold\">682.946555</span><span style=\"font-weight: bold\">]]</span>, <span style=\"color: #008000; text-decoration-color: #008000\">'types'</span>: <span style=\"color: #008000; text-decoration-color: #008000\">'LLLLLL'</span>, <span style=\"color: #008000; text-decoration-color: #008000\">'closed'</span>: <span style=\"color: #00ff00; text-decoration-color: #00ff00; font-style: italic\">True</span><span style=\"font-weight: bold\">}]</span>, <span style=\"color: #008000; text-decoration-color: #008000\">'id'</span>: <span style=\"color: #008080; text-decoration-color: #008080; font-weight: bold\">35</span><span style=\"font-weight: bold\">}</span>, <span style=\"font-weight: bold\">{</span><span style=\"color: #008000; text-decoration-color: #008000\">'category'</span>: <span style=\"color: #008000; text-decoration-color: #008000\">'lane'</span>, <span style=\"color: #008000; text-decoration-color: #008000\">'attributes'</span>: <span style=\"font-weight: bold\">{</span><span style=\"color: #008000; text-decoration-color: #008000\">'laneDirection'</span>: \n",
       "<span style=\"color: #008000; text-decoration-color: #008000\">'parallel'</span>, <span style=\"color: #008000; text-decoration-color: #008000\">'laneStyle'</span>: <span style=\"color: #008000; text-decoration-color: #008000\">'solid'</span>, <span style=\"color: #008000; text-decoration-color: #008000\">'laneType'</span>: <span style=\"color: #008000; text-decoration-color: #008000\">'single yellow'</span><span style=\"font-weight: bold\">}</span>, <span style=\"color: #008000; text-decoration-color: #008000\">'manualShape'</span>: <span style=\"color: #00ff00; text-decoration-color: #00ff00; font-style: italic\">True</span>, <span style=\"color: #008000; text-decoration-color: #008000\">'manualAttributes'</span>: <span style=\"color: #00ff00; text-decoration-color: #00ff00; font-style: italic\">True</span>, \n",
       "<span style=\"color: #008000; text-decoration-color: #008000\">'poly2d'</span>: <span style=\"font-weight: bold\">[{</span><span style=\"color: #008000; text-decoration-color: #008000\">'vertices'</span>: <span style=\"font-weight: bold\">[[</span><span style=\"color: #008080; text-decoration-color: #008080; font-weight: bold\">540.443883</span>, <span style=\"color: #008080; text-decoration-color: #008080; font-weight: bold\">385.603214</span><span style=\"font-weight: bold\">]</span>, <span style=\"font-weight: bold\">[</span><span style=\"color: #008080; text-decoration-color: #008080; font-weight: bold\">363.625829</span>, <span style=\"color: #008080; text-decoration-color: #008080; font-weight: bold\">572.410989</span><span style=\"font-weight: bold\">]]</span>, <span style=\"color: #008000; text-decoration-color: #008000\">'types'</span>: <span style=\"color: #008000; text-decoration-color: #008000\">'LL'</span>, <span style=\"color: #008000; text-decoration-color: #008000\">'closed'</span>: <span style=\"color: #ff0000; text-decoration-color: #ff0000; font-style: italic\">False</span><span style=\"font-weight: bold\">}]</span>, \n",
       "<span style=\"color: #008000; text-decoration-color: #008000\">'id'</span>: <span style=\"color: #008080; text-decoration-color: #008080; font-weight: bold\">36</span><span style=\"font-weight: bold\">}</span>, <span style=\"font-weight: bold\">{</span><span style=\"color: #008000; text-decoration-color: #008000\">'category'</span>: <span style=\"color: #008000; text-decoration-color: #008000\">'lane'</span>, <span style=\"color: #008000; text-decoration-color: #008000\">'attributes'</span>: <span style=\"font-weight: bold\">{</span><span style=\"color: #008000; text-decoration-color: #008000\">'laneDirection'</span>: <span style=\"color: #008000; text-decoration-color: #008000\">'parallel'</span>, <span style=\"color: #008000; text-decoration-color: #008000\">'laneStyle'</span>: <span style=\"color: #008000; text-decoration-color: #008000\">'solid'</span>, <span style=\"color: #008000; text-decoration-color: #008000\">'laneType'</span>: \n",
       "<span style=\"color: #008000; text-decoration-color: #008000\">'single yellow'</span><span style=\"font-weight: bold\">}</span>, <span style=\"color: #008000; text-decoration-color: #008000\">'manualShape'</span>: <span style=\"color: #00ff00; text-decoration-color: #00ff00; font-style: italic\">True</span>, <span style=\"color: #008000; text-decoration-color: #008000\">'manualAttributes'</span>: <span style=\"color: #00ff00; text-decoration-color: #00ff00; font-style: italic\">True</span>, <span style=\"color: #008000; text-decoration-color: #008000\">'poly2d'</span>: <span style=\"font-weight: bold\">[{</span><span style=\"color: #008000; text-decoration-color: #008000\">'vertices'</span>: <span style=\"font-weight: bold\">[[</span><span style=\"color: #008080; text-decoration-color: #008080; font-weight: bold\">535.449023</span>, <span style=\"color: #008080; text-decoration-color: #008080; font-weight: bold\">382.606298</span><span style=\"font-weight: bold\">]</span>,\n",
       "<span style=\"font-weight: bold\">[</span><span style=\"color: #008080; text-decoration-color: #008080; font-weight: bold\">356.633025</span>, <span style=\"color: #008080; text-decoration-color: #008080; font-weight: bold\">562.42127</span><span style=\"font-weight: bold\">]]</span>, <span style=\"color: #008000; text-decoration-color: #008000\">'types'</span>: <span style=\"color: #008000; text-decoration-color: #008000\">'LL'</span>, <span style=\"color: #008000; text-decoration-color: #008000\">'closed'</span>: <span style=\"color: #ff0000; text-decoration-color: #ff0000; font-style: italic\">False</span><span style=\"font-weight: bold\">}]</span>, <span style=\"color: #008000; text-decoration-color: #008000\">'id'</span>: <span style=\"color: #008080; text-decoration-color: #008080; font-weight: bold\">37</span><span style=\"font-weight: bold\">}</span>, <span style=\"font-weight: bold\">{</span><span style=\"color: #008000; text-decoration-color: #008000\">'category'</span>: <span style=\"color: #008000; text-decoration-color: #008000\">'lane'</span>, <span style=\"color: #008000; text-decoration-color: #008000\">'attributes'</span>: \n",
       "<span style=\"font-weight: bold\">{</span><span style=\"color: #008000; text-decoration-color: #008000\">'laneDirection'</span>: <span style=\"color: #008000; text-decoration-color: #008000\">'parallel'</span>, <span style=\"color: #008000; text-decoration-color: #008000\">'laneStyle'</span>: <span style=\"color: #008000; text-decoration-color: #008000\">'solid'</span>, <span style=\"color: #008000; text-decoration-color: #008000\">'laneType'</span>: <span style=\"color: #008000; text-decoration-color: #008000\">'double yellow'</span><span style=\"font-weight: bold\">}</span>, <span style=\"color: #008000; text-decoration-color: #008000\">'manualShape'</span>: <span style=\"color: #00ff00; text-decoration-color: #00ff00; font-style: italic\">True</span>, \n",
       "<span style=\"color: #008000; text-decoration-color: #008000\">'manualAttributes'</span>: <span style=\"color: #00ff00; text-decoration-color: #00ff00; font-style: italic\">True</span>, <span style=\"color: #008000; text-decoration-color: #008000\">'poly2d'</span>: <span style=\"font-weight: bold\">[{</span><span style=\"color: #008000; text-decoration-color: #008000\">'vertices'</span>: <span style=\"font-weight: bold\">[[</span><span style=\"color: #008080; text-decoration-color: #008080; font-weight: bold\">362.626857</span>, <span style=\"color: #008080; text-decoration-color: #008080; font-weight: bold\">579.403793</span><span style=\"font-weight: bold\">]</span>, <span style=\"font-weight: bold\">[</span><span style=\"color: #008080; text-decoration-color: #008080; font-weight: bold\">234.758434</span>, <span style=\"color: #008080; text-decoration-color: #008080; font-weight: bold\">700.279412</span><span style=\"font-weight: bold\">]]</span>, <span style=\"color: #008000; text-decoration-color: #008000\">'types'</span>: \n",
       "<span style=\"color: #008000; text-decoration-color: #008000\">'LL'</span>, <span style=\"color: #008000; text-decoration-color: #008000\">'closed'</span>: <span style=\"color: #ff0000; text-decoration-color: #ff0000; font-style: italic\">False</span><span style=\"font-weight: bold\">}]</span>, <span style=\"color: #008000; text-decoration-color: #008000\">'id'</span>: <span style=\"color: #008080; text-decoration-color: #008080; font-weight: bold\">38</span><span style=\"font-weight: bold\">}</span>, <span style=\"font-weight: bold\">{</span><span style=\"color: #008000; text-decoration-color: #008000\">'category'</span>: <span style=\"color: #008000; text-decoration-color: #008000\">'lane'</span>, <span style=\"color: #008000; text-decoration-color: #008000\">'attributes'</span>: <span style=\"font-weight: bold\">{</span><span style=\"color: #008000; text-decoration-color: #008000\">'laneDirection'</span>: <span style=\"color: #008000; text-decoration-color: #008000\">'parallel'</span>, <span style=\"color: #008000; text-decoration-color: #008000\">'laneStyle'</span>: \n",
       "<span style=\"color: #008000; text-decoration-color: #008000\">'solid'</span>, <span style=\"color: #008000; text-decoration-color: #008000\">'laneType'</span>: <span style=\"color: #008000; text-decoration-color: #008000\">'double yellow'</span><span style=\"font-weight: bold\">}</span>, <span style=\"color: #008000; text-decoration-color: #008000\">'manualShape'</span>: <span style=\"color: #00ff00; text-decoration-color: #00ff00; font-style: italic\">True</span>, <span style=\"color: #008000; text-decoration-color: #008000\">'manualAttributes'</span>: <span style=\"color: #00ff00; text-decoration-color: #00ff00; font-style: italic\">True</span>, <span style=\"color: #008000; text-decoration-color: #008000\">'poly2d'</span>: <span style=\"font-weight: bold\">[{</span><span style=\"color: #008000; text-decoration-color: #008000\">'vertices'</span>: \n",
       "<span style=\"font-weight: bold\">[[</span><span style=\"color: #008080; text-decoration-color: #008080; font-weight: bold\">316.674142</span>, <span style=\"color: #008080; text-decoration-color: #008080; font-weight: bold\">569.414073</span><span style=\"font-weight: bold\">]</span>, <span style=\"font-weight: bold\">[</span><span style=\"color: #008080; text-decoration-color: #008080; font-weight: bold\">151.843753</span>, <span style=\"color: #008080; text-decoration-color: #008080; font-weight: bold\">708.271189</span><span style=\"font-weight: bold\">]]</span>, <span style=\"color: #008000; text-decoration-color: #008000\">'types'</span>: <span style=\"color: #008000; text-decoration-color: #008000\">'LL'</span>, <span style=\"color: #008000; text-decoration-color: #008000\">'closed'</span>: <span style=\"color: #ff0000; text-decoration-color: #ff0000; font-style: italic\">False</span><span style=\"font-weight: bold\">}]</span>, <span style=\"color: #008000; text-decoration-color: #008000\">'id'</span>: <span style=\"color: #008080; text-decoration-color: #008080; font-weight: bold\">39</span><span style=\"font-weight: bold\">}</span>, <span style=\"font-weight: bold\">{</span><span style=\"color: #008000; text-decoration-color: #008000\">'category'</span>: \n",
       "<span style=\"color: #008000; text-decoration-color: #008000\">'lane'</span>, <span style=\"color: #008000; text-decoration-color: #008000\">'attributes'</span>: <span style=\"font-weight: bold\">{</span><span style=\"color: #008000; text-decoration-color: #008000\">'laneDirection'</span>: <span style=\"color: #008000; text-decoration-color: #008000\">'parallel'</span>, <span style=\"color: #008000; text-decoration-color: #008000\">'laneStyle'</span>: <span style=\"color: #008000; text-decoration-color: #008000\">'solid'</span>, <span style=\"color: #008000; text-decoration-color: #008000\">'laneType'</span>: <span style=\"color: #008000; text-decoration-color: #008000\">'single yellow'</span><span style=\"font-weight: bold\">}</span>, \n",
       "<span style=\"color: #008000; text-decoration-color: #008000\">'manualShape'</span>: <span style=\"color: #00ff00; text-decoration-color: #00ff00; font-style: italic\">True</span>, <span style=\"color: #008000; text-decoration-color: #008000\">'manualAttributes'</span>: <span style=\"color: #00ff00; text-decoration-color: #00ff00; font-style: italic\">True</span>, <span style=\"color: #008000; text-decoration-color: #008000\">'poly2d'</span>: <span style=\"font-weight: bold\">[{</span><span style=\"color: #008000; text-decoration-color: #008000\">'vertices'</span>: <span style=\"font-weight: bold\">[[</span><span style=\"color: #008080; text-decoration-color: #008080; font-weight: bold\">224.768713</span>, <span style=\"color: #008080; text-decoration-color: #008080; font-weight: bold\">535.449023</span><span style=\"font-weight: bold\">]</span>, <span style=\"font-weight: bold\">[</span><span style=\"color: #008080; text-decoration-color: #008080; font-weight: bold\">435.551817</span>, \n",
       "<span style=\"color: #008080; text-decoration-color: #008080; font-weight: bold\">426.561069</span><span style=\"font-weight: bold\">]]</span>, <span style=\"color: #008000; text-decoration-color: #008000\">'types'</span>: <span style=\"color: #008000; text-decoration-color: #008000\">'LL'</span>, <span style=\"color: #008000; text-decoration-color: #008000\">'closed'</span>: <span style=\"color: #ff0000; text-decoration-color: #ff0000; font-style: italic\">False</span><span style=\"font-weight: bold\">}]</span>, <span style=\"color: #008000; text-decoration-color: #008000\">'id'</span>: <span style=\"color: #008080; text-decoration-color: #008080; font-weight: bold\">40</span><span style=\"font-weight: bold\">}</span>, <span style=\"font-weight: bold\">{</span><span style=\"color: #008000; text-decoration-color: #008000\">'category'</span>: <span style=\"color: #008000; text-decoration-color: #008000\">'lane'</span>, <span style=\"color: #008000; text-decoration-color: #008000\">'attributes'</span>: <span style=\"font-weight: bold\">{</span><span style=\"color: #008000; text-decoration-color: #008000\">'laneDirection'</span>: \n",
       "<span style=\"color: #008000; text-decoration-color: #008000\">'parallel'</span>, <span style=\"color: #008000; text-decoration-color: #008000\">'laneStyle'</span>: <span style=\"color: #008000; text-decoration-color: #008000\">'solid'</span>, <span style=\"color: #008000; text-decoration-color: #008000\">'laneType'</span>: <span style=\"color: #008000; text-decoration-color: #008000\">'single yellow'</span><span style=\"font-weight: bold\">}</span>, <span style=\"color: #008000; text-decoration-color: #008000\">'manualShape'</span>: <span style=\"color: #00ff00; text-decoration-color: #00ff00; font-style: italic\">True</span>, <span style=\"color: #008000; text-decoration-color: #008000\">'manualAttributes'</span>: <span style=\"color: #00ff00; text-decoration-color: #00ff00; font-style: italic\">True</span>, \n",
       "<span style=\"color: #008000; text-decoration-color: #008000\">'poly2d'</span>: <span style=\"font-weight: bold\">[{</span><span style=\"color: #008000; text-decoration-color: #008000\">'vertices'</span>: <span style=\"font-weight: bold\">[[</span><span style=\"color: #008080; text-decoration-color: #008080; font-weight: bold\">211.782076</span>, <span style=\"color: #008080; text-decoration-color: #008080; font-weight: bold\">533.451079</span><span style=\"font-weight: bold\">]</span>, <span style=\"font-weight: bold\">[</span><span style=\"color: #008080; text-decoration-color: #008080; font-weight: bold\">427.560041</span>, <span style=\"color: #008080; text-decoration-color: #008080; font-weight: bold\">425.562097</span><span style=\"font-weight: bold\">]]</span>, <span style=\"color: #008000; text-decoration-color: #008000\">'types'</span>: <span style=\"color: #008000; text-decoration-color: #008000\">'LL'</span>, <span style=\"color: #008000; text-decoration-color: #008000\">'closed'</span>: <span style=\"color: #ff0000; text-decoration-color: #ff0000; font-style: italic\">False</span><span style=\"font-weight: bold\">}]</span>, \n",
       "<span style=\"color: #008000; text-decoration-color: #008000\">'id'</span>: <span style=\"color: #008080; text-decoration-color: #008080; font-weight: bold\">41</span><span style=\"font-weight: bold\">}</span>, <span style=\"font-weight: bold\">{</span><span style=\"color: #008000; text-decoration-color: #008000\">'category'</span>: <span style=\"color: #008000; text-decoration-color: #008000\">'lane'</span>, <span style=\"color: #008000; text-decoration-color: #008000\">'attributes'</span>: <span style=\"font-weight: bold\">{</span><span style=\"color: #008000; text-decoration-color: #008000\">'laneDirection'</span>: <span style=\"color: #008000; text-decoration-color: #008000\">'parallel'</span>, <span style=\"color: #008000; text-decoration-color: #008000\">'laneStyle'</span>: <span style=\"color: #008000; text-decoration-color: #008000\">'solid'</span>, <span style=\"color: #008000; text-decoration-color: #008000\">'laneType'</span>: <span style=\"color: #008000; text-decoration-color: #008000\">'road</span>\n",
       "<span style=\"color: #008000; text-decoration-color: #008000\">curb'</span><span style=\"font-weight: bold\">}</span>, <span style=\"color: #008000; text-decoration-color: #008000\">'manualShape'</span>: <span style=\"color: #00ff00; text-decoration-color: #00ff00; font-style: italic\">True</span>, <span style=\"color: #008000; text-decoration-color: #008000\">'manualAttributes'</span>: <span style=\"color: #00ff00; text-decoration-color: #00ff00; font-style: italic\">True</span>, <span style=\"color: #008000; text-decoration-color: #008000\">'poly2d'</span>: <span style=\"font-weight: bold\">[{</span><span style=\"color: #008000; text-decoration-color: #008000\">'vertices'</span>: <span style=\"font-weight: bold\">[[</span><span style=\"color: #008080; text-decoration-color: #008080; font-weight: bold\">515.469582</span>, <span style=\"color: #008080; text-decoration-color: #008080; font-weight: bold\">384.604242</span><span style=\"font-weight: bold\">]</span>, <span style=\"font-weight: bold\">[</span><span style=\"color: #008080; text-decoration-color: #008080; font-weight: bold\">0</span>, \n",
       "<span style=\"color: #008080; text-decoration-color: #008080; font-weight: bold\">616.36576</span><span style=\"font-weight: bold\">]]</span>, <span style=\"color: #008000; text-decoration-color: #008000\">'types'</span>: <span style=\"color: #008000; text-decoration-color: #008000\">'LL'</span>, <span style=\"color: #008000; text-decoration-color: #008000\">'closed'</span>: <span style=\"color: #ff0000; text-decoration-color: #ff0000; font-style: italic\">False</span><span style=\"font-weight: bold\">}]</span>, <span style=\"color: #008000; text-decoration-color: #008000\">'id'</span>: <span style=\"color: #008080; text-decoration-color: #008080; font-weight: bold\">42</span><span style=\"font-weight: bold\">}</span>, <span style=\"font-weight: bold\">{</span><span style=\"color: #008000; text-decoration-color: #008000\">'category'</span>: <span style=\"color: #008000; text-decoration-color: #008000\">'lane'</span>, <span style=\"color: #008000; text-decoration-color: #008000\">'attributes'</span>: <span style=\"font-weight: bold\">{</span><span style=\"color: #008000; text-decoration-color: #008000\">'laneDirection'</span>: \n",
       "<span style=\"color: #008000; text-decoration-color: #008000\">'parallel'</span>, <span style=\"color: #008000; text-decoration-color: #008000\">'laneStyle'</span>: <span style=\"color: #008000; text-decoration-color: #008000\">'solid'</span>, <span style=\"color: #008000; text-decoration-color: #008000\">'laneType'</span>: <span style=\"color: #008000; text-decoration-color: #008000\">'road curb'</span><span style=\"font-weight: bold\">}</span>, <span style=\"color: #008000; text-decoration-color: #008000\">'manualShape'</span>: <span style=\"color: #00ff00; text-decoration-color: #00ff00; font-style: italic\">True</span>, <span style=\"color: #008000; text-decoration-color: #008000\">'manualAttributes'</span>: <span style=\"color: #00ff00; text-decoration-color: #00ff00; font-style: italic\">True</span>, \n",
       "<span style=\"color: #008000; text-decoration-color: #008000\">'poly2d'</span>: <span style=\"font-weight: bold\">[{</span><span style=\"color: #008000; text-decoration-color: #008000\">'vertices'</span>: <span style=\"font-weight: bold\">[[</span><span style=\"color: #008080; text-decoration-color: #008080; font-weight: bold\">205.788244</span>, <span style=\"color: #008080; text-decoration-color: #008080; font-weight: bold\">383.60527</span><span style=\"font-weight: bold\">]</span>, <span style=\"font-weight: bold\">[</span><span style=\"color: #008080; text-decoration-color: #008080; font-weight: bold\">128.867395</span>, <span style=\"color: #008080; text-decoration-color: #008080; font-weight: bold\">392.596019</span><span style=\"font-weight: bold\">]]</span>, <span style=\"color: #008000; text-decoration-color: #008000\">'types'</span>: <span style=\"color: #008000; text-decoration-color: #008000\">'LL'</span>, <span style=\"color: #008000; text-decoration-color: #008000\">'closed'</span>: <span style=\"color: #ff0000; text-decoration-color: #ff0000; font-style: italic\">False</span><span style=\"font-weight: bold\">}]</span>, \n",
       "<span style=\"color: #008000; text-decoration-color: #008000\">'id'</span>: <span style=\"color: #008080; text-decoration-color: #008080; font-weight: bold\">43</span><span style=\"font-weight: bold\">}</span>, <span style=\"font-weight: bold\">{</span><span style=\"color: #008000; text-decoration-color: #008000\">'category'</span>: <span style=\"color: #008000; text-decoration-color: #008000\">'lane'</span>, <span style=\"color: #008000; text-decoration-color: #008000\">'attributes'</span>: <span style=\"font-weight: bold\">{</span><span style=\"color: #008000; text-decoration-color: #008000\">'laneDirection'</span>: <span style=\"color: #008000; text-decoration-color: #008000\">'vertical'</span>, <span style=\"color: #008000; text-decoration-color: #008000\">'laneStyle'</span>: <span style=\"color: #008000; text-decoration-color: #008000\">'dashed'</span>, <span style=\"color: #008000; text-decoration-color: #008000\">'laneType'</span>: \n",
       "<span style=\"color: #008000; text-decoration-color: #008000\">'crosswalk'</span><span style=\"font-weight: bold\">}</span>, <span style=\"color: #008000; text-decoration-color: #008000\">'manualShape'</span>: <span style=\"color: #00ff00; text-decoration-color: #00ff00; font-style: italic\">True</span>, <span style=\"color: #008000; text-decoration-color: #008000\">'manualAttributes'</span>: <span style=\"color: #00ff00; text-decoration-color: #00ff00; font-style: italic\">True</span>, <span style=\"color: #008000; text-decoration-color: #008000\">'poly2d'</span>: <span style=\"font-weight: bold\">[{</span><span style=\"color: #008000; text-decoration-color: #008000\">'vertices'</span>: <span style=\"font-weight: bold\">[[</span><span style=\"color: #008080; text-decoration-color: #008080; font-weight: bold\">549.434632</span>, <span style=\"color: #008080; text-decoration-color: #008080; font-weight: bold\">384.604242</span><span style=\"font-weight: bold\">]</span>, \n",
       "<span style=\"font-weight: bold\">[</span><span style=\"color: #008080; text-decoration-color: #008080; font-weight: bold\">612.369871</span>, <span style=\"color: #008080; text-decoration-color: #008080; font-weight: bold\">385.603214</span><span style=\"font-weight: bold\">]]</span>, <span style=\"color: #008000; text-decoration-color: #008000\">'types'</span>: <span style=\"color: #008000; text-decoration-color: #008000\">'LL'</span>, <span style=\"color: #008000; text-decoration-color: #008000\">'closed'</span>: <span style=\"color: #ff0000; text-decoration-color: #ff0000; font-style: italic\">False</span><span style=\"font-weight: bold\">}]</span>, <span style=\"color: #008000; text-decoration-color: #008000\">'id'</span>: <span style=\"color: #008080; text-decoration-color: #008080; font-weight: bold\">44</span><span style=\"font-weight: bold\">}</span>, <span style=\"font-weight: bold\">{</span><span style=\"color: #008000; text-decoration-color: #008000\">'category'</span>: <span style=\"color: #008000; text-decoration-color: #008000\">'lane'</span>, <span style=\"color: #008000; text-decoration-color: #008000\">'attributes'</span>: \n",
       "<span style=\"font-weight: bold\">{</span><span style=\"color: #008000; text-decoration-color: #008000\">'laneDirection'</span>: <span style=\"color: #008000; text-decoration-color: #008000\">'vertical'</span>, <span style=\"color: #008000; text-decoration-color: #008000\">'laneStyle'</span>: <span style=\"color: #008000; text-decoration-color: #008000\">'dashed'</span>, <span style=\"color: #008000; text-decoration-color: #008000\">'laneType'</span>: <span style=\"color: #008000; text-decoration-color: #008000\">'crosswalk'</span><span style=\"font-weight: bold\">}</span>, <span style=\"color: #008000; text-decoration-color: #008000\">'manualShape'</span>: <span style=\"color: #00ff00; text-decoration-color: #00ff00; font-style: italic\">True</span>, \n",
       "<span style=\"color: #008000; text-decoration-color: #008000\">'manualAttributes'</span>: <span style=\"color: #00ff00; text-decoration-color: #00ff00; font-style: italic\">True</span>, <span style=\"color: #008000; text-decoration-color: #008000\">'poly2d'</span>: <span style=\"font-weight: bold\">[{</span><span style=\"color: #008000; text-decoration-color: #008000\">'vertices'</span>: <span style=\"font-weight: bold\">[[</span><span style=\"color: #008080; text-decoration-color: #008080; font-weight: bold\">545.438744</span>, <span style=\"color: #008080; text-decoration-color: #008080; font-weight: bold\">377.611438</span><span style=\"font-weight: bold\">]</span>, <span style=\"font-weight: bold\">[</span><span style=\"color: #008080; text-decoration-color: #008080; font-weight: bold\">596.386318</span>, <span style=\"color: #008080; text-decoration-color: #008080; font-weight: bold\">379.609382</span><span style=\"font-weight: bold\">]]</span>, <span style=\"color: #008000; text-decoration-color: #008000\">'types'</span>: \n",
       "<span style=\"color: #008000; text-decoration-color: #008000\">'LL'</span>, <span style=\"color: #008000; text-decoration-color: #008000\">'closed'</span>: <span style=\"color: #ff0000; text-decoration-color: #ff0000; font-style: italic\">False</span><span style=\"font-weight: bold\">}]</span>, <span style=\"color: #008000; text-decoration-color: #008000\">'id'</span>: <span style=\"color: #008080; text-decoration-color: #008080; font-weight: bold\">45</span><span style=\"font-weight: bold\">}</span>, <span style=\"font-weight: bold\">{</span><span style=\"color: #008000; text-decoration-color: #008000\">'category'</span>: <span style=\"color: #008000; text-decoration-color: #008000\">'lane'</span>, <span style=\"color: #008000; text-decoration-color: #008000\">'attributes'</span>: <span style=\"font-weight: bold\">{</span><span style=\"color: #008000; text-decoration-color: #008000\">'laneDirection'</span>: <span style=\"color: #008000; text-decoration-color: #008000\">'parallel'</span>, <span style=\"color: #008000; text-decoration-color: #008000\">'laneStyle'</span>: \n",
       "<span style=\"color: #008000; text-decoration-color: #008000\">'dashed'</span>, <span style=\"color: #008000; text-decoration-color: #008000\">'laneType'</span>: <span style=\"color: #008000; text-decoration-color: #008000\">'single white'</span><span style=\"font-weight: bold\">}</span>, <span style=\"color: #008000; text-decoration-color: #008000\">'manualShape'</span>: <span style=\"color: #00ff00; text-decoration-color: #00ff00; font-style: italic\">True</span>, <span style=\"color: #008000; text-decoration-color: #008000\">'manualAttributes'</span>: <span style=\"color: #00ff00; text-decoration-color: #00ff00; font-style: italic\">True</span>, <span style=\"color: #008000; text-decoration-color: #008000\">'poly2d'</span>: <span style=\"font-weight: bold\">[{</span><span style=\"color: #008000; text-decoration-color: #008000\">'vertices'</span>: \n",
       "<span style=\"font-weight: bold\">[[</span><span style=\"color: #008080; text-decoration-color: #008080; font-weight: bold\">592.39043</span>, <span style=\"color: #008080; text-decoration-color: #008080; font-weight: bold\">388.60013</span><span style=\"font-weight: bold\">]</span>, <span style=\"font-weight: bold\">[</span><span style=\"color: #008080; text-decoration-color: #008080; font-weight: bold\">967.004952</span>, <span style=\"color: #008080; text-decoration-color: #008080; font-weight: bold\">676.304083</span><span style=\"font-weight: bold\">]]</span>, <span style=\"color: #008000; text-decoration-color: #008000\">'types'</span>: <span style=\"color: #008000; text-decoration-color: #008000\">'LL'</span>, <span style=\"color: #008000; text-decoration-color: #008000\">'closed'</span>: <span style=\"color: #ff0000; text-decoration-color: #ff0000; font-style: italic\">False</span><span style=\"font-weight: bold\">}]</span>, <span style=\"color: #008000; text-decoration-color: #008000\">'id'</span>: <span style=\"color: #008080; text-decoration-color: #008080; font-weight: bold\">46</span><span style=\"font-weight: bold\">}</span>, <span style=\"font-weight: bold\">{</span><span style=\"color: #008000; text-decoration-color: #008000\">'category'</span>: \n",
       "<span style=\"color: #008000; text-decoration-color: #008000\">'lane'</span>, <span style=\"color: #008000; text-decoration-color: #008000\">'attributes'</span>: <span style=\"font-weight: bold\">{</span><span style=\"color: #008000; text-decoration-color: #008000\">'laneDirection'</span>: <span style=\"color: #008000; text-decoration-color: #008000\">'parallel'</span>, <span style=\"color: #008000; text-decoration-color: #008000\">'laneStyle'</span>: <span style=\"color: #008000; text-decoration-color: #008000\">'dashed'</span>, <span style=\"color: #008000; text-decoration-color: #008000\">'laneType'</span>: <span style=\"color: #008000; text-decoration-color: #008000\">'single white'</span><span style=\"font-weight: bold\">}</span>, \n",
       "<span style=\"color: #008000; text-decoration-color: #008000\">'manualShape'</span>: <span style=\"color: #00ff00; text-decoration-color: #00ff00; font-style: italic\">True</span>, <span style=\"color: #008000; text-decoration-color: #008000\">'manualAttributes'</span>: <span style=\"color: #00ff00; text-decoration-color: #00ff00; font-style: italic\">True</span>, <span style=\"color: #008000; text-decoration-color: #008000\">'poly2d'</span>: <span style=\"font-weight: bold\">[{</span><span style=\"color: #008000; text-decoration-color: #008000\">'vertices'</span>: <span style=\"font-weight: bold\">[[</span><span style=\"color: #008080; text-decoration-color: #008080; font-weight: bold\">599.383235</span>, <span style=\"color: #008080; text-decoration-color: #008080; font-weight: bold\">388.60013</span><span style=\"font-weight: bold\">]</span>, <span style=\"font-weight: bold\">[</span><span style=\"color: #008080; text-decoration-color: #008080; font-weight: bold\">987.983365</span>, \n",
       "<span style=\"color: #008080; text-decoration-color: #008080; font-weight: bold\">679.300999</span><span style=\"font-weight: bold\">]]</span>, <span style=\"color: #008000; text-decoration-color: #008000\">'types'</span>: <span style=\"color: #008000; text-decoration-color: #008000\">'LL'</span>, <span style=\"color: #008000; text-decoration-color: #008000\">'closed'</span>: <span style=\"color: #ff0000; text-decoration-color: #ff0000; font-style: italic\">False</span><span style=\"font-weight: bold\">}]</span>, <span style=\"color: #008000; text-decoration-color: #008000\">'id'</span>: <span style=\"color: #008080; text-decoration-color: #008080; font-weight: bold\">47</span><span style=\"font-weight: bold\">}</span>, <span style=\"font-weight: bold\">{</span><span style=\"color: #008000; text-decoration-color: #008000\">'category'</span>: <span style=\"color: #008000; text-decoration-color: #008000\">'lane'</span>, <span style=\"color: #008000; text-decoration-color: #008000\">'attributes'</span>: <span style=\"font-weight: bold\">{</span><span style=\"color: #008000; text-decoration-color: #008000\">'laneDirection'</span>: \n",
       "<span style=\"color: #008000; text-decoration-color: #008000\">'parallel'</span>, <span style=\"color: #008000; text-decoration-color: #008000\">'laneStyle'</span>: <span style=\"color: #008000; text-decoration-color: #008000\">'dashed'</span>, <span style=\"color: #008000; text-decoration-color: #008000\">'laneType'</span>: <span style=\"color: #008000; text-decoration-color: #008000\">'single white'</span><span style=\"font-weight: bold\">}</span>, <span style=\"color: #008000; text-decoration-color: #008000\">'manualShape'</span>: <span style=\"color: #00ff00; text-decoration-color: #00ff00; font-style: italic\">True</span>, <span style=\"color: #008000; text-decoration-color: #008000\">'manualAttributes'</span>: <span style=\"color: #00ff00; text-decoration-color: #00ff00; font-style: italic\">True</span>, \n",
       "<span style=\"color: #008000; text-decoration-color: #008000\">'poly2d'</span>: <span style=\"font-weight: bold\">[{</span><span style=\"color: #008000; text-decoration-color: #008000\">'vertices'</span>: <span style=\"font-weight: bold\">[[</span><span style=\"color: #008080; text-decoration-color: #008080; font-weight: bold\">669.311279</span>, <span style=\"color: #008080; text-decoration-color: #008080; font-weight: bold\">393.594991</span><span style=\"font-weight: bold\">]</span>, <span style=\"font-weight: bold\">[</span><span style=\"color: #008080; text-decoration-color: #008080; font-weight: bold\">1279.683206</span>, <span style=\"color: #008080; text-decoration-color: #008080; font-weight: bold\">581.401738</span><span style=\"font-weight: bold\">]]</span>, <span style=\"color: #008000; text-decoration-color: #008000\">'types'</span>: <span style=\"color: #008000; text-decoration-color: #008000\">'LL'</span>, <span style=\"color: #008000; text-decoration-color: #008000\">'closed'</span>: <span style=\"color: #ff0000; text-decoration-color: #ff0000; font-style: italic\">False</span><span style=\"font-weight: bold\">}]</span>, \n",
       "<span style=\"color: #008000; text-decoration-color: #008000\">'id'</span>: <span style=\"color: #008080; text-decoration-color: #008080; font-weight: bold\">48</span><span style=\"font-weight: bold\">}</span>, <span style=\"font-weight: bold\">{</span><span style=\"color: #008000; text-decoration-color: #008000\">'category'</span>: <span style=\"color: #008000; text-decoration-color: #008000\">'lane'</span>, <span style=\"color: #008000; text-decoration-color: #008000\">'attributes'</span>: <span style=\"font-weight: bold\">{</span><span style=\"color: #008000; text-decoration-color: #008000\">'laneDirection'</span>: <span style=\"color: #008000; text-decoration-color: #008000\">'parallel'</span>, <span style=\"color: #008000; text-decoration-color: #008000\">'laneStyle'</span>: <span style=\"color: #008000; text-decoration-color: #008000\">'solid'</span>, <span style=\"color: #008000; text-decoration-color: #008000\">'laneType'</span>: \n",
       "<span style=\"color: #008000; text-decoration-color: #008000\">'single white'</span><span style=\"font-weight: bold\">}</span>, <span style=\"color: #008000; text-decoration-color: #008000\">'manualShape'</span>: <span style=\"color: #00ff00; text-decoration-color: #00ff00; font-style: italic\">True</span>, <span style=\"color: #008000; text-decoration-color: #008000\">'manualAttributes'</span>: <span style=\"color: #00ff00; text-decoration-color: #00ff00; font-style: italic\">True</span>, <span style=\"color: #008000; text-decoration-color: #008000\">'poly2d'</span>: <span style=\"font-weight: bold\">[{</span><span style=\"color: #008000; text-decoration-color: #008000\">'vertices'</span>: <span style=\"font-weight: bold\">[[</span><span style=\"color: #008080; text-decoration-color: #008080; font-weight: bold\">0</span>, <span style=\"color: #008080; text-decoration-color: #008080; font-weight: bold\">439.547705</span><span style=\"font-weight: bold\">]</span>, \n",
       "<span style=\"font-weight: bold\">[</span><span style=\"color: #008080; text-decoration-color: #008080; font-weight: bold\">222.770769</span>, <span style=\"color: #008080; text-decoration-color: #008080; font-weight: bold\">408.579572</span><span style=\"font-weight: bold\">]]</span>, <span style=\"color: #008000; text-decoration-color: #008000\">'types'</span>: <span style=\"color: #008000; text-decoration-color: #008000\">'LL'</span>, <span style=\"color: #008000; text-decoration-color: #008000\">'closed'</span>: <span style=\"color: #ff0000; text-decoration-color: #ff0000; font-style: italic\">False</span><span style=\"font-weight: bold\">}]</span>, <span style=\"color: #008000; text-decoration-color: #008000\">'id'</span>: <span style=\"color: #008080; text-decoration-color: #008080; font-weight: bold\">49</span><span style=\"font-weight: bold\">}</span>, <span style=\"font-weight: bold\">{</span><span style=\"color: #008000; text-decoration-color: #008000\">'category'</span>: <span style=\"color: #008000; text-decoration-color: #008000\">'lane'</span>, <span style=\"color: #008000; text-decoration-color: #008000\">'attributes'</span>: \n",
       "<span style=\"font-weight: bold\">{</span><span style=\"color: #008000; text-decoration-color: #008000\">'laneDirection'</span>: <span style=\"color: #008000; text-decoration-color: #008000\">'parallel'</span>, <span style=\"color: #008000; text-decoration-color: #008000\">'laneStyle'</span>: <span style=\"color: #008000; text-decoration-color: #008000\">'solid'</span>, <span style=\"color: #008000; text-decoration-color: #008000\">'laneType'</span>: <span style=\"color: #008000; text-decoration-color: #008000\">'single white'</span><span style=\"font-weight: bold\">}</span>, <span style=\"color: #008000; text-decoration-color: #008000\">'manualShape'</span>: <span style=\"color: #00ff00; text-decoration-color: #00ff00; font-style: italic\">True</span>, \n",
       "<span style=\"color: #008000; text-decoration-color: #008000\">'manualAttributes'</span>: <span style=\"color: #00ff00; text-decoration-color: #00ff00; font-style: italic\">True</span>, <span style=\"color: #008000; text-decoration-color: #008000\">'poly2d'</span>: <span style=\"font-weight: bold\">[{</span><span style=\"color: #008000; text-decoration-color: #008000\">'vertices'</span>: <span style=\"font-weight: bold\">[[</span><span style=\"color: #008080; text-decoration-color: #008080; font-weight: bold\">1.997944</span>, <span style=\"color: #008080; text-decoration-color: #008080; font-weight: bold\">433.553873</span><span style=\"font-weight: bold\">]</span>, <span style=\"font-weight: bold\">[</span><span style=\"color: #008080; text-decoration-color: #008080; font-weight: bold\">222.770769</span>, <span style=\"color: #008080; text-decoration-color: #008080; font-weight: bold\">402.585739</span><span style=\"font-weight: bold\">]]</span>, <span style=\"color: #008000; text-decoration-color: #008000\">'types'</span>: \n",
       "<span style=\"color: #008000; text-decoration-color: #008000\">'LL'</span>, <span style=\"color: #008000; text-decoration-color: #008000\">'closed'</span>: <span style=\"color: #ff0000; text-decoration-color: #ff0000; font-style: italic\">False</span><span style=\"font-weight: bold\">}]</span>, <span style=\"color: #008000; text-decoration-color: #008000\">'id'</span>: <span style=\"color: #008080; text-decoration-color: #008080; font-weight: bold\">50</span><span style=\"font-weight: bold\">}]}</span>\n",
       "</pre>\n"
      ],
      "text/plain": [
       "Attributes of \u001b[32m'frame'\u001b[0m object: \u001b[1;35mdict_keys\u001b[0m\u001b[1m(\u001b[0m\u001b[1m[\u001b[0m\u001b[32m'name'\u001b[0m, \u001b[32m'attributes'\u001b[0m, \u001b[32m'timestamp'\u001b[0m, \u001b[32m'labels'\u001b[0m\u001b[1m]\u001b[0m\u001b[1m)\u001b[0m, sample image lab el: \n",
       "\u001b[1m{\u001b[0m\u001b[32m'name'\u001b[0m: \u001b[32m'b1c66a42-6f7d68ca.jpg'\u001b[0m, \u001b[32m'attributes'\u001b[0m: \u001b[1m{\u001b[0m\u001b[32m'weather'\u001b[0m: \u001b[32m'overcast'\u001b[0m, \u001b[32m'scene'\u001b[0m: \u001b[32m'city street'\u001b[0m, \u001b[32m'timeofday'\u001b[0m: \n",
       "\u001b[32m'daytime'\u001b[0m\u001b[1m}\u001b[0m, \u001b[32m'timestamp'\u001b[0m: \u001b[1;36m10000\u001b[0m, \u001b[32m'labels'\u001b[0m: \u001b[1m[\u001b[0m\u001b[1m{\u001b[0m\u001b[32m'category'\u001b[0m: \u001b[32m'traffic sign'\u001b[0m, \u001b[32m'attributes'\u001b[0m: \u001b[1m{\u001b[0m\u001b[32m'occluded'\u001b[0m: \u001b[3;91mFalse\u001b[0m, \n",
       "\u001b[32m'truncated'\u001b[0m: \u001b[3;91mFalse\u001b[0m, \u001b[32m'trafficLightColor'\u001b[0m: \u001b[32m'none'\u001b[0m\u001b[1m}\u001b[0m, \u001b[32m'manualShape'\u001b[0m: \u001b[3;92mTrue\u001b[0m, \u001b[32m'manualAttributes'\u001b[0m: \u001b[3;92mTrue\u001b[0m, \u001b[32m'box2d'\u001b[0m: \u001b[1m{\u001b[0m\u001b[32m'x1'\u001b[0m: \n",
       "\u001b[1;36m1000.698742\u001b[0m, \u001b[32m'y1'\u001b[0m: \u001b[1;36m281.992415\u001b[0m, \u001b[32m'x2'\u001b[0m: \u001b[1;36m1040.626872\u001b[0m, \u001b[32m'y2'\u001b[0m: \u001b[1;36m326.91156\u001b[0m\u001b[1m}\u001b[0m, \u001b[32m'id'\u001b[0m: \u001b[1;36m0\u001b[0m\u001b[1m}\u001b[0m, \u001b[1m{\u001b[0m\u001b[32m'category'\u001b[0m: \u001b[32m'traffic sign'\u001b[0m, \n",
       "\u001b[32m'attributes'\u001b[0m: \u001b[1m{\u001b[0m\u001b[32m'occluded'\u001b[0m: \u001b[3;91mFalse\u001b[0m, \u001b[32m'truncated'\u001b[0m: \u001b[3;91mFalse\u001b[0m, \u001b[32m'trafficLightColor'\u001b[0m: \u001b[32m'none'\u001b[0m\u001b[1m}\u001b[0m, \u001b[32m'manualShape'\u001b[0m: \u001b[3;92mTrue\u001b[0m, \n",
       "\u001b[32m'manualAttributes'\u001b[0m: \u001b[3;92mTrue\u001b[0m, \u001b[32m'box2d'\u001b[0m: \u001b[1m{\u001b[0m\u001b[32m'x1'\u001b[0m: \u001b[1;36m214.613695\u001b[0m, \u001b[32m'y1'\u001b[0m: \u001b[1;36m172.190058\u001b[0m, \u001b[32m'x2'\u001b[0m: \u001b[1;36m274.505889\u001b[0m, \u001b[32m'y2'\u001b[0m: \u001b[1;36m229.586743\u001b[0m\u001b[1m}\u001b[0m, \u001b[32m'id'\u001b[0m: \n",
       "\u001b[1;36m1\u001b[0m\u001b[1m}\u001b[0m, \u001b[1m{\u001b[0m\u001b[32m'category'\u001b[0m: \u001b[32m'traffic sign'\u001b[0m, \u001b[32m'attributes'\u001b[0m: \u001b[1m{\u001b[0m\u001b[32m'occluded'\u001b[0m: \u001b[3;91mFalse\u001b[0m, \u001b[32m'truncated'\u001b[0m: \u001b[3;91mFalse\u001b[0m, \u001b[32m'trafficLightColor'\u001b[0m: \n",
       "\u001b[32m'none'\u001b[0m\u001b[1m}\u001b[0m, \u001b[32m'manualShape'\u001b[0m: \u001b[3;92mTrue\u001b[0m, \u001b[32m'manualAttributes'\u001b[0m: \u001b[3;92mTrue\u001b[0m, \u001b[32m'box2d'\u001b[0m: \u001b[1m{\u001b[0m\u001b[32m'x1'\u001b[0m: \u001b[1;36m797.314833\u001b[0m, \u001b[32m'y1'\u001b[0m: \u001b[1;36m313.186265\u001b[0m, \u001b[32m'x2'\u001b[0m: \n",
       "\u001b[1;36m829.756437\u001b[0m, \u001b[32m'y2'\u001b[0m: \u001b[1;36m341.884608\u001b[0m\u001b[1m}\u001b[0m, \u001b[32m'id'\u001b[0m: \u001b[1;36m2\u001b[0m\u001b[1m}\u001b[0m, \u001b[1m{\u001b[0m\u001b[32m'category'\u001b[0m: \u001b[32m'traffic sign'\u001b[0m, \u001b[32m'attributes'\u001b[0m: \u001b[1m{\u001b[0m\u001b[32m'occluded'\u001b[0m: \u001b[3;91mFalse\u001b[0m, \n",
       "\u001b[32m'truncated'\u001b[0m: \u001b[3;91mFalse\u001b[0m, \u001b[32m'trafficLightColor'\u001b[0m: \u001b[32m'none'\u001b[0m\u001b[1m}\u001b[0m, \u001b[32m'manualShape'\u001b[0m: \u001b[3;92mTrue\u001b[0m, \u001b[32m'manualAttributes'\u001b[0m: \u001b[3;92mTrue\u001b[0m, \u001b[32m'box2d'\u001b[0m: \u001b[1m{\u001b[0m\u001b[32m'x1'\u001b[0m: \n",
       "\u001b[1;36m652.575363\u001b[0m, \u001b[32m'y1'\u001b[0m: \u001b[1;36m303.204232\u001b[0m, \u001b[32m'x2'\u001b[0m: \u001b[1;36m685.016968\u001b[0m, \u001b[32m'y2'\u001b[0m: \u001b[1;36m315.681772\u001b[0m\u001b[1m}\u001b[0m, \u001b[32m'id'\u001b[0m: \u001b[1;36m3\u001b[0m\u001b[1m}\u001b[0m, \u001b[1m{\u001b[0m\u001b[32m'category'\u001b[0m: \u001b[32m'traffic light'\u001b[0m, \n",
       "\u001b[32m'attributes'\u001b[0m: \u001b[1m{\u001b[0m\u001b[32m'occluded'\u001b[0m: \u001b[3;91mFalse\u001b[0m, \u001b[32m'truncated'\u001b[0m: \u001b[3;91mFalse\u001b[0m, \u001b[32m'trafficLightColor'\u001b[0m: \u001b[32m'green'\u001b[0m\u001b[1m}\u001b[0m, \u001b[32m'manualShape'\u001b[0m: \u001b[3;92mTrue\u001b[0m, \n",
       "\u001b[32m'manualAttributes'\u001b[0m: \u001b[3;92mTrue\u001b[0m, \u001b[32m'box2d'\u001b[0m: \u001b[1m{\u001b[0m\u001b[32m'x1'\u001b[0m: \u001b[1;36m707.476543\u001b[0m, \u001b[32m'y1'\u001b[0m: \u001b[1;36m311.93851\u001b[0m, \u001b[32m'x2'\u001b[0m: \u001b[1;36m716.210821\u001b[0m, \u001b[32m'y2'\u001b[0m: \u001b[1;36m328.159313\u001b[0m\u001b[1m}\u001b[0m, \u001b[32m'id'\u001b[0m: \n",
       "\u001b[1;36m4\u001b[0m\u001b[1m}\u001b[0m, \u001b[1m{\u001b[0m\u001b[32m'category'\u001b[0m: \u001b[32m'traffic light'\u001b[0m, \u001b[32m'attributes'\u001b[0m: \u001b[1m{\u001b[0m\u001b[32m'occluded'\u001b[0m: \u001b[3;91mFalse\u001b[0m, \u001b[32m'truncated'\u001b[0m: \u001b[3;91mFalse\u001b[0m, \u001b[32m'trafficLightColor'\u001b[0m: \n",
       "\u001b[32m'green'\u001b[0m\u001b[1m}\u001b[0m, \u001b[32m'manualShape'\u001b[0m: \u001b[3;92mTrue\u001b[0m, \u001b[32m'manualAttributes'\u001b[0m: \u001b[3;92mTrue\u001b[0m, \u001b[32m'box2d'\u001b[0m: \u001b[1m{\u001b[0m\u001b[32m'x1'\u001b[0m: \u001b[1;36m626.37253\u001b[0m, \u001b[32m'y1'\u001b[0m: \u001b[1;36m295.717708\u001b[0m, \u001b[32m'x2'\u001b[0m: \n",
       "\u001b[1;36m636.354562\u001b[0m, \u001b[32m'y2'\u001b[0m: \u001b[1;36m316.929527\u001b[0m\u001b[1m}\u001b[0m, \u001b[32m'id'\u001b[0m: \u001b[1;36m5\u001b[0m\u001b[1m}\u001b[0m, \u001b[1m{\u001b[0m\u001b[32m'category'\u001b[0m: \u001b[32m'traffic light'\u001b[0m, \u001b[32m'attributes'\u001b[0m: \u001b[1m{\u001b[0m\u001b[32m'occluded'\u001b[0m: \u001b[3;91mFalse\u001b[0m, \n",
       "\u001b[32m'truncated'\u001b[0m: \u001b[3;91mFalse\u001b[0m, \u001b[32m'trafficLightColor'\u001b[0m: \u001b[32m'none'\u001b[0m\u001b[1m}\u001b[0m, \u001b[32m'manualShape'\u001b[0m: \u001b[3;92mTrue\u001b[0m, \u001b[32m'manualAttributes'\u001b[0m: \u001b[3;92mTrue\u001b[0m, \u001b[32m'box2d'\u001b[0m: \u001b[1m{\u001b[0m\u001b[32m'x1'\u001b[0m: \n",
       "\u001b[1;36m316.929527\u001b[0m, \u001b[32m'y1'\u001b[0m: \u001b[1;36m289.478938\u001b[0m, \u001b[32m'x2'\u001b[0m: \u001b[1;36m329.407067\u001b[0m, \u001b[32m'y2'\u001b[0m: \u001b[1;36m306.947495\u001b[0m\u001b[1m}\u001b[0m, \u001b[32m'id'\u001b[0m: \u001b[1;36m6\u001b[0m\u001b[1m}\u001b[0m, \u001b[1m{\u001b[0m\u001b[32m'category'\u001b[0m: \u001b[32m'traffic sign'\u001b[0m, \n",
       "\u001b[32m'attributes'\u001b[0m: \u001b[1m{\u001b[0m\u001b[32m'occluded'\u001b[0m: \u001b[3;91mFalse\u001b[0m, \u001b[32m'truncated'\u001b[0m: \u001b[3;91mFalse\u001b[0m, \u001b[32m'trafficLightColor'\u001b[0m: \u001b[32m'none'\u001b[0m\u001b[1m}\u001b[0m, \u001b[32m'manualShape'\u001b[0m: \u001b[3;92mTrue\u001b[0m, \n",
       "\u001b[32m'manualAttributes'\u001b[0m: \u001b[3;92mTrue\u001b[0m, \u001b[32m'box2d'\u001b[0m: \u001b[1m{\u001b[0m\u001b[32m'x1'\u001b[0m: \u001b[1;36m270.762627\u001b[0m, \u001b[32m'y1'\u001b[0m: \u001b[1;36m288.231184\u001b[0m, \u001b[32m'x2'\u001b[0m: \u001b[1;36m309.443003\u001b[0m, \u001b[32m'y2'\u001b[0m: \u001b[1;36m301.956478\u001b[0m\u001b[1m}\u001b[0m, \u001b[32m'id'\u001b[0m: \n",
       "\u001b[1;36m7\u001b[0m\u001b[1m}\u001b[0m, \u001b[1m{\u001b[0m\u001b[32m'category'\u001b[0m: \u001b[32m'traffic sign'\u001b[0m, \u001b[32m'attributes'\u001b[0m: \u001b[1m{\u001b[0m\u001b[32m'occluded'\u001b[0m: \u001b[3;92mTrue\u001b[0m, \u001b[32m'truncated'\u001b[0m: \u001b[3;91mFalse\u001b[0m, \u001b[32m'trafficLightColor'\u001b[0m: \u001b[32m'none'\u001b[0m\u001b[1m}\u001b[0m,\n",
       "\u001b[32m'manualShape'\u001b[0m: \u001b[3;92mTrue\u001b[0m, \u001b[32m'manualAttributes'\u001b[0m: \u001b[3;92mTrue\u001b[0m, \u001b[32m'box2d'\u001b[0m: \u001b[1m{\u001b[0m\u001b[32m'x1'\u001b[0m: \u001b[1;36m220.852466\u001b[0m, \u001b[32m'y1'\u001b[0m: \u001b[1;36m300.708724\u001b[0m, \u001b[32m'x2'\u001b[0m: \u001b[1;36m232.082252\u001b[0m, \n",
       "\u001b[32m'y2'\u001b[0m: \u001b[1;36m311.938512\u001b[0m\u001b[1m}\u001b[0m, \u001b[32m'id'\u001b[0m: \u001b[1;36m8\u001b[0m\u001b[1m}\u001b[0m, \u001b[1m{\u001b[0m\u001b[32m'category'\u001b[0m: \u001b[32m'car'\u001b[0m, \u001b[32m'attributes'\u001b[0m: \u001b[1m{\u001b[0m\u001b[32m'occluded'\u001b[0m: \u001b[3;92mTrue\u001b[0m, \u001b[32m'truncated'\u001b[0m: \u001b[3;91mFalse\u001b[0m, \n",
       "\u001b[32m'trafficLightColor'\u001b[0m: \u001b[32m'none'\u001b[0m\u001b[1m}\u001b[0m, \u001b[32m'manualShape'\u001b[0m: \u001b[3;92mTrue\u001b[0m, \u001b[32m'manualAttributes'\u001b[0m: \u001b[3;92mTrue\u001b[0m, \u001b[32m'box2d'\u001b[0m: \u001b[1m{\u001b[0m\u001b[32m'x1'\u001b[0m: \u001b[1;36m205.879417\u001b[0m, \u001b[32m'y1'\u001b[0m: \n",
       "\u001b[1;36m338.141346\u001b[0m, \u001b[32m'x2'\u001b[0m: \u001b[1;36m281.992413\u001b[0m, \u001b[32m'y2'\u001b[0m: \u001b[1;36m388.051507\u001b[0m\u001b[1m}\u001b[0m, \u001b[32m'id'\u001b[0m: \u001b[1;36m9\u001b[0m\u001b[1m}\u001b[0m, \u001b[1m{\u001b[0m\u001b[32m'category'\u001b[0m: \u001b[32m'car'\u001b[0m, \u001b[32m'attributes'\u001b[0m: \u001b[1m{\u001b[0m\u001b[32m'occluded'\u001b[0m: \u001b[3;92mTrue\u001b[0m, \n",
       "\u001b[32m'truncated'\u001b[0m: \u001b[3;91mFalse\u001b[0m, \u001b[32m'trafficLightColor'\u001b[0m: \u001b[32m'none'\u001b[0m\u001b[1m}\u001b[0m, \u001b[32m'manualShape'\u001b[0m: \u001b[3;92mTrue\u001b[0m, \u001b[32m'manualAttributes'\u001b[0m: \u001b[3;92mTrue\u001b[0m, \u001b[32m'box2d'\u001b[0m: \u001b[1m{\u001b[0m\u001b[32m'x1'\u001b[0m: \n",
       "\u001b[1;36m47.414654\u001b[0m, \u001b[32m'y1'\u001b[0m: \u001b[1;36m344.380116\u001b[0m, \u001b[32m'x2'\u001b[0m: \u001b[1;36m129.76642\u001b[0m, \u001b[32m'y2'\u001b[0m: \u001b[1;36m400.529049\u001b[0m\u001b[1m}\u001b[0m, \u001b[32m'id'\u001b[0m: \u001b[1;36m10\u001b[0m\u001b[1m}\u001b[0m, \u001b[1m{\u001b[0m\u001b[32m'category'\u001b[0m: \u001b[32m'car'\u001b[0m, \u001b[32m'attributes'\u001b[0m: \n",
       "\u001b[1m{\u001b[0m\u001b[32m'occluded'\u001b[0m: \u001b[3;92mTrue\u001b[0m, \u001b[32m'truncated'\u001b[0m: \u001b[3;91mFalse\u001b[0m, \u001b[32m'trafficLightColor'\u001b[0m: \u001b[32m'none'\u001b[0m\u001b[1m}\u001b[0m, \u001b[32m'manualShape'\u001b[0m: \u001b[3;92mTrue\u001b[0m, \u001b[32m'manualAttributes'\u001b[0m: \u001b[3;92mTrue\u001b[0m,\n",
       "\u001b[32m'box2d'\u001b[0m: \u001b[1m{\u001b[0m\u001b[32m'x1'\u001b[0m: \u001b[1;36m247.0553\u001b[0m, \u001b[32m'y1'\u001b[0m: \u001b[1;36m344.380116\u001b[0m, \u001b[32m'x2'\u001b[0m: \u001b[1;36m346.875624\u001b[0m, \u001b[32m'y2'\u001b[0m: \u001b[1;36m395.538032\u001b[0m\u001b[1m}\u001b[0m, \u001b[32m'id'\u001b[0m: \u001b[1;36m11\u001b[0m\u001b[1m}\u001b[0m, \u001b[1m{\u001b[0m\u001b[32m'category'\u001b[0m: \u001b[32m'car'\u001b[0m, \n",
       "\u001b[32m'attributes'\u001b[0m: \u001b[1m{\u001b[0m\u001b[32m'occluded'\u001b[0m: \u001b[3;91mFalse\u001b[0m, \u001b[32m'truncated'\u001b[0m: \u001b[3;92mTrue\u001b[0m, \u001b[32m'trafficLightColor'\u001b[0m: \u001b[32m'none'\u001b[0m\u001b[1m}\u001b[0m, \u001b[32m'manualShape'\u001b[0m: \u001b[3;92mTrue\u001b[0m, \n",
       "\u001b[32m'manualAttributes'\u001b[0m: \u001b[3;92mTrue\u001b[0m, \u001b[32m'box2d'\u001b[0m: \u001b[1m{\u001b[0m\u001b[32m'x1'\u001b[0m: \u001b[1;36m0\u001b[0m, \u001b[32m'y1'\u001b[0m: \u001b[1;36m336.893592\u001b[0m, \u001b[32m'x2'\u001b[0m: \u001b[1;36m52.40567\u001b[0m, \u001b[32m'y2'\u001b[0m: \u001b[1;36m403.024556\u001b[0m\u001b[1m}\u001b[0m, \u001b[32m'id'\u001b[0m: \u001b[1;36m12\u001b[0m\u001b[1m}\u001b[0m, \n",
       "\u001b[1m{\u001b[0m\u001b[32m'category'\u001b[0m: \u001b[32m'rider'\u001b[0m, \u001b[32m'attributes'\u001b[0m: \u001b[1m{\u001b[0m\u001b[32m'occluded'\u001b[0m: \u001b[3;92mTrue\u001b[0m, \u001b[32m'truncated'\u001b[0m: \u001b[3;91mFalse\u001b[0m, \u001b[32m'trafficLightColor'\u001b[0m: \u001b[32m'none'\u001b[0m\u001b[1m}\u001b[0m, \n",
       "\u001b[32m'manualShape'\u001b[0m: \u001b[3;92mTrue\u001b[0m, \u001b[32m'manualAttributes'\u001b[0m: \u001b[3;92mTrue\u001b[0m, \u001b[32m'box2d'\u001b[0m: \u001b[1m{\u001b[0m\u001b[32m'x1'\u001b[0m: \u001b[1;36m650.079856\u001b[0m, \u001b[32m'y1'\u001b[0m: \u001b[1;36m354.362148\u001b[0m, \u001b[32m'x2'\u001b[0m: \u001b[1;36m663.805151\u001b[0m, \n",
       "\u001b[32m'y2'\u001b[0m: \u001b[1;36m381.812737\u001b[0m\u001b[1m}\u001b[0m, \u001b[32m'id'\u001b[0m: \u001b[1;36m13\u001b[0m\u001b[1m}\u001b[0m, \u001b[1m{\u001b[0m\u001b[32m'category'\u001b[0m: \u001b[32m'motor'\u001b[0m, \u001b[32m'attributes'\u001b[0m: \u001b[1m{\u001b[0m\u001b[32m'occluded'\u001b[0m: \u001b[3;92mTrue\u001b[0m, \u001b[32m'truncated'\u001b[0m: \u001b[3;91mFalse\u001b[0m, \n",
       "\u001b[32m'trafficLightColor'\u001b[0m: \u001b[32m'none'\u001b[0m\u001b[1m}\u001b[0m, \u001b[32m'manualShape'\u001b[0m: \u001b[3;92mTrue\u001b[0m, \u001b[32m'manualAttributes'\u001b[0m: \u001b[3;92mTrue\u001b[0m, \u001b[32m'box2d'\u001b[0m: \u001b[1m{\u001b[0m\u001b[32m'x1'\u001b[0m: \u001b[1;36m648.832101\u001b[0m, \u001b[32m'y1'\u001b[0m: \n",
       "\u001b[1;36m366.83969\u001b[0m, \u001b[32m'x2'\u001b[0m: \u001b[1;36m663.805151\u001b[0m, \u001b[32m'y2'\u001b[0m: \u001b[1;36m388.051507\u001b[0m\u001b[1m}\u001b[0m, \u001b[32m'id'\u001b[0m: \u001b[1;36m14\u001b[0m\u001b[1m}\u001b[0m, \u001b[1m{\u001b[0m\u001b[32m'category'\u001b[0m: \u001b[32m'traffic light'\u001b[0m, \u001b[32m'attributes'\u001b[0m: \u001b[1m{\u001b[0m\u001b[32m'occluded'\u001b[0m:\n",
       "\u001b[3;91mFalse\u001b[0m, \u001b[32m'truncated'\u001b[0m: \u001b[3;91mFalse\u001b[0m, \u001b[32m'trafficLightColor'\u001b[0m: \u001b[32m'none'\u001b[0m\u001b[1m}\u001b[0m, \u001b[32m'manualShape'\u001b[0m: \u001b[3;92mTrue\u001b[0m, \u001b[32m'manualAttributes'\u001b[0m: \u001b[3;92mTrue\u001b[0m, \u001b[32m'box2d'\u001b[0m: \n",
       "\u001b[1m{\u001b[0m\u001b[32m'x1'\u001b[0m: \u001b[1;36m712.467558\u001b[0m, \u001b[32m'y1'\u001b[0m: \u001b[1;36m336.893592\u001b[0m, \u001b[32m'x2'\u001b[0m: \u001b[1;36m726.192853\u001b[0m, \u001b[32m'y2'\u001b[0m: \u001b[1;36m353.114395\u001b[0m\u001b[1m}\u001b[0m, \u001b[32m'id'\u001b[0m: \u001b[1;36m15\u001b[0m\u001b[1m}\u001b[0m, \u001b[1m{\u001b[0m\u001b[32m'category'\u001b[0m: \u001b[32m'car'\u001b[0m, \n",
       "\u001b[32m'attributes'\u001b[0m: \u001b[1m{\u001b[0m\u001b[32m'occluded'\u001b[0m: \u001b[3;92mTrue\u001b[0m, \u001b[32m'truncated'\u001b[0m: \u001b[3;91mFalse\u001b[0m, \u001b[32m'trafficLightColor'\u001b[0m: \u001b[32m'none'\u001b[0m\u001b[1m}\u001b[0m, \u001b[32m'manualShape'\u001b[0m: \u001b[3;92mTrue\u001b[0m, \n",
       "\u001b[32m'manualAttributes'\u001b[0m: \u001b[3;92mTrue\u001b[0m, \u001b[32m'box2d'\u001b[0m: \u001b[1m{\u001b[0m\u001b[32m'x1'\u001b[0m: \u001b[1;36m683.769215\u001b[0m, \u001b[32m'y1'\u001b[0m: \u001b[1;36m356.857655\u001b[0m, \u001b[32m'x2'\u001b[0m: \u001b[1;36m721.201837\u001b[0m, \u001b[32m'y2'\u001b[0m: \u001b[1;36m393.042522\u001b[0m\u001b[1m}\u001b[0m, \u001b[32m'id'\u001b[0m: \n",
       "\u001b[1;36m16\u001b[0m\u001b[1m}\u001b[0m, \u001b[1m{\u001b[0m\u001b[32m'category'\u001b[0m: \u001b[32m'car'\u001b[0m, \u001b[32m'attributes'\u001b[0m: \u001b[1m{\u001b[0m\u001b[32m'occluded'\u001b[0m: \u001b[3;92mTrue\u001b[0m, \u001b[32m'truncated'\u001b[0m: \u001b[3;91mFalse\u001b[0m, \u001b[32m'trafficLightColor'\u001b[0m: \u001b[32m'none'\u001b[0m\u001b[1m}\u001b[0m, \n",
       "\u001b[32m'manualShape'\u001b[0m: \u001b[3;92mTrue\u001b[0m, \u001b[32m'manualAttributes'\u001b[0m: \u001b[3;92mTrue\u001b[0m, \u001b[32m'box2d'\u001b[0m: \u001b[1m{\u001b[0m\u001b[32m'x1'\u001b[0m: \u001b[1;36m706.228788\u001b[0m, \u001b[32m'y1'\u001b[0m: \u001b[1;36m364.344179\u001b[0m, \u001b[32m'x2'\u001b[0m: \u001b[1;36m733.679378\u001b[0m, \n",
       "\u001b[32m'y2'\u001b[0m: \u001b[1;36m390.547015\u001b[0m\u001b[1m}\u001b[0m, \u001b[32m'id'\u001b[0m: \u001b[1;36m17\u001b[0m\u001b[1m}\u001b[0m, \u001b[1m{\u001b[0m\u001b[32m'category'\u001b[0m: \u001b[32m'car'\u001b[0m, \u001b[32m'attributes'\u001b[0m: \u001b[1m{\u001b[0m\u001b[32m'occluded'\u001b[0m: \u001b[3;92mTrue\u001b[0m, \u001b[32m'truncated'\u001b[0m: \u001b[3;91mFalse\u001b[0m, \n",
       "\u001b[32m'trafficLightColor'\u001b[0m: \u001b[32m'none'\u001b[0m\u001b[1m}\u001b[0m, \u001b[32m'manualShape'\u001b[0m: \u001b[3;92mTrue\u001b[0m, \u001b[32m'manualAttributes'\u001b[0m: \u001b[3;92mTrue\u001b[0m, \u001b[32m'box2d'\u001b[0m: \u001b[1m{\u001b[0m\u001b[32m'x1'\u001b[0m: \u001b[1;36m727.440607\u001b[0m, \u001b[32m'y1'\u001b[0m: \n",
       "\u001b[1;36m365.591935\u001b[0m, \u001b[32m'x2'\u001b[0m: \u001b[1;36m761.129966\u001b[0m, \u001b[32m'y2'\u001b[0m: \u001b[1;36m400.529049\u001b[0m\u001b[1m}\u001b[0m, \u001b[32m'id'\u001b[0m: \u001b[1;36m18\u001b[0m\u001b[1m}\u001b[0m, \u001b[1m{\u001b[0m\u001b[32m'category'\u001b[0m: \u001b[32m'car'\u001b[0m, \u001b[32m'attributes'\u001b[0m: \u001b[1m{\u001b[0m\u001b[32m'occluded'\u001b[0m: \u001b[3;92mTrue\u001b[0m, \n",
       "\u001b[32m'truncated'\u001b[0m: \u001b[3;91mFalse\u001b[0m, \u001b[32m'trafficLightColor'\u001b[0m: \u001b[32m'none'\u001b[0m\u001b[1m}\u001b[0m, \u001b[32m'manualShape'\u001b[0m: \u001b[3;92mTrue\u001b[0m, \u001b[32m'manualAttributes'\u001b[0m: \u001b[3;92mTrue\u001b[0m, \u001b[32m'box2d'\u001b[0m: \u001b[1m{\u001b[0m\u001b[32m'x1'\u001b[0m: \n",
       "\u001b[1;36m748.652426\u001b[0m, \u001b[32m'y1'\u001b[0m: \u001b[1;36m361.848672\u001b[0m, \u001b[32m'x2'\u001b[0m: \u001b[1;36m808.54462\u001b[0m, \u001b[32m'y2'\u001b[0m: \u001b[1;36m409.263326\u001b[0m\u001b[1m}\u001b[0m, \u001b[32m'id'\u001b[0m: \u001b[1;36m19\u001b[0m\u001b[1m}\u001b[0m, \u001b[1m{\u001b[0m\u001b[32m'category'\u001b[0m: \u001b[32m'car'\u001b[0m, \u001b[32m'attributes'\u001b[0m: \n",
       "\u001b[1m{\u001b[0m\u001b[32m'occluded'\u001b[0m: \u001b[3;92mTrue\u001b[0m, \u001b[32m'truncated'\u001b[0m: \u001b[3;91mFalse\u001b[0m, \u001b[32m'trafficLightColor'\u001b[0m: \u001b[32m'none'\u001b[0m\u001b[1m}\u001b[0m, \u001b[32m'manualShape'\u001b[0m: \u001b[3;92mTrue\u001b[0m, \u001b[32m'manualAttributes'\u001b[0m: \u001b[3;92mTrue\u001b[0m,\n",
       "\u001b[32m'box2d'\u001b[0m: \u001b[1m{\u001b[0m\u001b[32m'x1'\u001b[0m: \u001b[1;36m787.332801\u001b[0m, \u001b[32m'y1'\u001b[0m: \u001b[1;36m358.10541\u001b[0m, \u001b[32m'x2'\u001b[0m: \u001b[1;36m905.869435\u001b[0m, \u001b[32m'y2'\u001b[0m: \u001b[1;36m425.484129\u001b[0m\u001b[1m}\u001b[0m, \u001b[32m'id'\u001b[0m: \u001b[1;36m20\u001b[0m\u001b[1m}\u001b[0m, \u001b[1m{\u001b[0m\u001b[32m'category'\u001b[0m: \u001b[32m'car'\u001b[0m, \n",
       "\u001b[32m'attributes'\u001b[0m: \u001b[1m{\u001b[0m\u001b[32m'occluded'\u001b[0m: \u001b[3;92mTrue\u001b[0m, \u001b[32m'truncated'\u001b[0m: \u001b[3;91mFalse\u001b[0m, \u001b[32m'trafficLightColor'\u001b[0m: \u001b[32m'none'\u001b[0m\u001b[1m}\u001b[0m, \u001b[32m'manualShape'\u001b[0m: \u001b[3;92mTrue\u001b[0m, \n",
       "\u001b[32m'manualAttributes'\u001b[0m: \u001b[3;92mTrue\u001b[0m, \u001b[32m'box2d'\u001b[0m: \u001b[1m{\u001b[0m\u001b[32m'x1'\u001b[0m: \u001b[1;36m879.6666\u001b[0m, \u001b[32m'y1'\u001b[0m: \u001b[1;36m375.573967\u001b[0m, \u001b[32m'x2'\u001b[0m: \u001b[1;36m959.522859\u001b[0m, \u001b[32m'y2'\u001b[0m: \u001b[1;36m451.686963\u001b[0m\u001b[1m}\u001b[0m, \u001b[32m'id'\u001b[0m: \n",
       "\u001b[1;36m21\u001b[0m\u001b[1m}\u001b[0m, \u001b[1m{\u001b[0m\u001b[32m'category'\u001b[0m: \u001b[32m'car'\u001b[0m, \u001b[32m'attributes'\u001b[0m: \u001b[1m{\u001b[0m\u001b[32m'occluded'\u001b[0m: \u001b[3;91mFalse\u001b[0m, \u001b[32m'truncated'\u001b[0m: \u001b[3;91mFalse\u001b[0m, \u001b[32m'trafficLightColor'\u001b[0m: \u001b[32m'none'\u001b[0m\u001b[1m}\u001b[0m, \n",
       "\u001b[32m'manualShape'\u001b[0m: \u001b[3;92mTrue\u001b[0m, \u001b[32m'manualAttributes'\u001b[0m: \u001b[3;92mTrue\u001b[0m, \u001b[32m'box2d'\u001b[0m: \u001b[1m{\u001b[0m\u001b[32m'x1'\u001b[0m: \u001b[1;36m935.815532\u001b[0m, \u001b[32m'y1'\u001b[0m: \u001b[1;36m335.645837\u001b[0m, \u001b[32m'x2'\u001b[0m: \u001b[1;36m1211.569175\u001b[0m, \n",
       "\u001b[32m'y2'\u001b[0m: \u001b[1;36m484.128569\u001b[0m\u001b[1m}\u001b[0m, \u001b[32m'id'\u001b[0m: \u001b[1;36m22\u001b[0m\u001b[1m}\u001b[0m, \u001b[1m{\u001b[0m\u001b[32m'category'\u001b[0m: \u001b[32m'car'\u001b[0m, \u001b[32m'attributes'\u001b[0m: \u001b[1m{\u001b[0m\u001b[32m'occluded'\u001b[0m: \u001b[3;91mFalse\u001b[0m, \u001b[32m'truncated'\u001b[0m: \u001b[3;92mTrue\u001b[0m, \n",
       "\u001b[32m'trafficLightColor'\u001b[0m: \u001b[32m'none'\u001b[0m\u001b[1m}\u001b[0m, \u001b[32m'manualShape'\u001b[0m: \u001b[3;92mTrue\u001b[0m, \u001b[32m'manualAttributes'\u001b[0m: \u001b[3;92mTrue\u001b[0m, \u001b[32m'box2d'\u001b[0m: \u001b[1m{\u001b[0m\u001b[32m'x1'\u001b[0m: \u001b[1;36m1204.082651\u001b[0m, \u001b[32m'y1'\u001b[0m: \n",
       "\u001b[1;36m415.502097\u001b[0m, \u001b[32m'x2'\u001b[0m: \u001b[1;36m1278.947894\u001b[0m, \u001b[32m'y2'\u001b[0m: \u001b[1;36m530.295469\u001b[0m\u001b[1m}\u001b[0m, \u001b[32m'id'\u001b[0m: \u001b[1;36m23\u001b[0m\u001b[1m}\u001b[0m, \u001b[1m{\u001b[0m\u001b[32m'category'\u001b[0m: \u001b[32m'traffic light'\u001b[0m, \u001b[32m'attributes'\u001b[0m: \n",
       "\u001b[1m{\u001b[0m\u001b[32m'occluded'\u001b[0m: \u001b[3;91mFalse\u001b[0m, \u001b[32m'truncated'\u001b[0m: \u001b[3;91mFalse\u001b[0m, \u001b[32m'trafficLightColor'\u001b[0m: \u001b[32m'green'\u001b[0m\u001b[1m}\u001b[0m, \u001b[32m'manualShape'\u001b[0m: \u001b[3;92mTrue\u001b[0m, \u001b[32m'manualAttributes'\u001b[0m: \n",
       "\u001b[3;92mTrue\u001b[0m, \u001b[32m'box2d'\u001b[0m: \u001b[1m{\u001b[0m\u001b[32m'x1'\u001b[0m: \u001b[1;36m602.665203\u001b[0m, \u001b[32m'y1'\u001b[0m: \u001b[1;36m340.636854\u001b[0m, \u001b[32m'x2'\u001b[0m: \u001b[1;36m610.151727\u001b[0m, \u001b[32m'y2'\u001b[0m: \u001b[1;36m353.114395\u001b[0m\u001b[1m}\u001b[0m, \u001b[32m'id'\u001b[0m: \u001b[1;36m24\u001b[0m\u001b[1m}\u001b[0m, \u001b[1m{\u001b[0m\u001b[32m'category'\u001b[0m: \n",
       "\u001b[32m'traffic light'\u001b[0m, \u001b[32m'attributes'\u001b[0m: \u001b[1m{\u001b[0m\u001b[32m'occluded'\u001b[0m: \u001b[3;91mFalse\u001b[0m, \u001b[32m'truncated'\u001b[0m: \u001b[3;91mFalse\u001b[0m, \u001b[32m'trafficLightColor'\u001b[0m: \u001b[32m'green'\u001b[0m\u001b[1m}\u001b[0m, \n",
       "\u001b[32m'manualShape'\u001b[0m: \u001b[3;92mTrue\u001b[0m, \u001b[32m'manualAttributes'\u001b[0m: \u001b[3;92mTrue\u001b[0m, \u001b[32m'box2d'\u001b[0m: \u001b[1m{\u001b[0m\u001b[32m'x1'\u001b[0m: \u001b[1;36m591.435416\u001b[0m, \u001b[32m'y1'\u001b[0m: \u001b[1;36m328.159313\u001b[0m, \u001b[32m'x2'\u001b[0m: \u001b[1;36m597.674186\u001b[0m, \n",
       "\u001b[32m'y2'\u001b[0m: \u001b[1;36m341.884608\u001b[0m\u001b[1m}\u001b[0m, \u001b[32m'id'\u001b[0m: \u001b[1;36m25\u001b[0m\u001b[1m}\u001b[0m, \u001b[1m{\u001b[0m\u001b[32m'category'\u001b[0m: \u001b[32m'traffic light'\u001b[0m, \u001b[32m'attributes'\u001b[0m: \u001b[1m{\u001b[0m\u001b[32m'occluded'\u001b[0m: \u001b[3;91mFalse\u001b[0m, \u001b[32m'truncated'\u001b[0m: \u001b[3;91mFalse\u001b[0m, \n",
       "\u001b[32m'trafficLightColor'\u001b[0m: \u001b[32m'green'\u001b[0m\u001b[1m}\u001b[0m, \u001b[32m'manualShape'\u001b[0m: \u001b[3;92mTrue\u001b[0m, \u001b[32m'manualAttributes'\u001b[0m: \u001b[3;92mTrue\u001b[0m, \u001b[32m'box2d'\u001b[0m: \u001b[1m{\u001b[0m\u001b[32m'x1'\u001b[0m: \u001b[1;36m529.047714\u001b[0m, \u001b[32m'y1'\u001b[0m: \n",
       "\u001b[1;36m331.902575\u001b[0m, \u001b[32m'x2'\u001b[0m: \u001b[1;36m536.534238\u001b[0m, \u001b[32m'y2'\u001b[0m: \u001b[1;36m341.884608\u001b[0m\u001b[1m}\u001b[0m, \u001b[32m'id'\u001b[0m: \u001b[1;36m26\u001b[0m\u001b[1m}\u001b[0m, \u001b[1m{\u001b[0m\u001b[32m'category'\u001b[0m: \u001b[32m'car'\u001b[0m, \u001b[32m'attributes'\u001b[0m: \u001b[1m{\u001b[0m\u001b[32m'occluded'\u001b[0m: \u001b[3;91mFalse\u001b[0m, \n",
       "\u001b[32m'truncated'\u001b[0m: \u001b[3;91mFalse\u001b[0m, \u001b[32m'trafficLightColor'\u001b[0m: \u001b[32m'none'\u001b[0m\u001b[1m}\u001b[0m, \u001b[32m'manualShape'\u001b[0m: \u001b[3;92mTrue\u001b[0m, \u001b[32m'manualAttributes'\u001b[0m: \u001b[3;92mTrue\u001b[0m, \u001b[32m'box2d'\u001b[0m: \u001b[1m{\u001b[0m\u001b[32m'x1'\u001b[0m: \n",
       "\u001b[1;36m551.507287\u001b[0m, \u001b[32m'y1'\u001b[0m: \u001b[1;36m355.609902\u001b[0m, \u001b[32m'x2'\u001b[0m: \u001b[1;36m565.232581\u001b[0m, \u001b[32m'y2'\u001b[0m: \u001b[1;36m368.087443\u001b[0m\u001b[1m}\u001b[0m, \u001b[32m'id'\u001b[0m: \u001b[1;36m27\u001b[0m\u001b[1m}\u001b[0m, \u001b[1m{\u001b[0m\u001b[32m'category'\u001b[0m: \u001b[32m'car'\u001b[0m, \u001b[32m'attributes'\u001b[0m: \n",
       "\u001b[1m{\u001b[0m\u001b[32m'occluded'\u001b[0m: \u001b[3;92mTrue\u001b[0m, \u001b[32m'truncated'\u001b[0m: \u001b[3;91mFalse\u001b[0m, \u001b[32m'trafficLightColor'\u001b[0m: \u001b[32m'none'\u001b[0m\u001b[1m}\u001b[0m, \u001b[32m'manualShape'\u001b[0m: \u001b[3;92mTrue\u001b[0m, \u001b[32m'manualAttributes'\u001b[0m: \u001b[3;92mTrue\u001b[0m,\n",
       "\u001b[32m'box2d'\u001b[0m: \u001b[1m{\u001b[0m\u001b[32m'x1'\u001b[0m: \u001b[1;36m573.966861\u001b[0m, \u001b[32m'y1'\u001b[0m: \u001b[1;36m351.86664\u001b[0m, \u001b[32m'x2'\u001b[0m: \u001b[1;36m586.444401\u001b[0m, \u001b[32m'y2'\u001b[0m: \u001b[1;36m369.335197\u001b[0m\u001b[1m}\u001b[0m, \u001b[32m'id'\u001b[0m: \u001b[1;36m28\u001b[0m\u001b[1m}\u001b[0m, \u001b[1m{\u001b[0m\u001b[32m'category'\u001b[0m: \u001b[32m'car'\u001b[0m, \n",
       "\u001b[32m'attributes'\u001b[0m: \u001b[1m{\u001b[0m\u001b[32m'occluded'\u001b[0m: \u001b[3;92mTrue\u001b[0m, \u001b[32m'truncated'\u001b[0m: \u001b[3;91mFalse\u001b[0m, \u001b[32m'trafficLightColor'\u001b[0m: \u001b[32m'none'\u001b[0m\u001b[1m}\u001b[0m, \u001b[32m'manualShape'\u001b[0m: \u001b[3;92mTrue\u001b[0m, \n",
       "\u001b[32m'manualAttributes'\u001b[0m: \u001b[3;92mTrue\u001b[0m, \u001b[32m'box2d'\u001b[0m: \u001b[1m{\u001b[0m\u001b[32m'x1'\u001b[0m: \u001b[1;36m581.453385\u001b[0m, \u001b[32m'y1'\u001b[0m: \u001b[1;36m356.857655\u001b[0m, \u001b[32m'x2'\u001b[0m: \u001b[1;36m597.674187\u001b[0m, \u001b[32m'y2'\u001b[0m: \u001b[1;36m378.069474\u001b[0m\u001b[1m}\u001b[0m, \u001b[32m'id'\u001b[0m: \n",
       "\u001b[1;36m29\u001b[0m\u001b[1m}\u001b[0m, \u001b[1m{\u001b[0m\u001b[32m'category'\u001b[0m: \u001b[32m'car'\u001b[0m, \u001b[32m'attributes'\u001b[0m: \u001b[1m{\u001b[0m\u001b[32m'occluded'\u001b[0m: \u001b[3;91mFalse\u001b[0m, \u001b[32m'truncated'\u001b[0m: \u001b[3;91mFalse\u001b[0m, \u001b[32m'trafficLightColor'\u001b[0m: \u001b[32m'none'\u001b[0m\u001b[1m}\u001b[0m, \n",
       "\u001b[32m'manualShape'\u001b[0m: \u001b[3;92mTrue\u001b[0m, \u001b[32m'manualAttributes'\u001b[0m: \u001b[3;92mTrue\u001b[0m, \u001b[32m'box2d'\u001b[0m: \u001b[1m{\u001b[0m\u001b[32m'x1'\u001b[0m: \u001b[1;36m596.426432\u001b[0m, \u001b[32m'y1'\u001b[0m: \u001b[1;36m351.86664\u001b[0m, \u001b[32m'x2'\u001b[0m: \u001b[1;36m636.354562\u001b[0m, \u001b[32m'y2'\u001b[0m:\n",
       "\u001b[1;36m385.555999\u001b[0m\u001b[1m}\u001b[0m, \u001b[32m'id'\u001b[0m: \u001b[1;36m30\u001b[0m\u001b[1m}\u001b[0m, \u001b[1m{\u001b[0m\u001b[32m'category'\u001b[0m: \u001b[32m'car'\u001b[0m, \u001b[32m'attributes'\u001b[0m: \u001b[1m{\u001b[0m\u001b[32m'occluded'\u001b[0m: \u001b[3;92mTrue\u001b[0m, \u001b[32m'truncated'\u001b[0m: \u001b[3;91mFalse\u001b[0m, \n",
       "\u001b[32m'trafficLightColor'\u001b[0m: \u001b[32m'none'\u001b[0m\u001b[1m}\u001b[0m, \u001b[32m'manualShape'\u001b[0m: \u001b[3;92mTrue\u001b[0m, \u001b[32m'manualAttributes'\u001b[0m: \u001b[3;92mTrue\u001b[0m, \u001b[32m'box2d'\u001b[0m: \u001b[1m{\u001b[0m\u001b[32m'x1'\u001b[0m: \u001b[1;36m517.817928\u001b[0m, \u001b[32m'y1'\u001b[0m: \n",
       "\u001b[1;36m355.609902\u001b[0m, \u001b[32m'x2'\u001b[0m: \u001b[1;36m535.286484\u001b[0m, \u001b[32m'y2'\u001b[0m: \u001b[1;36m368.087443\u001b[0m\u001b[1m}\u001b[0m, \u001b[32m'id'\u001b[0m: \u001b[1;36m31\u001b[0m\u001b[1m}\u001b[0m, \u001b[1m{\u001b[0m\u001b[32m'category'\u001b[0m: \u001b[32m'car'\u001b[0m, \u001b[32m'attributes'\u001b[0m: \u001b[1m{\u001b[0m\u001b[32m'occluded'\u001b[0m: \u001b[3;92mTrue\u001b[0m, \n",
       "\u001b[32m'truncated'\u001b[0m: \u001b[3;91mFalse\u001b[0m, \u001b[32m'trafficLightColor'\u001b[0m: \u001b[32m'none'\u001b[0m\u001b[1m}\u001b[0m, \u001b[32m'manualShape'\u001b[0m: \u001b[3;92mTrue\u001b[0m, \u001b[32m'manualAttributes'\u001b[0m: \u001b[3;92mTrue\u001b[0m, \u001b[32m'box2d'\u001b[0m: \u001b[1m{\u001b[0m\u001b[32m'x1'\u001b[0m: \n",
       "\u001b[1;36m501.597125\u001b[0m, \u001b[32m'y1'\u001b[0m: \u001b[1;36m356.857655\u001b[0m, \u001b[32m'x2'\u001b[0m: \u001b[1;36m517.817928\u001b[0m, \u001b[32m'y2'\u001b[0m: \u001b[1;36m370.58295\u001b[0m\u001b[1m}\u001b[0m, \u001b[32m'id'\u001b[0m: \u001b[1;36m32\u001b[0m\u001b[1m}\u001b[0m, \u001b[1m{\u001b[0m\u001b[32m'category'\u001b[0m: \u001b[32m'car'\u001b[0m, \u001b[32m'attributes'\u001b[0m: \n",
       "\u001b[1m{\u001b[0m\u001b[32m'occluded'\u001b[0m: \u001b[3;92mTrue\u001b[0m, \u001b[32m'truncated'\u001b[0m: \u001b[3;91mFalse\u001b[0m, \u001b[32m'trafficLightColor'\u001b[0m: \u001b[32m'none'\u001b[0m\u001b[1m}\u001b[0m, \u001b[32m'manualShape'\u001b[0m: \u001b[3;92mTrue\u001b[0m, \u001b[32m'manualAttributes'\u001b[0m: \u001b[3;92mTrue\u001b[0m,\n",
       "\u001b[32m'box2d'\u001b[0m: \u001b[1m{\u001b[0m\u001b[32m'x1'\u001b[0m: \u001b[1;36m452.934718\u001b[0m, \u001b[32m'y1'\u001b[0m: \u001b[1;36m353.114393\u001b[0m, \u001b[32m'x2'\u001b[0m: \u001b[1;36m479.137552\u001b[0m, \u001b[32m'y2'\u001b[0m: \u001b[1;36m373.078459\u001b[0m\u001b[1m}\u001b[0m, \u001b[32m'id'\u001b[0m: \u001b[1;36m33\u001b[0m\u001b[1m}\u001b[0m, \u001b[1m{\u001b[0m\u001b[32m'category'\u001b[0m: \n",
       "\u001b[32m'drivable area'\u001b[0m, \u001b[32m'attributes'\u001b[0m: \u001b[1m{\u001b[0m\u001b[32m'areaType'\u001b[0m: \u001b[32m'direct'\u001b[0m\u001b[1m}\u001b[0m, \u001b[32m'manualShape'\u001b[0m: \u001b[3;92mTrue\u001b[0m, \u001b[32m'manualAttributes'\u001b[0m: \u001b[3;92mTrue\u001b[0m, \u001b[32m'poly2d'\u001b[0m: \n",
       "\u001b[1m[\u001b[0m\u001b[1m{\u001b[0m\u001b[32m'vertices'\u001b[0m: \u001b[1m[\u001b[0m\u001b[1m[\u001b[0m\u001b[1;36m241.143645\u001b[0m, \u001b[1;36m697.923453\u001b[0m\u001b[1m]\u001b[0m, \u001b[1m[\u001b[0m\u001b[1;36m541.525255\u001b[0m, \u001b[1;36m380.564983\u001b[0m\u001b[1m]\u001b[0m, \u001b[1m[\u001b[0m\u001b[1;36m583.948892\u001b[0m, \u001b[1;36m378.069475\u001b[0m\u001b[1m]\u001b[0m, \u001b[1m[\u001b[0m\u001b[1;36m960.034755\u001b[0m, \n",
       "\u001b[1;36m676.955796\u001b[0m\u001b[1m]\u001b[0m, \u001b[1m[\u001b[0m\u001b[1;36m715.911316\u001b[0m, \u001b[1;36m664.974278\u001b[0m\u001b[1m]\u001b[0m, \u001b[1m[\u001b[0m\u001b[1;36m491.257843\u001b[0m, \u001b[1;36m664.974278\u001b[0m\u001b[1m]\u001b[0m, \u001b[1m[\u001b[0m\u001b[1;36m241.143645\u001b[0m, \u001b[1;36m697.923453\u001b[0m\u001b[1m]\u001b[0m\u001b[1m]\u001b[0m, \u001b[32m'types'\u001b[0m: \u001b[32m'LLLLCCC'\u001b[0m, \n",
       "\u001b[32m'closed'\u001b[0m: \u001b[3;92mTrue\u001b[0m\u001b[1m}\u001b[0m\u001b[1m]\u001b[0m, \u001b[32m'id'\u001b[0m: \u001b[1;36m34\u001b[0m\u001b[1m}\u001b[0m, \u001b[1m{\u001b[0m\u001b[32m'category'\u001b[0m: \u001b[32m'drivable area'\u001b[0m, \u001b[32m'attributes'\u001b[0m: \u001b[1m{\u001b[0m\u001b[32m'areaType'\u001b[0m: \u001b[32m'alternative'\u001b[0m\u001b[1m}\u001b[0m, \n",
       "\u001b[32m'manualShape'\u001b[0m: \u001b[3;92mTrue\u001b[0m, \u001b[32m'manualAttributes'\u001b[0m: \u001b[3;92mTrue\u001b[0m, \u001b[32m'poly2d'\u001b[0m: \u001b[1m[\u001b[0m\u001b[1m{\u001b[0m\u001b[32m'vertices'\u001b[0m: \u001b[1m[\u001b[0m\u001b[1m[\u001b[0m\u001b[1;36m986.993172\u001b[0m, \u001b[1;36m682.946555\u001b[0m\u001b[1m]\u001b[0m, \u001b[1m[\u001b[0m\u001b[1;36m620.059168\u001b[0m, \n",
       "\u001b[1;36m396.887801\u001b[0m\u001b[1m]\u001b[0m, \u001b[1m[\u001b[0m\u001b[1;36m681.46445\u001b[0m, \u001b[1;36m392.394731\u001b[0m\u001b[1m]\u001b[0m, \u001b[1m[\u001b[0m\u001b[1;36m1280.52479\u001b[0m, \u001b[1;36m567.624439\u001b[0m\u001b[1m]\u001b[0m, \u001b[1m[\u001b[0m\u001b[1;36m1280.52479\u001b[0m, \u001b[1;36m697.923453\u001b[0m\u001b[1m]\u001b[0m, \u001b[1m[\u001b[0m\u001b[1;36m986.993172\u001b[0m, \n",
       "\u001b[1;36m682.946555\u001b[0m\u001b[1m]\u001b[0m\u001b[1m]\u001b[0m, \u001b[32m'types'\u001b[0m: \u001b[32m'LLLLLL'\u001b[0m, \u001b[32m'closed'\u001b[0m: \u001b[3;92mTrue\u001b[0m\u001b[1m}\u001b[0m\u001b[1m]\u001b[0m, \u001b[32m'id'\u001b[0m: \u001b[1;36m35\u001b[0m\u001b[1m}\u001b[0m, \u001b[1m{\u001b[0m\u001b[32m'category'\u001b[0m: \u001b[32m'lane'\u001b[0m, \u001b[32m'attributes'\u001b[0m: \u001b[1m{\u001b[0m\u001b[32m'laneDirection'\u001b[0m: \n",
       "\u001b[32m'parallel'\u001b[0m, \u001b[32m'laneStyle'\u001b[0m: \u001b[32m'solid'\u001b[0m, \u001b[32m'laneType'\u001b[0m: \u001b[32m'single yellow'\u001b[0m\u001b[1m}\u001b[0m, \u001b[32m'manualShape'\u001b[0m: \u001b[3;92mTrue\u001b[0m, \u001b[32m'manualAttributes'\u001b[0m: \u001b[3;92mTrue\u001b[0m, \n",
       "\u001b[32m'poly2d'\u001b[0m: \u001b[1m[\u001b[0m\u001b[1m{\u001b[0m\u001b[32m'vertices'\u001b[0m: \u001b[1m[\u001b[0m\u001b[1m[\u001b[0m\u001b[1;36m540.443883\u001b[0m, \u001b[1;36m385.603214\u001b[0m\u001b[1m]\u001b[0m, \u001b[1m[\u001b[0m\u001b[1;36m363.625829\u001b[0m, \u001b[1;36m572.410989\u001b[0m\u001b[1m]\u001b[0m\u001b[1m]\u001b[0m, \u001b[32m'types'\u001b[0m: \u001b[32m'LL'\u001b[0m, \u001b[32m'closed'\u001b[0m: \u001b[3;91mFalse\u001b[0m\u001b[1m}\u001b[0m\u001b[1m]\u001b[0m, \n",
       "\u001b[32m'id'\u001b[0m: \u001b[1;36m36\u001b[0m\u001b[1m}\u001b[0m, \u001b[1m{\u001b[0m\u001b[32m'category'\u001b[0m: \u001b[32m'lane'\u001b[0m, \u001b[32m'attributes'\u001b[0m: \u001b[1m{\u001b[0m\u001b[32m'laneDirection'\u001b[0m: \u001b[32m'parallel'\u001b[0m, \u001b[32m'laneStyle'\u001b[0m: \u001b[32m'solid'\u001b[0m, \u001b[32m'laneType'\u001b[0m: \n",
       "\u001b[32m'single yellow'\u001b[0m\u001b[1m}\u001b[0m, \u001b[32m'manualShape'\u001b[0m: \u001b[3;92mTrue\u001b[0m, \u001b[32m'manualAttributes'\u001b[0m: \u001b[3;92mTrue\u001b[0m, \u001b[32m'poly2d'\u001b[0m: \u001b[1m[\u001b[0m\u001b[1m{\u001b[0m\u001b[32m'vertices'\u001b[0m: \u001b[1m[\u001b[0m\u001b[1m[\u001b[0m\u001b[1;36m535.449023\u001b[0m, \u001b[1;36m382.606298\u001b[0m\u001b[1m]\u001b[0m,\n",
       "\u001b[1m[\u001b[0m\u001b[1;36m356.633025\u001b[0m, \u001b[1;36m562.42127\u001b[0m\u001b[1m]\u001b[0m\u001b[1m]\u001b[0m, \u001b[32m'types'\u001b[0m: \u001b[32m'LL'\u001b[0m, \u001b[32m'closed'\u001b[0m: \u001b[3;91mFalse\u001b[0m\u001b[1m}\u001b[0m\u001b[1m]\u001b[0m, \u001b[32m'id'\u001b[0m: \u001b[1;36m37\u001b[0m\u001b[1m}\u001b[0m, \u001b[1m{\u001b[0m\u001b[32m'category'\u001b[0m: \u001b[32m'lane'\u001b[0m, \u001b[32m'attributes'\u001b[0m: \n",
       "\u001b[1m{\u001b[0m\u001b[32m'laneDirection'\u001b[0m: \u001b[32m'parallel'\u001b[0m, \u001b[32m'laneStyle'\u001b[0m: \u001b[32m'solid'\u001b[0m, \u001b[32m'laneType'\u001b[0m: \u001b[32m'double yellow'\u001b[0m\u001b[1m}\u001b[0m, \u001b[32m'manualShape'\u001b[0m: \u001b[3;92mTrue\u001b[0m, \n",
       "\u001b[32m'manualAttributes'\u001b[0m: \u001b[3;92mTrue\u001b[0m, \u001b[32m'poly2d'\u001b[0m: \u001b[1m[\u001b[0m\u001b[1m{\u001b[0m\u001b[32m'vertices'\u001b[0m: \u001b[1m[\u001b[0m\u001b[1m[\u001b[0m\u001b[1;36m362.626857\u001b[0m, \u001b[1;36m579.403793\u001b[0m\u001b[1m]\u001b[0m, \u001b[1m[\u001b[0m\u001b[1;36m234.758434\u001b[0m, \u001b[1;36m700.279412\u001b[0m\u001b[1m]\u001b[0m\u001b[1m]\u001b[0m, \u001b[32m'types'\u001b[0m: \n",
       "\u001b[32m'LL'\u001b[0m, \u001b[32m'closed'\u001b[0m: \u001b[3;91mFalse\u001b[0m\u001b[1m}\u001b[0m\u001b[1m]\u001b[0m, \u001b[32m'id'\u001b[0m: \u001b[1;36m38\u001b[0m\u001b[1m}\u001b[0m, \u001b[1m{\u001b[0m\u001b[32m'category'\u001b[0m: \u001b[32m'lane'\u001b[0m, \u001b[32m'attributes'\u001b[0m: \u001b[1m{\u001b[0m\u001b[32m'laneDirection'\u001b[0m: \u001b[32m'parallel'\u001b[0m, \u001b[32m'laneStyle'\u001b[0m: \n",
       "\u001b[32m'solid'\u001b[0m, \u001b[32m'laneType'\u001b[0m: \u001b[32m'double yellow'\u001b[0m\u001b[1m}\u001b[0m, \u001b[32m'manualShape'\u001b[0m: \u001b[3;92mTrue\u001b[0m, \u001b[32m'manualAttributes'\u001b[0m: \u001b[3;92mTrue\u001b[0m, \u001b[32m'poly2d'\u001b[0m: \u001b[1m[\u001b[0m\u001b[1m{\u001b[0m\u001b[32m'vertices'\u001b[0m: \n",
       "\u001b[1m[\u001b[0m\u001b[1m[\u001b[0m\u001b[1;36m316.674142\u001b[0m, \u001b[1;36m569.414073\u001b[0m\u001b[1m]\u001b[0m, \u001b[1m[\u001b[0m\u001b[1;36m151.843753\u001b[0m, \u001b[1;36m708.271189\u001b[0m\u001b[1m]\u001b[0m\u001b[1m]\u001b[0m, \u001b[32m'types'\u001b[0m: \u001b[32m'LL'\u001b[0m, \u001b[32m'closed'\u001b[0m: \u001b[3;91mFalse\u001b[0m\u001b[1m}\u001b[0m\u001b[1m]\u001b[0m, \u001b[32m'id'\u001b[0m: \u001b[1;36m39\u001b[0m\u001b[1m}\u001b[0m, \u001b[1m{\u001b[0m\u001b[32m'category'\u001b[0m: \n",
       "\u001b[32m'lane'\u001b[0m, \u001b[32m'attributes'\u001b[0m: \u001b[1m{\u001b[0m\u001b[32m'laneDirection'\u001b[0m: \u001b[32m'parallel'\u001b[0m, \u001b[32m'laneStyle'\u001b[0m: \u001b[32m'solid'\u001b[0m, \u001b[32m'laneType'\u001b[0m: \u001b[32m'single yellow'\u001b[0m\u001b[1m}\u001b[0m, \n",
       "\u001b[32m'manualShape'\u001b[0m: \u001b[3;92mTrue\u001b[0m, \u001b[32m'manualAttributes'\u001b[0m: \u001b[3;92mTrue\u001b[0m, \u001b[32m'poly2d'\u001b[0m: \u001b[1m[\u001b[0m\u001b[1m{\u001b[0m\u001b[32m'vertices'\u001b[0m: \u001b[1m[\u001b[0m\u001b[1m[\u001b[0m\u001b[1;36m224.768713\u001b[0m, \u001b[1;36m535.449023\u001b[0m\u001b[1m]\u001b[0m, \u001b[1m[\u001b[0m\u001b[1;36m435.551817\u001b[0m, \n",
       "\u001b[1;36m426.561069\u001b[0m\u001b[1m]\u001b[0m\u001b[1m]\u001b[0m, \u001b[32m'types'\u001b[0m: \u001b[32m'LL'\u001b[0m, \u001b[32m'closed'\u001b[0m: \u001b[3;91mFalse\u001b[0m\u001b[1m}\u001b[0m\u001b[1m]\u001b[0m, \u001b[32m'id'\u001b[0m: \u001b[1;36m40\u001b[0m\u001b[1m}\u001b[0m, \u001b[1m{\u001b[0m\u001b[32m'category'\u001b[0m: \u001b[32m'lane'\u001b[0m, \u001b[32m'attributes'\u001b[0m: \u001b[1m{\u001b[0m\u001b[32m'laneDirection'\u001b[0m: \n",
       "\u001b[32m'parallel'\u001b[0m, \u001b[32m'laneStyle'\u001b[0m: \u001b[32m'solid'\u001b[0m, \u001b[32m'laneType'\u001b[0m: \u001b[32m'single yellow'\u001b[0m\u001b[1m}\u001b[0m, \u001b[32m'manualShape'\u001b[0m: \u001b[3;92mTrue\u001b[0m, \u001b[32m'manualAttributes'\u001b[0m: \u001b[3;92mTrue\u001b[0m, \n",
       "\u001b[32m'poly2d'\u001b[0m: \u001b[1m[\u001b[0m\u001b[1m{\u001b[0m\u001b[32m'vertices'\u001b[0m: \u001b[1m[\u001b[0m\u001b[1m[\u001b[0m\u001b[1;36m211.782076\u001b[0m, \u001b[1;36m533.451079\u001b[0m\u001b[1m]\u001b[0m, \u001b[1m[\u001b[0m\u001b[1;36m427.560041\u001b[0m, \u001b[1;36m425.562097\u001b[0m\u001b[1m]\u001b[0m\u001b[1m]\u001b[0m, \u001b[32m'types'\u001b[0m: \u001b[32m'LL'\u001b[0m, \u001b[32m'closed'\u001b[0m: \u001b[3;91mFalse\u001b[0m\u001b[1m}\u001b[0m\u001b[1m]\u001b[0m, \n",
       "\u001b[32m'id'\u001b[0m: \u001b[1;36m41\u001b[0m\u001b[1m}\u001b[0m, \u001b[1m{\u001b[0m\u001b[32m'category'\u001b[0m: \u001b[32m'lane'\u001b[0m, \u001b[32m'attributes'\u001b[0m: \u001b[1m{\u001b[0m\u001b[32m'laneDirection'\u001b[0m: \u001b[32m'parallel'\u001b[0m, \u001b[32m'laneStyle'\u001b[0m: \u001b[32m'solid'\u001b[0m, \u001b[32m'laneType'\u001b[0m: \u001b[32m'road\u001b[0m\n",
       "\u001b[32mcurb'\u001b[0m\u001b[1m}\u001b[0m, \u001b[32m'manualShape'\u001b[0m: \u001b[3;92mTrue\u001b[0m, \u001b[32m'manualAttributes'\u001b[0m: \u001b[3;92mTrue\u001b[0m, \u001b[32m'poly2d'\u001b[0m: \u001b[1m[\u001b[0m\u001b[1m{\u001b[0m\u001b[32m'vertices'\u001b[0m: \u001b[1m[\u001b[0m\u001b[1m[\u001b[0m\u001b[1;36m515.469582\u001b[0m, \u001b[1;36m384.604242\u001b[0m\u001b[1m]\u001b[0m, \u001b[1m[\u001b[0m\u001b[1;36m0\u001b[0m, \n",
       "\u001b[1;36m616.36576\u001b[0m\u001b[1m]\u001b[0m\u001b[1m]\u001b[0m, \u001b[32m'types'\u001b[0m: \u001b[32m'LL'\u001b[0m, \u001b[32m'closed'\u001b[0m: \u001b[3;91mFalse\u001b[0m\u001b[1m}\u001b[0m\u001b[1m]\u001b[0m, \u001b[32m'id'\u001b[0m: \u001b[1;36m42\u001b[0m\u001b[1m}\u001b[0m, \u001b[1m{\u001b[0m\u001b[32m'category'\u001b[0m: \u001b[32m'lane'\u001b[0m, \u001b[32m'attributes'\u001b[0m: \u001b[1m{\u001b[0m\u001b[32m'laneDirection'\u001b[0m: \n",
       "\u001b[32m'parallel'\u001b[0m, \u001b[32m'laneStyle'\u001b[0m: \u001b[32m'solid'\u001b[0m, \u001b[32m'laneType'\u001b[0m: \u001b[32m'road curb'\u001b[0m\u001b[1m}\u001b[0m, \u001b[32m'manualShape'\u001b[0m: \u001b[3;92mTrue\u001b[0m, \u001b[32m'manualAttributes'\u001b[0m: \u001b[3;92mTrue\u001b[0m, \n",
       "\u001b[32m'poly2d'\u001b[0m: \u001b[1m[\u001b[0m\u001b[1m{\u001b[0m\u001b[32m'vertices'\u001b[0m: \u001b[1m[\u001b[0m\u001b[1m[\u001b[0m\u001b[1;36m205.788244\u001b[0m, \u001b[1;36m383.60527\u001b[0m\u001b[1m]\u001b[0m, \u001b[1m[\u001b[0m\u001b[1;36m128.867395\u001b[0m, \u001b[1;36m392.596019\u001b[0m\u001b[1m]\u001b[0m\u001b[1m]\u001b[0m, \u001b[32m'types'\u001b[0m: \u001b[32m'LL'\u001b[0m, \u001b[32m'closed'\u001b[0m: \u001b[3;91mFalse\u001b[0m\u001b[1m}\u001b[0m\u001b[1m]\u001b[0m, \n",
       "\u001b[32m'id'\u001b[0m: \u001b[1;36m43\u001b[0m\u001b[1m}\u001b[0m, \u001b[1m{\u001b[0m\u001b[32m'category'\u001b[0m: \u001b[32m'lane'\u001b[0m, \u001b[32m'attributes'\u001b[0m: \u001b[1m{\u001b[0m\u001b[32m'laneDirection'\u001b[0m: \u001b[32m'vertical'\u001b[0m, \u001b[32m'laneStyle'\u001b[0m: \u001b[32m'dashed'\u001b[0m, \u001b[32m'laneType'\u001b[0m: \n",
       "\u001b[32m'crosswalk'\u001b[0m\u001b[1m}\u001b[0m, \u001b[32m'manualShape'\u001b[0m: \u001b[3;92mTrue\u001b[0m, \u001b[32m'manualAttributes'\u001b[0m: \u001b[3;92mTrue\u001b[0m, \u001b[32m'poly2d'\u001b[0m: \u001b[1m[\u001b[0m\u001b[1m{\u001b[0m\u001b[32m'vertices'\u001b[0m: \u001b[1m[\u001b[0m\u001b[1m[\u001b[0m\u001b[1;36m549.434632\u001b[0m, \u001b[1;36m384.604242\u001b[0m\u001b[1m]\u001b[0m, \n",
       "\u001b[1m[\u001b[0m\u001b[1;36m612.369871\u001b[0m, \u001b[1;36m385.603214\u001b[0m\u001b[1m]\u001b[0m\u001b[1m]\u001b[0m, \u001b[32m'types'\u001b[0m: \u001b[32m'LL'\u001b[0m, \u001b[32m'closed'\u001b[0m: \u001b[3;91mFalse\u001b[0m\u001b[1m}\u001b[0m\u001b[1m]\u001b[0m, \u001b[32m'id'\u001b[0m: \u001b[1;36m44\u001b[0m\u001b[1m}\u001b[0m, \u001b[1m{\u001b[0m\u001b[32m'category'\u001b[0m: \u001b[32m'lane'\u001b[0m, \u001b[32m'attributes'\u001b[0m: \n",
       "\u001b[1m{\u001b[0m\u001b[32m'laneDirection'\u001b[0m: \u001b[32m'vertical'\u001b[0m, \u001b[32m'laneStyle'\u001b[0m: \u001b[32m'dashed'\u001b[0m, \u001b[32m'laneType'\u001b[0m: \u001b[32m'crosswalk'\u001b[0m\u001b[1m}\u001b[0m, \u001b[32m'manualShape'\u001b[0m: \u001b[3;92mTrue\u001b[0m, \n",
       "\u001b[32m'manualAttributes'\u001b[0m: \u001b[3;92mTrue\u001b[0m, \u001b[32m'poly2d'\u001b[0m: \u001b[1m[\u001b[0m\u001b[1m{\u001b[0m\u001b[32m'vertices'\u001b[0m: \u001b[1m[\u001b[0m\u001b[1m[\u001b[0m\u001b[1;36m545.438744\u001b[0m, \u001b[1;36m377.611438\u001b[0m\u001b[1m]\u001b[0m, \u001b[1m[\u001b[0m\u001b[1;36m596.386318\u001b[0m, \u001b[1;36m379.609382\u001b[0m\u001b[1m]\u001b[0m\u001b[1m]\u001b[0m, \u001b[32m'types'\u001b[0m: \n",
       "\u001b[32m'LL'\u001b[0m, \u001b[32m'closed'\u001b[0m: \u001b[3;91mFalse\u001b[0m\u001b[1m}\u001b[0m\u001b[1m]\u001b[0m, \u001b[32m'id'\u001b[0m: \u001b[1;36m45\u001b[0m\u001b[1m}\u001b[0m, \u001b[1m{\u001b[0m\u001b[32m'category'\u001b[0m: \u001b[32m'lane'\u001b[0m, \u001b[32m'attributes'\u001b[0m: \u001b[1m{\u001b[0m\u001b[32m'laneDirection'\u001b[0m: \u001b[32m'parallel'\u001b[0m, \u001b[32m'laneStyle'\u001b[0m: \n",
       "\u001b[32m'dashed'\u001b[0m, \u001b[32m'laneType'\u001b[0m: \u001b[32m'single white'\u001b[0m\u001b[1m}\u001b[0m, \u001b[32m'manualShape'\u001b[0m: \u001b[3;92mTrue\u001b[0m, \u001b[32m'manualAttributes'\u001b[0m: \u001b[3;92mTrue\u001b[0m, \u001b[32m'poly2d'\u001b[0m: \u001b[1m[\u001b[0m\u001b[1m{\u001b[0m\u001b[32m'vertices'\u001b[0m: \n",
       "\u001b[1m[\u001b[0m\u001b[1m[\u001b[0m\u001b[1;36m592.39043\u001b[0m, \u001b[1;36m388.60013\u001b[0m\u001b[1m]\u001b[0m, \u001b[1m[\u001b[0m\u001b[1;36m967.004952\u001b[0m, \u001b[1;36m676.304083\u001b[0m\u001b[1m]\u001b[0m\u001b[1m]\u001b[0m, \u001b[32m'types'\u001b[0m: \u001b[32m'LL'\u001b[0m, \u001b[32m'closed'\u001b[0m: \u001b[3;91mFalse\u001b[0m\u001b[1m}\u001b[0m\u001b[1m]\u001b[0m, \u001b[32m'id'\u001b[0m: \u001b[1;36m46\u001b[0m\u001b[1m}\u001b[0m, \u001b[1m{\u001b[0m\u001b[32m'category'\u001b[0m: \n",
       "\u001b[32m'lane'\u001b[0m, \u001b[32m'attributes'\u001b[0m: \u001b[1m{\u001b[0m\u001b[32m'laneDirection'\u001b[0m: \u001b[32m'parallel'\u001b[0m, \u001b[32m'laneStyle'\u001b[0m: \u001b[32m'dashed'\u001b[0m, \u001b[32m'laneType'\u001b[0m: \u001b[32m'single white'\u001b[0m\u001b[1m}\u001b[0m, \n",
       "\u001b[32m'manualShape'\u001b[0m: \u001b[3;92mTrue\u001b[0m, \u001b[32m'manualAttributes'\u001b[0m: \u001b[3;92mTrue\u001b[0m, \u001b[32m'poly2d'\u001b[0m: \u001b[1m[\u001b[0m\u001b[1m{\u001b[0m\u001b[32m'vertices'\u001b[0m: \u001b[1m[\u001b[0m\u001b[1m[\u001b[0m\u001b[1;36m599.383235\u001b[0m, \u001b[1;36m388.60013\u001b[0m\u001b[1m]\u001b[0m, \u001b[1m[\u001b[0m\u001b[1;36m987.983365\u001b[0m, \n",
       "\u001b[1;36m679.300999\u001b[0m\u001b[1m]\u001b[0m\u001b[1m]\u001b[0m, \u001b[32m'types'\u001b[0m: \u001b[32m'LL'\u001b[0m, \u001b[32m'closed'\u001b[0m: \u001b[3;91mFalse\u001b[0m\u001b[1m}\u001b[0m\u001b[1m]\u001b[0m, \u001b[32m'id'\u001b[0m: \u001b[1;36m47\u001b[0m\u001b[1m}\u001b[0m, \u001b[1m{\u001b[0m\u001b[32m'category'\u001b[0m: \u001b[32m'lane'\u001b[0m, \u001b[32m'attributes'\u001b[0m: \u001b[1m{\u001b[0m\u001b[32m'laneDirection'\u001b[0m: \n",
       "\u001b[32m'parallel'\u001b[0m, \u001b[32m'laneStyle'\u001b[0m: \u001b[32m'dashed'\u001b[0m, \u001b[32m'laneType'\u001b[0m: \u001b[32m'single white'\u001b[0m\u001b[1m}\u001b[0m, \u001b[32m'manualShape'\u001b[0m: \u001b[3;92mTrue\u001b[0m, \u001b[32m'manualAttributes'\u001b[0m: \u001b[3;92mTrue\u001b[0m, \n",
       "\u001b[32m'poly2d'\u001b[0m: \u001b[1m[\u001b[0m\u001b[1m{\u001b[0m\u001b[32m'vertices'\u001b[0m: \u001b[1m[\u001b[0m\u001b[1m[\u001b[0m\u001b[1;36m669.311279\u001b[0m, \u001b[1;36m393.594991\u001b[0m\u001b[1m]\u001b[0m, \u001b[1m[\u001b[0m\u001b[1;36m1279.683206\u001b[0m, \u001b[1;36m581.401738\u001b[0m\u001b[1m]\u001b[0m\u001b[1m]\u001b[0m, \u001b[32m'types'\u001b[0m: \u001b[32m'LL'\u001b[0m, \u001b[32m'closed'\u001b[0m: \u001b[3;91mFalse\u001b[0m\u001b[1m}\u001b[0m\u001b[1m]\u001b[0m, \n",
       "\u001b[32m'id'\u001b[0m: \u001b[1;36m48\u001b[0m\u001b[1m}\u001b[0m, \u001b[1m{\u001b[0m\u001b[32m'category'\u001b[0m: \u001b[32m'lane'\u001b[0m, \u001b[32m'attributes'\u001b[0m: \u001b[1m{\u001b[0m\u001b[32m'laneDirection'\u001b[0m: \u001b[32m'parallel'\u001b[0m, \u001b[32m'laneStyle'\u001b[0m: \u001b[32m'solid'\u001b[0m, \u001b[32m'laneType'\u001b[0m: \n",
       "\u001b[32m'single white'\u001b[0m\u001b[1m}\u001b[0m, \u001b[32m'manualShape'\u001b[0m: \u001b[3;92mTrue\u001b[0m, \u001b[32m'manualAttributes'\u001b[0m: \u001b[3;92mTrue\u001b[0m, \u001b[32m'poly2d'\u001b[0m: \u001b[1m[\u001b[0m\u001b[1m{\u001b[0m\u001b[32m'vertices'\u001b[0m: \u001b[1m[\u001b[0m\u001b[1m[\u001b[0m\u001b[1;36m0\u001b[0m, \u001b[1;36m439.547705\u001b[0m\u001b[1m]\u001b[0m, \n",
       "\u001b[1m[\u001b[0m\u001b[1;36m222.770769\u001b[0m, \u001b[1;36m408.579572\u001b[0m\u001b[1m]\u001b[0m\u001b[1m]\u001b[0m, \u001b[32m'types'\u001b[0m: \u001b[32m'LL'\u001b[0m, \u001b[32m'closed'\u001b[0m: \u001b[3;91mFalse\u001b[0m\u001b[1m}\u001b[0m\u001b[1m]\u001b[0m, \u001b[32m'id'\u001b[0m: \u001b[1;36m49\u001b[0m\u001b[1m}\u001b[0m, \u001b[1m{\u001b[0m\u001b[32m'category'\u001b[0m: \u001b[32m'lane'\u001b[0m, \u001b[32m'attributes'\u001b[0m: \n",
       "\u001b[1m{\u001b[0m\u001b[32m'laneDirection'\u001b[0m: \u001b[32m'parallel'\u001b[0m, \u001b[32m'laneStyle'\u001b[0m: \u001b[32m'solid'\u001b[0m, \u001b[32m'laneType'\u001b[0m: \u001b[32m'single white'\u001b[0m\u001b[1m}\u001b[0m, \u001b[32m'manualShape'\u001b[0m: \u001b[3;92mTrue\u001b[0m, \n",
       "\u001b[32m'manualAttributes'\u001b[0m: \u001b[3;92mTrue\u001b[0m, \u001b[32m'poly2d'\u001b[0m: \u001b[1m[\u001b[0m\u001b[1m{\u001b[0m\u001b[32m'vertices'\u001b[0m: \u001b[1m[\u001b[0m\u001b[1m[\u001b[0m\u001b[1;36m1.997944\u001b[0m, \u001b[1;36m433.553873\u001b[0m\u001b[1m]\u001b[0m, \u001b[1m[\u001b[0m\u001b[1;36m222.770769\u001b[0m, \u001b[1;36m402.585739\u001b[0m\u001b[1m]\u001b[0m\u001b[1m]\u001b[0m, \u001b[32m'types'\u001b[0m: \n",
       "\u001b[32m'LL'\u001b[0m, \u001b[32m'closed'\u001b[0m: \u001b[3;91mFalse\u001b[0m\u001b[1m}\u001b[0m\u001b[1m]\u001b[0m, \u001b[32m'id'\u001b[0m: \u001b[1;36m50\u001b[0m\u001b[1m}\u001b[0m\u001b[1m]\u001b[0m\u001b[1m}\u001b[0m\n"
      ]
     },
     "metadata": {},
     "output_type": "display_data"
    }
   ],
   "source": [
    "sample_image_lael = image_val_labels[0]\n",
    "print(f\"Attributes of 'frame' object: {sample_image_lael.keys()}, sample image lab el: {sample_image_lael}\")"
   ]
  },
  {
   "cell_type": "code",
   "execution_count": null,
   "metadata": {},
   "outputs": [],
   "source": [
    "{\n",
    "    'name': 'b1c66a42-6f7d68ca.jpg', \n",
    "    'attributes': {'weather': 'overcast', 'scene': 'city street', 'timeofday': 'daytime'}, \n",
    "    'timestamp': 10000,\n",
    "}"
   ]
  }
 ],
 "metadata": {
  "kernelspec": {
   "display_name": "itss",
   "language": "python",
   "name": "python3"
  },
  "language_info": {
   "codemirror_mode": {
    "name": "ipython",
    "version": 3
   },
   "file_extension": ".py",
   "mimetype": "text/x-python",
   "name": "python",
   "nbconvert_exporter": "python",
   "pygments_lexer": "ipython3",
   "version": "3.10.14"
  }
 },
 "nbformat": 4,
 "nbformat_minor": 2
}
