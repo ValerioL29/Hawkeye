{
 "cells": [
  {
   "cell_type": "markdown",
   "metadata": {},
   "source": [
    "# Data Preparations\n",
    "\n",
    "This is the notebook used for converting BDD100K dataset into YOLO format."
   ]
  },
  {
   "cell_type": "code",
   "execution_count": 1,
   "metadata": {},
   "outputs": [],
   "source": [
    "import os\n",
    "import json\n",
    "import shutil\n",
    "import numpy as np\n",
    "from tqdm import tqdm\n",
    "from rich import print\n",
    "from pathlib import Path"
   ]
  },
  {
   "cell_type": "markdown",
   "metadata": {},
   "source": [
    "***\n",
    "\n",
    "## Data folder definitions"
   ]
  },
  {
   "cell_type": "code",
   "execution_count": 2,
   "metadata": {},
   "outputs": [],
   "source": [
    "ROOT_DIR = Path(os.getcwd())\n",
    "DATA_DIR = ROOT_DIR / \"data\"\n",
    "BASE_DATA_DIR = ROOT_DIR / \"base_data\"\n",
    "BASE_DATA_PRFIX = \"bdd100k_\"\n",
    "\n",
    "COCO_DATA_DIR = DATA_DIR / \"coco_data\"\n",
    "os.makedirs(COCO_DATA_DIR, exist_ok=True)\n",
    "YOLO_DATA_DIR = DATA_DIR / \"yolo_data\"\n",
    "os.makedirs(YOLO_DATA_DIR, exist_ok=True)"
   ]
  },
  {
   "cell_type": "markdown",
   "metadata": {},
   "source": [
    "***\n",
    "\n",
    "## Helper functions"
   ]
  },
  {
   "cell_type": "code",
   "execution_count": 3,
   "metadata": {},
   "outputs": [],
   "source": [
    "def setup_yolo_output_dir(dataset_name: str):\n",
    "    yolo_output_datadir = YOLO_DATA_DIR / dataset_name\n",
    "    os.makedirs(yolo_output_datadir, exist_ok=True)\n",
    "    yolo_label_dir = YOLO_DATA_DIR / dataset_name / \"labels\"\n",
    "    os.makedirs(yolo_label_dir, exist_ok=True)\n",
    "    os.makedirs(yolo_label_dir / \"train\", exist_ok=True)\n",
    "    os.makedirs(yolo_label_dir / \"val\", exist_ok=True)\n",
    "    yolo_images_dir = YOLO_DATA_DIR / dataset_name / \"images\"\n",
    "    os.makedirs(yolo_images_dir, exist_ok=True)\n",
    "    os.makedirs(yolo_images_dir / \"train\", exist_ok=True)\n",
    "    os.makedirs(yolo_images_dir / \"val\", exist_ok=True)\n",
    "    print(f\"Done setup path for '{dataset_name}'\")\n",
    "    \n",
    "    return yolo_output_datadir, yolo_label_dir, yolo_images_dir"
   ]
  },
  {
   "cell_type": "code",
   "execution_count": 4,
   "metadata": {},
   "outputs": [],
   "source": [
    "from json_to_yolo.general_json2yolo import convert_coco_json\n",
    "\n",
    "def convert_cocojson_to_stdcoco_util(dataset_name: str):\n",
    "    print(f\"Start conversion tasks for dataset: '{dataset_name}'\")\n",
    "    # train set Conversion\n",
    "    _ = convert_coco_json(\n",
    "        json_dir=COCO_DATA_DIR / dataset_name / \"train\",\n",
    "        save_dir=YOLO_DATA_DIR / dataset_name / \"labels\" / \"train\",\n",
    "        use_segments=False if \"seg\" not in dataset_name else True,\n",
    "    )\n",
    "    \n",
    "    # trainset Conversion\n",
    "    _ = convert_coco_json(\n",
    "        json_dir=COCO_DATA_DIR / dataset_name / \"val\",\n",
    "        save_dir=YOLO_DATA_DIR / dataset_name / \"labels\" / \"val\",\n",
    "        use_segments=False if \"seg\" not in dataset_name else True,\n",
    "    )\n",
    "\n",
    "    # All set\n",
    "    print(f\"Finish conversion tasks for dataset: '{dataset_name}'\")\n",
    "    return"
   ]
  },
  {
   "cell_type": "code",
   "execution_count": 5,
   "metadata": {},
   "outputs": [],
   "source": [
    "import cv2\n",
    "from pycocotools import mask as cocomask\n",
    "\n",
    "def rle_to_coco(annotation: dict) -> dict:\n",
    "    \"\"\"Transform the rle coco annotation (a single one) into coco style.\n",
    "    In this case, one mask can contain several polygons, later leading to several `Annotation` objects.\n",
    "    In case of not having a valid polygon (the mask is a single pixel) it will be an empty list.\n",
    "    \n",
    "    Refer to: https://stackoverflow.com/questions/75326066/coco-annotations-convert-rle-to-polygon-segmentation\n",
    "    \n",
    "    Parameters\n",
    "    ----------\n",
    "    annotation : dict\n",
    "        rle coco style annotation\n",
    "    Returns\n",
    "    -------\n",
    "    list[dict]\n",
    "        list of coco style annotations (in dict format)\n",
    "    \"\"\"\n",
    "    tmp_ann = annotation.copy()\n",
    "    masked_arr = cocomask.decode(annotation[\"segmentation\"])\n",
    "    contours, _ = cv2.findContours(masked_arr, cv2.RETR_TREE, cv2.CHAIN_APPROX_SIMPLE)\n",
    "    segmentations = [\n",
    "        contour\n",
    "        for contour in contours if contour.size >= 6\n",
    "    ]\n",
    "    seg_coords = [\n",
    "        seg.astype(float).flatten().tolist()\n",
    "        for seg in segmentations\n",
    "    ]\n",
    "    # Replace the original segmentation object with the new one\n",
    "    tmp_ann['segmentation'] = seg_coords\n",
    "\n",
    "    return tmp_ann"
   ]
  },
  {
   "cell_type": "markdown",
   "metadata": {},
   "source": [
    "***\n",
    "\n",
    "## Image Datadir Reorganization"
   ]
  },
  {
   "cell_type": "code",
   "execution_count": 3,
   "metadata": {},
   "outputs": [],
   "source": [
    "# Reformat images\n",
    "import os\n",
    "\n",
    "ORIGINAL_IMAGE_DIR = BASE_DATA_DIR / \"100k\"\n",
    "NEW_IMAGE_DIR = BASE_DATA_DIR / \"100k_images\"\n",
    "\n",
    "if os.path.exists(NEW_IMAGE_DIR / \"done_reorganization_flags.json\"):\n",
    "    with open(NEW_IMAGE_DIR / \"done_reorganization_flags.json\", \"r\") as f:\n",
    "        done_reorganization_flags = json.load(f)\n",
    "else:\n",
    "    os.makedirs(NEW_IMAGE_DIR / \"train\", exist_ok=True)\n",
    "    os.makedirs(NEW_IMAGE_DIR / \"val\", exist_ok=True)\n",
    "    os.makedirs(NEW_IMAGE_DIR / \"test\", exist_ok=True)\n",
    "    done_reorganization_flags = {\n",
    "        \"train\": False,\n",
    "        \"val\": False,\n",
    "        \"test\": False\n",
    "    }\n",
    "    with open(NEW_IMAGE_DIR / \"done_reorganization_flags.json\", \"w+\") as f:\n",
    "        json.dump(done_reorganization_flags, f)"
   ]
  },
  {
   "cell_type": "code",
   "execution_count": 4,
   "metadata": {},
   "outputs": [],
   "source": [
    "def move_images(image_dir, dest_dir):\n",
    "    print(f\"Moving images from {image_dir} to {dest_dir}\")\n",
    "    image_filenames = [elem for elem in os.listdir(image_dir) if elem.endswith(\".jpg\")]\n",
    "    for image_filename in tqdm(image_filenames):\n",
    "        shutil.move(image_dir / image_filename, dest_dir)\n",
    "    print(\"Done.\")\n",
    "    return"
   ]
  },
  {
   "cell_type": "code",
   "execution_count": 9,
   "metadata": {},
   "outputs": [
    {
     "data": {
      "text/html": [
       "<pre style=\"white-space:pre;overflow-x:auto;line-height:normal;font-family:Menlo,'DejaVu Sans Mono',consolas,'Courier New',monospace\">Train image dir: <span style=\"color: #800080; text-decoration-color: #800080\">/Users/ken/Workspaces/PycharmProjects/bdd100k/base_data/100k/</span><span style=\"color: #ff00ff; text-decoration-color: #ff00ff\">train</span>\n",
       "</pre>\n"
      ],
      "text/plain": [
       "Train image dir: \u001b[35m/Users/ken/Workspaces/PycharmProjects/bdd100k/base_data/100k/\u001b[0m\u001b[95mtrain\u001b[0m\n"
      ]
     },
     "metadata": {},
     "output_type": "display_data"
    },
    {
     "data": {
      "text/plain": [
       "[]"
      ]
     },
     "execution_count": 9,
     "metadata": {},
     "output_type": "execute_result"
    }
   ],
   "source": [
    "# Train\n",
    "train_image_dir = ORIGINAL_IMAGE_DIR / \"train\"\n",
    "print(f\"Train image dir: {train_image_dir}\")\n",
    "[elem for elem in os.listdir(train_image_dir) if not elem.endswith(\".jpg\")]"
   ]
  },
  {
   "cell_type": "code",
   "execution_count": 11,
   "metadata": {},
   "outputs": [],
   "source": [
    "train_target_image_dir = NEW_IMAGE_DIR / \"train\"\n",
    "if not done_reorganization_flags['train']:\n",
    "    _ = move_images(image_dir=train_image_dir, dest_dir=train_target_image_dir)\n",
    "    _ = move_images(image_dir=train_image_dir / \"trainA\", dest_dir=train_target_image_dir)\n",
    "    _ = move_images(image_dir=train_image_dir / \"trainB\", dest_dir=train_target_image_dir)\n",
    "    _ = move_images(image_dir=train_image_dir / \"testA\", dest_dir=train_target_image_dir)\n",
    "    _ = move_images(image_dir=train_image_dir / \"testB\", dest_dir=train_target_image_dir)\n",
    "    done_reorganization_flags['train'] = True"
   ]
  },
  {
   "cell_type": "code",
   "execution_count": 12,
   "metadata": {},
   "outputs": [
    {
     "data": {
      "text/html": [
       "<pre style=\"white-space:pre;overflow-x:auto;line-height:normal;font-family:Menlo,'DejaVu Sans Mono',consolas,'Courier New',monospace\">Val target image dir: <span style=\"color: #800080; text-decoration-color: #800080\">/Users/ken/Workspaces/PycharmProjects/bdd100k/base_data/100k/</span><span style=\"color: #ff00ff; text-decoration-color: #ff00ff\">val</span>\n",
       "</pre>\n"
      ],
      "text/plain": [
       "Val target image dir: \u001b[35m/Users/ken/Workspaces/PycharmProjects/bdd100k/base_data/100k/\u001b[0m\u001b[95mval\u001b[0m\n"
      ]
     },
     "metadata": {},
     "output_type": "display_data"
    },
    {
     "data": {
      "text/plain": [
       "[]"
      ]
     },
     "execution_count": 12,
     "metadata": {},
     "output_type": "execute_result"
    }
   ],
   "source": [
    "# Val\n",
    "val_image_dir = ORIGINAL_IMAGE_DIR / \"val\"\n",
    "print(f\"Val target image dir: {val_image_dir}\")\n",
    "[elem for elem in os.listdir(val_image_dir) if not elem.endswith(\".jpg\")]"
   ]
  },
  {
   "cell_type": "code",
   "execution_count": 13,
   "metadata": {},
   "outputs": [],
   "source": [
    "val_target_image_dir = NEW_IMAGE_DIR / \"val\"\n",
    "if not done_reorganization_flags['val']:\n",
    "    _ = move_images(image_dir=val_image_dir, dest_dir=val_target_image_dir)\n",
    "    done_reorganization_flags['val'] = True"
   ]
  },
  {
   "cell_type": "code",
   "execution_count": 14,
   "metadata": {},
   "outputs": [
    {
     "data": {
      "text/html": [
       "<pre style=\"white-space:pre;overflow-x:auto;line-height:normal;font-family:Menlo,'DejaVu Sans Mono',consolas,'Courier New',monospace\">Test target image dir: <span style=\"color: #800080; text-decoration-color: #800080\">/Users/ken/Workspaces/PycharmProjects/bdd100k/base_data/100k/</span><span style=\"color: #ff00ff; text-decoration-color: #ff00ff\">test</span>\n",
       "</pre>\n"
      ],
      "text/plain": [
       "Test target image dir: \u001b[35m/Users/ken/Workspaces/PycharmProjects/bdd100k/base_data/100k/\u001b[0m\u001b[95mtest\u001b[0m\n"
      ]
     },
     "metadata": {},
     "output_type": "display_data"
    },
    {
     "data": {
      "text/plain": [
       "[]"
      ]
     },
     "execution_count": 14,
     "metadata": {},
     "output_type": "execute_result"
    }
   ],
   "source": [
    "# Test\n",
    "test_image_dir = ORIGINAL_IMAGE_DIR / \"test\"\n",
    "print(f\"Test target image dir: {test_image_dir}\")\n",
    "[elem for elem in os.listdir(test_image_dir) if not elem.endswith(\".jpg\")]"
   ]
  },
  {
   "cell_type": "code",
   "execution_count": 15,
   "metadata": {},
   "outputs": [],
   "source": [
    "test_target_image_dir = NEW_IMAGE_DIR / \"test\"\n",
    "if not done_reorganization_flags['test']:\n",
    "    _ = move_images(image_dir=test_image_dir, dest_dir=test_target_image_dir)\n",
    "    _ = move_images(image_dir=test_image_dir / \"trainA\", dest_dir=test_target_image_dir)\n",
    "    _ = move_images(image_dir=test_image_dir / \"trainB\", dest_dir=test_target_image_dir)\n",
    "    _ = move_images(image_dir=test_image_dir / \"testA\", dest_dir=test_target_image_dir)\n",
    "    _ = move_images(image_dir=test_image_dir / \"testB\", dest_dir=test_target_image_dir)\n",
    "    done_reorganization_flags['test'] = True"
   ]
  },
  {
   "cell_type": "code",
   "execution_count": 16,
   "metadata": {},
   "outputs": [],
   "source": [
    "# Image ID Set\n",
    "train_image_ids = set([elem.split(\".\")[0] for elem in os.listdir(train_target_image_dir)])\n",
    "val_image_ids = set([elem.split(\".\")[0] for elem in os.listdir(val_target_image_dir)])\n",
    "test_image_ids = set([elem.split(\".\")[0] for elem in os.listdir(test_target_image_dir)])\n",
    "full_image_ids = train_image_ids.union(val_image_ids).union(test_image_ids)"
   ]
  },
  {
   "cell_type": "code",
   "execution_count": 17,
   "metadata": {},
   "outputs": [
    {
     "data": {
      "text/plain": [
       "(100000, 70000, 10000, 20000)"
      ]
     },
     "execution_count": 17,
     "metadata": {},
     "output_type": "execute_result"
    }
   ],
   "source": [
    "len(full_image_ids), len(train_image_ids), len(val_image_ids), len(test_image_ids)"
   ]
  },
  {
   "cell_type": "code",
   "execution_count": 29,
   "metadata": {},
   "outputs": [],
   "source": [
    "# Dump image ids\n",
    "import json\n",
    "\n",
    "dump_dict = {\n",
    "    \"train\": sorted(list(train_image_ids)),\n",
    "    \"val\": sorted(list(val_image_ids)),\n",
    "    \"test\": sorted(list(test_image_ids)),\n",
    "}\n",
    "with open(BASE_DATA_DIR / \"100k_images\" / \"image_ids_info.json\", \"w+\") as f:\n",
    "    json.dump(dump_dict, f)"
   ]
  },
  {
   "cell_type": "markdown",
   "metadata": {},
   "source": [
    "***\n",
    "\n",
    "## Detection"
   ]
  },
  {
   "cell_type": "code",
   "execution_count": 8,
   "metadata": {},
   "outputs": [
    {
     "data": {
      "text/html": [
       "<pre style=\"white-space:pre;overflow-x:auto;line-height:normal;font-family:Menlo,'DejaVu Sans Mono',consolas,'Courier New',monospace\">Done setup path for <span style=\"color: #008000; text-decoration-color: #008000\">'det_20_labels_trainval'</span>\n",
       "</pre>\n"
      ],
      "text/plain": [
       "Done setup path for \u001b[32m'det_20_labels_trainval'\u001b[0m\n"
      ]
     },
     "metadata": {},
     "output_type": "display_data"
    }
   ],
   "source": [
    "# Setup yolo data dir\n",
    "yolo_output_datadir, yolo_label_dir, yolo_images_dir = setup_yolo_output_dir(dataset_name=\"det_20_labels_trainval\")"
   ]
  },
  {
   "cell_type": "code",
   "execution_count": 19,
   "metadata": {},
   "outputs": [
    {
     "data": {
      "text/html": [
       "<pre style=\"white-space:pre;overflow-x:auto;line-height:normal;font-family:Menlo,'DejaVu Sans Mono',consolas,'Courier New',monospace\">Start conversion tasks for dataset: <span style=\"color: #008000; text-decoration-color: #008000\">'det_20_labels_trainval'</span>\n",
       "</pre>\n"
      ],
      "text/plain": [
       "Start conversion tasks for dataset: \u001b[32m'det_20_labels_trainval'\u001b[0m\n"
      ]
     },
     "metadata": {},
     "output_type": "display_data"
    },
    {
     "name": "stderr",
     "output_type": "stream",
     "text": [
      "Annotations /Users/ken/Workspaces/PycharmProjects/bdd100k/data/coco_data/det_20_labels_trainval/train/det_train.json: 100%|██████████| 69853/69853 [00:12<00:00, 5429.19it/s]\n",
      "Annotations /Users/ken/Workspaces/PycharmProjects/bdd100k/data/coco_data/det_20_labels_trainval/val/det_val.json: 100%|██████████| 10000/10000 [00:01<00:00, 5878.76it/s]\n"
     ]
    },
    {
     "data": {
      "text/html": [
       "<pre style=\"white-space:pre;overflow-x:auto;line-height:normal;font-family:Menlo,'DejaVu Sans Mono',consolas,'Courier New',monospace\">Finish conversion tasks for dataset: <span style=\"color: #008000; text-decoration-color: #008000\">'det_20_labels_trainval'</span>\n",
       "</pre>\n"
      ],
      "text/plain": [
       "Finish conversion tasks for dataset: \u001b[32m'det_20_labels_trainval'\u001b[0m\n"
      ]
     },
     "metadata": {},
     "output_type": "display_data"
    }
   ],
   "source": [
    "_ = convert_cocojson_to_stdcoco_util(dataset_name=\"det_20_labels_trainval\")"
   ]
  },
  {
   "cell_type": "code",
   "execution_count": 16,
   "metadata": {},
   "outputs": [],
   "source": [
    "with open(NEW_IMAGE_DIR / \"image_ids_info.json\", \"r\") as f:\n",
    "    image_ids_info = json.load(f)\n",
    "\n",
    "train_image_ids = set(image_ids_info[\"train\"])\n",
    "val_image_ids = set(image_ids_info[\"val\"])\n",
    "test_image_ids = set(image_ids_info[\"test\"])\n",
    "full_image_ids = train_image_ids.union(val_image_ids).union(test_image_ids)"
   ]
  },
  {
   "cell_type": "code",
   "execution_count": 18,
   "metadata": {},
   "outputs": [],
   "source": [
    "train_label_ids = set([elem.split(\".\")[0] for elem in os.listdir(yolo_label_dir / \"train\")])\n",
    "val_label_ids = set([elem.split(\".\")[0] for elem in os.listdir(yolo_label_dir / \"val\")])\n",
    "full_label_ids = train_label_ids.union(val_label_ids)"
   ]
  },
  {
   "cell_type": "code",
   "execution_count": 17,
   "metadata": {},
   "outputs": [
    {
     "data": {
      "text/plain": [
       "(100000, 70000, 10000, 20000)"
      ]
     },
     "execution_count": 17,
     "metadata": {},
     "output_type": "execute_result"
    }
   ],
   "source": [
    "len(full_image_ids), len(train_image_ids), len(val_image_ids), len(test_image_ids)"
   ]
  },
  {
   "cell_type": "code",
   "execution_count": 19,
   "metadata": {},
   "outputs": [
    {
     "data": {
      "text/plain": [
       "(79853, 69853, 10000)"
      ]
     },
     "execution_count": 19,
     "metadata": {},
     "output_type": "execute_result"
    }
   ],
   "source": [
    "len(full_label_ids), len(train_label_ids), len(val_label_ids)"
   ]
  },
  {
   "cell_type": "code",
   "execution_count": 14,
   "metadata": {},
   "outputs": [
    {
     "data": {
      "text/html": [
       "<pre style=\"white-space:pre;overflow-x:auto;line-height:normal;font-family:Menlo,'DejaVu Sans Mono',consolas,'Courier New',monospace\">Train label ids not in train image ids: <span style=\"color: #800080; text-decoration-color: #800080; font-weight: bold\">set</span><span style=\"font-weight: bold\">()</span>\n",
       "</pre>\n"
      ],
      "text/plain": [
       "Train label ids not in train image ids: \u001b[1;35mset\u001b[0m\u001b[1m(\u001b[0m\u001b[1m)\u001b[0m\n"
      ]
     },
     "metadata": {},
     "output_type": "display_data"
    },
    {
     "data": {
      "text/html": [
       "<pre style=\"white-space:pre;overflow-x:auto;line-height:normal;font-family:Menlo,'DejaVu Sans Mono',consolas,'Courier New',monospace\">Val label ids not in val image ids: <span style=\"color: #800080; text-decoration-color: #800080; font-weight: bold\">set</span><span style=\"font-weight: bold\">()</span>\n",
       "</pre>\n"
      ],
      "text/plain": [
       "Val label ids not in val image ids: \u001b[1;35mset\u001b[0m\u001b[1m(\u001b[0m\u001b[1m)\u001b[0m\n"
      ]
     },
     "metadata": {},
     "output_type": "display_data"
    }
   ],
   "source": [
    "print(f\"Train label ids not in train image ids: {train_label_ids - train_image_ids}\")\n",
    "print(f\"Val label ids not in val image ids: {val_label_ids - val_image_ids}\")"
   ]
  },
  {
   "cell_type": "markdown",
   "metadata": {},
   "source": [
    "***\n",
    "\n",
    "## Our Own BDD100K to COCO"
   ]
  },
  {
   "cell_type": "code",
   "execution_count": 6,
   "metadata": {},
   "outputs": [],
   "source": [
    "dataset_name = \"drivable_labels_trainval\"\n",
    "raw_rle_train_path = BASE_DATA_DIR / (BASE_DATA_PRFIX + dataset_name) / \"rles\" / \"drivable_train.json\"\n",
    "raw_rle_val_path = BASE_DATA_DIR / (BASE_DATA_PRFIX + dataset_name) / \"rles\" / \"drivable_val.json\""
   ]
  },
  {
   "cell_type": "code",
   "execution_count": 7,
   "metadata": {},
   "outputs": [],
   "source": [
    "with open(raw_rle_train_path, \"r\") as f:\n",
    "    drivable_train_rle = json.load(f)\n",
    "    \n",
    "with open(raw_rle_val_path, \"r\") as f:\n",
    "    drivable_val_rle = json.load(f)"
   ]
  },
  {
   "cell_type": "code",
   "execution_count": 8,
   "metadata": {},
   "outputs": [
    {
     "data": {
      "text/html": [
       "<pre style=\"white-space:pre;overflow-x:auto;line-height:normal;font-family:Menlo,'DejaVu Sans Mono',consolas,'Courier New',monospace\">Attributes: <span style=\"color: #800080; text-decoration-color: #800080; font-weight: bold\">dict_keys</span><span style=\"font-weight: bold\">([</span><span style=\"color: #008000; text-decoration-color: #008000\">'frames'</span>, <span style=\"color: #008000; text-decoration-color: #008000\">'groups'</span>, <span style=\"color: #008000; text-decoration-color: #008000\">'config'</span><span style=\"font-weight: bold\">])</span>\n",
       "</pre>\n"
      ],
      "text/plain": [
       "Attributes: \u001b[1;35mdict_keys\u001b[0m\u001b[1m(\u001b[0m\u001b[1m[\u001b[0m\u001b[32m'frames'\u001b[0m, \u001b[32m'groups'\u001b[0m, \u001b[32m'config'\u001b[0m\u001b[1m]\u001b[0m\u001b[1m)\u001b[0m\n"
      ]
     },
     "metadata": {},
     "output_type": "display_data"
    },
    {
     "data": {
      "text/html": [
       "<pre style=\"white-space:pre;overflow-x:auto;line-height:normal;font-family:Menlo,'DejaVu Sans Mono',consolas,'Courier New',monospace\">Attributes of <span style=\"color: #008000; text-decoration-color: #008000\">'frame'</span> object: <span style=\"color: #800080; text-decoration-color: #800080; font-weight: bold\">dict_keys</span><span style=\"font-weight: bold\">([</span><span style=\"color: #008000; text-decoration-color: #008000\">'name'</span>, <span style=\"color: #008000; text-decoration-color: #008000\">'url'</span>, <span style=\"color: #008000; text-decoration-color: #008000\">'videoName'</span>, <span style=\"color: #008000; text-decoration-color: #008000\">'intrinsics'</span>, <span style=\"color: #008000; text-decoration-color: #008000\">'extrinsics'</span>, <span style=\"color: #008000; text-decoration-color: #008000\">'attributes'</span>, \n",
       "<span style=\"color: #008000; text-decoration-color: #008000\">'timestamp'</span>, <span style=\"color: #008000; text-decoration-color: #008000\">'frameIndex'</span>, <span style=\"color: #008000; text-decoration-color: #008000\">'size'</span>, <span style=\"color: #008000; text-decoration-color: #008000\">'labels'</span><span style=\"font-weight: bold\">])</span>, sample frame: <span style=\"font-weight: bold\">{</span><span style=\"color: #008000; text-decoration-color: #008000\">'name'</span>: <span style=\"color: #008000; text-decoration-color: #008000\">'0000f77c-6257be58.jpg'</span>, <span style=\"color: #008000; text-decoration-color: #008000\">'url'</span>: <span style=\"color: #800080; text-decoration-color: #800080; font-style: italic\">None</span>, \n",
       "<span style=\"color: #008000; text-decoration-color: #008000\">'videoName'</span>: <span style=\"color: #800080; text-decoration-color: #800080; font-style: italic\">None</span>, <span style=\"color: #008000; text-decoration-color: #008000\">'intrinsics'</span>: <span style=\"color: #800080; text-decoration-color: #800080; font-style: italic\">None</span>, <span style=\"color: #008000; text-decoration-color: #008000\">'extrinsics'</span>: <span style=\"color: #800080; text-decoration-color: #800080; font-style: italic\">None</span>, <span style=\"color: #008000; text-decoration-color: #008000\">'attributes'</span>: <span style=\"color: #800080; text-decoration-color: #800080; font-style: italic\">None</span>, <span style=\"color: #008000; text-decoration-color: #008000\">'timestamp'</span>: <span style=\"color: #800080; text-decoration-color: #800080; font-style: italic\">None</span>, <span style=\"color: #008000; text-decoration-color: #008000\">'frameIndex'</span>: \n",
       "<span style=\"color: #800080; text-decoration-color: #800080; font-style: italic\">None</span>, <span style=\"color: #008000; text-decoration-color: #008000\">'size'</span>: <span style=\"color: #800080; text-decoration-color: #800080; font-style: italic\">None</span>, <span style=\"color: #008000; text-decoration-color: #008000\">'labels'</span>: <span style=\"font-weight: bold\">[{</span><span style=\"color: #008000; text-decoration-color: #008000\">'id'</span>: <span style=\"color: #008000; text-decoration-color: #008000\">'0'</span>, <span style=\"color: #008000; text-decoration-color: #008000\">'index'</span>: <span style=\"color: #800080; text-decoration-color: #800080; font-style: italic\">None</span>, <span style=\"color: #008000; text-decoration-color: #008000\">'manualShape'</span>: <span style=\"color: #800080; text-decoration-color: #800080; font-style: italic\">None</span>, <span style=\"color: #008000; text-decoration-color: #008000\">'manualAttributes'</span>: <span style=\"color: #800080; text-decoration-color: #800080; font-style: italic\">None</span>, <span style=\"color: #008000; text-decoration-color: #008000\">'score'</span>: \n",
       "<span style=\"color: #800080; text-decoration-color: #800080; font-style: italic\">None</span>, <span style=\"color: #008000; text-decoration-color: #008000\">'attributes'</span>: <span style=\"font-weight: bold\">{</span><span style=\"color: #008000; text-decoration-color: #008000\">'areaType'</span>: <span style=\"color: #008000; text-decoration-color: #008000\">'direct'</span><span style=\"font-weight: bold\">}</span>, <span style=\"color: #008000; text-decoration-color: #008000\">'category'</span>: <span style=\"color: #008000; text-decoration-color: #008000\">'direct'</span>, <span style=\"color: #008000; text-decoration-color: #008000\">'box2d'</span>: <span style=\"font-weight: bold\">{</span><span style=\"color: #008000; text-decoration-color: #008000\">'x1'</span>: <span style=\"color: #008080; text-decoration-color: #008080; font-weight: bold\">0.0</span>, <span style=\"color: #008000; text-decoration-color: #008000\">'y1'</span>: <span style=\"color: #008080; text-decoration-color: #008080; font-weight: bold\">367.0</span>, <span style=\"color: #008000; text-decoration-color: #008000\">'x2'</span>: <span style=\"color: #008080; text-decoration-color: #008080; font-weight: bold\">1279.0</span>, \n",
       "<span style=\"color: #008000; text-decoration-color: #008000\">'y2'</span>: <span style=\"color: #008080; text-decoration-color: #008080; font-weight: bold\">625.0</span><span style=\"font-weight: bold\">}</span>, <span style=\"color: #008000; text-decoration-color: #008000\">'box3d'</span>: <span style=\"color: #800080; text-decoration-color: #800080; font-style: italic\">None</span>, <span style=\"color: #008000; text-decoration-color: #008000\">'poly2d'</span>: <span style=\"color: #800080; text-decoration-color: #800080; font-style: italic\">None</span>, <span style=\"color: #008000; text-decoration-color: #008000\">'rle'</span>: <span style=\"font-weight: bold\">{</span><span style=\"color: #008000; text-decoration-color: #008000\">'counts'</span>: \n",
       "<span style=\"color: #008000; text-decoration-color: #008000\">'U`0f2jc0000000000O1000O10000000O100000O1000O1000000000O01000000000000O10O10000000O10000000O1000O1000000000O0100000</span>\n",
       "<span style=\"color: #008000; text-decoration-color: #008000\">0000000O10O10000000O100000O1000O1000000000000O01000000000O100000O100000O10000000000O0100000000000O1000O100000O10000</span>\n",
       "<span style=\"color: #008000; text-decoration-color: #008000\">000000O0100000000000O100000O1000O1000000000000O10O10000000O1000000000O10O10000000000O100000O1000O1000000000000O10O1</span>\n",
       "<span style=\"color: #008000; text-decoration-color: #008000\">0000000O1000000000000O01000000000O100000000000O010000000000O1000000000O01000000000000O1000000000O01000000000000O100</span>\n",
       "<span style=\"color: #008000; text-decoration-color: #008000\">0000000O01000000000000O10000000000O01000000000O1000000000000O10O10000000O1000000000000O10000000O10O1000000000000O10</span>\n",
       "<span style=\"color: #008000; text-decoration-color: #008000\">000000000O01000000000O1000000000000O1000000000O01000000000000O10000000000O10000000O1000O10000000000O10000000000O100</span>\n",
       "<span style=\"color: #008000; text-decoration-color: #008000\">0000000O10O10000000000O1000000000000O10000000000O1000O10000000O10000000000O10000000000O1000000000000O10O10000000O10</span>\n",
       "<span style=\"color: #008000; text-decoration-color: #008000\">00000000000O10000000000O1000000000000O10000000O10O10000000000O1000000000000O10000000000O1000000000000O10000000000O1</span>\n",
       "<span style=\"color: #008000; text-decoration-color: #008000\">00000000000O010000000000O10000000000O1000000000000O10000000000O1000000000000O10000000000O1000000000000O10000000000O</span>\n",
       "<span style=\"color: #008000; text-decoration-color: #008000\">10000000000O1000000000000O10000000000O1000000000000O10000000000O1000000000000O10000000000O10000000000O1000000000000</span>\n",
       "<span style=\"color: #008000; text-decoration-color: #008000\">O10000000000O1000000000000000000001O00001O00001O00001O00001O0000001O00001O00001O00001O0000001O00001O00001O00001O000</span>\n",
       "<span style=\"color: #008000; text-decoration-color: #008000\">01O0000001O00001O00001O00001O00001O0001O01O00001O00001O0000000000000000000000O1000000000000000000O10000000001O00000</span>\n",
       "<span style=\"color: #008000; text-decoration-color: #008000\">00O10000000000000000O1000000000000000000O100000000000001O000O1000000000000000000O10000000000000000O1000000000001O00</span>\n",
       "<span style=\"color: #008000; text-decoration-color: #008000\">000O1000000000000000000O1000000000001O000O1000000000000000000O100000000000001O000O10000000000000000O100000000000000</span>\n",
       "<span style=\"color: #008000; text-decoration-color: #008000\">0001N1000000000000000000O1000000000001O000O1000000000000000000O10001O0000000000000O100000000000001O0O10000000000000</span>\n",
       "<span style=\"color: #008000; text-decoration-color: #008000\">00000O1000001O00000000000N2O1O1O1O1O1O1O1O2N1N2O1O1O1O1O1O1O1O1N2O1O1O2N1O1O1O1O1N2O1O1O1O1O1O2N1O1N2O1O1O1O1O1O1O1</span>\n",
       "<span style=\"color: #008000; text-decoration-color: #008000\">O1N3N1O1O1O1O1O1O1O100000001O00000000000000000000001O00000000000000000000001O00000000000000000000001O00000000000000</span>\n",
       "<span style=\"color: #008000; text-decoration-color: #008000\">00001O0000000000000000001O00000000000000000010O00000000000000000001O0000000000000000001O0000000000000000001O0000000</span>\n",
       "<span style=\"color: #008000; text-decoration-color: #008000\">000000000001O00000000000000001O000000000000001O00000000000000001O00000001O00000001O00000000000000001O00000000000000</span>\n",
       "<span style=\"color: #008000; text-decoration-color: #008000\">1O00000000000000001O00000000000000001O000000000000001O000000000000001O0000000000001O0000000000000010O00000000000001</span>\n",
       "<span style=\"color: #008000; text-decoration-color: #008000\">O000000000000001O000000000000001O0000000000001O000000000000001O0000000000001O0000000000001O0000000000001O0000000000</span>\n",
       "<span style=\"color: #008000; text-decoration-color: #008000\">001O000001O000001O0000000000001O0000000000001O0000000000001O0000000000001O0000000000001O0000000000001O00000000001O0</span>\n",
       "<span style=\"color: #008000; text-decoration-color: #008000\">000000000001O00000000001O00000000000]D'</span>, <span style=\"color: #008000; text-decoration-color: #008000\">'size'</span>: <span style=\"font-weight: bold\">[</span><span style=\"color: #008080; text-decoration-color: #008080; font-weight: bold\">720</span>, <span style=\"color: #008080; text-decoration-color: #008080; font-weight: bold\">1280</span><span style=\"font-weight: bold\">]}</span>, <span style=\"color: #008000; text-decoration-color: #008000\">'graph'</span>: <span style=\"color: #800080; text-decoration-color: #800080; font-style: italic\">None</span><span style=\"font-weight: bold\">}]}</span>\n",
       "</pre>\n"
      ],
      "text/plain": [
       "Attributes of \u001b[32m'frame'\u001b[0m object: \u001b[1;35mdict_keys\u001b[0m\u001b[1m(\u001b[0m\u001b[1m[\u001b[0m\u001b[32m'name'\u001b[0m, \u001b[32m'url'\u001b[0m, \u001b[32m'videoName'\u001b[0m, \u001b[32m'intrinsics'\u001b[0m, \u001b[32m'extrinsics'\u001b[0m, \u001b[32m'attributes'\u001b[0m, \n",
       "\u001b[32m'timestamp'\u001b[0m, \u001b[32m'frameIndex'\u001b[0m, \u001b[32m'size'\u001b[0m, \u001b[32m'labels'\u001b[0m\u001b[1m]\u001b[0m\u001b[1m)\u001b[0m, sample frame: \u001b[1m{\u001b[0m\u001b[32m'name'\u001b[0m: \u001b[32m'0000f77c-6257be58.jpg'\u001b[0m, \u001b[32m'url'\u001b[0m: \u001b[3;35mNone\u001b[0m, \n",
       "\u001b[32m'videoName'\u001b[0m: \u001b[3;35mNone\u001b[0m, \u001b[32m'intrinsics'\u001b[0m: \u001b[3;35mNone\u001b[0m, \u001b[32m'extrinsics'\u001b[0m: \u001b[3;35mNone\u001b[0m, \u001b[32m'attributes'\u001b[0m: \u001b[3;35mNone\u001b[0m, \u001b[32m'timestamp'\u001b[0m: \u001b[3;35mNone\u001b[0m, \u001b[32m'frameIndex'\u001b[0m: \n",
       "\u001b[3;35mNone\u001b[0m, \u001b[32m'size'\u001b[0m: \u001b[3;35mNone\u001b[0m, \u001b[32m'labels'\u001b[0m: \u001b[1m[\u001b[0m\u001b[1m{\u001b[0m\u001b[32m'id'\u001b[0m: \u001b[32m'0'\u001b[0m, \u001b[32m'index'\u001b[0m: \u001b[3;35mNone\u001b[0m, \u001b[32m'manualShape'\u001b[0m: \u001b[3;35mNone\u001b[0m, \u001b[32m'manualAttributes'\u001b[0m: \u001b[3;35mNone\u001b[0m, \u001b[32m'score'\u001b[0m: \n",
       "\u001b[3;35mNone\u001b[0m, \u001b[32m'attributes'\u001b[0m: \u001b[1m{\u001b[0m\u001b[32m'areaType'\u001b[0m: \u001b[32m'direct'\u001b[0m\u001b[1m}\u001b[0m, \u001b[32m'category'\u001b[0m: \u001b[32m'direct'\u001b[0m, \u001b[32m'box2d'\u001b[0m: \u001b[1m{\u001b[0m\u001b[32m'x1'\u001b[0m: \u001b[1;36m0.0\u001b[0m, \u001b[32m'y1'\u001b[0m: \u001b[1;36m367.0\u001b[0m, \u001b[32m'x2'\u001b[0m: \u001b[1;36m1279.0\u001b[0m, \n",
       "\u001b[32m'y2'\u001b[0m: \u001b[1;36m625.0\u001b[0m\u001b[1m}\u001b[0m, \u001b[32m'box3d'\u001b[0m: \u001b[3;35mNone\u001b[0m, \u001b[32m'poly2d'\u001b[0m: \u001b[3;35mNone\u001b[0m, \u001b[32m'rle'\u001b[0m: \u001b[1m{\u001b[0m\u001b[32m'counts'\u001b[0m: \n",
       "\u001b[32m'U`0f2jc0000000000O1000O10000000O100000O1000O1000000000O01000000000000O10O10000000O10000000O1000O1000000000O0100000\u001b[0m\n",
       "\u001b[32m0000000O10O10000000O100000O1000O1000000000000O01000000000O100000O100000O10000000000O0100000000000O1000O100000O10000\u001b[0m\n",
       "\u001b[32m000000O0100000000000O100000O1000O1000000000000O10O10000000O1000000000O10O10000000000O100000O1000O1000000000000O10O1\u001b[0m\n",
       "\u001b[32m0000000O1000000000000O01000000000O100000000000O010000000000O1000000000O01000000000000O1000000000O01000000000000O100\u001b[0m\n",
       "\u001b[32m0000000O01000000000000O10000000000O01000000000O1000000000000O10O10000000O1000000000000O10000000O10O1000000000000O10\u001b[0m\n",
       "\u001b[32m000000000O01000000000O1000000000000O1000000000O01000000000000O10000000000O10000000O1000O10000000000O10000000000O100\u001b[0m\n",
       "\u001b[32m0000000O10O10000000000O1000000000000O10000000000O1000O10000000O10000000000O10000000000O1000000000000O10O10000000O10\u001b[0m\n",
       "\u001b[32m00000000000O10000000000O1000000000000O10000000O10O10000000000O1000000000000O10000000000O1000000000000O10000000000O1\u001b[0m\n",
       "\u001b[32m00000000000O010000000000O10000000000O1000000000000O10000000000O1000000000000O10000000000O1000000000000O10000000000O\u001b[0m\n",
       "\u001b[32m10000000000O1000000000000O10000000000O1000000000000O10000000000O1000000000000O10000000000O10000000000O1000000000000\u001b[0m\n",
       "\u001b[32mO10000000000O1000000000000000000001O00001O00001O00001O00001O0000001O00001O00001O00001O0000001O00001O00001O00001O000\u001b[0m\n",
       "\u001b[32m01O0000001O00001O00001O00001O00001O0001O01O00001O00001O0000000000000000000000O1000000000000000000O10000000001O00000\u001b[0m\n",
       "\u001b[32m00O10000000000000000O1000000000000000000O100000000000001O000O1000000000000000000O10000000000000000O1000000000001O00\u001b[0m\n",
       "\u001b[32m000O1000000000000000000O1000000000001O000O1000000000000000000O100000000000001O000O10000000000000000O100000000000000\u001b[0m\n",
       "\u001b[32m0001N1000000000000000000O1000000000001O000O1000000000000000000O10001O0000000000000O100000000000001O0O10000000000000\u001b[0m\n",
       "\u001b[32m00000O1000001O00000000000N2O1O1O1O1O1O1O1O2N1N2O1O1O1O1O1O1O1O1N2O1O1O2N1O1O1O1O1N2O1O1O1O1O1O2N1O1N2O1O1O1O1O1O1O1\u001b[0m\n",
       "\u001b[32mO1N3N1O1O1O1O1O1O1O100000001O00000000000000000000001O00000000000000000000001O00000000000000000000001O00000000000000\u001b[0m\n",
       "\u001b[32m00001O0000000000000000001O00000000000000000010O00000000000000000001O0000000000000000001O0000000000000000001O0000000\u001b[0m\n",
       "\u001b[32m000000000001O00000000000000001O000000000000001O00000000000000001O00000001O00000001O00000000000000001O00000000000000\u001b[0m\n",
       "\u001b[32m1O00000000000000001O00000000000000001O000000000000001O000000000000001O0000000000001O0000000000000010O00000000000001\u001b[0m\n",
       "\u001b[32mO000000000000001O000000000000001O0000000000001O000000000000001O0000000000001O0000000000001O0000000000001O0000000000\u001b[0m\n",
       "\u001b[32m001O000001O000001O0000000000001O0000000000001O0000000000001O0000000000001O0000000000001O0000000000001O00000000001O0\u001b[0m\n",
       "\u001b[32m000000000001O00000000001O00000000000\u001b[0m\u001b[32m]\u001b[0m\u001b[32mD'\u001b[0m, \u001b[32m'size'\u001b[0m: \u001b[1m[\u001b[0m\u001b[1;36m720\u001b[0m, \u001b[1;36m1280\u001b[0m\u001b[1m]\u001b[0m\u001b[1m}\u001b[0m, \u001b[32m'graph'\u001b[0m: \u001b[3;35mNone\u001b[0m\u001b[1m}\u001b[0m\u001b[1m]\u001b[0m\u001b[1m}\u001b[0m\n"
      ]
     },
     "metadata": {},
     "output_type": "display_data"
    }
   ],
   "source": [
    "print(f\"Attributes: {drivable_train_rle.keys()}\")\n",
    "sample_frame = drivable_train_rle['frames'][0]\n",
    "print(f\"Attributes of 'frame' object: {sample_frame.keys()}, sample frame: {sample_frame}\")"
   ]
  },
  {
   "cell_type": "code",
   "execution_count": 9,
   "metadata": {},
   "outputs": [
    {
     "data": {
      "text/html": [
       "<pre style=\"white-space:pre;overflow-x:auto;line-height:normal;font-family:Menlo,'DejaVu Sans Mono',consolas,'Courier New',monospace\"><span style=\"color: #800080; text-decoration-color: #800080; font-style: italic\">None</span>\n",
       "</pre>\n"
      ],
      "text/plain": [
       "\u001b[3;35mNone\u001b[0m\n"
      ]
     },
     "metadata": {},
     "output_type": "display_data"
    },
    {
     "data": {
      "text/html": [
       "<pre style=\"white-space:pre;overflow-x:auto;line-height:normal;font-family:Menlo,'DejaVu Sans Mono',consolas,'Courier New',monospace\"><span style=\"color: #800080; text-decoration-color: #800080; font-style: italic\">None</span>\n",
       "</pre>\n"
      ],
      "text/plain": [
       "\u001b[3;35mNone\u001b[0m\n"
      ]
     },
     "metadata": {},
     "output_type": "display_data"
    },
    {
     "data": {
      "text/plain": [
       "(66921, 9546)"
      ]
     },
     "execution_count": 9,
     "metadata": {},
     "output_type": "execute_result"
    }
   ],
   "source": [
    "print(drivable_train_rle['groups'])\n",
    "print(drivable_train_rle['config'])\n",
    "len(drivable_train_rle['frames']), len(drivable_val_rle['frames'])\n",
    "len([elem for elem in drivable_train_rle['frames'] if elem['labels']]), len([elem for elem in drivable_val_rle['frames'] if elem['labels']])"
   ]
  },
  {
   "cell_type": "code",
   "execution_count": 10,
   "metadata": {},
   "outputs": [],
   "source": [
    "from pycocotools import mask as cocomask\n",
    "\n",
    "def process_frame_object_segments(frame: dict, label_dir: str, category_map: dict):\n",
    "    \"\"\"Process the frame object and save the labels in the label directory.\"\"\"\n",
    "    frame_id, _ = frame['name'].split(\".\")\n",
    "    \n",
    "    # Process Labels\n",
    "    frame_labels = frame['labels']\n",
    "    \n",
    "    if not frame_labels:\n",
    "        # print(f\"Frame '{frame_id}' has no labels. Skipping...\")\n",
    "        return\n",
    "    \n",
    "    label_data = []\n",
    "    for label in frame_labels:\n",
    "        category = label['category']\n",
    "        if category in category_map:\n",
    "            category_id = category_map[category]\n",
    "        else:\n",
    "            raise RuntimeError(f\"Category '{category}' not found in the category map. Skipping...\")\n",
    "        \n",
    "        # rle obj\n",
    "        rle_obj = label['rle']\n",
    "        h, w = rle_obj['size']\n",
    "        masked_arr = cocomask.decode(rle_obj) # Decode the rle object\n",
    "        contours, _ = cv2.findContours(masked_arr, cv2.RETR_TREE, cv2.CHAIN_APPROX_SIMPLE)\n",
    "        segmentations = [\n",
    "            contour.astype(np.float32).flatten().tolist()\n",
    "            for contour in contours\n",
    "        ]\n",
    "        scaled_segmentations = [\n",
    "            (np.array(segmentation).reshape(-1, 2) / np.array([w, h]))\n",
    "            .reshape(-1)\n",
    "            .tolist()\n",
    "            for segmentation in segmentations\n",
    "        ]\n",
    "        label_str_segmentations = [\n",
    "            \" \".join(\n",
    "                [str(category_id)] +\n",
    "                [\"{:.4f}\".format(seg) for seg in scaled_seg]\n",
    "            ) + \"\\n\"\n",
    "            for scaled_seg in scaled_segmentations\n",
    "        ]\n",
    "        label_data += label_str_segmentations\n",
    "    # End processing loop for labels\n",
    "    \n",
    "    # Save the labels\n",
    "    frame_label_path = label_dir / f\"{frame_id}.txt\"\n",
    "    with open(frame_label_path, \"w+\") as f:\n",
    "        f.writelines(label_data)\n",
    "    # End saving labels\n",
    "    return"
   ]
  },
  {
   "cell_type": "code",
   "execution_count": 11,
   "metadata": {},
   "outputs": [],
   "source": [
    "def convert_rle_seg_dataset(raw_data: dict, dataset_name: str, split: str, category_map: dict):\n",
    "    # Define paths\n",
    "    frames = raw_data['frames']\n",
    "    target_label_dir = YOLO_DATA_DIR / dataset_name / \"labels\" / split\n",
    "    # Process frames\n",
    "    for frame in tqdm(frames, desc=f\"Annotations for '{dataset_name}' {split} set\"):\n",
    "        _ = process_frame_object_segments(\n",
    "            frame, \n",
    "            label_dir=target_label_dir,\n",
    "            category_map=category_map\n",
    "        )\n",
    "    return len(os.listdir(target_label_dir))"
   ]
  },
  {
   "cell_type": "code",
   "execution_count": 12,
   "metadata": {},
   "outputs": [
    {
     "data": {
      "text/html": [
       "<pre style=\"white-space:pre;overflow-x:auto;line-height:normal;font-family:Menlo,'DejaVu Sans Mono',consolas,'Courier New',monospace\">Done setup path for <span style=\"color: #008000; text-decoration-color: #008000\">'drivable_labels_trainval'</span>\n",
       "</pre>\n"
      ],
      "text/plain": [
       "Done setup path for \u001b[32m'drivable_labels_trainval'\u001b[0m\n"
      ]
     },
     "metadata": {},
     "output_type": "display_data"
    },
    {
     "name": "stderr",
     "output_type": "stream",
     "text": [
      "Annotations for 'drivable_labels_trainval' train set: 100%|██████████| 70000/70000 [02:25<00:00, 479.49it/s]\n"
     ]
    }
   ],
   "source": [
    "_ = setup_yolo_output_dir(dataset_name=dataset_name)\n",
    "\n",
    "drivable_cat_map = {\n",
    "    \"direct\": 0,\n",
    "    \"alternative\": 1,\n",
    "    \"background\": 2,\n",
    "    \"unknown\": 2\n",
    "}\n",
    "split = \"train\"\n",
    "\n",
    "num_labels = convert_rle_seg_dataset(\n",
    "    raw_data=drivable_train_rle,\n",
    "    dataset_name=dataset_name,\n",
    "    split=split,\n",
    "    category_map=drivable_cat_map\n",
    ")"
   ]
  },
  {
   "cell_type": "code",
   "execution_count": 13,
   "metadata": {},
   "outputs": [
    {
     "name": "stderr",
     "output_type": "stream",
     "text": [
      "Annotations for 'drivable_labels_trainval' val set: 100%|██████████| 10000/10000 [00:20<00:00, 491.29it/s]\n"
     ]
    }
   ],
   "source": [
    "split = \"val\"\n",
    "\n",
    "num_labels = convert_rle_seg_dataset(\n",
    "    raw_data=drivable_val_rle,\n",
    "    dataset_name=dataset_name,\n",
    "    split=split,\n",
    "    category_map=drivable_cat_map\n",
    ")"
   ]
  },
  {
   "cell_type": "markdown",
   "metadata": {},
   "source": [
    "***\n",
    "\n",
    "## Lane Labeling"
   ]
  },
  {
   "cell_type": "code",
   "execution_count": 6,
   "metadata": {},
   "outputs": [],
   "source": [
    "dataset_name = \"lane_labels_trainval\"\n",
    "poly_labels_dir = BASE_DATA_DIR / (BASE_DATA_PRFIX + dataset_name) / \"polygons\"\n",
    "mask_labels_dir = BASE_DATA_DIR / (BASE_DATA_PRFIX + dataset_name) / \"masks\"\n",
    "\n",
    "raw_poly_train_path = BASE_DATA_DIR / (BASE_DATA_PRFIX + dataset_name) / \"polygons\" / \"lane_train.json\"\n",
    "raw_poly_val_path = BASE_DATA_DIR / (BASE_DATA_PRFIX + dataset_name) / \"polygons\" / \"lane_val.json\""
   ]
  },
  {
   "cell_type": "code",
   "execution_count": 7,
   "metadata": {},
   "outputs": [],
   "source": [
    "with open(raw_poly_train_path, \"r\") as f:\n",
    "    lane_poly_train = json.load(f)\n",
    "\n",
    "with open(raw_poly_val_path, \"r\") as f:\n",
    "    lane_poly_val = json.load(f)"
   ]
  },
  {
   "cell_type": "code",
   "execution_count": 8,
   "metadata": {},
   "outputs": [
    {
     "data": {
      "text/html": [
       "<pre style=\"white-space:pre;overflow-x:auto;line-height:normal;font-family:Menlo,'DejaVu Sans Mono',consolas,'Courier New',monospace\">Attributes: <span style=\"color: #800080; text-decoration-color: #800080; font-weight: bold\">dict_keys</span><span style=\"font-weight: bold\">([</span><span style=\"color: #008000; text-decoration-color: #008000\">'name'</span>, <span style=\"color: #008000; text-decoration-color: #008000\">'labels'</span><span style=\"font-weight: bold\">])</span>\n",
       "</pre>\n"
      ],
      "text/plain": [
       "Attributes: \u001b[1;35mdict_keys\u001b[0m\u001b[1m(\u001b[0m\u001b[1m[\u001b[0m\u001b[32m'name'\u001b[0m, \u001b[32m'labels'\u001b[0m\u001b[1m]\u001b[0m\u001b[1m)\u001b[0m\n"
      ]
     },
     "metadata": {},
     "output_type": "display_data"
    }
   ],
   "source": [
    "print(f\"Attributes: {lane_poly_train[0].keys()}\")"
   ]
  },
  {
   "cell_type": "code",
   "execution_count": 9,
   "metadata": {},
   "outputs": [
    {
     "data": {
      "text/html": [
       "<pre style=\"white-space:pre;overflow-x:auto;line-height:normal;font-family:Menlo,'DejaVu Sans Mono',consolas,'Courier New',monospace\">Attributes of <span style=\"color: #008000; text-decoration-color: #008000\">'frame'</span> object: <span style=\"color: #800080; text-decoration-color: #800080; font-weight: bold\">dict_keys</span><span style=\"font-weight: bold\">([</span><span style=\"color: #008000; text-decoration-color: #008000\">'name'</span>, <span style=\"color: #008000; text-decoration-color: #008000\">'labels'</span><span style=\"font-weight: bold\">])</span>, sample frame: <span style=\"font-weight: bold\">{</span><span style=\"color: #008000; text-decoration-color: #008000\">'name'</span>: <span style=\"color: #008000; text-decoration-color: #008000\">'0000f77c-6257be58.jpg'</span>, \n",
       "<span style=\"color: #008000; text-decoration-color: #008000\">'labels'</span>: <span style=\"font-weight: bold\">[{</span><span style=\"color: #008000; text-decoration-color: #008000\">'id'</span>: <span style=\"color: #008000; text-decoration-color: #008000\">'0'</span>, <span style=\"color: #008000; text-decoration-color: #008000\">'attributes'</span>: <span style=\"font-weight: bold\">{</span><span style=\"color: #008000; text-decoration-color: #008000\">'laneDirection'</span>: <span style=\"color: #008000; text-decoration-color: #008000\">'parallel'</span>, <span style=\"color: #008000; text-decoration-color: #008000\">'laneStyle'</span>: <span style=\"color: #008000; text-decoration-color: #008000\">'solid'</span>, <span style=\"color: #008000; text-decoration-color: #008000\">'laneTypes'</span>: <span style=\"color: #008000; text-decoration-color: #008000\">'road curb'</span><span style=\"font-weight: bold\">}</span>,\n",
       "<span style=\"color: #008000; text-decoration-color: #008000\">'category'</span>: <span style=\"color: #008000; text-decoration-color: #008000\">'road curb'</span>, <span style=\"color: #008000; text-decoration-color: #008000\">'poly2d'</span>: <span style=\"font-weight: bold\">[{</span><span style=\"color: #008000; text-decoration-color: #008000\">'vertices'</span>: <span style=\"font-weight: bold\">[[</span><span style=\"color: #008080; text-decoration-color: #008080; font-weight: bold\">503.674413</span>, <span style=\"color: #008080; text-decoration-color: #008080; font-weight: bold\">373.137193</span><span style=\"font-weight: bold\">]</span>, <span style=\"font-weight: bold\">[</span><span style=\"color: #008080; text-decoration-color: #008080; font-weight: bold\">357.797732</span>, <span style=\"color: #008080; text-decoration-color: #008080; font-weight: bold\">374.672737</span><span style=\"font-weight: bold\">]]</span>, <span style=\"color: #008000; text-decoration-color: #008000\">'types'</span>: \n",
       "<span style=\"color: #008000; text-decoration-color: #008000\">'LL'</span>, <span style=\"color: #008000; text-decoration-color: #008000\">'closed'</span>: <span style=\"color: #ff0000; text-decoration-color: #ff0000; font-style: italic\">False</span><span style=\"font-weight: bold\">}]}</span>, <span style=\"font-weight: bold\">{</span><span style=\"color: #008000; text-decoration-color: #008000\">'id'</span>: <span style=\"color: #008000; text-decoration-color: #008000\">'1'</span>, <span style=\"color: #008000; text-decoration-color: #008000\">'attributes'</span>: <span style=\"font-weight: bold\">{</span><span style=\"color: #008000; text-decoration-color: #008000\">'laneDirection'</span>: <span style=\"color: #008000; text-decoration-color: #008000\">'parallel'</span>, <span style=\"color: #008000; text-decoration-color: #008000\">'laneStyle'</span>: <span style=\"color: #008000; text-decoration-color: #008000\">'solid'</span>, \n",
       "<span style=\"color: #008000; text-decoration-color: #008000\">'laneTypes'</span>: <span style=\"color: #008000; text-decoration-color: #008000\">'road curb'</span><span style=\"font-weight: bold\">}</span>, <span style=\"color: #008000; text-decoration-color: #008000\">'category'</span>: <span style=\"color: #008000; text-decoration-color: #008000\">'road curb'</span>, <span style=\"color: #008000; text-decoration-color: #008000\">'poly2d'</span>: <span style=\"font-weight: bold\">[{</span><span style=\"color: #008000; text-decoration-color: #008000\">'vertices'</span>: <span style=\"font-weight: bold\">[[</span><span style=\"color: #008080; text-decoration-color: #008080; font-weight: bold\">62.973282</span>, <span style=\"color: #008080; text-decoration-color: #008080; font-weight: bold\">371.601649</span><span style=\"font-weight: bold\">]</span>, <span style=\"font-weight: bold\">[</span><span style=\"color: #008080; text-decoration-color: #008080; font-weight: bold\">0.0</span>, \n",
       "<span style=\"color: #008080; text-decoration-color: #008080; font-weight: bold\">368.53056</span><span style=\"font-weight: bold\">]]</span>, <span style=\"color: #008000; text-decoration-color: #008000\">'types'</span>: <span style=\"color: #008000; text-decoration-color: #008000\">'LL'</span>, <span style=\"color: #008000; text-decoration-color: #008000\">'closed'</span>: <span style=\"color: #ff0000; text-decoration-color: #ff0000; font-style: italic\">False</span><span style=\"font-weight: bold\">}]}</span>, <span style=\"font-weight: bold\">{</span><span style=\"color: #008000; text-decoration-color: #008000\">'id'</span>: <span style=\"color: #008000; text-decoration-color: #008000\">'2'</span>, <span style=\"color: #008000; text-decoration-color: #008000\">'attributes'</span>: <span style=\"font-weight: bold\">{</span><span style=\"color: #008000; text-decoration-color: #008000\">'laneDirection'</span>: <span style=\"color: #008000; text-decoration-color: #008000\">'parallel'</span>, \n",
       "<span style=\"color: #008000; text-decoration-color: #008000\">'laneStyle'</span>: <span style=\"color: #008000; text-decoration-color: #008000\">'solid'</span>, <span style=\"color: #008000; text-decoration-color: #008000\">'laneTypes'</span>: <span style=\"color: #008000; text-decoration-color: #008000\">'road curb'</span><span style=\"font-weight: bold\">}</span>, <span style=\"color: #008000; text-decoration-color: #008000\">'category'</span>: <span style=\"color: #008000; text-decoration-color: #008000\">'road curb'</span>, <span style=\"color: #008000; text-decoration-color: #008000\">'poly2d'</span>: <span style=\"font-weight: bold\">[{</span><span style=\"color: #008000; text-decoration-color: #008000\">'vertices'</span>: <span style=\"font-weight: bold\">[[</span><span style=\"color: #008080; text-decoration-color: #008080; font-weight: bold\">1274.517503</span>, \n",
       "<span style=\"color: #008080; text-decoration-color: #008080; font-weight: bold\">376.208281</span><span style=\"font-weight: bold\">]</span>, <span style=\"font-weight: bold\">[</span><span style=\"color: #008080; text-decoration-color: #008080; font-weight: bold\">905.986941</span>, <span style=\"color: #008080; text-decoration-color: #008080; font-weight: bold\">371.601649</span><span style=\"font-weight: bold\">]]</span>, <span style=\"color: #008000; text-decoration-color: #008000\">'types'</span>: <span style=\"color: #008000; text-decoration-color: #008000\">'LL'</span>, <span style=\"color: #008000; text-decoration-color: #008000\">'closed'</span>: <span style=\"color: #ff0000; text-decoration-color: #ff0000; font-style: italic\">False</span><span style=\"font-weight: bold\">}]}]}</span>\n",
       "</pre>\n"
      ],
      "text/plain": [
       "Attributes of \u001b[32m'frame'\u001b[0m object: \u001b[1;35mdict_keys\u001b[0m\u001b[1m(\u001b[0m\u001b[1m[\u001b[0m\u001b[32m'name'\u001b[0m, \u001b[32m'labels'\u001b[0m\u001b[1m]\u001b[0m\u001b[1m)\u001b[0m, sample frame: \u001b[1m{\u001b[0m\u001b[32m'name'\u001b[0m: \u001b[32m'0000f77c-6257be58.jpg'\u001b[0m, \n",
       "\u001b[32m'labels'\u001b[0m: \u001b[1m[\u001b[0m\u001b[1m{\u001b[0m\u001b[32m'id'\u001b[0m: \u001b[32m'0'\u001b[0m, \u001b[32m'attributes'\u001b[0m: \u001b[1m{\u001b[0m\u001b[32m'laneDirection'\u001b[0m: \u001b[32m'parallel'\u001b[0m, \u001b[32m'laneStyle'\u001b[0m: \u001b[32m'solid'\u001b[0m, \u001b[32m'laneTypes'\u001b[0m: \u001b[32m'road curb'\u001b[0m\u001b[1m}\u001b[0m,\n",
       "\u001b[32m'category'\u001b[0m: \u001b[32m'road curb'\u001b[0m, \u001b[32m'poly2d'\u001b[0m: \u001b[1m[\u001b[0m\u001b[1m{\u001b[0m\u001b[32m'vertices'\u001b[0m: \u001b[1m[\u001b[0m\u001b[1m[\u001b[0m\u001b[1;36m503.674413\u001b[0m, \u001b[1;36m373.137193\u001b[0m\u001b[1m]\u001b[0m, \u001b[1m[\u001b[0m\u001b[1;36m357.797732\u001b[0m, \u001b[1;36m374.672737\u001b[0m\u001b[1m]\u001b[0m\u001b[1m]\u001b[0m, \u001b[32m'types'\u001b[0m: \n",
       "\u001b[32m'LL'\u001b[0m, \u001b[32m'closed'\u001b[0m: \u001b[3;91mFalse\u001b[0m\u001b[1m}\u001b[0m\u001b[1m]\u001b[0m\u001b[1m}\u001b[0m, \u001b[1m{\u001b[0m\u001b[32m'id'\u001b[0m: \u001b[32m'1'\u001b[0m, \u001b[32m'attributes'\u001b[0m: \u001b[1m{\u001b[0m\u001b[32m'laneDirection'\u001b[0m: \u001b[32m'parallel'\u001b[0m, \u001b[32m'laneStyle'\u001b[0m: \u001b[32m'solid'\u001b[0m, \n",
       "\u001b[32m'laneTypes'\u001b[0m: \u001b[32m'road curb'\u001b[0m\u001b[1m}\u001b[0m, \u001b[32m'category'\u001b[0m: \u001b[32m'road curb'\u001b[0m, \u001b[32m'poly2d'\u001b[0m: \u001b[1m[\u001b[0m\u001b[1m{\u001b[0m\u001b[32m'vertices'\u001b[0m: \u001b[1m[\u001b[0m\u001b[1m[\u001b[0m\u001b[1;36m62.973282\u001b[0m, \u001b[1;36m371.601649\u001b[0m\u001b[1m]\u001b[0m, \u001b[1m[\u001b[0m\u001b[1;36m0.0\u001b[0m, \n",
       "\u001b[1;36m368.53056\u001b[0m\u001b[1m]\u001b[0m\u001b[1m]\u001b[0m, \u001b[32m'types'\u001b[0m: \u001b[32m'LL'\u001b[0m, \u001b[32m'closed'\u001b[0m: \u001b[3;91mFalse\u001b[0m\u001b[1m}\u001b[0m\u001b[1m]\u001b[0m\u001b[1m}\u001b[0m, \u001b[1m{\u001b[0m\u001b[32m'id'\u001b[0m: \u001b[32m'2'\u001b[0m, \u001b[32m'attributes'\u001b[0m: \u001b[1m{\u001b[0m\u001b[32m'laneDirection'\u001b[0m: \u001b[32m'parallel'\u001b[0m, \n",
       "\u001b[32m'laneStyle'\u001b[0m: \u001b[32m'solid'\u001b[0m, \u001b[32m'laneTypes'\u001b[0m: \u001b[32m'road curb'\u001b[0m\u001b[1m}\u001b[0m, \u001b[32m'category'\u001b[0m: \u001b[32m'road curb'\u001b[0m, \u001b[32m'poly2d'\u001b[0m: \u001b[1m[\u001b[0m\u001b[1m{\u001b[0m\u001b[32m'vertices'\u001b[0m: \u001b[1m[\u001b[0m\u001b[1m[\u001b[0m\u001b[1;36m1274.517503\u001b[0m, \n",
       "\u001b[1;36m376.208281\u001b[0m\u001b[1m]\u001b[0m, \u001b[1m[\u001b[0m\u001b[1;36m905.986941\u001b[0m, \u001b[1;36m371.601649\u001b[0m\u001b[1m]\u001b[0m\u001b[1m]\u001b[0m, \u001b[32m'types'\u001b[0m: \u001b[32m'LL'\u001b[0m, \u001b[32m'closed'\u001b[0m: \u001b[3;91mFalse\u001b[0m\u001b[1m}\u001b[0m\u001b[1m]\u001b[0m\u001b[1m}\u001b[0m\u001b[1m]\u001b[0m\u001b[1m}\u001b[0m\n"
      ]
     },
     "metadata": {},
     "output_type": "display_data"
    }
   ],
   "source": [
    "sample_poly = lane_poly_train[0]\n",
    "print(f\"Attributes of 'frame' object: {sample_poly.keys()}, sample frame: {sample_poly}\")"
   ]
  },
  {
   "cell_type": "code",
   "execution_count": 10,
   "metadata": {},
   "outputs": [
    {
     "data": {
      "text/html": [
       "<pre style=\"white-space:pre;overflow-x:auto;line-height:normal;font-family:Menlo,'DejaVu Sans Mono',consolas,'Courier New',monospace\">Attributes of <span style=\"color: #008000; text-decoration-color: #008000\">'label'</span> object: <span style=\"color: #800080; text-decoration-color: #800080; font-weight: bold\">dict_keys</span><span style=\"font-weight: bold\">([</span><span style=\"color: #008000; text-decoration-color: #008000\">'id'</span>, <span style=\"color: #008000; text-decoration-color: #008000\">'attributes'</span>, <span style=\"color: #008000; text-decoration-color: #008000\">'category'</span>, <span style=\"color: #008000; text-decoration-color: #008000\">'poly2d'</span><span style=\"font-weight: bold\">])</span>, sample label: <span style=\"font-weight: bold\">{</span><span style=\"color: #008000; text-decoration-color: #008000\">'id'</span>: <span style=\"color: #008000; text-decoration-color: #008000\">'0'</span>, \n",
       "<span style=\"color: #008000; text-decoration-color: #008000\">'attributes'</span>: <span style=\"font-weight: bold\">{</span><span style=\"color: #008000; text-decoration-color: #008000\">'laneDirection'</span>: <span style=\"color: #008000; text-decoration-color: #008000\">'parallel'</span>, <span style=\"color: #008000; text-decoration-color: #008000\">'laneStyle'</span>: <span style=\"color: #008000; text-decoration-color: #008000\">'solid'</span>, <span style=\"color: #008000; text-decoration-color: #008000\">'laneTypes'</span>: <span style=\"color: #008000; text-decoration-color: #008000\">'road curb'</span><span style=\"font-weight: bold\">}</span>, <span style=\"color: #008000; text-decoration-color: #008000\">'category'</span>: <span style=\"color: #008000; text-decoration-color: #008000\">'road </span>\n",
       "<span style=\"color: #008000; text-decoration-color: #008000\">curb'</span>, <span style=\"color: #008000; text-decoration-color: #008000\">'poly2d'</span>: <span style=\"font-weight: bold\">[{</span><span style=\"color: #008000; text-decoration-color: #008000\">'vertices'</span>: <span style=\"font-weight: bold\">[[</span><span style=\"color: #008080; text-decoration-color: #008080; font-weight: bold\">503.674413</span>, <span style=\"color: #008080; text-decoration-color: #008080; font-weight: bold\">373.137193</span><span style=\"font-weight: bold\">]</span>, <span style=\"font-weight: bold\">[</span><span style=\"color: #008080; text-decoration-color: #008080; font-weight: bold\">357.797732</span>, <span style=\"color: #008080; text-decoration-color: #008080; font-weight: bold\">374.672737</span><span style=\"font-weight: bold\">]]</span>, <span style=\"color: #008000; text-decoration-color: #008000\">'types'</span>: <span style=\"color: #008000; text-decoration-color: #008000\">'LL'</span>, <span style=\"color: #008000; text-decoration-color: #008000\">'closed'</span>: \n",
       "<span style=\"color: #ff0000; text-decoration-color: #ff0000; font-style: italic\">False</span><span style=\"font-weight: bold\">}]}</span>\n",
       "</pre>\n"
      ],
      "text/plain": [
       "Attributes of \u001b[32m'label'\u001b[0m object: \u001b[1;35mdict_keys\u001b[0m\u001b[1m(\u001b[0m\u001b[1m[\u001b[0m\u001b[32m'id'\u001b[0m, \u001b[32m'attributes'\u001b[0m, \u001b[32m'category'\u001b[0m, \u001b[32m'poly2d'\u001b[0m\u001b[1m]\u001b[0m\u001b[1m)\u001b[0m, sample label: \u001b[1m{\u001b[0m\u001b[32m'id'\u001b[0m: \u001b[32m'0'\u001b[0m, \n",
       "\u001b[32m'attributes'\u001b[0m: \u001b[1m{\u001b[0m\u001b[32m'laneDirection'\u001b[0m: \u001b[32m'parallel'\u001b[0m, \u001b[32m'laneStyle'\u001b[0m: \u001b[32m'solid'\u001b[0m, \u001b[32m'laneTypes'\u001b[0m: \u001b[32m'road curb'\u001b[0m\u001b[1m}\u001b[0m, \u001b[32m'category'\u001b[0m: \u001b[32m'road \u001b[0m\n",
       "\u001b[32mcurb'\u001b[0m, \u001b[32m'poly2d'\u001b[0m: \u001b[1m[\u001b[0m\u001b[1m{\u001b[0m\u001b[32m'vertices'\u001b[0m: \u001b[1m[\u001b[0m\u001b[1m[\u001b[0m\u001b[1;36m503.674413\u001b[0m, \u001b[1;36m373.137193\u001b[0m\u001b[1m]\u001b[0m, \u001b[1m[\u001b[0m\u001b[1;36m357.797732\u001b[0m, \u001b[1;36m374.672737\u001b[0m\u001b[1m]\u001b[0m\u001b[1m]\u001b[0m, \u001b[32m'types'\u001b[0m: \u001b[32m'LL'\u001b[0m, \u001b[32m'closed'\u001b[0m: \n",
       "\u001b[3;91mFalse\u001b[0m\u001b[1m}\u001b[0m\u001b[1m]\u001b[0m\u001b[1m}\u001b[0m\n"
      ]
     },
     "metadata": {},
     "output_type": "display_data"
    }
   ],
   "source": [
    "sample_label = sample_poly['labels'][0]\n",
    "print(f\"Attributes of 'label' object: {sample_label.keys()}, sample label: {sample_label}\")"
   ]
  },
  {
   "cell_type": "code",
   "execution_count": 19,
   "metadata": {},
   "outputs": [],
   "source": [
    "def process_poly_object_segments(poly: dict, label_dir: Path, category_map: dict):\n",
    "    \"\"\"Process the frame object and save the labels in the label directory.\"\"\"\n",
    "    label_id, _ = poly['name'].split(\".\")\n",
    "    \n",
    "    # Process Labels\n",
    "    if \"labels\" not in poly.keys(): return\n",
    "    else: poly_labels = poly['labels']\n",
    "    \n",
    "    if not poly_labels:\n",
    "        # print(f\"Frame '{frame_id}' has no labels. Skipping...\")\n",
    "        return\n",
    "    \n",
    "    label_data = []\n",
    "    for label in poly_labels:\n",
    "        category = label['category']\n",
    "        if category in category_map:\n",
    "            category_id = category_map[category]\n",
    "        else:\n",
    "            raise RuntimeError(f\"Category '{category}' not found in the category map. Skipping...\")\n",
    "        \n",
    "        # poly obj\n",
    "        poly_obj = label['poly2d'] # list of vertice objects\n",
    "        poly_attr = label['attributes']\n",
    "        h, w = 720, 1280\n",
    "        \n",
    "        segmentations = [\n",
    "            np.array(vertice_obj['vertices']).astype(np.float32) # shape: (2, 2)\n",
    "            for vertice_obj in poly_obj\n",
    "        ]\n",
    "        scaled_segmentations = [\n",
    "            (segmentation / np.array([w, h]))\n",
    "            .reshape(-1)\n",
    "            .tolist()\n",
    "            for segmentation in segmentations\n",
    "        ]\n",
    "        label_str_segmentations = [\n",
    "            \" \".join(\n",
    "                [str(category_id)] +\n",
    "                [\"{:.4f}\".format(seg) for seg in scaled_seg]\n",
    "            ) + \"\\n\"\n",
    "            for scaled_seg in scaled_segmentations\n",
    "        ]\n",
    "        label_data += label_str_segmentations\n",
    "    # End processing loop for labels\n",
    "    \n",
    "    # Save the labels\n",
    "    poly_label_path = label_dir / f\"{label_id}.txt\"\n",
    "    with open(poly_label_path, \"w+\") as f:\n",
    "        f.writelines(label_data)\n",
    "    # End saving labels\n",
    "    return"
   ]
  },
  {
   "cell_type": "code",
   "execution_count": 20,
   "metadata": {},
   "outputs": [],
   "source": [
    "def convert_poly_seg_dataset(raw_data: list, dataset_name: str, split: str, category_map: dict):\n",
    "    # Define paths\n",
    "    target_label_dir = YOLO_DATA_DIR / dataset_name / \"labels\" / split\n",
    "    # Process frames\n",
    "    for poly in tqdm(raw_data, desc=f\"Annotations for '{dataset_name}' {split} set\"):\n",
    "        _ = process_poly_object_segments(\n",
    "            poly, \n",
    "            label_dir=target_label_dir,\n",
    "            category_map=category_map\n",
    "        )\n",
    "    return len(os.listdir(target_label_dir))"
   ]
  },
  {
   "cell_type": "code",
   "execution_count": 21,
   "metadata": {},
   "outputs": [
    {
     "data": {
      "text/html": [
       "<pre style=\"white-space:pre;overflow-x:auto;line-height:normal;font-family:Menlo,'DejaVu Sans Mono',consolas,'Courier New',monospace\">Done setup path for <span style=\"color: #008000; text-decoration-color: #008000\">'lane_labels_trainval'</span>\n",
       "</pre>\n"
      ],
      "text/plain": [
       "Done setup path for \u001b[32m'lane_labels_trainval'\u001b[0m\n"
      ]
     },
     "metadata": {},
     "output_type": "display_data"
    },
    {
     "name": "stderr",
     "output_type": "stream",
     "text": [
      "Annotations for 'lane_labels_trainval' train set: 100%|██████████| 70000/70000 [00:08<00:00, 8676.64it/s]\n"
     ]
    }
   ],
   "source": [
    "_ = setup_yolo_output_dir(dataset_name=dataset_name)\n",
    "lane_cat_map = {\n",
    "    \"crosswalk\": 0,\n",
    "    \"double other\": 1,\n",
    "    \"double white\": 2,\n",
    "    \"double yellow\": 3,\n",
    "    \"road curb\": 4,\n",
    "    \"single other\": 5,\n",
    "    \"single white\": 6,\n",
    "    \"single yellow\": 7,\n",
    "    \"background\": 8\n",
    "}\n",
    "split = \"train\"\n",
    "\n",
    "num_labels = convert_poly_seg_dataset(\n",
    "    raw_data=lane_poly_train,\n",
    "    dataset_name=dataset_name,\n",
    "    split=split,\n",
    "    category_map=lane_cat_map\n",
    ")"
   ]
  },
  {
   "cell_type": "code",
   "execution_count": 22,
   "metadata": {},
   "outputs": [
    {
     "name": "stderr",
     "output_type": "stream",
     "text": [
      "Annotations for 'lane_labels_trainval' val set: 100%|██████████| 10000/10000 [00:01<00:00, 9582.79it/s]\n"
     ]
    }
   ],
   "source": [
    "split = \"val\"\n",
    "\n",
    "num_labels = convert_poly_seg_dataset(\n",
    "    raw_data=lane_poly_val,\n",
    "    dataset_name=dataset_name,\n",
    "    split=split,\n",
    "    category_map=lane_cat_map\n",
    ")"
   ]
  },
  {
   "cell_type": "code",
   "execution_count": null,
   "metadata": {},
   "outputs": [],
   "source": [
    "from PIL import Image\n",
    "\n",
    "def process_poly_mask_segment(poly: dict, label_dir: Path, category_map: dict, mask_dir: Path):\n",
    "    \"\"\"Process the frame object and save the labels in the label directory.\"\"\"\n",
    "    label_id, _ = poly['name'].split(\".\")\n",
    "    \n",
    "    # Process Labels\n",
    "    if \"labels\" not in poly.keys() or poly['labels'] is None: return\n",
    "    else: poly_labels = poly['labels']\n",
    "    \n",
    "    label_data = []\n",
    "    for label in poly_labels:\n",
    "        # Category mapping into class index\n",
    "        category = label['category']\n",
    "        if category in category_map: category_id = category_map[category]\n",
    "        else: raise RuntimeError(f\"Category '{category}' not found in the category map. Skipping...\")\n",
    "        \n",
    "        # use mask picture instead of polygon\n",
    "        poly_mask = Image.open(mask_dir / poly['name']) # mask image name is the same as the original image name\n",
    "        masked_arr = poly_mask.toarray()\n",
    "        \n",
    "        poly_attr = label['attributes']\n",
    "        h, w = 720, 1280\n",
    "        \n",
    "        segmentations = [\n",
    "            np.array(vertice_obj['vertices']).astype(np.float32) # shape: (2, 2)\n",
    "            for vertice_obj in poly_obj\n",
    "        ]\n",
    "        scaled_segmentations = [\n",
    "            (segmentation / np.array([w, h]))\n",
    "            .reshape(-1)\n",
    "            .tolist()\n",
    "            for segmentation in segmentations\n",
    "        ]\n",
    "        label_str_segmentations = [\n",
    "            \" \".join(\n",
    "                [str(category_id)] +\n",
    "                [\"{:.4f}\".format(seg) for seg in scaled_seg]\n",
    "            ) + \"\\n\"\n",
    "            for scaled_seg in scaled_segmentations\n",
    "        ]\n",
    "        label_data += label_str_segmentations\n",
    "    # End processing loop for labels\n",
    "    \n",
    "    # Save the labels\n",
    "    poly_label_path = label_dir / f\"{label_id}.txt\"\n",
    "    with open(poly_label_path, \"w+\") as f:\n",
    "        f.writelines(label_data)\n",
    "    # End saving labels\n",
    "    return"
   ]
  }
 ],
 "metadata": {
  "kernelspec": {
   "display_name": "itss",
   "language": "python",
   "name": "python3"
  },
  "language_info": {
   "codemirror_mode": {
    "name": "ipython",
    "version": 3
   },
   "file_extension": ".py",
   "mimetype": "text/x-python",
   "name": "python",
   "nbconvert_exporter": "python",
   "pygments_lexer": "ipython3",
   "version": "3.10.14"
  }
 },
 "nbformat": 4,
 "nbformat_minor": 2
}
