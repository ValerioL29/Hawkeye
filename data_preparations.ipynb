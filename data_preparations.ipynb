{
 "cells": [
  {
   "cell_type": "markdown",
   "metadata": {},
   "source": [
    "# Data Preparations\n",
    "\n",
    "This is the notebook used for converting BDD100K dataset into YOLO format."
   ]
  },
  {
   "cell_type": "code",
   "execution_count": 7,
   "metadata": {},
   "outputs": [],
   "source": [
    "import os\n",
    "import json\n",
    "import shutil\n",
    "import numpy as np\n",
    "from tqdm import tqdm\n",
    "from rich import print\n",
    "from pathlib import Path"
   ]
  },
  {
   "cell_type": "markdown",
   "metadata": {},
   "source": [
    "***\n",
    "\n",
    "## Data folder definitions"
   ]
  },
  {
   "cell_type": "code",
   "execution_count": 8,
   "metadata": {},
   "outputs": [],
   "source": [
    "ROOT_DIR = Path(os.getcwd())\n",
    "DATA_DIR = ROOT_DIR / \"data\"\n",
    "BASE_DATA_DIR = ROOT_DIR / \"base_data\"\n",
    "BASE_DATA_PRFIX = \"bdd100k_\"\n",
    "\n",
    "COCO_DATA_DIR = DATA_DIR / \"coco_data\"\n",
    "os.makedirs(COCO_DATA_DIR, exist_ok=True)\n",
    "YOLO_DATA_DIR = DATA_DIR / \"yolo_data\"\n",
    "os.makedirs(YOLO_DATA_DIR, exist_ok=True)"
   ]
  },
  {
   "cell_type": "markdown",
   "metadata": {},
   "source": [
    "***\n",
    "\n",
    "## Helper functions"
   ]
  },
  {
   "cell_type": "code",
   "execution_count": 2,
   "metadata": {},
   "outputs": [],
   "source": [
    "def setup_yolo_output_dir(dataset_name: str):\n",
    "    yolo_output_datadir = YOLO_DATA_DIR / dataset_name\n",
    "    os.makedirs(yolo_output_datadir, exist_ok=True)\n",
    "    yolo_label_dir = YOLO_DATA_DIR / dataset_name / \"labels\"\n",
    "    os.makedirs(yolo_label_dir, exist_ok=True)\n",
    "    os.makedirs(yolo_label_dir / \"train\", exist_ok=True)\n",
    "    os.makedirs(yolo_label_dir / \"val\", exist_ok=True)\n",
    "    yolo_images_dir = YOLO_DATA_DIR / dataset_name / \"images\"\n",
    "    os.makedirs(yolo_images_dir, exist_ok=True)\n",
    "    os.makedirs(yolo_images_dir / \"train\", exist_ok=True)\n",
    "    os.makedirs(yolo_images_dir / \"val\", exist_ok=True)\n",
    "    print(f\"Done setup path for '{dataset_name}'\")\n",
    "    \n",
    "    return yolo_output_datadir, yolo_label_dir, yolo_images_dir"
   ]
  },
  {
   "cell_type": "code",
   "execution_count": 3,
   "metadata": {},
   "outputs": [],
   "source": [
    "from json_to_yolo.general_json2yolo import convert_coco_json\n",
    "\n",
    "def convert_cocojson_to_stdcoco_util(dataset_name: str):\n",
    "    print(f\"Start conversion tasks for dataset: '{dataset_name}'\")\n",
    "    # train set Conversion\n",
    "    _ = convert_coco_json(\n",
    "        json_dir=COCO_DATA_DIR / dataset_name / \"train\",\n",
    "        save_dir=YOLO_DATA_DIR / dataset_name / \"labels\" / \"train\",\n",
    "        use_segments=False if \"seg\" not in dataset_name else True,\n",
    "    )\n",
    "    \n",
    "    # trainset Conversion\n",
    "    _ = convert_coco_json(\n",
    "        json_dir=COCO_DATA_DIR / dataset_name / \"val\",\n",
    "        save_dir=YOLO_DATA_DIR / dataset_name / \"labels\" / \"val\",\n",
    "        use_segments=False if \"seg\" not in dataset_name else True,\n",
    "    )\n",
    "\n",
    "    # All set\n",
    "    print(f\"Finish conversion tasks for dataset: '{dataset_name}'\")\n",
    "    return"
   ]
  },
  {
   "cell_type": "code",
   "execution_count": 4,
   "metadata": {},
   "outputs": [],
   "source": [
    "import cv2\n",
    "from pycocotools import mask as cocomask\n",
    "\n",
    "def rle_to_coco(annotation: dict) -> dict:\n",
    "    \"\"\"Transform the rle coco annotation (a single one) into coco style.\n",
    "    In this case, one mask can contain several polygons, later leading to several `Annotation` objects.\n",
    "    In case of not having a valid polygon (the mask is a single pixel) it will be an empty list.\n",
    "    \n",
    "    Refer to: https://stackoverflow.com/questions/75326066/coco-annotations-convert-rle-to-polygon-segmentation\n",
    "    \n",
    "    Parameters\n",
    "    ----------\n",
    "    annotation : dict\n",
    "        rle coco style annotation\n",
    "    Returns\n",
    "    -------\n",
    "    list[dict]\n",
    "        list of coco style annotations (in dict format)\n",
    "    \"\"\"\n",
    "    tmp_ann = annotation.copy()\n",
    "    masked_arr = cocomask.decode(annotation[\"segmentation\"])\n",
    "    contours, _ = cv2.findContours(masked_arr, cv2.RETR_TREE, cv2.CHAIN_APPROX_SIMPLE)\n",
    "    segmentations = [\n",
    "        contour\n",
    "        for contour in contours if contour.size >= 6\n",
    "    ]\n",
    "    seg_coords = [\n",
    "        seg.astype(float).flatten().tolist()\n",
    "        for seg in segmentations\n",
    "    ]\n",
    "    # Replace the original segmentation object with the new one\n",
    "    tmp_ann['segmentation'] = seg_coords\n",
    "\n",
    "    return tmp_ann"
   ]
  },
  {
   "cell_type": "markdown",
   "metadata": {},
   "source": [
    "***\n",
    "\n",
    "## Image Datadir Reorganization"
   ]
  },
  {
   "cell_type": "code",
   "execution_count": 3,
   "metadata": {},
   "outputs": [],
   "source": [
    "# Reformat images\n",
    "import os\n",
    "\n",
    "ORIGINAL_IMAGE_DIR = BASE_DATA_DIR / \"100k\"\n",
    "NEW_IMAGE_DIR = BASE_DATA_DIR / \"100k_images\"\n",
    "\n",
    "if os.path.exists(NEW_IMAGE_DIR / \"done_reorganization_flags.json\"):\n",
    "    with open(NEW_IMAGE_DIR / \"done_reorganization_flags.json\", \"r\") as f:\n",
    "        done_reorganization_flags = json.load(f)\n",
    "else:\n",
    "    os.makedirs(NEW_IMAGE_DIR / \"train\", exist_ok=True)\n",
    "    os.makedirs(NEW_IMAGE_DIR / \"val\", exist_ok=True)\n",
    "    os.makedirs(NEW_IMAGE_DIR / \"test\", exist_ok=True)\n",
    "    done_reorganization_flags = {\n",
    "        \"train\": False,\n",
    "        \"val\": False,\n",
    "        \"test\": False\n",
    "    }\n",
    "    with open(NEW_IMAGE_DIR / \"done_reorganization_flags.json\", \"w+\") as f:\n",
    "        json.dump(done_reorganization_flags, f)"
   ]
  },
  {
   "cell_type": "code",
   "execution_count": 4,
   "metadata": {},
   "outputs": [],
   "source": [
    "def move_images(image_dir, dest_dir):\n",
    "    print(f\"Moving images from {image_dir} to {dest_dir}\")\n",
    "    image_filenames = [elem for elem in os.listdir(image_dir) if elem.endswith(\".jpg\")]\n",
    "    for image_filename in tqdm(image_filenames):\n",
    "        shutil.move(image_dir / image_filename, dest_dir)\n",
    "    print(\"Done.\")\n",
    "    return"
   ]
  },
  {
   "cell_type": "code",
   "execution_count": 9,
   "metadata": {},
   "outputs": [
    {
     "data": {
      "text/html": [
       "<pre style=\"white-space:pre;overflow-x:auto;line-height:normal;font-family:Menlo,'DejaVu Sans Mono',consolas,'Courier New',monospace\">Train image dir: <span style=\"color: #800080; text-decoration-color: #800080\">/Users/ken/Workspaces/PycharmProjects/bdd100k/base_data/100k/</span><span style=\"color: #ff00ff; text-decoration-color: #ff00ff\">train</span>\n",
       "</pre>\n"
      ],
      "text/plain": [
       "Train image dir: \u001b[35m/Users/ken/Workspaces/PycharmProjects/bdd100k/base_data/100k/\u001b[0m\u001b[95mtrain\u001b[0m\n"
      ]
     },
     "metadata": {},
     "output_type": "display_data"
    },
    {
     "data": {
      "text/plain": [
       "[]"
      ]
     },
     "execution_count": 9,
     "metadata": {},
     "output_type": "execute_result"
    }
   ],
   "source": [
    "# Train\n",
    "train_image_dir = ORIGINAL_IMAGE_DIR / \"train\"\n",
    "print(f\"Train image dir: {train_image_dir}\")\n",
    "[elem for elem in os.listdir(train_image_dir) if not elem.endswith(\".jpg\")]"
   ]
  },
  {
   "cell_type": "code",
   "execution_count": 11,
   "metadata": {},
   "outputs": [],
   "source": [
    "train_target_image_dir = NEW_IMAGE_DIR / \"train\"\n",
    "if not done_reorganization_flags['train']:\n",
    "    _ = move_images(image_dir=train_image_dir, dest_dir=train_target_image_dir)\n",
    "    _ = move_images(image_dir=train_image_dir / \"trainA\", dest_dir=train_target_image_dir)\n",
    "    _ = move_images(image_dir=train_image_dir / \"trainB\", dest_dir=train_target_image_dir)\n",
    "    _ = move_images(image_dir=train_image_dir / \"testA\", dest_dir=train_target_image_dir)\n",
    "    _ = move_images(image_dir=train_image_dir / \"testB\", dest_dir=train_target_image_dir)\n",
    "    done_reorganization_flags['train'] = True"
   ]
  },
  {
   "cell_type": "code",
   "execution_count": 12,
   "metadata": {},
   "outputs": [
    {
     "data": {
      "text/html": [
       "<pre style=\"white-space:pre;overflow-x:auto;line-height:normal;font-family:Menlo,'DejaVu Sans Mono',consolas,'Courier New',monospace\">Val target image dir: <span style=\"color: #800080; text-decoration-color: #800080\">/Users/ken/Workspaces/PycharmProjects/bdd100k/base_data/100k/</span><span style=\"color: #ff00ff; text-decoration-color: #ff00ff\">val</span>\n",
       "</pre>\n"
      ],
      "text/plain": [
       "Val target image dir: \u001b[35m/Users/ken/Workspaces/PycharmProjects/bdd100k/base_data/100k/\u001b[0m\u001b[95mval\u001b[0m\n"
      ]
     },
     "metadata": {},
     "output_type": "display_data"
    },
    {
     "data": {
      "text/plain": [
       "[]"
      ]
     },
     "execution_count": 12,
     "metadata": {},
     "output_type": "execute_result"
    }
   ],
   "source": [
    "# Val\n",
    "val_image_dir = ORIGINAL_IMAGE_DIR / \"val\"\n",
    "print(f\"Val target image dir: {val_image_dir}\")\n",
    "[elem for elem in os.listdir(val_image_dir) if not elem.endswith(\".jpg\")]"
   ]
  },
  {
   "cell_type": "code",
   "execution_count": 13,
   "metadata": {},
   "outputs": [],
   "source": [
    "val_target_image_dir = NEW_IMAGE_DIR / \"val\"\n",
    "if not done_reorganization_flags['val']:\n",
    "    _ = move_images(image_dir=val_image_dir, dest_dir=val_target_image_dir)\n",
    "    done_reorganization_flags['val'] = True"
   ]
  },
  {
   "cell_type": "code",
   "execution_count": 14,
   "metadata": {},
   "outputs": [
    {
     "data": {
      "text/html": [
       "<pre style=\"white-space:pre;overflow-x:auto;line-height:normal;font-family:Menlo,'DejaVu Sans Mono',consolas,'Courier New',monospace\">Test target image dir: <span style=\"color: #800080; text-decoration-color: #800080\">/Users/ken/Workspaces/PycharmProjects/bdd100k/base_data/100k/</span><span style=\"color: #ff00ff; text-decoration-color: #ff00ff\">test</span>\n",
       "</pre>\n"
      ],
      "text/plain": [
       "Test target image dir: \u001b[35m/Users/ken/Workspaces/PycharmProjects/bdd100k/base_data/100k/\u001b[0m\u001b[95mtest\u001b[0m\n"
      ]
     },
     "metadata": {},
     "output_type": "display_data"
    },
    {
     "data": {
      "text/plain": [
       "[]"
      ]
     },
     "execution_count": 14,
     "metadata": {},
     "output_type": "execute_result"
    }
   ],
   "source": [
    "# Test\n",
    "test_image_dir = ORIGINAL_IMAGE_DIR / \"test\"\n",
    "print(f\"Test target image dir: {test_image_dir}\")\n",
    "[elem for elem in os.listdir(test_image_dir) if not elem.endswith(\".jpg\")]"
   ]
  },
  {
   "cell_type": "code",
   "execution_count": 15,
   "metadata": {},
   "outputs": [],
   "source": [
    "test_target_image_dir = NEW_IMAGE_DIR / \"test\"\n",
    "if not done_reorganization_flags['test']:\n",
    "    _ = move_images(image_dir=test_image_dir, dest_dir=test_target_image_dir)\n",
    "    _ = move_images(image_dir=test_image_dir / \"trainA\", dest_dir=test_target_image_dir)\n",
    "    _ = move_images(image_dir=test_image_dir / \"trainB\", dest_dir=test_target_image_dir)\n",
    "    _ = move_images(image_dir=test_image_dir / \"testA\", dest_dir=test_target_image_dir)\n",
    "    _ = move_images(image_dir=test_image_dir / \"testB\", dest_dir=test_target_image_dir)\n",
    "    done_reorganization_flags['test'] = True"
   ]
  },
  {
   "cell_type": "code",
   "execution_count": 16,
   "metadata": {},
   "outputs": [],
   "source": [
    "# Image ID Set\n",
    "train_image_ids = set([elem.split(\".\")[0] for elem in os.listdir(train_target_image_dir)])\n",
    "val_image_ids = set([elem.split(\".\")[0] for elem in os.listdir(val_target_image_dir)])\n",
    "test_image_ids = set([elem.split(\".\")[0] for elem in os.listdir(test_target_image_dir)])\n",
    "full_image_ids = train_image_ids.union(val_image_ids).union(test_image_ids)"
   ]
  },
  {
   "cell_type": "code",
   "execution_count": 17,
   "metadata": {},
   "outputs": [
    {
     "data": {
      "text/plain": [
       "(100000, 70000, 10000, 20000)"
      ]
     },
     "execution_count": 17,
     "metadata": {},
     "output_type": "execute_result"
    }
   ],
   "source": [
    "len(full_image_ids), len(train_image_ids), len(val_image_ids), len(test_image_ids)"
   ]
  },
  {
   "cell_type": "code",
   "execution_count": 29,
   "metadata": {},
   "outputs": [],
   "source": [
    "# Dump image ids\n",
    "import json\n",
    "\n",
    "dump_dict = {\n",
    "    \"train\": sorted(list(train_image_ids)),\n",
    "    \"val\": sorted(list(val_image_ids)),\n",
    "    \"test\": sorted(list(test_image_ids)),\n",
    "}\n",
    "with open(BASE_DATA_DIR / \"100k_images\" / \"image_ids_info.json\", \"w+\") as f:\n",
    "    json.dump(dump_dict, f)"
   ]
  },
  {
   "cell_type": "markdown",
   "metadata": {},
   "source": [
    "***\n",
    "\n",
    "## Detection"
   ]
  },
  {
   "cell_type": "code",
   "execution_count": 8,
   "metadata": {},
   "outputs": [
    {
     "data": {
      "text/html": [
       "<pre style=\"white-space:pre;overflow-x:auto;line-height:normal;font-family:Menlo,'DejaVu Sans Mono',consolas,'Courier New',monospace\">Done setup path for <span style=\"color: #008000; text-decoration-color: #008000\">'det_20_labels_trainval'</span>\n",
       "</pre>\n"
      ],
      "text/plain": [
       "Done setup path for \u001b[32m'det_20_labels_trainval'\u001b[0m\n"
      ]
     },
     "metadata": {},
     "output_type": "display_data"
    }
   ],
   "source": [
    "# Setup yolo data dir\n",
    "yolo_output_datadir, yolo_label_dir, yolo_images_dir = setup_yolo_output_dir(dataset_name=\"det_20_labels_trainval\")"
   ]
  },
  {
   "cell_type": "code",
   "execution_count": 19,
   "metadata": {},
   "outputs": [
    {
     "data": {
      "text/html": [
       "<pre style=\"white-space:pre;overflow-x:auto;line-height:normal;font-family:Menlo,'DejaVu Sans Mono',consolas,'Courier New',monospace\">Start conversion tasks for dataset: <span style=\"color: #008000; text-decoration-color: #008000\">'det_20_labels_trainval'</span>\n",
       "</pre>\n"
      ],
      "text/plain": [
       "Start conversion tasks for dataset: \u001b[32m'det_20_labels_trainval'\u001b[0m\n"
      ]
     },
     "metadata": {},
     "output_type": "display_data"
    },
    {
     "name": "stderr",
     "output_type": "stream",
     "text": [
      "Annotations /Users/ken/Workspaces/PycharmProjects/bdd100k/data/coco_data/det_20_labels_trainval/train/det_train.json: 100%|██████████| 69853/69853 [00:12<00:00, 5429.19it/s]\n",
      "Annotations /Users/ken/Workspaces/PycharmProjects/bdd100k/data/coco_data/det_20_labels_trainval/val/det_val.json: 100%|██████████| 10000/10000 [00:01<00:00, 5878.76it/s]\n"
     ]
    },
    {
     "data": {
      "text/html": [
       "<pre style=\"white-space:pre;overflow-x:auto;line-height:normal;font-family:Menlo,'DejaVu Sans Mono',consolas,'Courier New',monospace\">Finish conversion tasks for dataset: <span style=\"color: #008000; text-decoration-color: #008000\">'det_20_labels_trainval'</span>\n",
       "</pre>\n"
      ],
      "text/plain": [
       "Finish conversion tasks for dataset: \u001b[32m'det_20_labels_trainval'\u001b[0m\n"
      ]
     },
     "metadata": {},
     "output_type": "display_data"
    }
   ],
   "source": [
    "_ = convert_cocojson_to_stdcoco_util(dataset_name=\"det_20_labels_trainval\")"
   ]
  },
  {
   "cell_type": "code",
   "execution_count": 16,
   "metadata": {},
   "outputs": [],
   "source": [
    "with open(NEW_IMAGE_DIR / \"image_ids_info.json\", \"r\") as f:\n",
    "    image_ids_info = json.load(f)\n",
    "\n",
    "train_image_ids = set(image_ids_info[\"train\"])\n",
    "val_image_ids = set(image_ids_info[\"val\"])\n",
    "test_image_ids = set(image_ids_info[\"test\"])\n",
    "full_image_ids = train_image_ids.union(val_image_ids).union(test_image_ids)"
   ]
  },
  {
   "cell_type": "code",
   "execution_count": 18,
   "metadata": {},
   "outputs": [],
   "source": [
    "train_label_ids = set([elem.split(\".\")[0] for elem in os.listdir(yolo_label_dir / \"train\")])\n",
    "val_label_ids = set([elem.split(\".\")[0] for elem in os.listdir(yolo_label_dir / \"val\")])\n",
    "full_label_ids = train_label_ids.union(val_label_ids)"
   ]
  },
  {
   "cell_type": "code",
   "execution_count": 17,
   "metadata": {},
   "outputs": [
    {
     "data": {
      "text/plain": [
       "(100000, 70000, 10000, 20000)"
      ]
     },
     "execution_count": 17,
     "metadata": {},
     "output_type": "execute_result"
    }
   ],
   "source": [
    "len(full_image_ids), len(train_image_ids), len(val_image_ids), len(test_image_ids)"
   ]
  },
  {
   "cell_type": "code",
   "execution_count": 19,
   "metadata": {},
   "outputs": [
    {
     "data": {
      "text/plain": [
       "(79853, 69853, 10000)"
      ]
     },
     "execution_count": 19,
     "metadata": {},
     "output_type": "execute_result"
    }
   ],
   "source": [
    "len(full_label_ids), len(train_label_ids), len(val_label_ids)"
   ]
  },
  {
   "cell_type": "code",
   "execution_count": 14,
   "metadata": {},
   "outputs": [
    {
     "data": {
      "text/html": [
       "<pre style=\"white-space:pre;overflow-x:auto;line-height:normal;font-family:Menlo,'DejaVu Sans Mono',consolas,'Courier New',monospace\">Train label ids not in train image ids: <span style=\"color: #800080; text-decoration-color: #800080; font-weight: bold\">set</span><span style=\"font-weight: bold\">()</span>\n",
       "</pre>\n"
      ],
      "text/plain": [
       "Train label ids not in train image ids: \u001b[1;35mset\u001b[0m\u001b[1m(\u001b[0m\u001b[1m)\u001b[0m\n"
      ]
     },
     "metadata": {},
     "output_type": "display_data"
    },
    {
     "data": {
      "text/html": [
       "<pre style=\"white-space:pre;overflow-x:auto;line-height:normal;font-family:Menlo,'DejaVu Sans Mono',consolas,'Courier New',monospace\">Val label ids not in val image ids: <span style=\"color: #800080; text-decoration-color: #800080; font-weight: bold\">set</span><span style=\"font-weight: bold\">()</span>\n",
       "</pre>\n"
      ],
      "text/plain": [
       "Val label ids not in val image ids: \u001b[1;35mset\u001b[0m\u001b[1m(\u001b[0m\u001b[1m)\u001b[0m\n"
      ]
     },
     "metadata": {},
     "output_type": "display_data"
    }
   ],
   "source": [
    "print(f\"Train label ids not in train image ids: {train_label_ids - train_image_ids}\")\n",
    "print(f\"Val label ids not in val image ids: {val_label_ids - val_image_ids}\")"
   ]
  },
  {
   "cell_type": "markdown",
   "metadata": {},
   "source": [
    "***\n",
    "\n",
    "## Instance Segmentation"
   ]
  },
  {
   "cell_type": "code",
   "execution_count": 75,
   "metadata": {},
   "outputs": [
    {
     "data": {
      "text/html": [
       "<pre style=\"white-space:pre;overflow-x:auto;line-height:normal;font-family:Menlo,'DejaVu Sans Mono',consolas,'Courier New',monospace\">Done setup path for <span style=\"color: #008000; text-decoration-color: #008000\">'ins_seg_labels_trainval'</span>\n",
       "</pre>\n"
      ],
      "text/plain": [
       "Done setup path for \u001b[32m'ins_seg_labels_trainval'\u001b[0m\n"
      ]
     },
     "metadata": {},
     "output_type": "display_data"
    }
   ],
   "source": [
    "# Setup yolo data dir\n",
    "name = \"ins_seg_labels_trainval\"\n",
    "_ = setup_yolo_output_dir(dataset_name=name)"
   ]
  },
  {
   "cell_type": "code",
   "execution_count": 77,
   "metadata": {},
   "outputs": [],
   "source": [
    "with open(COCO_DATA_DIR / name / \"train\" / \"ins_seg_train.json\", \"r\") as f:\n",
    "    ins_seg_coco = json.load(f)"
   ]
  },
  {
   "cell_type": "code",
   "execution_count": 78,
   "metadata": {},
   "outputs": [
    {
     "data": {
      "text/plain": [
       "(7000, 89450)"
      ]
     },
     "execution_count": 78,
     "metadata": {},
     "output_type": "execute_result"
    }
   ],
   "source": [
    "len(ins_seg_coco[\"images\"]), len(ins_seg_coco[\"annotations\"])"
   ]
  },
  {
   "cell_type": "code",
   "execution_count": null,
   "metadata": {},
   "outputs": [],
   "source": [
    "sample_coco_annotation = {\n",
    "    'annotation_path': 'val2017/instances_val2017.json',\n",
    "    'segmentation': [\n",
    "        [510.66, 423.01, 511.72, 420.03, 510.45, 416.0, 510.34,\n",
    "        413.02, 510.77, 410.26, 510.77, 407.5, 510.34, 405.16,\n",
    "        511.51, 402.83, 511.41, 400.49, 510.24, 398.16, 509.39,\n",
    "        397.31, 504.61, 399.22, 502.17, 399.64, 500.89, 401.66,\n",
    "        500.47, 402.08, 499.09, 401.87, 495.79, 401.98, 490.59,\n",
    "        401.77, 488.79, 401.77, 485.39, 398.58, 483.9, 397.31,\n",
    "        481.56, 396.35, 478.48, 395.93, 476.68, 396.03, 475.4,\n",
    "        396.77, 473.92, 398.79, 473.28, 399.96, 473.49, 401.87,\n",
    "        474.56, 403.47, 473.07, 405.59, 473.39, 407.71, 476.68,\n",
    "        409.41, 479.23, 409.73, 481.56, 410.69, 480.4, 411.85,\n",
    "        481.35, 414.93, 479.86, 418.65, 477.32, 420.03, 476.04,\n",
    "        422.58, 479.02, 422.58, 480.29, 423.01, 483.79, 419.93,\n",
    "        486.66, 416.21, 490.06, 415.57, 492.18, 416.85, 491.65,\n",
    "        420.24, 492.82, 422.9, 493.56, 424.39, 496.43, 424.6,\n",
    "        498.02, 423.01, 498.13, 421.31, 497.07, 420.03, 497.07,\n",
    "        415.15, 496.33, 414.51, 501.1, 411.96, 502.06, 411.32,\n",
    "        503.02, 415.04, 503.33, 418.12, 501.1, 420.24, 498.98,\n",
    "        421.63, 500.47, 424.39, 505.03, 423.32, 506.2, 421.31,\n",
    "        507.69, 419.5, 506.31, 423.32, 510.03, 423.01, 510.45,\n",
    "        423.01]\n",
    "    ], \n",
    "    'area': '702.1057499999998',\n",
    "    'iscrowd': 0,\n",
    "    'image_id': 289343,\n",
    "    'bbox': ['473.07', '395.93', '38.65', '28.67'],\n",
    "    'category_id': 18, \n",
    "    'id': 1768, \n",
    "    'height': 640,\n",
    "    'width': 529\n",
    "}"
   ]
  },
  {
   "cell_type": "code",
   "execution_count": 59,
   "metadata": {},
   "outputs": [
    {
     "data": {
      "text/plain": [
       "{'id': 1,\n",
       " 'image_id': 1,\n",
       " 'category_id': 3,\n",
       " 'scalabel_id': '8',\n",
       " 'iscrowd': 0,\n",
       " 'ignore': 0,\n",
       " 'bbox': [447.0, 392.0, 78.0, 29.0],\n",
       " 'area': 1671,\n",
       " 'segmentation': {'counts': '[fj97Wf02O1O10000O1O1O1000000000000O10000000000000000L4M3O1O1O10000O1000000000000000000000000000000000002N1O00000000000001O000000000O1O1O110O001O1O1O1O1O2N1O2M3Ll^b`0',\n",
       "  'size': [720, 1280]}}"
      ]
     },
     "execution_count": 59,
     "metadata": {},
     "output_type": "execute_result"
    }
   ],
   "source": [
    "ins_seg_coco['annotations'][0]"
   ]
  },
  {
   "cell_type": "code",
   "execution_count": 62,
   "metadata": {},
   "outputs": [
    {
     "name": "stderr",
     "output_type": "stream",
     "text": [
      "100%|██████████| 89450/89450 [01:04<00:00, 1380.86it/s]\n"
     ]
    }
   ],
   "source": [
    "reformated_annotations = [\n",
    "    rle_to_coco(annotation)\n",
    "    for annotation in tqdm(ins_seg_coco['annotations'])\n",
    "]"
   ]
  },
  {
   "cell_type": "code",
   "execution_count": 63,
   "metadata": {},
   "outputs": [
    {
     "data": {
      "text/html": [
       "<pre style=\"white-space:pre;overflow-x:auto;line-height:normal;font-family:Menlo,'DejaVu Sans Mono',consolas,'Courier New',monospace\"><span style=\"color: #800080; text-decoration-color: #800080; font-weight: bold\">dict_keys</span><span style=\"font-weight: bold\">([</span><span style=\"color: #008000; text-decoration-color: #008000\">'type'</span>, <span style=\"color: #008000; text-decoration-color: #008000\">'categories'</span>, <span style=\"color: #008000; text-decoration-color: #008000\">'images'</span>, <span style=\"color: #008000; text-decoration-color: #008000\">'annotations'</span><span style=\"font-weight: bold\">])</span>\n",
       "</pre>\n"
      ],
      "text/plain": [
       "\u001b[1;35mdict_keys\u001b[0m\u001b[1m(\u001b[0m\u001b[1m[\u001b[0m\u001b[32m'type'\u001b[0m, \u001b[32m'categories'\u001b[0m, \u001b[32m'images'\u001b[0m, \u001b[32m'annotations'\u001b[0m\u001b[1m]\u001b[0m\u001b[1m)\u001b[0m\n"
      ]
     },
     "metadata": {},
     "output_type": "display_data"
    }
   ],
   "source": [
    "print(ins_seg_coco.keys())"
   ]
  },
  {
   "cell_type": "code",
   "execution_count": 64,
   "metadata": {},
   "outputs": [],
   "source": [
    "new_ins_seg_coco = dict(\n",
    "    type=ins_seg_coco['type'],\n",
    "    images=ins_seg_coco['images'],\n",
    "    annotations=reformated_annotations,\n",
    "    categories=ins_seg_coco['categories']\n",
    ")"
   ]
  },
  {
   "cell_type": "code",
   "execution_count": 65,
   "metadata": {},
   "outputs": [],
   "source": [
    "with open(COCO_DATA_DIR / name / \"train\" / \"ins_seg_train.json\", \"w+\") as f:\n",
    "    json.dump(new_ins_seg_coco, f)"
   ]
  },
  {
   "cell_type": "code",
   "execution_count": 70,
   "metadata": {},
   "outputs": [],
   "source": [
    "original_annotations = ins_seg_coco['annotations']\n",
    "multiple_boxes = [len(elem['bbox']) for elem in original_annotations if len(elem['bbox']) > 1]"
   ]
  },
  {
   "cell_type": "code",
   "execution_count": 72,
   "metadata": {},
   "outputs": [
    {
     "data": {
      "text/plain": [
       "4    89450\n",
       "Name: count, dtype: int64"
      ]
     },
     "execution_count": 72,
     "metadata": {},
     "output_type": "execute_result"
    }
   ],
   "source": [
    "import pandas as pd\n",
    "\n",
    "pd.Series(multiple_boxes).value_counts()"
   ]
  },
  {
   "cell_type": "code",
   "execution_count": 76,
   "metadata": {},
   "outputs": [
    {
     "data": {
      "text/html": [
       "<pre style=\"white-space:pre;overflow-x:auto;line-height:normal;font-family:Menlo,'DejaVu Sans Mono',consolas,'Courier New',monospace\">Start conversion tasks for dataset: <span style=\"color: #008000; text-decoration-color: #008000\">'ins_seg_labels_trainval'</span>\n",
       "</pre>\n"
      ],
      "text/plain": [
       "Start conversion tasks for dataset: \u001b[32m'ins_seg_labels_trainval'\u001b[0m\n"
      ]
     },
     "metadata": {},
     "output_type": "display_data"
    },
    {
     "name": "stderr",
     "output_type": "stream",
     "text": [
      "Annotations /Users/ken/Workspaces/PycharmProjects/bdd100k/data/coco_data/ins_seg_labels_trainval/train/ins_seg_train.json:  40%|███▉      | 2755/6891 [00:01<00:01, 2090.13it/s]\n"
     ]
    },
    {
     "ename": "IndexError",
     "evalue": "list index out of range",
     "output_type": "error",
     "traceback": [
      "\u001b[0;31m---------------------------------------------------------------------------\u001b[0m",
      "\u001b[0;31mIndexError\u001b[0m                                Traceback (most recent call last)",
      "Cell \u001b[0;32mIn[76], line 1\u001b[0m\n\u001b[0;32m----> 1\u001b[0m _ \u001b[38;5;241m=\u001b[39m \u001b[43mconvert_cocojson_to_stdcoco_util\u001b[49m\u001b[43m(\u001b[49m\u001b[43mdataset_name\u001b[49m\u001b[38;5;241;43m=\u001b[39;49m\u001b[38;5;124;43m\"\u001b[39;49m\u001b[38;5;124;43mins_seg_labels_trainval\u001b[39;49m\u001b[38;5;124;43m\"\u001b[39;49m\u001b[43m)\u001b[49m\n",
      "Cell \u001b[0;32mIn[4], line 6\u001b[0m, in \u001b[0;36mconvert_cocojson_to_stdcoco_util\u001b[0;34m(dataset_name)\u001b[0m\n\u001b[1;32m      4\u001b[0m \u001b[38;5;28mprint\u001b[39m(\u001b[38;5;124mf\u001b[39m\u001b[38;5;124m\"\u001b[39m\u001b[38;5;124mStart conversion tasks for dataset: \u001b[39m\u001b[38;5;124m'\u001b[39m\u001b[38;5;132;01m{\u001b[39;00mdataset_name\u001b[38;5;132;01m}\u001b[39;00m\u001b[38;5;124m'\u001b[39m\u001b[38;5;124m\"\u001b[39m)\n\u001b[1;32m      5\u001b[0m \u001b[38;5;66;03m# train set Conversion\u001b[39;00m\n\u001b[0;32m----> 6\u001b[0m _ \u001b[38;5;241m=\u001b[39m \u001b[43mconvert_coco_json\u001b[49m\u001b[43m(\u001b[49m\n\u001b[1;32m      7\u001b[0m \u001b[43m    \u001b[49m\u001b[43mjson_dir\u001b[49m\u001b[38;5;241;43m=\u001b[39;49m\u001b[43mCOCO_DATA_DIR\u001b[49m\u001b[43m \u001b[49m\u001b[38;5;241;43m/\u001b[39;49m\u001b[43m \u001b[49m\u001b[43mdataset_name\u001b[49m\u001b[43m \u001b[49m\u001b[38;5;241;43m/\u001b[39;49m\u001b[43m \u001b[49m\u001b[38;5;124;43m\"\u001b[39;49m\u001b[38;5;124;43mtrain\u001b[39;49m\u001b[38;5;124;43m\"\u001b[39;49m\u001b[43m,\u001b[49m\n\u001b[1;32m      8\u001b[0m \u001b[43m    \u001b[49m\u001b[43msave_dir\u001b[49m\u001b[38;5;241;43m=\u001b[39;49m\u001b[43mYOLO_DATA_DIR\u001b[49m\u001b[43m \u001b[49m\u001b[38;5;241;43m/\u001b[39;49m\u001b[43m \u001b[49m\u001b[43mdataset_name\u001b[49m\u001b[43m \u001b[49m\u001b[38;5;241;43m/\u001b[39;49m\u001b[43m \u001b[49m\u001b[38;5;124;43m\"\u001b[39;49m\u001b[38;5;124;43mlabels\u001b[39;49m\u001b[38;5;124;43m\"\u001b[39;49m\u001b[43m \u001b[49m\u001b[38;5;241;43m/\u001b[39;49m\u001b[43m \u001b[49m\u001b[38;5;124;43m\"\u001b[39;49m\u001b[38;5;124;43mtrain\u001b[39;49m\u001b[38;5;124;43m\"\u001b[39;49m\u001b[43m,\u001b[49m\n\u001b[1;32m      9\u001b[0m \u001b[43m    \u001b[49m\u001b[43muse_segments\u001b[49m\u001b[38;5;241;43m=\u001b[39;49m\u001b[38;5;28;43;01mFalse\u001b[39;49;00m\u001b[43m \u001b[49m\u001b[38;5;28;43;01mif\u001b[39;49;00m\u001b[43m \u001b[49m\u001b[38;5;124;43m\"\u001b[39;49m\u001b[38;5;124;43mseg\u001b[39;49m\u001b[38;5;124;43m\"\u001b[39;49m\u001b[43m \u001b[49m\u001b[38;5;129;43;01mnot\u001b[39;49;00m\u001b[43m \u001b[49m\u001b[38;5;129;43;01min\u001b[39;49;00m\u001b[43m \u001b[49m\u001b[43mdataset_name\u001b[49m\u001b[43m \u001b[49m\u001b[38;5;28;43;01melse\u001b[39;49;00m\u001b[43m \u001b[49m\u001b[38;5;28;43;01mTrue\u001b[39;49;00m\u001b[43m,\u001b[49m\n\u001b[1;32m     10\u001b[0m \u001b[43m\u001b[49m\u001b[43m)\u001b[49m\n\u001b[1;32m     12\u001b[0m \u001b[38;5;66;03m# trainset Conversion\u001b[39;00m\n\u001b[1;32m     13\u001b[0m _ \u001b[38;5;241m=\u001b[39m convert_coco_json(\n\u001b[1;32m     14\u001b[0m     json_dir\u001b[38;5;241m=\u001b[39mCOCO_DATA_DIR \u001b[38;5;241m/\u001b[39m dataset_name \u001b[38;5;241m/\u001b[39m \u001b[38;5;124m\"\u001b[39m\u001b[38;5;124mval\u001b[39m\u001b[38;5;124m\"\u001b[39m,\n\u001b[1;32m     15\u001b[0m     save_dir\u001b[38;5;241m=\u001b[39mYOLO_DATA_DIR \u001b[38;5;241m/\u001b[39m dataset_name \u001b[38;5;241m/\u001b[39m \u001b[38;5;124m\"\u001b[39m\u001b[38;5;124mlabels\u001b[39m\u001b[38;5;124m\"\u001b[39m \u001b[38;5;241m/\u001b[39m \u001b[38;5;124m\"\u001b[39m\u001b[38;5;124mval\u001b[39m\u001b[38;5;124m\"\u001b[39m,\n\u001b[1;32m     16\u001b[0m     use_segments\u001b[38;5;241m=\u001b[39m\u001b[38;5;28;01mFalse\u001b[39;00m \u001b[38;5;28;01mif\u001b[39;00m \u001b[38;5;124m\"\u001b[39m\u001b[38;5;124mseg\u001b[39m\u001b[38;5;124m\"\u001b[39m \u001b[38;5;129;01mnot\u001b[39;00m \u001b[38;5;129;01min\u001b[39;00m dataset_name \u001b[38;5;28;01melse\u001b[39;00m \u001b[38;5;28;01mTrue\u001b[39;00m,\n\u001b[1;32m     17\u001b[0m )\n",
      "File \u001b[0;32m~/Workspaces/PycharmProjects/bdd100k/json_to_yolo/general_json2yolo.py:389\u001b[0m, in \u001b[0;36mconvert_coco_json\u001b[0;34m(json_dir, save_dir, use_segments, cls91to80)\u001b[0m\n\u001b[1;32m    387\u001b[0m \u001b[38;5;28;01mwith\u001b[39;00m \u001b[38;5;28mopen\u001b[39m((fn \u001b[38;5;241m/\u001b[39m f)\u001b[38;5;241m.\u001b[39mwith_suffix(\u001b[38;5;124m\"\u001b[39m\u001b[38;5;124m.txt\u001b[39m\u001b[38;5;124m\"\u001b[39m), \u001b[38;5;124m\"\u001b[39m\u001b[38;5;124ma\u001b[39m\u001b[38;5;124m\"\u001b[39m) \u001b[38;5;28;01mas\u001b[39;00m file:\n\u001b[1;32m    388\u001b[0m     \u001b[38;5;28;01mfor\u001b[39;00m i \u001b[38;5;129;01min\u001b[39;00m \u001b[38;5;28mrange\u001b[39m(\u001b[38;5;28mlen\u001b[39m(bboxes)):\n\u001b[0;32m--> 389\u001b[0m         line \u001b[38;5;241m=\u001b[39m (\n\u001b[1;32m    390\u001b[0m             \u001b[38;5;241m*\u001b[39m(segments[i] \u001b[38;5;28;01mif\u001b[39;00m use_segments \u001b[38;5;28;01melse\u001b[39;00m bboxes[i]),\n\u001b[1;32m    391\u001b[0m         )  \u001b[38;5;66;03m# cls, box or segments\u001b[39;00m\n\u001b[1;32m    392\u001b[0m         file\u001b[38;5;241m.\u001b[39mwrite((\u001b[38;5;124m\"\u001b[39m\u001b[38;5;132;01m%g\u001b[39;00m\u001b[38;5;124m \u001b[39m\u001b[38;5;124m\"\u001b[39m \u001b[38;5;241m*\u001b[39m \u001b[38;5;28mlen\u001b[39m(line))\u001b[38;5;241m.\u001b[39mrstrip() \u001b[38;5;241m%\u001b[39m line \u001b[38;5;241m+\u001b[39m \u001b[38;5;124m\"\u001b[39m\u001b[38;5;130;01m\\n\u001b[39;00m\u001b[38;5;124m\"\u001b[39m)\n",
      "\u001b[0;31mIndexError\u001b[0m: list index out of range"
     ]
    }
   ],
   "source": [
    "_ = convert_cocojson_to_stdcoco_util(dataset_name=\"ins_seg_labels_trainval\")"
   ]
  },
  {
   "cell_type": "code",
   "execution_count": null,
   "metadata": {},
   "outputs": [],
   "source": []
  },
  {
   "cell_type": "markdown",
   "metadata": {},
   "source": [
    "***\n",
    "\n",
    "## Our Own BDD100K to COCO"
   ]
  },
  {
   "cell_type": "code",
   "execution_count": 9,
   "metadata": {},
   "outputs": [],
   "source": [
    "dataset_name = \"drivable_labels_trainval\"\n",
    "raw_rle_train_path = BASE_DATA_DIR / (BASE_DATA_PRFIX + dataset_name) / \"rles\" / \"drivable_train.json\"\n",
    "raw_rle_val_path = BASE_DATA_DIR / (BASE_DATA_PRFIX + dataset_name) / \"rles\" / \"drivable_val.json\""
   ]
  },
  {
   "cell_type": "code",
   "execution_count": 10,
   "metadata": {},
   "outputs": [],
   "source": [
    "with open(raw_rle_train_path, \"r\") as f:\n",
    "    drivable_train_rle = json.load(f)\n",
    "    \n",
    "with open(raw_rle_val_path, \"r\") as f:\n",
    "    drivable_val_rle = json.load(f)"
   ]
  },
  {
   "cell_type": "code",
   "execution_count": 11,
   "metadata": {},
   "outputs": [
    {
     "data": {
      "text/html": [
       "<pre style=\"white-space:pre;overflow-x:auto;line-height:normal;font-family:Menlo,'DejaVu Sans Mono',consolas,'Courier New',monospace\">Attributes: <span style=\"color: #800080; text-decoration-color: #800080; font-weight: bold\">dict_keys</span><span style=\"font-weight: bold\">([</span><span style=\"color: #008000; text-decoration-color: #008000\">'frames'</span>, <span style=\"color: #008000; text-decoration-color: #008000\">'groups'</span>, <span style=\"color: #008000; text-decoration-color: #008000\">'config'</span><span style=\"font-weight: bold\">])</span>\n",
       "</pre>\n"
      ],
      "text/plain": [
       "Attributes: \u001b[1;35mdict_keys\u001b[0m\u001b[1m(\u001b[0m\u001b[1m[\u001b[0m\u001b[32m'frames'\u001b[0m, \u001b[32m'groups'\u001b[0m, \u001b[32m'config'\u001b[0m\u001b[1m]\u001b[0m\u001b[1m)\u001b[0m\n"
      ]
     },
     "metadata": {},
     "output_type": "display_data"
    },
    {
     "data": {
      "text/html": [
       "<pre style=\"white-space:pre;overflow-x:auto;line-height:normal;font-family:Menlo,'DejaVu Sans Mono',consolas,'Courier New',monospace\">Attributes of <span style=\"color: #008000; text-decoration-color: #008000\">'frame'</span> object: <span style=\"color: #800080; text-decoration-color: #800080; font-weight: bold\">dict_keys</span><span style=\"font-weight: bold\">([</span><span style=\"color: #008000; text-decoration-color: #008000\">'name'</span>, <span style=\"color: #008000; text-decoration-color: #008000\">'url'</span>, <span style=\"color: #008000; text-decoration-color: #008000\">'videoName'</span>, <span style=\"color: #008000; text-decoration-color: #008000\">'intrinsics'</span>, <span style=\"color: #008000; text-decoration-color: #008000\">'extrinsics'</span>, <span style=\"color: #008000; text-decoration-color: #008000\">'attributes'</span>, \n",
       "<span style=\"color: #008000; text-decoration-color: #008000\">'timestamp'</span>, <span style=\"color: #008000; text-decoration-color: #008000\">'frameIndex'</span>, <span style=\"color: #008000; text-decoration-color: #008000\">'size'</span>, <span style=\"color: #008000; text-decoration-color: #008000\">'labels'</span><span style=\"font-weight: bold\">])</span>, sample frame: <span style=\"font-weight: bold\">{</span><span style=\"color: #008000; text-decoration-color: #008000\">'name'</span>: <span style=\"color: #008000; text-decoration-color: #008000\">'0000f77c-6257be58.jpg'</span>, <span style=\"color: #008000; text-decoration-color: #008000\">'url'</span>: <span style=\"color: #800080; text-decoration-color: #800080; font-style: italic\">None</span>, \n",
       "<span style=\"color: #008000; text-decoration-color: #008000\">'videoName'</span>: <span style=\"color: #800080; text-decoration-color: #800080; font-style: italic\">None</span>, <span style=\"color: #008000; text-decoration-color: #008000\">'intrinsics'</span>: <span style=\"color: #800080; text-decoration-color: #800080; font-style: italic\">None</span>, <span style=\"color: #008000; text-decoration-color: #008000\">'extrinsics'</span>: <span style=\"color: #800080; text-decoration-color: #800080; font-style: italic\">None</span>, <span style=\"color: #008000; text-decoration-color: #008000\">'attributes'</span>: <span style=\"color: #800080; text-decoration-color: #800080; font-style: italic\">None</span>, <span style=\"color: #008000; text-decoration-color: #008000\">'timestamp'</span>: <span style=\"color: #800080; text-decoration-color: #800080; font-style: italic\">None</span>, <span style=\"color: #008000; text-decoration-color: #008000\">'frameIndex'</span>: \n",
       "<span style=\"color: #800080; text-decoration-color: #800080; font-style: italic\">None</span>, <span style=\"color: #008000; text-decoration-color: #008000\">'size'</span>: <span style=\"color: #800080; text-decoration-color: #800080; font-style: italic\">None</span>, <span style=\"color: #008000; text-decoration-color: #008000\">'labels'</span>: <span style=\"font-weight: bold\">[{</span><span style=\"color: #008000; text-decoration-color: #008000\">'id'</span>: <span style=\"color: #008000; text-decoration-color: #008000\">'0'</span>, <span style=\"color: #008000; text-decoration-color: #008000\">'index'</span>: <span style=\"color: #800080; text-decoration-color: #800080; font-style: italic\">None</span>, <span style=\"color: #008000; text-decoration-color: #008000\">'manualShape'</span>: <span style=\"color: #800080; text-decoration-color: #800080; font-style: italic\">None</span>, <span style=\"color: #008000; text-decoration-color: #008000\">'manualAttributes'</span>: <span style=\"color: #800080; text-decoration-color: #800080; font-style: italic\">None</span>, <span style=\"color: #008000; text-decoration-color: #008000\">'score'</span>: \n",
       "<span style=\"color: #800080; text-decoration-color: #800080; font-style: italic\">None</span>, <span style=\"color: #008000; text-decoration-color: #008000\">'attributes'</span>: <span style=\"font-weight: bold\">{</span><span style=\"color: #008000; text-decoration-color: #008000\">'areaType'</span>: <span style=\"color: #008000; text-decoration-color: #008000\">'direct'</span><span style=\"font-weight: bold\">}</span>, <span style=\"color: #008000; text-decoration-color: #008000\">'category'</span>: <span style=\"color: #008000; text-decoration-color: #008000\">'direct'</span>, <span style=\"color: #008000; text-decoration-color: #008000\">'box2d'</span>: <span style=\"font-weight: bold\">{</span><span style=\"color: #008000; text-decoration-color: #008000\">'x1'</span>: <span style=\"color: #008080; text-decoration-color: #008080; font-weight: bold\">0.0</span>, <span style=\"color: #008000; text-decoration-color: #008000\">'y1'</span>: <span style=\"color: #008080; text-decoration-color: #008080; font-weight: bold\">367.0</span>, <span style=\"color: #008000; text-decoration-color: #008000\">'x2'</span>: <span style=\"color: #008080; text-decoration-color: #008080; font-weight: bold\">1279.0</span>, \n",
       "<span style=\"color: #008000; text-decoration-color: #008000\">'y2'</span>: <span style=\"color: #008080; text-decoration-color: #008080; font-weight: bold\">625.0</span><span style=\"font-weight: bold\">}</span>, <span style=\"color: #008000; text-decoration-color: #008000\">'box3d'</span>: <span style=\"color: #800080; text-decoration-color: #800080; font-style: italic\">None</span>, <span style=\"color: #008000; text-decoration-color: #008000\">'poly2d'</span>: <span style=\"color: #800080; text-decoration-color: #800080; font-style: italic\">None</span>, <span style=\"color: #008000; text-decoration-color: #008000\">'rle'</span>: <span style=\"font-weight: bold\">{</span><span style=\"color: #008000; text-decoration-color: #008000\">'counts'</span>: \n",
       "<span style=\"color: #008000; text-decoration-color: #008000\">'U`0f2jc0000000000O1000O10000000O100000O1000O1000000000O01000000000000O10O10000000O10000000O1000O1000000000O0100000</span>\n",
       "<span style=\"color: #008000; text-decoration-color: #008000\">0000000O10O10000000O100000O1000O1000000000000O01000000000O100000O100000O10000000000O0100000000000O1000O100000O10000</span>\n",
       "<span style=\"color: #008000; text-decoration-color: #008000\">000000O0100000000000O100000O1000O1000000000000O10O10000000O1000000000O10O10000000000O100000O1000O1000000000000O10O1</span>\n",
       "<span style=\"color: #008000; text-decoration-color: #008000\">0000000O1000000000000O01000000000O100000000000O010000000000O1000000000O01000000000000O1000000000O01000000000000O100</span>\n",
       "<span style=\"color: #008000; text-decoration-color: #008000\">0000000O01000000000000O10000000000O01000000000O1000000000000O10O10000000O1000000000000O10000000O10O1000000000000O10</span>\n",
       "<span style=\"color: #008000; text-decoration-color: #008000\">000000000O01000000000O1000000000000O1000000000O01000000000000O10000000000O10000000O1000O10000000000O10000000000O100</span>\n",
       "<span style=\"color: #008000; text-decoration-color: #008000\">0000000O10O10000000000O1000000000000O10000000000O1000O10000000O10000000000O10000000000O1000000000000O10O10000000O10</span>\n",
       "<span style=\"color: #008000; text-decoration-color: #008000\">00000000000O10000000000O1000000000000O10000000O10O10000000000O1000000000000O10000000000O1000000000000O10000000000O1</span>\n",
       "<span style=\"color: #008000; text-decoration-color: #008000\">00000000000O010000000000O10000000000O1000000000000O10000000000O1000000000000O10000000000O1000000000000O10000000000O</span>\n",
       "<span style=\"color: #008000; text-decoration-color: #008000\">10000000000O1000000000000O10000000000O1000000000000O10000000000O1000000000000O10000000000O10000000000O1000000000000</span>\n",
       "<span style=\"color: #008000; text-decoration-color: #008000\">O10000000000O1000000000000000000001O00001O00001O00001O00001O0000001O00001O00001O00001O0000001O00001O00001O00001O000</span>\n",
       "<span style=\"color: #008000; text-decoration-color: #008000\">01O0000001O00001O00001O00001O00001O0001O01O00001O00001O0000000000000000000000O1000000000000000000O10000000001O00000</span>\n",
       "<span style=\"color: #008000; text-decoration-color: #008000\">00O10000000000000000O1000000000000000000O100000000000001O000O1000000000000000000O10000000000000000O1000000000001O00</span>\n",
       "<span style=\"color: #008000; text-decoration-color: #008000\">000O1000000000000000000O1000000000001O000O1000000000000000000O100000000000001O000O10000000000000000O100000000000000</span>\n",
       "<span style=\"color: #008000; text-decoration-color: #008000\">0001N1000000000000000000O1000000000001O000O1000000000000000000O10001O0000000000000O100000000000001O0O10000000000000</span>\n",
       "<span style=\"color: #008000; text-decoration-color: #008000\">00000O1000001O00000000000N2O1O1O1O1O1O1O1O2N1N2O1O1O1O1O1O1O1O1N2O1O1O2N1O1O1O1O1N2O1O1O1O1O1O2N1O1N2O1O1O1O1O1O1O1</span>\n",
       "<span style=\"color: #008000; text-decoration-color: #008000\">O1N3N1O1O1O1O1O1O1O100000001O00000000000000000000001O00000000000000000000001O00000000000000000000001O00000000000000</span>\n",
       "<span style=\"color: #008000; text-decoration-color: #008000\">00001O0000000000000000001O00000000000000000010O00000000000000000001O0000000000000000001O0000000000000000001O0000000</span>\n",
       "<span style=\"color: #008000; text-decoration-color: #008000\">000000000001O00000000000000001O000000000000001O00000000000000001O00000001O00000001O00000000000000001O00000000000000</span>\n",
       "<span style=\"color: #008000; text-decoration-color: #008000\">1O00000000000000001O00000000000000001O000000000000001O000000000000001O0000000000001O0000000000000010O00000000000001</span>\n",
       "<span style=\"color: #008000; text-decoration-color: #008000\">O000000000000001O000000000000001O0000000000001O000000000000001O0000000000001O0000000000001O0000000000001O0000000000</span>\n",
       "<span style=\"color: #008000; text-decoration-color: #008000\">001O000001O000001O0000000000001O0000000000001O0000000000001O0000000000001O0000000000001O0000000000001O00000000001O0</span>\n",
       "<span style=\"color: #008000; text-decoration-color: #008000\">000000000001O00000000001O00000000000]D'</span>, <span style=\"color: #008000; text-decoration-color: #008000\">'size'</span>: <span style=\"font-weight: bold\">[</span><span style=\"color: #008080; text-decoration-color: #008080; font-weight: bold\">720</span>, <span style=\"color: #008080; text-decoration-color: #008080; font-weight: bold\">1280</span><span style=\"font-weight: bold\">]}</span>, <span style=\"color: #008000; text-decoration-color: #008000\">'graph'</span>: <span style=\"color: #800080; text-decoration-color: #800080; font-style: italic\">None</span><span style=\"font-weight: bold\">}]}</span>\n",
       "</pre>\n"
      ],
      "text/plain": [
       "Attributes of \u001b[32m'frame'\u001b[0m object: \u001b[1;35mdict_keys\u001b[0m\u001b[1m(\u001b[0m\u001b[1m[\u001b[0m\u001b[32m'name'\u001b[0m, \u001b[32m'url'\u001b[0m, \u001b[32m'videoName'\u001b[0m, \u001b[32m'intrinsics'\u001b[0m, \u001b[32m'extrinsics'\u001b[0m, \u001b[32m'attributes'\u001b[0m, \n",
       "\u001b[32m'timestamp'\u001b[0m, \u001b[32m'frameIndex'\u001b[0m, \u001b[32m'size'\u001b[0m, \u001b[32m'labels'\u001b[0m\u001b[1m]\u001b[0m\u001b[1m)\u001b[0m, sample frame: \u001b[1m{\u001b[0m\u001b[32m'name'\u001b[0m: \u001b[32m'0000f77c-6257be58.jpg'\u001b[0m, \u001b[32m'url'\u001b[0m: \u001b[3;35mNone\u001b[0m, \n",
       "\u001b[32m'videoName'\u001b[0m: \u001b[3;35mNone\u001b[0m, \u001b[32m'intrinsics'\u001b[0m: \u001b[3;35mNone\u001b[0m, \u001b[32m'extrinsics'\u001b[0m: \u001b[3;35mNone\u001b[0m, \u001b[32m'attributes'\u001b[0m: \u001b[3;35mNone\u001b[0m, \u001b[32m'timestamp'\u001b[0m: \u001b[3;35mNone\u001b[0m, \u001b[32m'frameIndex'\u001b[0m: \n",
       "\u001b[3;35mNone\u001b[0m, \u001b[32m'size'\u001b[0m: \u001b[3;35mNone\u001b[0m, \u001b[32m'labels'\u001b[0m: \u001b[1m[\u001b[0m\u001b[1m{\u001b[0m\u001b[32m'id'\u001b[0m: \u001b[32m'0'\u001b[0m, \u001b[32m'index'\u001b[0m: \u001b[3;35mNone\u001b[0m, \u001b[32m'manualShape'\u001b[0m: \u001b[3;35mNone\u001b[0m, \u001b[32m'manualAttributes'\u001b[0m: \u001b[3;35mNone\u001b[0m, \u001b[32m'score'\u001b[0m: \n",
       "\u001b[3;35mNone\u001b[0m, \u001b[32m'attributes'\u001b[0m: \u001b[1m{\u001b[0m\u001b[32m'areaType'\u001b[0m: \u001b[32m'direct'\u001b[0m\u001b[1m}\u001b[0m, \u001b[32m'category'\u001b[0m: \u001b[32m'direct'\u001b[0m, \u001b[32m'box2d'\u001b[0m: \u001b[1m{\u001b[0m\u001b[32m'x1'\u001b[0m: \u001b[1;36m0.0\u001b[0m, \u001b[32m'y1'\u001b[0m: \u001b[1;36m367.0\u001b[0m, \u001b[32m'x2'\u001b[0m: \u001b[1;36m1279.0\u001b[0m, \n",
       "\u001b[32m'y2'\u001b[0m: \u001b[1;36m625.0\u001b[0m\u001b[1m}\u001b[0m, \u001b[32m'box3d'\u001b[0m: \u001b[3;35mNone\u001b[0m, \u001b[32m'poly2d'\u001b[0m: \u001b[3;35mNone\u001b[0m, \u001b[32m'rle'\u001b[0m: \u001b[1m{\u001b[0m\u001b[32m'counts'\u001b[0m: \n",
       "\u001b[32m'U`0f2jc0000000000O1000O10000000O100000O1000O1000000000O01000000000000O10O10000000O10000000O1000O1000000000O0100000\u001b[0m\n",
       "\u001b[32m0000000O10O10000000O100000O1000O1000000000000O01000000000O100000O100000O10000000000O0100000000000O1000O100000O10000\u001b[0m\n",
       "\u001b[32m000000O0100000000000O100000O1000O1000000000000O10O10000000O1000000000O10O10000000000O100000O1000O1000000000000O10O1\u001b[0m\n",
       "\u001b[32m0000000O1000000000000O01000000000O100000000000O010000000000O1000000000O01000000000000O1000000000O01000000000000O100\u001b[0m\n",
       "\u001b[32m0000000O01000000000000O10000000000O01000000000O1000000000000O10O10000000O1000000000000O10000000O10O1000000000000O10\u001b[0m\n",
       "\u001b[32m000000000O01000000000O1000000000000O1000000000O01000000000000O10000000000O10000000O1000O10000000000O10000000000O100\u001b[0m\n",
       "\u001b[32m0000000O10O10000000000O1000000000000O10000000000O1000O10000000O10000000000O10000000000O1000000000000O10O10000000O10\u001b[0m\n",
       "\u001b[32m00000000000O10000000000O1000000000000O10000000O10O10000000000O1000000000000O10000000000O1000000000000O10000000000O1\u001b[0m\n",
       "\u001b[32m00000000000O010000000000O10000000000O1000000000000O10000000000O1000000000000O10000000000O1000000000000O10000000000O\u001b[0m\n",
       "\u001b[32m10000000000O1000000000000O10000000000O1000000000000O10000000000O1000000000000O10000000000O10000000000O1000000000000\u001b[0m\n",
       "\u001b[32mO10000000000O1000000000000000000001O00001O00001O00001O00001O0000001O00001O00001O00001O0000001O00001O00001O00001O000\u001b[0m\n",
       "\u001b[32m01O0000001O00001O00001O00001O00001O0001O01O00001O00001O0000000000000000000000O1000000000000000000O10000000001O00000\u001b[0m\n",
       "\u001b[32m00O10000000000000000O1000000000000000000O100000000000001O000O1000000000000000000O10000000000000000O1000000000001O00\u001b[0m\n",
       "\u001b[32m000O1000000000000000000O1000000000001O000O1000000000000000000O100000000000001O000O10000000000000000O100000000000000\u001b[0m\n",
       "\u001b[32m0001N1000000000000000000O1000000000001O000O1000000000000000000O10001O0000000000000O100000000000001O0O10000000000000\u001b[0m\n",
       "\u001b[32m00000O1000001O00000000000N2O1O1O1O1O1O1O1O2N1N2O1O1O1O1O1O1O1O1N2O1O1O2N1O1O1O1O1N2O1O1O1O1O1O2N1O1N2O1O1O1O1O1O1O1\u001b[0m\n",
       "\u001b[32mO1N3N1O1O1O1O1O1O1O100000001O00000000000000000000001O00000000000000000000001O00000000000000000000001O00000000000000\u001b[0m\n",
       "\u001b[32m00001O0000000000000000001O00000000000000000010O00000000000000000001O0000000000000000001O0000000000000000001O0000000\u001b[0m\n",
       "\u001b[32m000000000001O00000000000000001O000000000000001O00000000000000001O00000001O00000001O00000000000000001O00000000000000\u001b[0m\n",
       "\u001b[32m1O00000000000000001O00000000000000001O000000000000001O000000000000001O0000000000001O0000000000000010O00000000000001\u001b[0m\n",
       "\u001b[32mO000000000000001O000000000000001O0000000000001O000000000000001O0000000000001O0000000000001O0000000000001O0000000000\u001b[0m\n",
       "\u001b[32m001O000001O000001O0000000000001O0000000000001O0000000000001O0000000000001O0000000000001O0000000000001O00000000001O0\u001b[0m\n",
       "\u001b[32m000000000001O00000000001O00000000000\u001b[0m\u001b[32m]\u001b[0m\u001b[32mD'\u001b[0m, \u001b[32m'size'\u001b[0m: \u001b[1m[\u001b[0m\u001b[1;36m720\u001b[0m, \u001b[1;36m1280\u001b[0m\u001b[1m]\u001b[0m\u001b[1m}\u001b[0m, \u001b[32m'graph'\u001b[0m: \u001b[3;35mNone\u001b[0m\u001b[1m}\u001b[0m\u001b[1m]\u001b[0m\u001b[1m}\u001b[0m\n"
      ]
     },
     "metadata": {},
     "output_type": "display_data"
    }
   ],
   "source": [
    "print(f\"Attributes: {drivable_train_rle.keys()}\")\n",
    "sample_frame = drivable_train_rle['frames'][0]\n",
    "print(f\"Attributes of 'frame' object: {sample_frame.keys()}, sample frame: {sample_frame}\")"
   ]
  },
  {
   "cell_type": "code",
   "execution_count": 14,
   "metadata": {},
   "outputs": [
    {
     "data": {
      "text/html": [
       "<pre style=\"white-space:pre;overflow-x:auto;line-height:normal;font-family:Menlo,'DejaVu Sans Mono',consolas,'Courier New',monospace\"><span style=\"color: #800080; text-decoration-color: #800080; font-style: italic\">None</span>\n",
       "</pre>\n"
      ],
      "text/plain": [
       "\u001b[3;35mNone\u001b[0m\n"
      ]
     },
     "metadata": {},
     "output_type": "display_data"
    },
    {
     "data": {
      "text/html": [
       "<pre style=\"white-space:pre;overflow-x:auto;line-height:normal;font-family:Menlo,'DejaVu Sans Mono',consolas,'Courier New',monospace\"><span style=\"color: #800080; text-decoration-color: #800080; font-style: italic\">None</span>\n",
       "</pre>\n"
      ],
      "text/plain": [
       "\u001b[3;35mNone\u001b[0m\n"
      ]
     },
     "metadata": {},
     "output_type": "display_data"
    },
    {
     "data": {
      "text/plain": [
       "(66921, 9546)"
      ]
     },
     "execution_count": 14,
     "metadata": {},
     "output_type": "execute_result"
    }
   ],
   "source": [
    "print(drivable_train_rle['groups'])\n",
    "print(drivable_train_rle['config'])\n",
    "len(drivable_train_rle['frames']), len(drivable_val_rle['frames'])\n",
    "len([elem for elem in drivable_train_rle['frames'] if elem['labels']]), len([elem for elem in drivable_val_rle['frames'] if elem['labels']])"
   ]
  },
  {
   "cell_type": "code",
   "execution_count": 18,
   "metadata": {},
   "outputs": [],
   "source": [
    "from pycocotools import mask as cocomask\n",
    "\n",
    "def process_frame_object_segments(frame: dict, label_dir: str, category_map: dict):\n",
    "    \"\"\"Process the frame object and save the labels in the label directory.\"\"\"\n",
    "    frame_id, _ = frame['name'].split(\".\")\n",
    "    \n",
    "    # Process Labels\n",
    "    frame_labels = frame['labels']\n",
    "    \n",
    "    if not frame_labels:\n",
    "        # print(f\"Frame '{frame_id}' has no labels. Skipping...\")\n",
    "        return\n",
    "    \n",
    "    label_data = []\n",
    "    for label in frame_labels:\n",
    "        category = label['category']\n",
    "        if category in category_map:\n",
    "            category_id = category_map[category]\n",
    "        else:\n",
    "            raise RuntimeError(f\"Category '{category}' not found in the category map. Skipping...\")\n",
    "        \n",
    "        # rle obj\n",
    "        rle_obj = label['rle']\n",
    "        h, w = rle_obj['size']\n",
    "        masked_arr = cocomask.decode(rle_obj) # Decode the rle object\n",
    "        contours, _ = cv2.findContours(masked_arr, cv2.RETR_TREE, cv2.CHAIN_APPROX_SIMPLE)\n",
    "        segmentations = [\n",
    "            contour.astype(np.float32).flatten().tolist()\n",
    "            for contour in contours\n",
    "        ]\n",
    "        scaled_segmentations = [\n",
    "            (np.array(segmentation).reshape(-1, 2) / np.array([w, h]))\n",
    "            .reshape(-1)\n",
    "            .tolist()\n",
    "            for segmentation in segmentations\n",
    "        ]\n",
    "        label_str_segmentations = [\n",
    "            \" \".join(\n",
    "                [str(category_id)] +\n",
    "                [\"{:.2f}\".format(seg) for seg in scaled_seg]\n",
    "            )\n",
    "            for scaled_seg in scaled_segmentations\n",
    "        ]\n",
    "        label_data += label_str_segmentations\n",
    "    # End processing loop for labels\n",
    "    \n",
    "    # Save the labels\n",
    "    frame_label_path = label_dir / f\"{frame_id}.txt\"\n",
    "    with open(frame_label_path, \"w+\") as f:\n",
    "        f.writelines(label_data)\n",
    "    # End saving labels\n",
    "    return"
   ]
  },
  {
   "cell_type": "code",
   "execution_count": 19,
   "metadata": {},
   "outputs": [],
   "source": [
    "def convert_rle_seg_dataset(raw_data: dict, dataset_name: str, split: str, category_map: dict):\n",
    "    # Define paths\n",
    "    frames = raw_data['frames']\n",
    "    target_label_dir = YOLO_DATA_DIR / dataset_name / \"labels\" / split\n",
    "    # Process frames\n",
    "    for frame in tqdm(frames, desc=f\"Annotations for '{dataset_name}' {split} set\"):\n",
    "        _ = process_frame_object_segments(\n",
    "            frame, \n",
    "            label_dir=target_label_dir,\n",
    "            category_map=category_map\n",
    "        )\n",
    "    return len(os.listdir(target_label_dir))"
   ]
  },
  {
   "cell_type": "code",
   "execution_count": 20,
   "metadata": {},
   "outputs": [
    {
     "data": {
      "text/html": [
       "<pre style=\"white-space:pre;overflow-x:auto;line-height:normal;font-family:Menlo,'DejaVu Sans Mono',consolas,'Courier New',monospace\">Done setup path for <span style=\"color: #008000; text-decoration-color: #008000\">'drivable_labels_trainval'</span>\n",
       "</pre>\n"
      ],
      "text/plain": [
       "Done setup path for \u001b[32m'drivable_labels_trainval'\u001b[0m\n"
      ]
     },
     "metadata": {},
     "output_type": "display_data"
    },
    {
     "name": "stderr",
     "output_type": "stream",
     "text": [
      "Annotations for 'drivable_labels_trainval' train set: 100%|██████████| 70000/70000 [02:21<00:00, 494.68it/s]\n"
     ]
    }
   ],
   "source": [
    "_ = setup_yolo_output_dir(dataset_name=dataset_name)\n",
    "\n",
    "drivable_cat_map = {\n",
    "    \"direct\": 0,\n",
    "    \"alternative\": 1,\n",
    "    \"background\": 2,\n",
    "    \"unknown\": 2\n",
    "}\n",
    "split = \"train\"\n",
    "\n",
    "num_labels = convert_rle_seg_dataset(\n",
    "    raw_data=drivable_train_rle,\n",
    "    dataset_name=dataset_name,\n",
    "    split=split,\n",
    "    category_map=drivable_cat_map\n",
    ")"
   ]
  },
  {
   "cell_type": "code",
   "execution_count": 21,
   "metadata": {},
   "outputs": [
    {
     "name": "stderr",
     "output_type": "stream",
     "text": [
      "Annotations for 'drivable_labels_trainval' val set: 100%|██████████| 10000/10000 [00:19<00:00, 504.53it/s]\n"
     ]
    }
   ],
   "source": [
    "split = \"val\"\n",
    "\n",
    "num_labels = convert_rle_seg_dataset(\n",
    "    raw_data=drivable_val_rle,\n",
    "    dataset_name=dataset_name,\n",
    "    split=split,\n",
    "    category_map=drivable_cat_map\n",
    ")"
   ]
  },
  {
   "cell_type": "code",
   "execution_count": null,
   "metadata": {},
   "outputs": [],
   "source": []
  }
 ],
 "metadata": {
  "kernelspec": {
   "display_name": "itss",
   "language": "python",
   "name": "python3"
  },
  "language_info": {
   "codemirror_mode": {
    "name": "ipython",
    "version": 3
   },
   "file_extension": ".py",
   "mimetype": "text/x-python",
   "name": "python",
   "nbconvert_exporter": "python",
   "pygments_lexer": "ipython3",
   "version": "3.10.14"
  }
 },
 "nbformat": 4,
 "nbformat_minor": 2
}
